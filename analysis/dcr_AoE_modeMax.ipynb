{
 "cells": [
  {
   "cell_type": "code",
   "execution_count": null,
   "metadata": {},
   "outputs": [],
   "source": [
    "#!/usr/bin/env python3\n",
    "# %matplotlib widget\n",
    "import os\n",
    "import json\n",
    "import h5py\n",
    "import argparse\n",
    "import pandas as pd\n",
    "import numpy as np\n",
    "import tinydb as db\n",
    "from tinydb.storages import MemoryStorage\n",
    "import matplotlib.pyplot as plt\n",
    "# plt.style.use('../clint.mpl')\n",
    "from matplotlib.colors import LogNorm\n",
    "\n",
    "import boost_histogram as bh\n",
    "import pickle as pl\n",
    "import scipy.stats as stats\n",
    "\n",
    "import pygama\n",
    "from pygama import DataGroup\n",
    "import pygama.lh5 as lh5\n",
    "import pygama.analysis.histograms as pgh\n",
    "import pygama.analysis.peak_fitting as pgf\n",
    "from pygama.dsp.WaveformBrowser import WaveformBrowser\n",
    "plt.rcParams['figure.figsize'] = [14, 10]"
   ]
  },
  {
   "cell_type": "code",
   "execution_count": null,
   "metadata": {},
   "outputs": [],
   "source": [
    "bkg_sub = True\n",
    "\n",
    "dg = DataGroup('$CAGE_SW/processing/cage.json', load=True)\n",
    "run = 64 #66\n",
    "# cycle = 1481\n",
    "str_query = f'run=={run} and skip==False'\n",
    "# str_query = f'cycle=={cycle} and skip==False'\n",
    "dg.fileDB.query(str_query, inplace=True)\n",
    "# view_cols = ['runtype', 'run', 'cycle', 'startTime', 'runtime', 'threshold']\n",
    "print(dg.fileDB['runtype'])\n",
    "# print(dg.fileDB)\n",
    "\n",
    "# dsp_id = '01'\n",
    "dsp_id = '02'"
   ]
  },
  {
   "cell_type": "code",
   "execution_count": null,
   "metadata": {},
   "outputs": [],
   "source": []
  },
  {
   "cell_type": "code",
   "execution_count": null,
   "metadata": {},
   "outputs": [],
   "source": [
    "# Working with dsp or hit files?\n",
    "\n",
    "hit = True \n",
    "# hit = False #ie working with dsp files"
   ]
  },
  {
   "cell_type": "code",
   "execution_count": null,
   "metadata": {},
   "outputs": [],
   "source": [
    "# Working with calibrated or uncalibrated data?\n",
    "\n",
    "cal = True #calibrated data\n",
    "# cal = False #uncalibrated data"
   ]
  },
  {
   "cell_type": "code",
   "execution_count": null,
   "metadata": {},
   "outputs": [],
   "source": [
    "# Working in your own directory or with the CAGE_lh5 directory?\n",
    "\n",
    "# user = False # CAGE_lh5 directory\n",
    "user = True # hit filesin my personal directory"
   ]
  },
  {
   "cell_type": "code",
   "execution_count": null,
   "metadata": {},
   "outputs": [],
   "source": [
    "#get runtime, startime, runtype\n",
    "\n",
    "runtype_list = np.array(dg.fileDB['runtype'])\n",
    "runtype = runtype_list[0]\n",
    "\n",
    "rt_min = dg.fileDB['runtime'].sum()\n",
    "u_start = dg.fileDB.iloc[0]['startTime']\n",
    "t_start = pd.to_datetime(u_start, unit='s') # str\n",
    "print(f'Runtime: {rt_min} minutes')"
   ]
  },
  {
   "cell_type": "code",
   "execution_count": null,
   "metadata": {},
   "outputs": [],
   "source": []
  },
  {
   "cell_type": "code",
   "execution_count": null,
   "metadata": {},
   "outputs": [],
   "source": [
    "# Get relevant files\n",
    "\n",
    "lh5_dir = dg.lh5_user_dir if user else dg.lh5_dir\n",
    "# lh5_dir = '/global/homes/g/gothman/projecta/CAGE_lh5_joule'\n",
    "print(lh5_dir)\n",
    "\n",
    "# if hit files\n",
    "if hit == True:\n",
    "    file_list = lh5_dir + dg.fileDB['hit_path'] + '/' + dg.fileDB['hit_file']\n",
    "    \n",
    "else:\n",
    "    file_list = lh5_dir + dg.fileDB['dsp_path'] + '/' + dg.fileDB['dsp_file']\n",
    "    \n",
    "print(file_list)"
   ]
  },
  {
   "cell_type": "code",
   "execution_count": null,
   "metadata": {},
   "outputs": [],
   "source": [
    "# Create a dataframe\n",
    "\n",
    "if (cal == True) and (hit == True):\n",
    "#     df = lh5.load_dfs(file_list, ['energy', 'trapEftp', 'trapEftp_cal', 'bl','bl_sig'], 'ORSIS3302DecoderForEnergy/hit')\n",
    "    df = lh5.load_dfs(file_list, ['energy', 'trapEmax', 'trapEftp', 'trapEftp_cal', 'bl','bl_sig', 'bl_slope', 'lf_max', 'A_10','AoE', 'dcr', 'tp_0', 'tp_10', 'tp_90', 'tp_50', 'tp_80', 'tp_max'], 'ORSIS3302DecoderForEnergy/hit')\n",
    "    \n",
    "elif (cal == True) and (hit == False):\n",
    "    df = lh5.load_dfs(file_list, ['energy', 'trapEmax', 'trapEmax_cal', 'bl','bl_sig','A_10','AoE', 'dcr_raw', 'dcr_ftp', 'dcr_max', 'tp_0', 'tp_10', 'tp_90', 'tp_50', 'tp_80', 'tp_max'], 'ORSIS3302DecoderForEnergy/dsp')\n",
    "\n",
    "elif (cal == False) and (hit == True):\n",
    "    df = lh5.load_dfs(file_list, ['energy', 'trapEmax', 'bl','bl_sig','A_10','AoE', 'ts_sec', 'dcr_raw', 'dcr_ftp', 'dcr_max', 'tp_0', 'tp_10', 'tp_90', 'tp_50', 'tp_80', 'tp_max'], 'ORSIS3302DecoderForEnergy/hit')\n",
    "    \n",
    "elif (cal == False) and (hit == False):\n",
    "    # df = lh5.load_dfs(file_list, ['energy', 'trapEmax', 'bl','bl_sig','A_10','AoE', 'dcr_raw', 'dcr_ftp', 'dcr_max', 'tp_0', 'tp_10', 'tp_90', 'tp_50', 'tp_80', 'tp_max'], 'ORSIS3302DecoderForEnergy/dsp')\n",
    "    df = lh5.load_dfs(file_list, ['energy', 'trapEmax', 'trapEftp', 'bl','bl_sig', 'bl_slope', 'lf_max', 'A_10','AoE', 'dcr', 'tp_0', 'tp_10', 'tp_90', 'tp_50', 'tp_80', 'tp_max'], 'ORSIS3302DecoderForEnergy/dsp')\n",
    "\n",
    "\n",
    "else:\n",
    "    print('dont know what to do here! need to specify if working with calibrated/uncalibrated data, or dsp/hit files')"
   ]
  },
  {
   "cell_type": "code",
   "execution_count": null,
   "metadata": {},
   "outputs": [],
   "source": [
    "if bkg_sub==True:\n",
    "    bkg_dg = DataGroup('$CAGE_SW/processing/cage.json', load=True)\n",
    "    bkg_run = 62 #66\n",
    "    # cycle = 1481\n",
    "    bkg_str_query = f'run=={bkg_run} and skip==False'\n",
    "    # str_query = f'cycle=={cycle} and skip==False'\n",
    "    bkg_dg.fileDB.query(bkg_str_query, inplace=True)\n",
    "    # view_cols = ['runtype', 'run', 'cycle', 'startTime', 'runtime', 'threshold']\n",
    "    print(bkg_dg.fileDB['runtype'])\n",
    "    # print(dg.fileDB)\n",
    "\n",
    "#     dsp_id = '01'\n",
    "    dsp_id = '02'\n",
    "\n",
    "    #get runtime, startime, runtype\n",
    "\n",
    "    bkg_runtype_list = np.array(bkg_dg.fileDB['runtype'])\n",
    "    bkg_runtype = bkg_runtype_list[0]\n",
    "\n",
    "    bkg_rt_min = bkg_dg.fileDB['runtime'].sum()\n",
    "    bkg_u_start = bkg_dg.fileDB.iloc[0]['startTime']\n",
    "    bkg_t_start = pd.to_datetime(bkg_u_start, unit='s') # str\n",
    "    print(f'Background Runtime: {rt_min} minutes')\n",
    "\n",
    "    # Get relevant files\n",
    "\n",
    "    bkg_lh5_dir = bkg_dg.lh5_user_dir if user else bkg_dg.lh5_dir\n",
    "    # lh5_dir = '/global/homes/g/gothman/projecta/CAGE_lh5_joule'\n",
    "    print(bkg_lh5_dir)\n",
    "\n",
    "    # if hit files\n",
    "    if hit == True:\n",
    "        bkg_file_list = bkg_lh5_dir + bkg_dg.fileDB['hit_path'] + '/' + bkg_dg.fileDB['hit_file']\n",
    "\n",
    "    else:\n",
    "        bkg_file_list = bkg_lh5_dir + bkg_dg.fileDB['dsp_path'] + '/' + bkg_dg.fileDB['dsp_file']\n",
    "\n",
    "    print(f'Background files: {bkg_file_list}')\n",
    "\n",
    "    # Create a dataframe\n",
    "\n",
    "    if (cal == True) and (hit == True):\n",
    "    #     bkg_df = lh5.load_dfs(bkg_file_list, ['energy', 'trapEftp', 'trapEftp_cal', 'bl','bl_sig'], 'ORSIS3302DecoderForEnergy/hit')\n",
    "        bkg_df = lh5.load_dfs(bkg_file_list, ['energy', 'trapEmax', 'trapEftp', 'trapEftp_cal', 'bl','bl_sig', 'bl_slope', 'lf_max', 'A_10','AoE', 'dcr', 'tp_0', 'tp_10', 'tp_90', 'tp_50', 'tp_80', 'tp_max'], 'ORSIS3302DecoderForEnergy/hit')\n",
    "\n",
    "    elif (cal == True) and (hit == False):\n",
    "        bkg_df = lh5.load_dfs(bkg_file_list, ['energy', 'trapEmax', 'trapEmax_cal', 'bl','bl_sig','A_10','AoE', 'dcr_raw', 'dcr_ftp', 'dcr_max', 'tp_0', 'tp_10', 'tp_90', 'tp_50', 'tp_80', 'tp_max'], 'ORSIS3302DecoderForEnergy/dsp')\n",
    "\n",
    "    elif (cal == False) and (hit == True):\n",
    "        bkg_df = lh5.load_dfs(bkg_file_list, ['energy', 'trapEmax', 'bl','bl_sig','A_10','AoE', 'ts_sec', 'dcr_raw', 'dcr_ftp', 'dcr_max', 'tp_0', 'tp_10', 'tp_90', 'tp_50', 'tp_80', 'tp_max'], 'ORSIS3302DecoderForEnergy/hit')\n",
    "\n",
    "    elif (cal == False) and (hit == False):\n",
    "        # bkg_df = lh5.load_dfs(file_list, ['energy', 'trapEmax', 'bl','bl_sig','A_10','AoE', 'dcr_raw', 'dcr_ftp', 'dcr_max', 'tp_0', 'tp_10', 'tp_90', 'tp_50', 'tp_80', 'tp_max'], 'ORSIS3302DecoderForEnergy/dsp')\n",
    "        bkg_df = lh5.load_dfs(bkg_file_list, ['energy', 'trapEmax', 'trapEftp', 'bl','bl_sig', 'bl_slope', 'lf_max', 'A_10','AoE', 'dcr', 'tp_0', 'tp_10', 'tp_90', 'tp_50', 'tp_80', 'tp_max'], 'ORSIS3302DecoderForEnergy/dsp')\n",
    "\n",
    "\n",
    "    else:\n",
    "        print('dont know what to do here! need to specify if working with calibrated/uncalibrated data, or dsp/hit files')"
   ]
  },
  {
   "cell_type": "code",
   "execution_count": null,
   "metadata": {},
   "outputs": [],
   "source": [
    "# select energy type\n",
    "\n",
    "# onboard energy\n",
    "# etype = 'energy'\n",
    "# elo, ehi, epb = 0, 1000000, 100\n",
    "\n",
    "# # trapEftp (uncal)\n",
    "# etype = 'trapEftp'\n",
    "# elo, ehi, epb = 0, 10000, 10\n",
    "\n",
    "# trapEftp_cal (cal)\n",
    "etype = 'trapEftp_cal'\n",
    "elo, ehi, epb = 0, 6000, 10"
   ]
  },
  {
   "cell_type": "code",
   "execution_count": null,
   "metadata": {},
   "outputs": [],
   "source": [
    "# Baseline vs E\n",
    "# %matplotlib widget\n",
    "\n",
    "blo, bhi, bpb = 9000, 11000, 1\n",
    "nbx = int((ehi-elo)/epb)\n",
    "nby = int((bhi-blo)/bpb)\n",
    "\n",
    "h = plt.hist2d(df[etype], df['bl'], bins=[nbx,nby],\n",
    "                       range=[[elo, ehi], [blo, bhi]], cmap='jet')\n",
    "\n",
    "cb = plt.colorbar(h[3], ax=plt.gca())\n",
    "plt.xlabel(f'{etype}', ha='right', x=1)\n",
    "plt.ylabel('bl', ha='right', y=1)\n",
    "plt.title('Baseline, alpha')\n",
    "# plt.tight_layout()\n",
    "plt.show()"
   ]
  },
  {
   "cell_type": "code",
   "execution_count": null,
   "metadata": {},
   "outputs": [],
   "source": [
    "blo, bhi, bpb = 8800, 9800, 1\n",
    "nbx = int((bhi-blo)/bpb)\n",
    "\n",
    "bl_hist, bins = np.histogram(df['bl'], bins=nbx,\n",
    "                range=[blo, bhi])\n",
    "\n",
    "plt.semilogy(bins[1:], bl_hist, ds='steps', c='b', lw=1)\n",
    "\n",
    "bl_cut_lo, bl_cut_hi = 9150,9320\n",
    "\n",
    "plt.axvline(bl_cut_lo, c='r', lw=1)\n",
    "plt.axvline(bl_cut_hi, c='r', lw=1)\n",
    "\n",
    "plt.xlabel('bl', ha='right', x=1)\n",
    "plt.ylabel('counts', ha='right', y=1)\n",
    "plt.show()"
   ]
  },
  {
   "cell_type": "code",
   "execution_count": null,
   "metadata": {},
   "outputs": [],
   "source": [
    "# use baseline cut\n",
    "# energy_cut = (energy > 10) & (energy < 6000)\n",
    "# bl_cut = (bl> bl_cut_lo) & (bl< bl_cut_hi)\n",
    "# cut = bl_cut & energy_cut\n",
    "df_cut = df.query(f'bl > {bl_cut_lo} and bl < {bl_cut_hi} and trapEftp_cal >1000 and trapEftp_cal <6000 and dcr >-30 and dcr < 60').copy()\n",
    "# df_cut = df.query(f'bl > {bl_cut_lo} and bl < {bl_cut_hi} and trapEftp_cal >55 and trapEftp_cal <65').copy()\n",
    "\n",
    "if bkg_sub == True:\n",
    "    bkg_df_cut = bkg_df.query(f'bl > {bl_cut_lo} and bl < {bl_cut_hi} and trapEftp_cal >1000 and trapEftp_cal <6000 and dcr >-30 and dcr < 60').copy()\n",
    "#     bkg_df_cut = df.query(f'bl > {bl_cut_lo} and bl < {bl_cut_hi} and trapEftp_cal >55 and trapEftp_cal <65').copy()\n"
   ]
  },
  {
   "cell_type": "code",
   "execution_count": null,
   "metadata": {},
   "outputs": [],
   "source": [
    "#dsp_id= 02\n",
    "\n",
    "\n",
    "alo, ahi, apb= 0.005, 0.075, 0.0001"
   ]
  },
  {
   "cell_type": "code",
   "execution_count": null,
   "metadata": {},
   "outputs": [],
   "source": [
    "# %matplotlib widget\n",
    "# 1D AoE hist using Pygama\n",
    "# nb_AoE = int((ahi-alo)/apb)\n",
    "nb_AoE = 1000\n",
    "\n",
    "AoE_hist, AoE_bins, AoE_vars = pgh.get_hist(df_cut['AoE'], bins=nb_AoE, range=[alo, ahi])\n",
    "\n",
    "plt.plot(AoE_bins[1:], AoE_hist)\n",
    "\n",
    "plt.show()"
   ]
  },
  {
   "cell_type": "code",
   "execution_count": null,
   "metadata": {},
   "outputs": [],
   "source": [
    "# %matplotlib widget\n",
    "# 1D AoE hist using Pygama\n",
    "if bkg_sub==True:\n",
    "    # nb_AoE = int((ahi-alo)/apb)\n",
    "    nb_AoE = 1000\n",
    "\n",
    "    bkg_AoE_hist, bkg_AoE_bins, bkg_AoE_vars = pgh.get_hist(bkg_df_cut['AoE'], bins=nb_AoE, range=[alo, ahi])\n",
    "\n",
    "    plt.plot(bkg_AoE_bins[1:], bkg_AoE_hist)\n",
    "\n",
    "    plt.title('Background')\n",
    "\n",
    "    plt.show()"
   ]
  },
  {
   "cell_type": "code",
   "execution_count": null,
   "metadata": {},
   "outputs": [],
   "source": [
    "AoE_pars, AoE_cov = pgf.gauss_mode_width_max(AoE_hist, AoE_bins, AoE_vars)\n",
    "AoE_mode = AoE_pars[0]\n",
    "print(f'AoE_mode: {AoE_mode}')\n",
    "\n",
    "if bkg_sub == True:\n",
    "    bkg_AoE_pars, bkg_AoE_cov = pgf.gauss_mode_width_max(bkg_AoE_hist, bkg_AoE_bins, bkg_AoE_vars)\n",
    "    bkg_AoE_mode = bkg_AoE_pars[0]\n",
    "    print(f'Background AoE_mode: {bkg_AoE_mode}')"
   ]
  },
  {
   "cell_type": "code",
   "execution_count": null,
   "metadata": {},
   "outputs": [],
   "source": [
    "# %matplotlib widget\n",
    "\n",
    "plt.plot(AoE_bins[1:], AoE_hist)\n",
    "\n",
    "plt.plot(AoE_bins[1:], pgf.gauss_basic(AoE_bins[1:], *AoE_pars))\n",
    "\n",
    "plt.show()"
   ]
  },
  {
   "cell_type": "code",
   "execution_count": null,
   "metadata": {},
   "outputs": [],
   "source": [
    "if bkg_sub==True:\n",
    "    plt.plot(bkg_AoE_bins[1:], bkg_AoE_hist)\n",
    "\n",
    "    plt.plot(bkg_AoE_bins[1:], pgf.gauss_basic(bkg_AoE_bins[1:], *bkg_AoE_pars))\n",
    "\n",
    "\n",
    "plt.show()"
   ]
  },
  {
   "cell_type": "code",
   "execution_count": null,
   "metadata": {},
   "outputs": [],
   "source": [
    "df_cut['AoE_corr'] = df_cut['AoE'] - AoE_mode\n",
    "\n",
    "if bkg_sub==True:\n",
    "    bkg_df_cut['AoE_corr'] = bkg_df_cut['AoE'] - bkg_AoE_mode"
   ]
  },
  {
   "cell_type": "code",
   "execution_count": null,
   "metadata": {},
   "outputs": [],
   "source": [
    "# %matplotlib widget\n",
    "alo_corr, ahi_corr, apb= -0.025, 0.025, 0.0001\n",
    "nb_AoE_corr = 100\n",
    "\n",
    "plt.hist(df_cut['AoE_corr'], bins=nb_AoE_corr, range=[alo_corr, ahi_corr])\n",
    "\n",
    "plt.show()"
   ]
  },
  {
   "cell_type": "code",
   "execution_count": null,
   "metadata": {},
   "outputs": [],
   "source": [
    "if bkg_sub==True:\n",
    "    plt.hist(bkg_df_cut['AoE_corr'], bins=nb_AoE_corr, range=[alo_corr, ahi_corr])\n",
    "\n",
    "plt.show()"
   ]
  },
  {
   "cell_type": "code",
   "execution_count": null,
   "metadata": {},
   "outputs": [],
   "source": [
    "# %matplotlib widget\n",
    "alo_corr, ahi_corr, apb= -0.025, 0.025, 0.0001\n",
    "nb_AoE_corr = 50\n",
    "nb_energy = 100\n",
    "elo = 10\n",
    "ehi = 6000\n",
    "\n",
    "#normalize hist by runtime\n",
    "rt = np.array([(1/rt_min)])\n",
    "wts = np.repeat(rt, len(df_cut['trapEftp_cal']))\n",
    "print(wts)\n",
    "\n",
    "aoe_corr_vs_E_hist_norm, axedges, ayedges = np.histogram2d(df_cut['trapEftp_cal'], df_cut['AoE_corr'], bins=[nb_energy, nb_AoE_corr], range=([elo, ehi], [alo_corr, ahi_corr]), weights=wts)\n",
    "\n",
    "# aoe_corr_vs_E_hist_norm = np.divide(aoe_corr_vs_E_hist, (rt_min))\n",
    "\n",
    "aX, aY = np.mgrid[elo:ehi:nb_energy*1j, alo_corr:ahi_corr:nb_AoE_corr*1j]\n",
    "\n",
    "a_pcm1 = plt.pcolormesh(aX, aY, aoe_corr_vs_E_hist_norm, norm=LogNorm()) #, norm=LogNorm()\n",
    "\n",
    "a_CB1 = plt.colorbar(a_pcm1)\n",
    "plt.show()"
   ]
  },
  {
   "cell_type": "code",
   "execution_count": null,
   "metadata": {},
   "outputs": [],
   "source": [
    "\n",
    "if bkg_sub==True:\n",
    "    # %matplotlib widget\n",
    "#     alo_corr, ahi_corr, apb= -0.025, 0.025, 0.0001\n",
    "#     nb_AoE_corr = 100\n",
    "#     nb_energy = 599\n",
    "#     elo = 10\n",
    "#     ehi = 6000\n",
    "    #normalize hist by runtime\n",
    "    bkg_rt = np.array([(1/bkg_rt_min)])\n",
    "    bkg_wts = np.repeat(bkg_rt, len(bkg_df_cut['trapEftp_cal']))\n",
    "    print(wts)\n",
    "\n",
    "    bkg_aoe_corr_vs_E_hist_norm, axedges, ayedges = np.histogram2d(bkg_df_cut['trapEftp_cal'], bkg_df_cut['AoE_corr'], bins=[nb_energy, nb_AoE_corr], range=([elo, ehi], [alo_corr, ahi_corr]), weights = bkg_wts)\n",
    "\n",
    "#     bkg_aoe_corr_vs_E_hist_norm = np.divide(bkg_aoe_corr_vs_E_hist, (bkg_rt_min))\n",
    "\n",
    "    aX, aY = np.mgrid[elo:ehi:nb_energy*1j, alo_corr:ahi_corr:nb_AoE_corr*1j]\n",
    "\n",
    "    a_pcm2 = plt.pcolormesh(aX, aY, bkg_aoe_corr_vs_E_hist_norm, norm=LogNorm()) #, norm=(mpl.colors.Normalize(0., 5.))\n",
    "\n",
    "    a_CB2 = plt.colorbar(a_pcm2)\n",
    "    plt.show()"
   ]
  },
  {
   "cell_type": "code",
   "execution_count": null,
   "metadata": {},
   "outputs": [],
   "source": [
    "import matplotlib as mpl\n",
    "if bkg_sub==True:\n",
    "    alp_bkg = aoe_corr_vs_E_hist_norm - bkg_aoe_corr_vs_E_hist_norm\n",
    "    print(np.sum(aoe_corr_vs_E_hist_norm))\n",
    "    print(np.sum(bkg_aoe_corr_vs_E_hist_norm))\n",
    "    print(np.sum(alp_bkg))\n",
    "    \n",
    "    a_pcm3 = plt.pcolormesh(aX, aY, alp_bkg, shading='auto', norm=mpl.colors.Normalize(-0.1, 0.1)) #, norm=LogNorm(), norm=mpl.colors.Normalize(-0.01, 0.1)\n",
    "    a_CB3 = plt.colorbar(a_pcm3)\n",
    "#     plt.xlim(0, 500)\n",
    "    plt.show()"
   ]
  },
  {
   "cell_type": "code",
   "execution_count": null,
   "metadata": {},
   "outputs": [],
   "source": [
    "# %matplotlib widget\n",
    "# 1D AoE hist using Pygama\n",
    "# nb_AoE = int((ahi-alo)/apb)\n",
    "dlo, dhi, dpb = -20., 60, 0.1 \n",
    "nb_dcr = 500\n",
    "\n",
    "raw_dcr_hist, raw_dcr_bins = np.histogram(df_cut['dcr'], bins=nb_dcr, range=[dlo, dhi], density=True)\n",
    "# raw_dcr_hist, raw_dcr_bins, raw_dcr_vars = pgh.get_hist(df_cut['dcr'], bins=nb_dcr, range=[dlo, dhi])\n",
    "\n",
    "plt.plot(raw_dcr_bins[1:], raw_dcr_hist, label='alpha raw DCR')\n",
    "\n",
    "if bkg_sub==True:\n",
    "    bkg_raw_dcr_hist, bkg_raw_dcr_bins = np.histogram(bkg_df_cut['dcr'], bins=nb_dcr, range=[dlo, dhi], density=True)\n",
    "#     bkg_raw_dcr_hist, bkg_raw_dcr_bins, bkg_raw_dcr_vars = pgh.get_hist(bkg_df_cut['dcr'], bins=nb_dcr, range=[dlo, dhi])\n",
    "    \n",
    "    \n",
    "    plt.plot(bkg_raw_dcr_bins[1:], bkg_raw_dcr_hist, label='bkg raw DCR')\n",
    "    \n",
    "    plt.legend()\n",
    "\n",
    "plt.show()"
   ]
  },
  {
   "cell_type": "code",
   "execution_count": null,
   "metadata": {},
   "outputs": [],
   "source": [
    "#creat new DCR\n",
    "if (dsp_id == '01'):\n",
    "    const = 0.0011\n",
    "elif (dsp_id == '02'):\n",
    "    const  = 0.0002 \n",
    "\n",
    "df_cut['dcr_linoff'] = df_cut['dcr'] + const*df_cut['trapEftp']\n",
    "\n",
    "if bkg_sub==True:\n",
    "    bkg_df_cut['dcr_linoff'] = bkg_df_cut['dcr'] + const*df_cut['trapEftp']"
   ]
  },
  {
   "cell_type": "code",
   "execution_count": null,
   "metadata": {},
   "outputs": [],
   "source": [
    "# %matplotlib widget\n",
    "# 1D AoE hist using Pygama\n",
    "# nb_AoE = int((ahi-alo)/apb)\n",
    "nb_dcr = 1000\n",
    "\n",
    "dcr_hist, dcr_bins = np.histogram(df_cut['dcr_linoff'], bins=nb_dcr, range=[dlo, dhi], density=True)\n",
    "# dcr_hist, dcr_bins, dcr_vars = pgh.get_hist(df_cut['dcr_linoff'], bins=nb_dcr, range=[dlo, dhi])\n",
    "\n",
    "plt.plot(dcr_bins[1:], dcr_hist, label='alpha DCR linoffset')\n",
    "\n",
    "if bkg_sub==True:\n",
    "    bkg_dcr_hist, bkg_dcr_bins = np.histogram(bkg_df_cut['dcr_linoff'], bins=nb_dcr, range=[dlo, dhi], density=True)\n",
    "#     bkg_dcr_hist, bkg_dcr_bins, bkg_dcr_vars = pgh.get_hist(bkg_df_cut['dcr_linoff'], bins=nb_dcr, range=[dlo, dhi])\n",
    "\n",
    "    plt.plot(bkg_dcr_bins[1:], bkg_dcr_hist, label='bkg DCR linoffset')\n",
    "    \n",
    "    plt.legend()\n",
    "\n",
    "plt.show()"
   ]
  },
  {
   "cell_type": "code",
   "execution_count": null,
   "metadata": {},
   "outputs": [],
   "source": [
    "if bkg_sub==True:\n",
    "    bkg_dcr_hist, bkg_dcr_bins, bkg_dcr_vars = pgh.get_hist(bkg_df_cut['dcr_linoff'], bins=nb_dcr, range=[dlo, dhi])\n",
    "\n",
    "    plt.plot(bkg_dcr_bins[1:], bkg_dcr_hist)\n",
    "\n",
    "plt.show()"
   ]
  },
  {
   "cell_type": "code",
   "execution_count": null,
   "metadata": {},
   "outputs": [],
   "source": [
    "# dcr_pars, dcr_cov = pgf.gauss_mode_width_max(dcr_hist, dcr_bins, dcr_vars, n_bins=50)\n",
    "dcr_pars, dcr_cov = pgf.gauss_mode_width_max(raw_dcr_hist, raw_dcr_bins, n_bins=20)\n",
    "dcr_mode = dcr_pars[0]\n",
    "dcr_width = dcr_pars[1]\n",
    "print(dcr_mode)\n",
    "print(dcr_width)\n",
    "\n",
    "if bkg_sub==True:\n",
    "#     bkg_dcr_pars, bkg_dcr_cov = pgf.gauss_mode_width_max(bkg_dcr_hist, bkg_dcr_bins, bkg_dcr_vars, n_bins=50)\n",
    "    bkg_dcr_pars, bkg_dcr_cov = pgf.gauss_mode_width_max(bkg_raw_dcr_hist, bkg_raw_dcr_bins, n_bins=20)\n",
    "    bkg_dcr_mode = bkg_dcr_pars[0]\n",
    "    bkg_dcr_width = bkg_dcr_pars[1]\n",
    "    print(f'background dcr_mode: {bkg_dcr_mode}')\n",
    "    print(f'background dcr_width:{bkg_dcr_width}')"
   ]
  },
  {
   "cell_type": "code",
   "execution_count": null,
   "metadata": {},
   "outputs": [],
   "source": [
    "# %matplotlib widget\n",
    "plt.plot(raw_dcr_bins[1:], raw_dcr_hist)\n",
    "\n",
    "plt.plot(raw_dcr_bins[1:], pgf.gauss_basic(raw_dcr_bins[1:], *dcr_pars))\n",
    "\n",
    "plt.show()"
   ]
  },
  {
   "cell_type": "code",
   "execution_count": null,
   "metadata": {},
   "outputs": [],
   "source": [
    "if bkg_sub==True:\n",
    "    plt.plot(bkg_raw_dcr_bins[1:], bkg_raw_dcr_hist)\n",
    "\n",
    "    plt.plot(bkg_raw_dcr_bins[1:], pgf.gauss_basic(bkg_raw_dcr_bins[1:], *bkg_dcr_pars))\n",
    "\n",
    "plt.show()"
   ]
  },
  {
   "cell_type": "code",
   "execution_count": null,
   "metadata": {},
   "outputs": [],
   "source": [
    "dcr_offset = dcr_mode\n",
    "# df_cut['dcr_corr'] = (df_cut['dcr_linoff'] - dcr_offset)/(dcr_width)\n",
    "df_cut['dcr_corr'] = (df_cut['dcr'] - dcr_offset)\n",
    "\n",
    "if bkg_sub==True:\n",
    "    bkg_dcr_offset = bkg_dcr_mode\n",
    "#     bkg_df_cut['dcr_corr'] = (bkg_df_cut['dcr_linoff'] - bkg_dcr_offset)/(bkg_dcr_width)\n",
    "    bkg_df_cut['dcr_corr'] = (bkg_df_cut['dcr'] - bkg_dcr_offset)"
   ]
  },
  {
   "cell_type": "code",
   "execution_count": null,
   "metadata": {},
   "outputs": [],
   "source": [
    "# %matplotlib widget\n",
    "nb_dcr_corr = 500\n",
    "dlo_corr = -20\n",
    "dhi_corr = 60\n",
    "dcr_corr_hist, dcr_corr_bins, dcr_corr_vars = pgh.get_hist(df_cut['dcr_corr'], bins=nb_dcr_corr, range=[dlo_corr, dhi_corr])\n",
    "\n",
    "plt.plot(dcr_corr_bins[1:], dcr_corr_hist, label='Alpha DCR corrected')\n",
    "# plt.xlim(-10, 10)\n",
    "\n",
    "if bkg_sub==True:\n",
    "    bkg_dcr_corr_hist, bkg_dcr_corr_bins, bkg_dcr_corr_vars = pgh.get_hist(bkg_df_cut['dcr_corr'], bins=nb_dcr_corr, range=[dlo_corr, dhi_corr])\n",
    "\n",
    "    plt.plot(bkg_dcr_corr_bins[1:], bkg_dcr_corr_hist, label='Background DRC-corrected')\n",
    "\n",
    "plt.legend()\n",
    "# plt.xlim(-5,5)\n",
    "plt.show()"
   ]
  },
  {
   "cell_type": "code",
   "execution_count": null,
   "metadata": {},
   "outputs": [],
   "source": [
    "norm_dcr_corr_hist = np.divide(dcr_corr_hist, rt_min)\n",
    "\n",
    "if bkg_sub == True:\n",
    "    bkg_norm_dcr_corr_hist = np.divide(bkg_dcr_corr_hist, bkg_rt_min)\n",
    "    bkg_sub_dcr = norm_dcr_corr_hist - bkg_norm_dcr_corr_hist"
   ]
  },
  {
   "cell_type": "code",
   "execution_count": null,
   "metadata": {},
   "outputs": [],
   "source": [
    "plt.plot(dcr_corr_bins[1:], norm_dcr_corr_hist, label='Alpha DCR corrected-- runtime')\n",
    "\n",
    "if bkg_sub ==True:\n",
    "    plt.plot(bkg_dcr_corr_bins[1:], bkg_norm_dcr_corr_hist, label='Background DCR corrected-- runtime')\n",
    "    \n",
    "plt.legend()\n",
    "\n",
    "# plt.xlim(-5,5)\n",
    "plt.show()"
   ]
  },
  {
   "cell_type": "code",
   "execution_count": null,
   "metadata": {},
   "outputs": [],
   "source": [
    "raw_lh5_dir = dg.lh5_dir\n",
    "raw_list = raw_lh5_dir + dg.fileDB['raw_path'] + '/' + dg.fileDB['raw_file']\n",
    "\n",
    "print(raw_list)"
   ]
  },
  {
   "cell_type": "code",
   "execution_count": null,
   "metadata": {},
   "outputs": [],
   "source": [
    "bkg_raw_lh5_dir = bkg_dg.lh5_dir\n",
    "bkg_raw_list = bkg_raw_lh5_dir + bkg_dg.fileDB['raw_path'] + '/' + bkg_dg.fileDB['raw_file']\n",
    "\n",
    "print(bkg_raw_list)"
   ]
  },
  {
   "cell_type": "code",
   "execution_count": null,
   "metadata": {},
   "outputs": [],
   "source": [
    "# cut = "
   ]
  },
  {
   "cell_type": "code",
   "execution_count": null,
   "metadata": {},
   "outputs": [],
   "source": [
    "# dsp_config_file = os.path.expandvars('$CAGE_SW/processing/metadata/config_dsp.json')\n",
    "# browser = WaveformBrowser(raw_list, 'ORSIS3302DecoderForEnergy/raw', dsp_config_file, # Need to include a dsp config file!\n",
    "#                           database={\"pz_const\":'396.9*us'}, # TODO: use metadata instead of manually defining...\n",
    "#                           waveforms=['wf_blsub', 'wf_pzDCR', 'dcr_trap', 'dcr_trap'], # names of waveforms from dsp config file\n",
    "#                           selection   = cut,           # Apply cut\n",
    "#                           wf_styles=[{'linestyle':['-']},{'linestyle':[':']},{'ls':['--']}],\n",
    "#                           legend=['Waveform', 'PZ Corrected', \"DCR: {dcr:0.2f}\"],\n",
    "# #                           legend_opts={'loc':\"upper left\"},\n",
    "#                           lines=['dcr'], # add hlines and vlines\n",
    "#                           x_lim=(38000, 80000) # x axis range\n",
    "#                          )"
   ]
  },
  {
   "cell_type": "code",
   "execution_count": null,
   "metadata": {},
   "outputs": [],
   "source": [
    "# %matplotlib widget\n",
    "if bkg_sub==True:\n",
    "    plt.plot(bkg_dcr_corr_bins[1:], bkg_sub_dcr)\n",
    "\n",
    "plt.show()"
   ]
  },
  {
   "cell_type": "code",
   "execution_count": null,
   "metadata": {},
   "outputs": [],
   "source": [
    "# %matplotlib widget\n",
    "nb_dcr_corr = 500\n",
    "dlo_corr_norm, dhi_corr_norm = -20, 40\n",
    "nb_energy = 599\n",
    "elo = 10\n",
    "ehi = 6000\n",
    "\n",
    "#normalize hist by runtime\n",
    "rt = np.array([(1/rt_min)])\n",
    "wts = np.repeat(rt, len(df_cut['trapEftp_cal']))\n",
    "print(wts)\n",
    "\n",
    "dcr_corr_vs_E_hist_norm, xedges, yedges = np.histogram2d(df_cut['trapEftp_cal'], df_cut['dcr_corr'], bins=[nb_energy, nb_dcr_corr], range=([elo, ehi], [dlo_corr_norm, dhi_corr_norm]), weights=wts)\n",
    "\n",
    "# dcr_corr_vs_E_hist_norm = np.divide(dcr_corr_vs_E_hist, rt_min)\n",
    "\n",
    "XX, YY = np.mgrid[elo:ehi:nb_energy*1j, dlo_corr_norm:dhi_corr_norm:nb_dcr_corr*1j]\n",
    "\n",
    "print((YY))\n",
    "pcm1 = plt.pcolormesh(XX, YY, dcr_corr_vs_E_hist_norm, norm=LogNorm())\n",
    "\n",
    "CB = plt.colorbar(pcm1)\n",
    "plt.ylim(-20, 40)\n",
    "plt.show()"
   ]
  },
  {
   "cell_type": "code",
   "execution_count": null,
   "metadata": {},
   "outputs": [],
   "source": [
    "if bkg_sub ==True:\n",
    "    \n",
    "    #normalize hist by runtime\n",
    "    bkg_rt = np.array([(1/bkg_rt_min)])\n",
    "    bkg_wts = np.repeat(bkg_rt, len(bkg_df_cut['trapEftp_cal']))\n",
    "    print(bkg_wts)\n",
    "    bkg_dcr_corr_vs_E_hist_norm, bkg_xedges, bkg_yedges = np.histogram2d(bkg_df_cut['trapEftp_cal'], (bkg_df_cut['dcr']), bins=[nb_energy, nb_dcr_corr], range=([elo, ehi], [dlo_corr_norm, dhi_corr_norm]), weights=bkg_wts)\n",
    "#     bkg_dcr_corr_vs_E_hist_norm = np.divide(bkg_dcr_corr_vs_E_hist, bkg_rt_min)\n",
    "\n",
    "    pcm2 = plt.pcolormesh(XX, YY, bkg_dcr_corr_vs_E_hist_norm, norm=LogNorm())\n",
    "    \n",
    "    median, xedges, binnumber = stats.binned_statistic(bkg_df_cut['trapEftp_cal'], bkg_df_cut['dcr'], statistic = \"median\", bins = nb_energy)\n",
    "    \n",
    "    pcm3 = plt.plot(XX, median)\n",
    "\n",
    "    CB = plt.colorbar(pcm2)\n",
    "    plt.ylim(-20, 60)\n",
    "    plt.show()"
   ]
  },
  {
   "cell_type": "code",
   "execution_count": null,
   "metadata": {},
   "outputs": [],
   "source": [
    "en_bin_centers = pgh.get_bin_centers(bkg_xedges)\n",
    "fit = np.polyfit(en_bin_centers, median, deg=1)\n",
    "# print( len(median))\n",
    "# print( len(pgh.get_bin_centers(bkg_xedges)))\n",
    "print(fit)"
   ]
  },
  {
   "cell_type": "code",
   "execution_count": null,
   "metadata": {},
   "outputs": [],
   "source": [
    "#creat new DCR\n",
    "if (dsp_id == '01'):\n",
    "    const = 0.0011\n",
    "elif (dsp_id == '02'):\n",
    "    const  = 0.0002 \n",
    "    \n",
    "const = fit[0]\n",
    "offset = -1*fit[1]\n",
    "df_cut['dcr_linoff'] = df_cut['dcr'] + const*df_cut['trapEftp']\n",
    "\n",
    "if bkg_sub==True:\n",
    "    bkg_df_cut['dcr_linoff'] = bkg_df_cut['dcr'] + df_cut['trapEftp']*(-1*const) + offset"
   ]
  },
  {
   "cell_type": "code",
   "execution_count": null,
   "metadata": {},
   "outputs": [],
   "source": [
    "if bkg_sub ==True:\n",
    "    \n",
    "    #normalize hist by runtime\n",
    "    bkg_rt = np.array([(1/bkg_rt_min)])\n",
    "    bkg_wts = np.repeat(bkg_rt, len(bkg_df_cut['trapEftp_cal']))\n",
    "    print(bkg_wts)\n",
    "    bkg_dcr_corr_vs_E_hist_norm, bkg_xedges, bkg_yedges = np.histogram2d(bkg_df_cut['trapEftp_cal'], (bkg_df_cut['dcr_corr']), bins=[nb_energy, nb_dcr_corr], range=([elo, ehi], [dlo_corr_norm, dhi_corr_norm]), weights=bkg_wts)\n",
    "#     bkg_dcr_corr_vs_E_hist_norm = np.divide(bkg_dcr_corr_vs_E_hist, bkg_rt_min)\n",
    "\n",
    "    pcm2 = plt.pcolormesh(XX, YY, bkg_dcr_corr_vs_E_hist_norm, norm=LogNorm())\n",
    "    \n",
    "    median, xedges, binnumber = stats.binned_statistic(bkg_df_cut['trapEftp_cal'], bkg_df_cut['dcr_corr'], statistic = \"median\", bins = nb_energy)\n",
    "    \n",
    "    pcm3 = plt.plot(XX, median)\n",
    "    y = fit[0]*en_bin_centers + fit[1]\n",
    "    plt.plot(en_bin_centers, y, 'r')\n",
    "#     plt.hlines(0, elo, ehi, colors='r')\n",
    "\n",
    "    CB = plt.colorbar(pcm2)\n",
    "    plt.ylim(-20, 60)\n",
    "    plt.show()"
   ]
  },
  {
   "cell_type": "code",
   "execution_count": null,
   "metadata": {},
   "outputs": [],
   "source": [
    "if bkg_sub ==True:\n",
    "    \n",
    "    #normalize hist by runtime\n",
    "    bkg_rt = np.array([(1/bkg_rt_min)])\n",
    "    bkg_wts = np.repeat(bkg_rt, len(bkg_df_cut['trapEmax']))\n",
    "    print(bkg_wts)\n",
    "    trapEmax_bkg_dcr_corr_vs_E_hist_norm, bkg_xedges, bkg_yedges = np.histogram2d(bkg_df_cut['trapEmax'], (bkg_df_cut['dcr_corr']), bins=[nb_energy, nb_dcr_corr], range=([0, 18000], [dlo_corr_norm, dhi_corr_norm]), weights=bkg_wts)\n",
    "#     bkg_dcr_corr_vs_E_hist_norm = np.divide(bkg_dcr_corr_vs_E_hist, bkg_rt_min)\n",
    "\n",
    "    xx, yy = np.mgrid[0:18000:nb_energy*1j, dlo_corr_norm:dhi_corr_norm:nb_dcr_corr*1j]\n",
    "\n",
    "    pcm2 = plt.pcolormesh(xx, yy, bkg_dcr_corr_vs_E_hist_norm, norm=LogNorm())\n",
    "    \n",
    "#     median, xedges, binnumber = stats.binned_statistic(bkg_df_cut['trapEmax'], bkg_df_cut['dcr_corr'], statistic = \"median\", bins = nb_energy)\n",
    "    \n",
    "#     pcm3 = plt.plot(XX, median)\n",
    "#     y = fit[0]*en_bin_centers + fit[1]\n",
    "#     plt.plot(en_bin_centers, y, 'r')\n",
    "# #     plt.hlines(0, elo, ehi, colors='r')\n",
    "\n",
    "    CB = plt.colorbar(pcm2)\n",
    "    plt.ylim(-20, 60)\n",
    "    plt.show()"
   ]
  },
  {
   "cell_type": "code",
   "execution_count": null,
   "metadata": {},
   "outputs": [],
   "source": [
    "if bkg_sub == True:\n",
    "    bkg_sub_dcr_vs_E = dcr_corr_vs_E_hist_norm - bkg_dcr_corr_vs_E_hist_norm\n",
    "    \n",
    "    pcm3 = plt.pcolormesh(XX, YY, bkg_sub_dcr_vs_E, norm=mpl.colors.Normalize(-0.1, 0.1)) #, norm=LogNorm()\n",
    "\n",
    "    CB = plt.colorbar(pcm3)\n",
    "    plt.show()"
   ]
  },
  {
   "cell_type": "code",
   "execution_count": null,
   "metadata": {},
   "outputs": [],
   "source": [
    "# %matplotlib widget\n",
    "nb_dcr_corr = 50\n",
    "nb_energy = 599\n",
    "elo = 10\n",
    "ehi = 6000\n",
    "\n",
    "dcr_corr_vs_E_hist, xedges, yedges = np.histogram2d(df_cut['trapEftp_cal'], df_cut['dcr_corr'], bins=[nb_energy, nb_dcr_corr], range=([elo, ehi], [dlo_corr, dhi_corr]))\n",
    "\n",
    "X2, Y2 = np.mgrid[elo:ehi:nb_energy*1j, dlo_corr:dhi_corr:nb_dcr_corr*1j]\n",
    "\n",
    "dcr_corr_vs_E_hist_norm = np.divide(dcr_corr_vs_E_hist, rt_min)\n",
    "\n",
    "pcm2 = plt.pcolormesh(X2, Y2, dcr_corr_vs_E_hist_norm, norm=LogNorm())\n",
    "\n",
    "CB = plt.colorbar(pcm2)\n",
    "plt.show()"
   ]
  },
  {
   "cell_type": "code",
   "execution_count": null,
   "metadata": {},
   "outputs": [],
   "source": [
    "##### energy cut \n",
    "etype = 'trapEftp_cal'\n",
    "energy = df[etype]\n",
    "\n",
    "if cal == True:\n",
    "    # energy = df['trapEmax_cal']\n",
    "    energy_cut = (energy > 1450) & (energy < 1470) # 1460 peak\n",
    "    # energy_cut = (energy > 500) & (energy < 600) # 1460 peak\n",
    "    \n",
    "else:\n",
    "    # energy = df_hit['trapEmax']\n",
    "    # energy_cut = (energy > 2805) & (energy < 2835) # 1460 peak, uncalibratedm trapEmax\n",
    "    # energy_cut = (energy > 2000000) & (energy < 2500000) #where alphas seem to be in run 117, raw energy parameter\n",
    "    energy_cut = (energy > 200) & (energy < 1000) #where low e weirdness is in DCR, in trapEftp\n",
    "    \n",
    "# print(type(energy))\n",
    "# print(energy_cut)\n",
    "print(energy_cut.value_counts())\n",
    "\n",
    "bl = df['bl']\n",
    "bl_cut = (bl > bl_cut_lo) & (bl < bl_cut_hi)\n",
    "\n",
    "cut = bl_cut & energy_cut"
   ]
  },
  {
   "cell_type": "code",
   "execution_count": null,
   "metadata": {},
   "outputs": [],
   "source": [
    "dsp_config_file = os.path.expandvars(f'$CAGE_SW/processing/metadata/dsp/dsp_{dsp_id}.json')\n",
    "browser = WaveformBrowser(raw_list, 'ORSIS3302DecoderForEnergy/raw', dsp_config_file, # Need to include a dsp config file!\n",
    "                          database={\"pz_const\":'396.9*us'}, # TODO: use metadata instead of manually defining...\n",
    "                          waveforms=['wf_blsub', 'wf_pzDCR', 'dcr_trap', 'dcr_trap'], # names of waveforms from dsp config file\n",
    "                          selection   = cut,           # Apply cut\n",
    "                          wf_styles=[{'linestyle':['-']},{'linestyle':[':']},{'ls':['--']}],\n",
    "                          legend=['Waveform', 'PZ Corrected', \"DCR: {dcr:0.2f}\"],\n",
    "#                           legend_opts={'loc':\"upper left\"},\n",
    "                          lines=['dcr'], # add hlines and vlines\n",
    "                          x_lim=(38000, 80000) # x axis range\n",
    "                         )"
   ]
  },
  {
   "cell_type": "code",
   "execution_count": null,
   "metadata": {},
   "outputs": [],
   "source": [
    "browser.draw_next()"
   ]
  },
  {
   "cell_type": "code",
   "execution_count": null,
   "metadata": {},
   "outputs": [],
   "source": [
    "# import pygama\n",
    "pygama.__path__"
   ]
  },
  {
   "cell_type": "code",
   "execution_count": null,
   "metadata": {},
   "outputs": [],
   "source": []
  }
 ],
 "metadata": {
  "kernelspec": {
   "display_name": "legend-base",
   "language": "python",
   "name": "legend-base"
  },
  "language_info": {
   "codemirror_mode": {
    "name": "ipython",
    "version": 3
   },
   "file_extension": ".py",
   "mimetype": "text/x-python",
   "name": "python",
   "nbconvert_exporter": "python",
   "pygments_lexer": "ipython3",
   "version": "3.8.5"
  }
 },
 "nbformat": 4,
 "nbformat_minor": 4
}

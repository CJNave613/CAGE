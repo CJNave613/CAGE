{
 "cells": [
  {
   "cell_type": "code",
   "execution_count": null,
   "metadata": {},
   "outputs": [],
   "source": [
    "import h5py\n",
    "import numpy as np\n",
    "import matplotlib.pyplot as plt\n",
    "\n",
    "from pygama import DataGroup\n",
    "import pygama.io.lh5 as lh5\n",
    "from pygama.io.daq_to_raw import daq_to_raw\n",
    "from pygama.io.raw_to_dsp import raw_to_dsp\n",
    "\n",
    "dsp_dir = '/global/cfs/cdirs/legend/data/cage/LH5/dsp'\n",
    "dg = DataGroup('legend/CAGE/processing/cage.json', load=False)"
   ]
  },
  {
   "cell_type": "markdown",
   "metadata": {},
   "source": [
    "# Timestamp Correction"
   ]
  },
  {
   "cell_type": "code",
   "execution_count": null,
   "metadata": {},
   "outputs": [],
   "source": [
    "def dsp_to_hit_cage(f_dsp, f_hit, dg, n_max=None, verbose=False, t_start=None):\n",
    "    \"\"\"\n",
    "    non-general placeholder for creating a pygama 'hit' file.  uses pandas.\n",
    "    for every file, apply:\n",
    "    - energy calibration (peakfit results)\n",
    "    - timestamp correction\n",
    "    for a more general dsp_to_hit, maybe each function could be given in terms\n",
    "    of an 'apply' on a dsp dataframe ...\n",
    "    TODO: create entry config['rawe'] with list of energy pars to calibrate, as\n",
    "    in energy_cal.py\n",
    "    \"\"\"\n",
    "    apply_ecal = False # user changes these here for now\n",
    "    apply_tscorr = True\n",
    "\n",
    "    rawe = ['trapEmax']\n",
    "    dsp = h5py.File(f_dsp)\n",
    "    ts_old = np.array(dsp['ORSIS3302DecoderForEnergy']['dsp']['timestamp'])\n",
    "    ts_old = ts_old.astype(np.int64)\n",
    "    # create initial 'hit' DataFrame from dsp data\n",
    "    #hit_store = lh5.Store()\n",
    "    #data, n_rows = hit_store.read_object(dg.config['input_table'], f_dsp)\n",
    "    #df_hit = data.get_dataframe()\n",
    "    ts_sec = []\n",
    "    # 2. compute timestamp rollover correction (specific to struck 3302)\n",
    "    if apply_tscorr:\n",
    "        clock = 100e6 # 100 MHz\n",
    "        UINT_MAX = 4294967295 # (0xffffffff)\n",
    "        t_max = UINT_MAX / clock\n",
    "        #ts = df_hit['timestamp'].values / clock\n",
    "        ts = ts_old/ clock\n",
    "        tdiff = np.diff(ts)\n",
    "        tdiff = np.insert(tdiff, 0 , 0)\n",
    "        #ind = np.arange(len(tdiff))\n",
    "        #plt.plot(ind,tdiff)\n",
    "        iwrap = np.where(tdiff < 0)\n",
    "        iloop = np.append(iwrap[0], len(ts))\n",
    "        ts_new, t_roll = [], 0\n",
    "        for i, idx in enumerate(iloop):\n",
    "            ilo = 0 if i==0 else iwrap[0][i-1]\n",
    "            ihi = idx\n",
    "            ts_block = ts[ilo:ihi]\n",
    "            ts_block = (np.array(ts_block)).astype(np.uint64)\n",
    "            #new_block = [t+t_roll for t in ts_block]\n",
    "            #print(ts_block[0], ts_block[-1], t_roll)\n",
    "            #print(new_block[0], new_block[-1], t_roll)\n",
    "            #print(new_block[-1], type(new_block[0]))\n",
    "            ts_new.append(ts_block + t_roll)\n",
    "            t_last = ts[ilo-1]\n",
    "            #print(t_last)\n",
    "            #t_last = new_block[-1]\n",
    "            #print(t_last)\n",
    "            t_diff = t_max - t_last\n",
    "            t_roll += t_last + t_diff\n",
    "        ts_sec = np.concatenate(ts_new)\n",
    "    return ts_sec"
   ]
  },
  {
   "cell_type": "code",
   "execution_count": null,
   "metadata": {},
   "outputs": [],
   "source": []
  }
 ],
 "metadata": {
  "kernelspec": {
   "display_name": "legend-base",
   "language": "python",
   "name": "legend-base"
  },
  "language_info": {
   "codemirror_mode": {
    "name": "ipython",
    "version": 3
   },
   "file_extension": ".py",
   "mimetype": "text/x-python",
   "name": "python",
   "nbconvert_exporter": "python",
   "pygments_lexer": "ipython3",
   "version": "3.8.5"
  }
 },
 "nbformat": 4,
 "nbformat_minor": 4
}

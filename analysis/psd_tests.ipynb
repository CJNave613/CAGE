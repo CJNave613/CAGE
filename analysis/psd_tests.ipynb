{
 "cells": [
  {
   "cell_type": "code",
   "execution_count": null,
   "metadata": {},
   "outputs": [],
   "source": [
    "#!/usr/bin/env python3\n",
    "import os\n",
    "import json\n",
    "import h5py\n",
    "import argparse\n",
    "import pandas as pd\n",
    "import numpy as np\n",
    "import tinydb as db\n",
    "from tinydb.storages import MemoryStorage\n",
    "import matplotlib.pyplot as plt\n",
    "# plt.style.use('../clint.mpl')\n",
    "from matplotlib.colors import LogNorm\n",
    "\n",
    "from pygama import DataGroup\n",
    "import pygama.io.lh5 as lh5\n",
    "import pygama.analysis.histograms as pgh\n",
    "import pygama.analysis.peak_fitting as pgf"
   ]
  },
  {
   "cell_type": "markdown",
   "metadata": {},
   "source": [
    "Load data from the run of interest"
   ]
  },
  {
   "cell_type": "code",
   "execution_count": null,
   "metadata": {},
   "outputs": [],
   "source": [
    "dg = DataGroup('cage.json', load=True)\n",
    "run = 'run==50'\n",
    "dg.fileDB.query(run, inplace=True)\n",
    "view_cols = ['runtype', 'run', 'cycle', 'startTime', 'runtime', 'threshold']\n",
    "print(dg.fileDB[view_cols])"
   ]
  },
  {
   "cell_type": "markdown",
   "metadata": {},
   "source": [
    "Plot raw energy histogram of the data, from DSP files\n",
    "First get dsp data, runtimes so we can normalize by time"
   ]
  },
  {
   "cell_type": "code",
   "execution_count": null,
   "metadata": {},
   "outputs": [],
   "source": [
    "# get file list and load energy data (numpy array)\n",
    "lh5_dir = os.path.expandvars(dg.config['lh5_dir'])\n",
    "dsp_list = lh5_dir + dg.fileDB['dsp_path'] + '/' + dg.fileDB['dsp_file']\n",
    "edata = lh5.load_nda(dsp_list, ['trapEmax'], 'ORSIS3302DecoderForEnergy/dsp')\n",
    "rt_min = dg.fileDB['runtime'].sum()\n",
    "u_start = dg.fileDB.iloc[0]['startTime']\n",
    "t_start = pd.to_datetime(u_start, unit='s') # str"
   ]
  },
  {
   "cell_type": "code",
   "execution_count": null,
   "metadata": {},
   "outputs": [],
   "source": [
    "# Create histogram, normalized by runtime\n",
    "elo, ehi, epb = 0, 25000, 10 \n",
    "etype = 'trapEmax'\n",
    "\n",
    "ene_uncal = edata[etype]\n",
    "hist, bins, _ = pgh.get_hist(ene_uncal, range=(elo, ehi), dx=epb)\n",
    "\n",
    "# normalize by runtime in seconds\n",
    "hist_rt = np.divide(hist, rt_min * 60)"
   ]
  },
  {
   "cell_type": "code",
   "execution_count": null,
   "metadata": {},
   "outputs": [],
   "source": [
    "# Plot the histogram\n",
    "plt.semilogy(bins[1:], hist_rt, ds='steps', c='b', lw=1,\n",
    "            label=f'{etype}, {rt_min:.2f} mins')\n",
    "\n",
    "plt.xlabel(etype, ha='right', x=1)\n",
    "plt.ylabel('cts / sec', ha='right', y=1)\n",
    "plt.legend()\n",
    "plt.show()"
   ]
  },
  {
   "cell_type": "markdown",
   "metadata": {},
   "source": [
    "Load hit data from local directory"
   ]
  },
  {
   "cell_type": "code",
   "execution_count": null,
   "metadata": {},
   "outputs": [],
   "source": [
    "lh5_dir = dg.lh5_user_dir #if user else dg.lh5_dir\n",
    "hit_list = lh5_dir + dg.fileDB['hit_path'] + '/' + dg.fileDB['hit_file']\n",
    "df_hit = lh5.load_dfs(hit_list, ['trapEmax', 'bl','bl_sig','A_10','ts_sec', 'dcr_raw'], 'ORSIS3302DecoderForEnergy/hit')\n",
    "# print(df_hit)\n",
    "print(df_hit.columns)\n",
    "\n",
    "dsc = df_hit[['bl','bl_sig','A_10','ts_sec', 'dcr_raw']].describe()\n",
    "print(dsc)"
   ]
  },
  {
   "cell_type": "markdown",
   "metadata": {},
   "source": [
    "Now plot baseline vs E"
   ]
  },
  {
   "cell_type": "code",
   "execution_count": null,
   "metadata": {},
   "outputs": [],
   "source": [
    "# Baseline vs E\n",
    "elo, ehi, epb = 0, 50, 1\n",
    "blo, bhi, bpb = 0, 10000, 100\n",
    "nbx = int((ehi-elo)/epb)\n",
    "nby = int((bhi-blo)/bpb)\n",
    "\n",
    "h = plt.hist2d(df_hit['trapEmax'], df_hit['bl'], bins=[nbx,nby],\n",
    "                       range=[[elo, ehi], [blo, bhi]], cmap='jet')\n",
    "\n",
    "cb = plt.colorbar(h[3], ax=plt.gca())\n",
    "plt.xlabel('trapEmax', ha='right', x=1)\n",
    "plt.ylabel('bl', ha='right', y=1)\n",
    "# plt.tight_layout()\n",
    "plt.show()"
   ]
  },
  {
   "cell_type": "markdown",
   "metadata": {},
   "source": [
    "Make a cut based on BL value"
   ]
  },
  {
   "cell_type": "code",
   "execution_count": null,
   "metadata": {},
   "outputs": [],
   "source": [
    "# make a formal baseline cut from 1d histogram\n",
    "hE, bins, vE = pgh.get_hist(df_hit['bl'], range=(blo, bhi), dx=bpb)\n",
    "xE = bins[1:]\n",
    "plt.semilogy(xE, hE, c='b', ds='steps')\n",
    "\n",
    "bl_cut_lo, bl_cut_hi = 8000,10000\n",
    "plt.axvline(bl_cut_lo, c='r', lw=1)\n",
    "plt.axvline(bl_cut_hi, c='r', lw=1)\n",
    "\n",
    "plt.xlabel('bl', ha='right', x=1)\n",
    "plt.ylabel('counts', ha='right', y=1)\n",
    "plt.show()"
   ]
  },
  {
   "cell_type": "markdown",
   "metadata": {},
   "source": [
    "Use BL cut from above, create A/E"
   ]
  },
  {
   "cell_type": "code",
   "execution_count": null,
   "metadata": {},
   "outputs": [],
   "source": [
    "# A_10/trapEmax vs trapEmax (A/E vs E)\n",
    "\n",
    "# use baseline cut\n",
    "df_cut = df_hit.query('bl > 8000 and bl < 10000').copy()\n",
    "\n",
    "# add new A/E column\n",
    "df_cut['aoe'] = df_cut['A_10'] / df_cut['trapEmax']"
   ]
  },
  {
   "cell_type": "markdown",
   "metadata": {},
   "source": [
    "Plot A/E vs E"
   ]
  },
  {
   "cell_type": "code",
   "execution_count": null,
   "metadata": {},
   "outputs": [],
   "source": [
    "alo, ahi, apb = 0.0, 0.09, 0.0009\n",
    "elo, ehi, epb = 0, 25000, 10\n",
    "# elo, ehi, epb = 0, 3000, 10\n",
    "# elo, ehi, epb = 0, 6000, 10\n",
    "        \n",
    "\n",
    "nbx = int((ehi-elo)/epb)\n",
    "nby = int((ahi-alo)/apb)\n",
    "\n",
    "h = plt.hist2d(df_cut['trapEmax'], df_cut['aoe'], bins=[nbx,nby],\n",
    "                range=[[elo, ehi], [alo, ahi]], cmap='jet', norm=LogNorm())\n",
    "\n",
    "plt.xlabel('trapEmax', ha='right', x=1)\n",
    "plt.ylabel('A/E', ha='right', y=1)\n",
    "plt.tight_layout()\n",
    "plt.show()"
   ]
  },
  {
   "cell_type": "markdown",
   "metadata": {},
   "source": [
    "Plot DCR vs E"
   ]
  },
  {
   "cell_type": "code",
   "execution_count": null,
   "metadata": {},
   "outputs": [],
   "source": [
    "# show DCR vs E\n",
    "etype = 'trapEmax'\n",
    "#       elo, ehi, epb = 0, 6000, 10\n",
    "elo, ehi, epb = 0, 25000, 10\n",
    "#         dlo, dhi, dpb = -1000, 1000, 10\n",
    "#         dlo, dhi, dpb = -0.25, 0.25, 0.0005\n",
    "# dlo, dhi, dpb = -10., 10., 0.005\n",
    "dlo, dhi, dpb = -1000., 0., 1\n",
    "\n",
    "nbx = int((ehi-elo)/epb)\n",
    "nby = int((dhi-dlo)/dpb)\n",
    "\n",
    "h = plt.hist2d(df_cut['trapEmax'], df_cut['dcr_raw'], bins=[nbx,nby],\n",
    "                range=[[elo, ehi], [dlo, dhi]], cmap='jet', norm=LogNorm())\n",
    "\n",
    "plt.xlabel('trapEmax', ha='right', x=1)\n",
    "plt.ylabel('DCR', ha='right', y=1)\n",
    "plt.savefig('./plots/alpha_dcr_raw_run31.png', dpi=200)\n",
    "# plt.tight_layout()\n",
    "plt.show()"
   ]
  },
  {
   "cell_type": "code",
   "execution_count": null,
   "metadata": {},
   "outputs": [],
   "source": [
    "# show DCR vs E\n",
    "etype = 'trapEmax'\n",
    "#       elo, ehi, epb = 0, 6000, 10\n",
    "elo, ehi, epb = 0, 25000, 10\n",
    "#         dlo, dhi, dpb = -1000, 1000, 10\n",
    "#         dlo, dhi, dpb = -0.25, 0.25, 0.0005\n",
    "# dlo, dhi, dpb = -10., 10., 0.005\n",
    "dlo, dhi, dpb = -1000., 0., 1\n",
    "\n",
    "nbx = int((ehi-elo)/epb)\n",
    "nby = int((dhi-dlo)/dpb)\n",
    "bins = np.linspace(-600, 0., 100)\n",
    "\n",
    "h = plt.hist(df_cut['dcr_raw'], bins)\n",
    "\n",
    "# plt.xlabel('trapEmax', ha='right', x=1)\n",
    "plt.xlabel('DCR', ha='right', y=1)\n",
    "# plt.tight_layout()\n",
    "plt.show()"
   ]
  },
  {
   "cell_type": "code",
   "execution_count": null,
   "metadata": {},
   "outputs": [],
   "source": [
    "#create dcr/E\n",
    "df_cut['dcr_norm'] = df_cut['dcr_raw'] / df_cut['trapEmax']"
   ]
  },
  {
   "cell_type": "code",
   "execution_count": null,
   "metadata": {},
   "outputs": [],
   "source": [
    "# show DCR vs A/E\n",
    "alo, ahi, apb = 0.0, 0.09, 0.0009\n",
    "#         dlo, dhi, dpb = -1000, 1000, 10\n",
    "#         dlo, dhi, dpb = -0.25, 0.25, 0.0005\n",
    "dlo, dhi, dpb = -0.085, 0.025, 0.0005\n",
    "# dlo, dhi, dpb = -1000., 0.8, 1\n",
    "\n",
    "nbx = int((ahi-alo)/apb)\n",
    "print(nbx)\n",
    "nby = int((dhi-dlo)/dpb)\n",
    "\n",
    "h = plt.hist2d(df_cut['aoe'], df_cut['dcr_norm'], bins=[nbx,nby],\n",
    "                range=[[alo, ahi], [dlo, dhi]], cmap='jet', norm=LogNorm())\n",
    "\n",
    "plt.xlabel('A/E', ha='right', x=1)\n",
    "plt.ylabel('DCR', ha='right', y=1)\n",
    "# plt.savefig('./plots/zoom_alpha_dcr_norm_run31.png', dpi=200)\n",
    "# plt.tight_layout()\n",
    "plt.show()"
   ]
  },
  {
   "cell_type": "code",
   "execution_count": null,
   "metadata": {},
   "outputs": [],
   "source": [
    "# show DCR vs E\n",
    "etype = 'trapEmax'\n",
    "#       elo, ehi, epb = 0, 6000, 10\n",
    "elo, ehi, epb = 0, 25000, 10\n",
    "#         dlo, dhi, dpb = -1000, 1000, 10\n",
    "#         dlo, dhi, dpb = -0.25, 0.25, 0.0005\n",
    "dlo, dhi, dpb = -0.075, 0.025, 0.0005\n",
    "# dlo, dhi, dpb = -1000., 0.8, 1\n",
    "\n",
    "nbx = int((ehi-elo)/epb)\n",
    "nby = int((dhi-dlo)/dpb)\n",
    "\n",
    "h = plt.hist2d(df_cut['trapEmax'], df_cut['dcr_norm'], bins=[nbx,nby],\n",
    "                range=[[elo, ehi], [dlo, dhi]], cmap='jet', norm=LogNorm())\n",
    "\n",
    "plt.xlabel('trapEmax', ha='right', x=1)\n",
    "plt.ylabel('DCR', ha='right', y=1)\n",
    "plt.savefig('./plots/zoom_alpha_dcr_norm_run31.png', dpi=200)\n",
    "# plt.tight_layout()\n",
    "plt.show()"
   ]
  },
  {
   "cell_type": "code",
   "execution_count": null,
   "metadata": {},
   "outputs": [],
   "source": [
    "df_dcr_cut = df_cut.query('trapEmax > 5000 and dcr_norm > 0.05').copy()"
   ]
  },
  {
   "cell_type": "code",
   "execution_count": null,
   "metadata": {},
   "outputs": [],
   "source": [
    "energy = df_dcr_cut['trapEmax']\n",
    "print(len(energy))"
   ]
  },
  {
   "cell_type": "code",
   "execution_count": null,
   "metadata": {},
   "outputs": [],
   "source": [
    "# show DCR vs E\n",
    "etype = 'trapEmax'\n",
    "#       elo, ehi, epb = 0, 6000, 10\n",
    "elo, ehi, epb = 0, 25000, 10\n",
    "#         dlo, dhi, dpb = -1000, 1000, 10\n",
    "#         dlo, dhi, dpb = -0.25, 0.25, 0.0005\n",
    "dlo, dhi, dpb = -0.075, 0.025, 0.0005\n",
    "# dlo, dhi, dpb = -1000., 0.8, 1\n",
    "\n",
    "nbx = int((ehi-elo)/epb)\n",
    "nby = int((dhi-dlo)/dpb)\n",
    "\n",
    "h = plt.hist2d(df_dcr_cut['trapEmax'], df_cut['dcr_norm'], bins=[nbx,nby],\n",
    "                range=[[elo, ehi], [dlo, dhi]], cmap='jet', norm=LogNorm())\n",
    "\n",
    "plt.xlabel('trapEmax', ha='right', x=1)\n",
    "plt.ylabel('DCR', ha='right', y=1)\n",
    "plt.savefig('./plots/zoom_alpha_dcr_norm_run31.png', dpi=200)\n",
    "# plt.tight_layout()\n",
    "plt.show()"
   ]
  },
  {
   "cell_type": "code",
   "execution_count": null,
   "metadata": {},
   "outputs": [],
   "source": [
    "def fit_func(x, A, B):\n",
    "    A*x + B"
   ]
  }
 ],
 "metadata": {
  "kernelspec": {
   "display_name": "legend-base",
   "language": "python",
   "name": "legend-base"
  },
  "language_info": {
   "codemirror_mode": {
    "name": "ipython",
    "version": 3
   },
   "file_extension": ".py",
   "mimetype": "text/x-python",
   "name": "python",
   "nbconvert_exporter": "python",
   "pygments_lexer": "ipython3",
   "version": "3.8.3"
  }
 },
 "nbformat": 4,
 "nbformat_minor": 4
}

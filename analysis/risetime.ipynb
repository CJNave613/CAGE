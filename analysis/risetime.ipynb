{
 "cells": [
  {
   "cell_type": "code",
   "execution_count": 1,
   "id": "a60a939e-e3ec-4c3b-b37a-2c54fd2b8547",
   "metadata": {},
   "outputs": [],
   "source": [
    "#!/usr/bin/env python3\n",
    "import os\n",
    "import json\n",
    "import h5py\n",
    "import argparse\n",
    "import pandas as pd\n",
    "import numpy as np\n",
    "import tinydb as db\n",
    "from tinydb.storages import MemoryStorage\n",
    "import matplotlib as mpl\n",
    "import matplotlib.pyplot as plt\n",
    "# plt.style.use('../clint.mpl')\n",
    "from matplotlib.colors import LogNorm\n",
    "from mpl_toolkits.axes_grid1.inset_locator import zoomed_inset_axes, mark_inset\n",
    "from mpl_toolkits.axes_grid1.anchored_artists import AnchoredSizeBar\n",
    "\n",
    "import boost_histogram as bh\n",
    "import pickle as pl\n",
    "\n",
    "import scipy\n",
    "\n",
    "from pygama import DataGroup\n",
    "import pygama.lh5 as lh5\n",
    "import pygama.analysis.histograms as pgh\n",
    "import pygama.analysis.peak_fitting as pgf\n",
    "import cage_utils\n",
    "plt.rcParams['figure.figsize'] = [14, 10]"
   ]
  },
  {
   "cell_type": "code",
   "execution_count": 2,
   "id": "71b7cb3a-1932-46ff-afc7-0233ae628ec4",
   "metadata": {},
   "outputs": [],
   "source": [
    "def asymTrapFilter(wf_in, rise, flat, fall):\n",
    "    \"\"\" Computes an asymmetric trapezoidal filter\"\"\"\n",
    "    wf_out = np.zeros(len(wf_in))\n",
    "    wf_out[0] = wf_in[0]/float(rise)\n",
    "    for i in range(1, rise):\n",
    "        wf_out[i] = wf_out[i-1] + (wf_in[i])/float(rise)\n",
    "    for i in range(rise, rise+flat):\n",
    "        wf_out[i] = wf_out[i-1] + (wf_in[i] - wf_in[i-rise])/float(rise)\n",
    "    for i in range(rise+flat, rise+flat+fall):\n",
    "        wf_out[i] = wf_out[i-1] + (wf_in[i] - wf_in[i-rise])/float(rise) - wf_in[i-rise-flat]/float(fall)\n",
    "    for i in range(rise+flat+fall, len(wf_in)):\n",
    "        wf_out[i] = wf_out[i-1] + (wf_in[i] - wf_in[i-rise])/float(rise) - (wf_in[i-rise-flat] - wf_in[i-rise-flat-fall])/float(fall)\n",
    "        \n",
    "    return(wf_out)"
   ]
  },
  {
   "cell_type": "code",
   "execution_count": 3,
   "id": "b5a13d33-2f21-492d-8ef3-f5a1f01fdaa3",
   "metadata": {},
   "outputs": [],
   "source": [
    "def time_point_thresh(wf_in, threshold, tp_max):\n",
    "    \"\"\"\n",
    "    Find the last timepoint before tp_max that wf_in crosses a threshold\n",
    "     wf_in: input waveform\n",
    "     threshold: threshold to search for\n",
    "     tp_out: final time that waveform is less than threshold\n",
    "    \"\"\"\n",
    "    tp_out = 0\n",
    "    for i in range(tp_max, 0, -1):\n",
    "        if(wf_in[i]>threshold and wf_in[i-1]<threshold):\n",
    "            tp_out = i\n",
    "    return tp_out"
   ]
  },
  {
   "cell_type": "code",
   "execution_count": 4,
   "id": "818cac60-f14a-46be-a81e-659d65f14b7b",
   "metadata": {},
   "outputs": [],
   "source": [
    "def time_point_thresh_max(wf_in, threshold, tp_max, max):\n",
    "    \"\"\"\n",
    "    Find the last timepoint before tp_max that wf_in crosses a threshold\n",
    "     wf_in: input waveform\n",
    "     threshold: threshold to search for\n",
    "     tp_out: final time that waveform is less than threshold\n",
    "    \"\"\"\n",
    "    tp_out = 0\n",
    "    for i in range(tp_max, max, -1):\n",
    "        if(wf_in[i]>threshold and wf_in[i-1]<threshold):\n",
    "            tp_out = i\n",
    "            \n",
    "    return tp_out"
   ]
  },
  {
   "cell_type": "code",
   "execution_count": 5,
   "id": "cf36eb6c-e427-45b8-9205-612c65e2ca9c",
   "metadata": {},
   "outputs": [],
   "source": [
    "def time_point_frac(wf_in, frac, tp_max):\n",
    "    \"\"\"\n",
    "    Find the time where the waveform crosses a value that is a fraction of the\n",
    "    max. Parameters are:\n",
    "     wf_in: input waveform. Should have baseline of 0!\n",
    "     frac: fraction of maximum to search for. Should be between 0 and 1.\n",
    "     tp_max: timepoint of wf maximum. Can be found with numpy.argmax\n",
    "     tp_out: time that waveform crosses frac * wf_in[tp_max] for the last time,              rounded to an integer index\n",
    "    \"\"\"\n",
    "    # tp_out = [0]\n",
    "    threshold = frac*wf_in[tp_max]\n",
    "    # tp_out[0] = tp_max-1\n",
    "    tp_out = tp_max-1\n",
    "    # Scan for the crossing\n",
    "    while(wf_in[tp_out] > threshold):\n",
    "        tp_out -= 1\n",
    "    # if the previous point is closer to the threshold than the one we landed on\n",
    "    # use that. This is equivalent to interpolating and then rounding\n",
    "    if(threshold - wf_in[tp_out] > wf_in[tp_out+1] - threshold):\n",
    "        tp_out += 1\n",
    "    return tp_out"
   ]
  },
  {
   "cell_type": "code",
   "execution_count": 6,
   "id": "1ea4d257-bf08-459f-9d43-e5634b0004c8",
   "metadata": {},
   "outputs": [],
   "source": [
    "def trap_norm(wf_in, rise, flat):\n",
    "    \"\"\"\n",
    "    Symmetric trapezoidal filter normalized by integration time\n",
    "    \"\"\"\n",
    "    wf_out = np.zeros(len(wf_in))\n",
    "    wf_out[0] = wf_in[0]/float(rise)\n",
    "    for i in range(1, rise):\n",
    "        wf_out[i] = wf_out[i-1] + wf_in[i]/float(rise)\n",
    "    for i in range(rise, rise+flat):\n",
    "        wf_out[i] = wf_out[i-1] + (wf_in[i] - wf_in[i-rise])/float(rise)\n",
    "    for i in range(rise+flat, 2*rise+flat):\n",
    "        wf_out[i] = wf_out[i-1] + (wf_in[i] - wf_in[i-rise] - wf_in[i-rise-flat])/float(rise)\n",
    "    for i in range(2*rise+flat, len(wf_in)):\n",
    "        wf_out[i] = wf_out[i-1] + (wf_in[i] - wf_in[i-rise] - wf_in[i-rise-flat] + wf_in[i-2*rise-flat])/float(rise)\n",
    "        \n",
    "    return wf_out"
   ]
  },
  {
   "cell_type": "code",
   "execution_count": 7,
   "id": "f5409ea3-c71c-48d0-a5d8-ea04b8be32c5",
   "metadata": {},
   "outputs": [],
   "source": [
    "f_superpulse = './data/normScan/new_superpulses_60keV_allRuns.hdf5'\n",
    "data_superpulse = pd.read_hdf(f_superpulse, key = '/superpulses')\n",
    "# raw_superpulse_60 = data_superpulse['pure_60'][0]\n",
    "# raw_superpulse_60_notched = cage_utils.notchFilter_SIS3302(raw_superpulse_60, Q=20)"
   ]
  },
  {
   "cell_type": "code",
   "execution_count": 8,
   "id": "07efa595-33c0-462b-9d04-cbdaf058b45d",
   "metadata": {},
   "outputs": [],
   "source": [
    "# wf_arr = np.array(data_superpulse['pure_60_pz'])\n",
    "wf_arr = np.array(data_superpulse['pure_60_raw_pz'])\n",
    "\n",
    "# wf_arr = []\n",
    "# for wf in data_superpulse['pure_60_pz']:\n",
    "#     wf_arr.append(wf)"
   ]
  },
  {
   "cell_type": "code",
   "execution_count": 47,
   "id": "bfa6111e-71f0-4aa9-8443-6d79270eb71b",
   "metadata": {},
   "outputs": [
    {
     "name": "stdout",
     "output_type": "stream",
     "text": [
      "t0: 3774 \n",
      "E_ftp: 161.0515698604385\n",
      "t0: 3786 \n",
      "E_ftp: 161.05828366649382\n",
      "t0: 3783 \n",
      "E_ftp: 161.00943378754025\n",
      "t0: 3758 \n",
      "E_ftp: 160.19741036274468\n",
      "t0: 3730 \n",
      "E_ftp: 158.4636781719449\n"
     ]
    }
   ],
   "source": [
    "traps_0 = []\n",
    "Etraps = []\n",
    "tp_0 = []\n",
    "E_ftp = []\n",
    "wfs_blsub = []\n",
    "for n in range(len(wf_arr)):\n",
    "    Etrap= trap_norm(wf_arr[n], 100, 400)\n",
    "    \n",
    "    trap_0 = asymTrapFilter(wf_arr[n], 100, 1, 400)\n",
    "    max_trap_0 = np.argmax(trap_0)\n",
    "    t0 = time_point_thresh_max(trap_0, 0.00, max_trap_0, max_trap_0 - 200)\n",
    "    \n",
    "    Eftp = Etrap[t0 + 400]\n",
    "    \n",
    "    traps_0.append(trap_0)\n",
    "    Etraps.append(Etrap)\n",
    "    tp_0.append(t0)\n",
    "    E_ftp.append(Eftp)\n",
    "    print(f't0: {t0} \\nE_ftp: {Eftp}')\n",
    "    "
   ]
  },
  {
   "cell_type": "code",
   "execution_count": 53,
   "id": "d9f21d5f-48c6-4a6b-a48d-49e3e05bc840",
   "metadata": {},
   "outputs": [
    {
     "data": {
      "text/plain": [
       "(3700.0, 3850.0)"
      ]
     },
     "execution_count": 53,
     "metadata": {},
     "output_type": "execute_result"
    },
    {
     "data": {
      "image/png": "[encoded data removed]",
      "text/plain": [
       "<Figure size 1008x720 with 1 Axes>"
      ]
     },
     "metadata": {
      "needs_background": "light"
     },
     "output_type": "display_data"
    }
   ],
   "source": [
    "# plt.plot(wfs_blsub[1][:-1], c = 'b')\n",
    "plt.plot(wf_arr[3][:-1], c = 'b')\n",
    "plt.plot(Etraps[3][:-1], c = 'g')\n",
    "plt.plot(traps_0[3][:-1], c = 'r')\n",
    "plt.axvline(tp_0[3], c='r')\n",
    "plt.axvline(tp_0[3]+400, c='g')\n",
    "plt.axhline(0., c='r')\n",
    "\n",
    "# plt.ylim(-1., 2)\n",
    "plt.xlim(3700, 3850)\n",
    "# plt.xlim(3950, 3970)\n",
    "# plt.ylim(150, 170)"
   ]
  },
  {
   "cell_type": "code",
   "execution_count": 284,
   "id": "e03ec698-6d46-4f00-bb2b-cbd4ed1fc290",
   "metadata": {},
   "outputs": [],
   "source": [
    "wf_norm_arr = np.zeros((len(wf_arr), len(wf_arr[0])))\n",
    "\n",
    "for n in range(len(wf_arr)):\n",
    "    wf_norm_arr[n] = np.divide(wf_arr[n], E_ftp[n])"
   ]
  },
  {
   "cell_type": "code",
   "execution_count": 297,
   "id": "3f71e355-80d4-483f-b7bb-3127967c2ac1",
   "metadata": {},
   "outputs": [
    {
     "data": {
      "text/plain": [
       "(0.9, 1.01)"
      ]
     },
     "execution_count": 297,
     "metadata": {},
     "output_type": "execute_result"
    },
    {
     "data": {
      "image/png": "[encoded data removed]",
      "text/plain": [
       "<Figure size 1008x720 with 1 Axes>"
      ]
     },
     "metadata": {
      "needs_background": "light"
     },
     "output_type": "display_data"
    }
   ],
   "source": [
    "# plt.plot(wfs_blsub[1][:-1], c = 'b')\n",
    "\n",
    "for n in range(len(wf_norm_arr)):\n",
    "    \n",
    "    plt.plot(wf_norm_arr[n][:-1])\n",
    "plt.axhline(1., c='r')\n",
    "\n",
    "\n",
    "# plt.ylim(-0.5, 25)\n",
    "# plt.xlim(3930, 4000)\n",
    "plt.xlim(3930, 3960)\n",
    "# plt.ylim(150, 170)\n",
    "plt.ylim(0.9, 1.01)"
   ]
  },
  {
   "cell_type": "code",
   "execution_count": null,
   "id": "48e9cf67-2982-4130-915a-f829deeb03b8",
   "metadata": {},
   "outputs": [],
   "source": [
    "wf_pz_corr_arr = np.array(data_superpulse['pure_60'])\n",
    "\n",
    "# wf_pz_corr_arr = []\n",
    "# for wf in data_superpulse['pure_60']:\n",
    "#     wf_pz_corr_arr.append(wf)\n",
    "    \n",
    "wf_pz_arr_raw = cage_utils.double_pole_zero(wf_pz_corr_arr, 21250, 433, 0.045)\n",
    "\n",
    "wf_pz_arr = np.array(wf_pz_arr_raw)*(1/(1 - 0.045))\n",
    "\n",
    "bkg_wf_pz_raw = cage_utils.double_pole_zero([data_superpulse['bkg'][0]], 21250, 433, 0.045)[0]\n",
    "\n",
    "print(len(bkg_wf_pz_raw ))\n",
    "bkg_wf_pz = np.array(bkg_wf_pz_raw)*(1/(1-0.045))"
   ]
  },
  {
   "cell_type": "code",
   "execution_count": null,
   "id": "4739921b-6265-4e1c-a505-366b41eb4bff",
   "metadata": {},
   "outputs": [],
   "source": [
    "bkg_wf = data_superpulse['bkg_pz'][0]\n",
    "# bkg_wf_norm = np.divide(bkg_wf, np.amax(bkg_wf))\n",
    "# bkg_notched = cage_utils.notchFilter_SIS3302(bkg_wf, Q=20)"
   ]
  },
  {
   "cell_type": "code",
   "execution_count": null,
   "id": "62b80265-1425-461a-9fc3-ece3a5d9f9a4",
   "metadata": {},
   "outputs": [],
   "source": [
    "rad_arr = np.array(data_superpulse['radius'])\n",
    "times = np.array(data_superpulse['samples'][0])\n",
    "# print(len(times))"
   ]
  },
  {
   "cell_type": "code",
   "execution_count": null,
   "id": "5bfc1850-806a-4b9d-8813-24512ca56ea8",
   "metadata": {},
   "outputs": [],
   "source": [
    "fig, ax = plt.subplots(figsize=(14, 10))\n",
    "ax = plt.axes()\n",
    "\n",
    "# set up colorbar to plot waveforms of different energies different colors\n",
    "colors = plt.cm.plasma(np.linspace(0, 1, len(wf_arr)+1))\n",
    "c = np.arange(0, len(wf_arr)+1)\n",
    "# norm = mpl.colors.Normalize(vmin=c.min(), vmax=c.max())\n",
    "norm = mpl.colors.Normalize(vmin=c.min(), vmax=c.max())\n",
    "cmap = mpl.cm.ScalarMappable(norm=norm, cmap=mpl.cm.tab10)\n",
    "cmap.set_array([])\n",
    "\n",
    "# cmap = mpl.cm.viridis\n",
    "# bounds = rad_arr\n",
    "# norm = mpl.colors.BoundaryNorm(bounds, cmap.N)\n",
    "\n",
    "for n in range(len(wf_arr)):\n",
    "    ax.plot(times[:-100], wf_arr[n][:-100], c=cmap.to_rgba(n), label = f'{rad_arr[n]} mm')\n",
    "\n",
    "ax.plot(times[:-100], bkg_wf[:-100], c=cmap.to_rgba(5), label = f'Bkg')\n",
    "cb = fig.colorbar(cmap, spacing='proportional', ticks=range(len(rad_arr)+1), boundaries=np.arange(-0.5, len(rad_arr)+1.5))\n",
    "\n",
    "# cb = fig.colorbar(mpl.cm.ScalarMappable(norm=norm, cmap=cmap),\n",
    "#              cax=ax,ticks=rad_arr, spacing='proportional' )\n",
    "labels = np.append(rad_arr, 'Background')\n",
    "cb.ax.set_yticklabels(labels)\n",
    "cb.set_label(\"Radius (mm)\", ha = 'right', va='center', rotation=270, fontsize=20)\n",
    "cb.ax.tick_params(labelsize=18)\n",
    "# cb.ax.set_ylim(-0.5, len(rad_arr) - 0.5)\n",
    "\n",
    "# ax.text(0.95, 0.83, f'{wf_cut}', verticalalignment='top',\n",
    "#                         horizontalalignment='right', transform=ax.transAxes, color='green', fontsize=14,\n",
    "#                         bbox={'facecolor': 'white', 'alpha': 0.5, 'pad': 10})\n",
    "\n",
    "plt.title(f'60 keV superpulses (PZ-corrected) \\nnormal incidence', fontsize=16)\n",
    "\n",
    "\n",
    "\n",
    "plt.setp(ax.get_xticklabels(), fontsize=16)\n",
    "plt.setp(ax.get_yticklabels(), fontsize=16)\n",
    "plt.xlabel('clock cycles', fontsize=20)\n",
    "plt.ylabel('normalized ADU', fontsize = 20)\n",
    "\n",
    "# plt.axhline(y=1, c = 'r')\n",
    "\n",
    "# plt.xlim(0, 4300)\n",
    "# plt.ylim(-0.025, 0.1)\n",
    "\n",
    "# plt.xlim(3900, 4100)\n",
    "# plt.ylim(-0.015, 0.2)\n",
    "\n",
    "# plt.xlim(3700, 3710)\n",
    "# plt.ylim(-0.025, 0.1)\n",
    "\n",
    "\n",
    "plt.xlim(3800, 8000)\n",
    "# plt.ylim(0.75, 1.005)\n",
    "plt.ylim(0.75, 1.01)\n",
    "\n",
    "# plt.xlim(3800, 4300)\n",
    "# plt.ylim(0.95, 1.01)\n",
    "\n",
    "# plt.xlim(3900, 3980)\n",
    "# plt.ylim(-0.015, 0.5)\n",
    "\n",
    "# plt.xlim(4500, 6000)\n",
    "# plt.ylim(0.85, 0.95)\n",
    "# plt.xlim(8000, 8190)\n",
    "\n",
    "\n",
    "\n",
    "# plt.legend()\n",
    "\n",
    "plt.show()\n"
   ]
  },
  {
   "cell_type": "code",
   "execution_count": null,
   "id": "6e2cdc8a-4680-43d5-9f4a-15399a2104bf",
   "metadata": {},
   "outputs": [],
   "source": [
    "fig, ax = plt.subplots(figsize=(14, 10))\n",
    "ax = plt.axes()\n",
    "\n",
    "# set up colorbar to plot waveforms of different radii\n",
    "c = np.arange(0, len(wf_arr)+1)\n",
    "norm = mpl.colors.Normalize(vmin=c.min(), vmax=c.max())\n",
    "cmap = mpl.cm.ScalarMappable(norm=norm, cmap=mpl.cm.tab10)\n",
    "cmap.set_array([])\n",
    "\n",
    "for n in range(len(wf_arr)):\n",
    "    ax.plot(times[:-100], wf_arr[n][:-100], c=cmap.to_rgba(n), label = f'{rad_arr[n]} mm')\n",
    "\n",
    "ax.plot(times[:-100], bkg_wf[:-100], c=cmap.to_rgba(5), label = f'Bkg')\n",
    "cb = fig.colorbar(cmap, spacing='proportional', ticks=range(len(rad_arr)+1), boundaries=np.arange(-0.5, len(rad_arr)+1.5))\n",
    "\n",
    "labels = np.append(rad_arr, 'Background')\n",
    "cb.ax.set_yticklabels(labels)\n",
    "cb.set_label(\"Radius (mm)\", ha = 'right', va='center', rotation=270, fontsize=20)\n",
    "cb.ax.tick_params(labelsize=18)\n",
    "\n",
    "plt.title(f'60 keV superpulses (PZ-corrected) \\nnormal incidence', fontsize=20)\n",
    "\n",
    "plt.setp(ax.get_xticklabels(), fontsize=16)\n",
    "plt.setp(ax.get_yticklabels(), fontsize=16)\n",
    "plt.xlabel('clock cycles', fontsize=20)\n",
    "plt.ylabel('normalized ADU', fontsize=20)\n",
    "\n",
    "\n",
    "# ____________________________________________\n",
    "# inset for risetime of WF\n",
    "axins = ax.inset_axes([200, 0.4, 3500,  0.6], transform=ax.transData) # [x_start, y_start, x_length, y_length]\n",
    "\n",
    "\n",
    "# sub region of the original image\n",
    "x1, x2, y1, y2 = 3920, 3980, -0.015, 0.5\n",
    "axins.set_xlim(x1, x2)\n",
    "axins.set_ylim(y1, y2)\n",
    "\n",
    "for n in range(len(wf_arr)):\n",
    "    axins.plot(times[:-100], wf_arr[n][:-100], c=cmap.to_rgba(n), label = f'{rad_arr[n]} mm')\n",
    "axins.plot(times[:-100], bkg_wf[:-100], c=cmap.to_rgba(5), label = f'Bkg')\n",
    "\n",
    "ax.indicate_inset_zoom(axins, edgecolor=\"black\")\n",
    "\n",
    "# ____________________________________________\n",
    "# inset for top of WF\n",
    "axins2 = ax.inset_axes([5000, 0.1, 3000,  0.6], transform=ax.transData) # [x_start, y_start, x_length, y_length]\n",
    "\n",
    "\n",
    "# sub region of the original image\n",
    "x11, x22, y11, y22 = 3950, 4500, 0.9, 1.005\n",
    "axins2.set_xlim(x11, x22)\n",
    "axins2.set_ylim(y11, y22)\n",
    "\n",
    "for n in range(len(wf_arr)):\n",
    "    axins2.plot(times[:-100], wf_arr[n][:-100], c=cmap.to_rgba(n), label = f'{rad_arr[n]} mm')\n",
    "axins2.plot(times[:-100], bkg_wf[:-100], c=cmap.to_rgba(5), label = f'Bkg')\n",
    "\n",
    "ax.indicate_inset_zoom(axins2, edgecolor=\"black\")\n",
    "plt.show()"
   ]
  },
  {
   "cell_type": "code",
   "execution_count": null,
   "id": "fbea548a-45cb-4136-b5ca-97cd96c228d8",
   "metadata": {},
   "outputs": [],
   "source": [
    "fig, ax = plt.subplots(figsize=(14, 10))\n",
    "ax = plt.axes()\n",
    "\n",
    "# set up colorbar to plot waveforms of different energies different colors\n",
    "colors = plt.cm.plasma(np.linspace(0, 1, len(wf_arr)+1))\n",
    "c = np.arange(0, len(wf_arr)+1)\n",
    "# norm = mpl.colors.Normalize(vmin=c.min(), vmax=c.max())\n",
    "norm = mpl.colors.Normalize(vmin=c.min(), vmax=c.max())\n",
    "cmap = mpl.cm.ScalarMappable(norm=norm, cmap=mpl.cm.tab10)\n",
    "cmap.set_array([])\n",
    "\n",
    "# cmap = mpl.cm.viridis\n",
    "# bounds = rad_arr\n",
    "# norm = mpl.colors.BoundaryNorm(bounds, cmap.N)\n",
    "\n",
    "for n in range(len(wf_arr)):\n",
    "    plt.plot(times[:-100], wf_arr[n][:-100], c=cmap.to_rgba(n), label = f'{rad_arr[n]} mm')\n",
    "\n",
    "plt.plot(times[:-100], bkg_wf[:-100], c=cmap.to_rgba(5), label = f'Bkg')\n",
    "cb = fig.colorbar(cmap, spacing='proportional', ticks=range(len(rad_arr)+1), boundaries=np.arange(-0.5, len(rad_arr)+1.5))\n",
    "\n",
    "# cb = fig.colorbar(mpl.cm.ScalarMappable(norm=norm, cmap=cmap),\n",
    "#              cax=ax,ticks=rad_arr, spacing='proportional' )\n",
    "labels = np.append(rad_arr, 'Background')\n",
    "cb.ax.set_yticklabels(labels)\n",
    "cb.set_label(\"Radius (mm)\", ha = 'right', va='center', rotation=270, fontsize=20)\n",
    "cb.ax.tick_params(labelsize=18)\n",
    "# cb.ax.set_ylim(-0.5, len(rad_arr) - 0.5)\n",
    "\n",
    "# ax.text(0.95, 0.83, f'{wf_cut}', verticalalignment='top',\n",
    "#                         horizontalalignment='right', transform=ax.transAxes, color='green', fontsize=14,\n",
    "#                         bbox={'facecolor': 'white', 'alpha': 0.5, 'pad': 10})\n",
    "\n",
    "plt.title(f'60 keV superpulses \\nPZ before norm', fontsize=16)\n",
    "\n",
    "\n",
    "\n",
    "plt.setp(ax.get_xticklabels(), fontsize=16)\n",
    "plt.setp(ax.get_yticklabels(), fontsize=16)\n",
    "plt.xlabel('clock cycles', fontsize=20)\n",
    "\n",
    "plt.axhline(y=1, c = 'r')\n",
    "\n",
    "# plt.xlim(0, 4300)\n",
    "# plt.ylim(-0.025, 0.1)\n",
    "\n",
    "# plt.xlim(3900, 4000)\n",
    "# plt.ylim(-0.015, 0.2)\n",
    "\n",
    "# plt.xlim(3700, 3710)\n",
    "# plt.ylim(-0.025, 0.1)\n",
    "\n",
    "\n",
    "plt.xlim(3800, 8000)\n",
    "# plt.ylim(0.75, 1.005)\n",
    "plt.ylim(0.95, 1.01)\n",
    "\n",
    "# plt.xlim(3800, 4300)\n",
    "# plt.ylim(0.95, 1)\n",
    "\n",
    "# plt.xlim(3900, 4025)\n",
    "# plt.ylim(-0.015, 0.3)\n",
    "\n",
    "# plt.xlim(4500, 6000)\n",
    "# plt.ylim(0.85, 0.95)\n",
    "# plt.xlim(8000, 8190)\n",
    "\n",
    "\n",
    "plt.legend()\n",
    "\n",
    "\n"
   ]
  },
  {
   "cell_type": "code",
   "execution_count": null,
   "id": "e76acbe4-582a-4c10-8da0-96b1cb4efeba",
   "metadata": {},
   "outputs": [],
   "source": [
    "fig, ax = plt.subplots(figsize=(14, 10))\n",
    "ax = plt.axes()\n",
    "\n",
    "# set up colorbar to plot waveforms of different energies different colors\n",
    "colors = plt.cm.plasma(np.linspace(0, 1, len(wf_pz_arr)+1))\n",
    "c = np.arange(0, len(wf_pz_arr)+1)\n",
    "# norm = mpl.colors.Normalize(vmin=c.min(), vmax=c.max())\n",
    "norm = mpl.colors.Normalize(vmin=c.min(), vmax=c.max())\n",
    "cmap = mpl.cm.ScalarMappable(norm=norm, cmap=mpl.cm.tab10)\n",
    "cmap.set_array([])\n",
    "\n",
    "# cmap = mpl.cm.viridis\n",
    "# bounds = rad_arr\n",
    "# norm = mpl.colors.BoundaryNorm(bounds, cmap.N)\n",
    "\n",
    "for n in range(len(wf_pz_arr)):\n",
    "    plt.plot(times[:-100], wf_pz_arr[n][:-100], c=cmap.to_rgba(n), label = f'{rad_arr[n]} mm')\n",
    "\n",
    "plt.plot(times[:-100], bkg_wf_pz[:-100], c=cmap.to_rgba(5), label = f'Bkg')\n",
    "cb = fig.colorbar(cmap, spacing='proportional', ticks=range(len(rad_arr)+1), boundaries=np.arange(-0.5, len(rad_arr)+1.5))\n",
    "\n",
    "# cb = fig.colorbar(mpl.cm.ScalarMappable(norm=norm, cmap=cmap),\n",
    "#              cax=ax,ticks=rad_arr, spacing='proportional' )\n",
    "labels = np.append(rad_arr, 'Background')\n",
    "cb.ax.set_yticklabels(labels)\n",
    "cb.set_label(\"Radius (mm)\", ha = 'right', va='center', rotation=270, fontsize=20)\n",
    "cb.ax.tick_params(labelsize=18)\n",
    "# cb.ax.set_ylim(-0.5, len(rad_arr) - 0.5)\n",
    "\n",
    "# ax.text(0.95, 0.83, f'{wf_cut}', verticalalignment='top',\n",
    "#                         horizontalalignment='right', transform=ax.transAxes, color='green', fontsize=14,\n",
    "#                         bbox={'facecolor': 'white', 'alpha': 0.5, 'pad': 10})\n",
    "\n",
    "plt.title(f'60 keV superpulses \\nPZ-after norm, corr by *1/(1-frac)', fontsize=16)\n",
    "\n",
    "\n",
    "\n",
    "plt.setp(ax.get_xticklabels(), fontsize=16)\n",
    "plt.setp(ax.get_yticklabels(), fontsize=16)\n",
    "plt.xlabel('clock cycles', fontsize=20)\n",
    "\n",
    "plt.axhline(y=1, c = 'r')\n",
    "\n",
    "\n",
    "# plt.xlim(0, 4300)\n",
    "# plt.ylim(-0.025, 0.1)\n",
    "\n",
    "# plt.xlim(3900, 4000)\n",
    "# plt.ylim(-0.015, 0.2)\n",
    "\n",
    "# plt.xlim(3700, 3710)\n",
    "# plt.ylim(-0.025, 0.1)\n",
    "\n",
    "\n",
    "# plt.xlim(3800, 8000)\n",
    "# plt.ylim(0.75, 1)\n",
    "\n",
    "plt.xlim(3800, 8000)\n",
    "# plt.ylim(0.75, 1.005)\n",
    "plt.ylim(0.95, 1.015)\n",
    "\n",
    "# plt.xlim(3800, 4300)\n",
    "# plt.ylim(0.95, 1)\n",
    "\n",
    "# plt.xlim(3900, 4025)\n",
    "# plt.ylim(-0.015, 0.3)\n",
    "\n",
    "# plt.xlim(4500, 6000)\n",
    "# plt.ylim(0.85, 0.95)\n",
    "# plt.xlim(8000, 8190)\n",
    "\n",
    "\n",
    "plt.legend()\n"
   ]
  },
  {
   "cell_type": "code",
   "execution_count": null,
   "id": "1c82ba34-d17f-4130-941a-f2611744d6f1",
   "metadata": {},
   "outputs": [],
   "source": [
    "sub = wf_arr - wf_pz_arr\n",
    "print(sub)\n",
    "\n",
    "bkg_sub = bkg_wf - bkg_wf_pz"
   ]
  },
  {
   "cell_type": "code",
   "execution_count": null,
   "id": "199eefb1-405e-4d9f-8ea1-f720a5cdc461",
   "metadata": {},
   "outputs": [],
   "source": [
    "fig, ax = plt.subplots(figsize=(14, 10))\n",
    "ax = plt.axes()\n",
    "\n",
    "# set up colorbar to plot waveforms of different energies different colors\n",
    "colors = plt.cm.plasma(np.linspace(0, 1, len(sub)+1))\n",
    "c = np.arange(0, len(sub)+1)\n",
    "# norm = mpl.colors.Normalize(vmin=c.min(), vmax=c.max())\n",
    "norm = mpl.colors.Normalize(vmin=c.min(), vmax=c.max())\n",
    "cmap = mpl.cm.ScalarMappable(norm=norm, cmap=mpl.cm.tab10)\n",
    "cmap.set_array([])\n",
    "\n",
    "# cmap = mpl.cm.viridis\n",
    "# bounds = rad_arr\n",
    "# norm = mpl.colors.BoundaryNorm(bounds, cmap.N)\n",
    "\n",
    "for n in range(len(sub)):\n",
    "    plt.plot(times[:-100], sub[n][:-100], c=cmap.to_rgba(n), label = f'{rad_arr[n]} mm')\n",
    "\n",
    "plt.plot(times[:-100], bkg_sub[:-100], c=cmap.to_rgba(5), label = f'Bkg')\n",
    "cb = fig.colorbar(cmap, spacing='proportional', ticks=range(len(rad_arr)+1), boundaries=np.arange(-0.5, len(rad_arr)+1.5))\n",
    "\n",
    "# cb = fig.colorbar(mpl.cm.ScalarMappable(norm=norm, cmap=cmap),\n",
    "#              cax=ax,ticks=rad_arr, spacing='proportional' )\n",
    "labels = np.append(rad_arr, 'Background')\n",
    "cb.ax.set_yticklabels(labels)\n",
    "cb.set_label(\"Radius (mm)\", ha = 'right', va='center', rotation=270, fontsize=20)\n",
    "cb.ax.tick_params(labelsize=18)\n",
    "# cb.ax.set_ylim(-0.5, len(rad_arr) - 0.5)\n",
    "\n",
    "# ax.text(0.95, 0.83, f'{wf_cut}', verticalalignment='top',\n",
    "#                         horizontalalignment='right', transform=ax.transAxes, color='green', fontsize=14,\n",
    "#                         bbox={'facecolor': 'white', 'alpha': 0.5, 'pad': 10})\n",
    "\n",
    "plt.title(f'difference', fontsize=16)\n",
    "\n",
    "\n",
    "\n",
    "plt.setp(ax.get_xticklabels(), fontsize=16)\n",
    "plt.setp(ax.get_yticklabels(), fontsize=16)\n",
    "plt.xlabel('clock cycles', fontsize=20)\n",
    "\n",
    "# plt.xlim(0, 4300)\n",
    "# plt.ylim(-0.025, 0.1)\n",
    "\n",
    "# plt.xlim(3900, 4000)\n",
    "# plt.ylim(-0.015, 0.2)\n",
    "\n",
    "# plt.xlim(3700, 3710)\n",
    "# plt.ylim(-0.025, 0.1)\n",
    "\n",
    "\n",
    "# plt.xlim(3800, 8000)\n",
    "# plt.ylim(0.75, 1)\n",
    "\n",
    "# plt.xlim(3800, 4300)\n",
    "# plt.ylim(0.95, 1)\n",
    "\n",
    "# plt.xlim(3900, 4025)\n",
    "# plt.ylim(-0.015, 0.3)\n",
    "\n",
    "# plt.xlim(4500, 6000)\n",
    "# plt.ylim(0.85, 0.95)\n",
    "# plt.xlim(8000, 8190)\n",
    "\n",
    "\n",
    "plt.legend()"
   ]
  },
  {
   "cell_type": "code",
   "execution_count": null,
   "id": "e3a77aac-1ec1-419d-949c-88466fb940f8",
   "metadata": {},
   "outputs": [],
   "source": [
    "arg_maxes = np.array(data_superpulse['argmax_pure_60'])\n",
    "print(arg_maxes)"
   ]
  },
  {
   "cell_type": "code",
   "execution_count": null,
   "id": "6ab0fbcd-e508-43bb-b089-50e909742254",
   "metadata": {},
   "outputs": [],
   "source": [
    "run_list = [60, 50, 45, 10]\n",
    "tp_list = ['hi', 'bye', 'three']\n",
    "\n",
    "for tp, n in zip(tp_list, range(len(tp_list))):\n",
    "    print(tp, n)"
   ]
  },
  {
   "cell_type": "code",
   "execution_count": null,
   "id": "1c69416b-90c9-4540-bba5-6a1cf744e153",
   "metadata": {},
   "outputs": [],
   "source": [
    "print(tp_0)"
   ]
  },
  {
   "cell_type": "code",
   "execution_count": null,
   "id": "c9ef032b-765d-4025-bdda-9b555e6a951b",
   "metadata": {},
   "outputs": [],
   "source": [
    "test = np.zeros(shape = (5, 10))\n",
    "print(test)\n",
    "test2 = np.zeros(10)\n",
    "print(test2)"
   ]
  },
  {
   "cell_type": "code",
   "execution_count": null,
   "id": "656b67e6-0943-4105-8b02-0f795bb88b66",
   "metadata": {},
   "outputs": [],
   "source": [
    "tp_0max = np.array(tp_max) - np.array(tp_0)\n",
    "plt.plot(tp_0max[:-1], '.b')"
   ]
  },
  {
   "cell_type": "code",
   "execution_count": null,
   "id": "3fc870ae-c286-4351-890c-61fb05abf5e5",
   "metadata": {},
   "outputs": [],
   "source": [
    "def trap_norm(wf_in, rise, flat):\n",
    "    \"\"\"\n",
    "    Symmetric trapezoidal filter normalized by integration time\n",
    "    \"\"\"\n",
    "    wf_out = np.zeros(len(wf_in))\n",
    "    wf_out[0] = wf_in[0]/float(rise)\n",
    "    for i in range(1, rise):\n",
    "        wf_out[i] = wf_out[i-1] + wf_in[i]/float(rise)\n",
    "    for i in range(rise, rise+flat):\n",
    "        wf_out[i] = wf_out[i-1] + (wf_in[i] - wf_in[i-rise])/float(rise)\n",
    "    for i in range(rise+flat, 2*rise+flat):\n",
    "        wf_out[i] = wf_out[i-1] + (wf_in[i] - wf_in[i-rise] - wf_in[i-rise-flat])/float(rise)\n",
    "    for i in range(2*rise+flat, len(wf_in)):\n",
    "        wf_out[i] = wf_out[i-1] + (wf_in[i] - wf_in[i-rise] - wf_in[i-rise-flat] + wf_in[i-2*rise-flat])/float(rise)\n",
    "        \n",
    "    return wf_out"
   ]
  },
  {
   "cell_type": "code",
   "execution_count": null,
   "id": "7c067ad9-2588-43e5-ab1b-fee76a153a64",
   "metadata": {},
   "outputs": [],
   "source": [
    "rt_0590 = []\n",
    "rt_0550 = []\n",
    "rt_1090 = []\n",
    "rt_1050 = []\n",
    "rt_5090 = []\n",
    "\n",
    "for n in range(len(wf_arr)):\n",
    "    t_05 = time_point_frac(wf_arr[n], 0.05, arg_maxes[n])\n",
    "    t_10 = time_point_frac(wf_arr[n], 0.1, arg_maxes[n])\n",
    "    t_90 = time_point_frac(wf_arr[n], 0.9, arg_maxes[n])\n",
    "    t_50 = time_point_frac(wf_arr[n], 0.5, arg_maxes[n])\n",
    "    rt_0590.append(t_90-t_05)\n",
    "    rt_0550.append(t_50-t_05)\n",
    "    rt_1090.append(t_90-t_10)\n",
    "    rt_1050.append(t_50-t_10)\n",
    "    rt_5090.append(t_90-t_50)"
   ]
  },
  {
   "cell_type": "code",
   "execution_count": null,
   "id": "f7bf1cc1-5490-403e-8eb9-7f79580959a7",
   "metadata": {},
   "outputs": [],
   "source": [
    "\n",
    "plt.plot(rad_arr, rt_0590, 'or')\n",
    "plt.plot(rad_arr, rt_1090, 'Xb')\n",
    "plt.plot(rad_arr, rt_1050, 'Pg')\n",
    "plt.plot(rad_arr, rt_5090, 'Xc')\n",
    "plt.plot(rad_arr, rt_0550, '^m')"
   ]
  },
  {
   "cell_type": "code",
   "execution_count": null,
   "id": "e4ea997e-8c9e-4cdd-84f6-ba73785d0ef2",
   "metadata": {},
   "outputs": [],
   "source": []
  },
  {
   "cell_type": "code",
   "execution_count": null,
   "id": "c7922af1-76c8-4b3d-a21c-814f7cbc5039",
   "metadata": {},
   "outputs": [],
   "source": [
    "trap_rt_0590 = []\n",
    "trap_rt_0550 = []\n",
    "trap_rt_1090 = []\n",
    "trap_rt_1050 = []\n",
    "trap_rt_5090 = []\n",
    "trap_rt_1025 = []\n",
    "trap_rt_0525 = []\n",
    "\n",
    "for n in range(len(wf_arr)):\n",
    "    t_05 = time_point_frac(wf_arr[n], 0.05, tp_max[n])\n",
    "    t_10 = time_point_frac(wf_arr[n], 0.1, tp_max[n])\n",
    "    t_25 = time_point_frac(wf_arr[n], 0.25, tp_max[n])\n",
    "    t_90 = time_point_frac(wf_arr[n], 0.9, tp_max[n])\n",
    "    t_50 = time_point_frac(wf_arr[n], 0.5, tp_max[n])\n",
    "    trap_rt_0590.append(t_90-t_05)\n",
    "    trap_rt_1090.append(t_90-t_10)\n",
    "    trap_rt_0550.append(t_50-t_05)\n",
    "    trap_rt_1050.append(t_50-t_10)\n",
    "    trap_rt_5090.append(t_90-t_50)\n",
    "    trap_rt_1025.append(t_25 - t_10)\n",
    "    trap_rt_0525.append(t_25 - t_05)"
   ]
  },
  {
   "cell_type": "code",
   "execution_count": null,
   "id": "13100410-824f-4e42-aed4-75480d4c5b10",
   "metadata": {},
   "outputs": [],
   "source": [
    "plt.plot(rad_arr, trap_rt_0590, 'or', label = '05 - 90')\n",
    "plt.plot(rad_arr, trap_rt_1090, 'Xb', label = '10 - 90')\n",
    "plt.plot(rad_arr, trap_rt_1050, 'Pg', label = '10 - 50')\n",
    "plt.plot(rad_arr, trap_rt_5090, 'vc', label = '50 - 90')\n",
    "plt.plot(rad_arr, trap_rt_0550, '^m', label = '05 - 50')\n",
    "plt.plot(rad_arr, trap_rt_0525, '^r', label = '05 - 25')\n",
    "plt.plot(rad_arr, trap_rt_1025, 'om', label = '10 - 25')\n",
    "plt.legend()"
   ]
  },
  {
   "cell_type": "code",
   "execution_count": null,
   "id": "4b5e4c33-ff6d-455e-b9ba-9f19d9978606",
   "metadata": {},
   "outputs": [],
   "source": [
    "diff_trap_rt_0590 = np.abs(np.diff(trap_rt_0590))\n",
    "diff_trap_rt_0550 = np.abs(np.diff(trap_rt_0550))\n",
    "diff_trap_rt_1090 = np.abs(np.diff(trap_rt_1090))\n",
    "diff_trap_rt_1050 = np.abs(np.diff(trap_rt_1050))\n",
    "diff_trap_rt_5090 = np.abs(np.diff(trap_rt_5090))"
   ]
  },
  {
   "cell_type": "code",
   "execution_count": null,
   "id": "2fa3ee7e-7667-43a4-ada5-30e23b0db7dd",
   "metadata": {},
   "outputs": [],
   "source": [
    "plt.plot(diff_trap_rt_0590, 'or')\n",
    "plt.plot(diff_trap_rt_1090, 'Xb')\n",
    "plt.plot(diff_trap_rt_1050, 'Pg')\n",
    "plt.plot(diff_trap_rt_5090, 'vc')\n",
    "plt.plot(diff_trap_rt_0550, '^m')"
   ]
  },
  {
   "cell_type": "code",
   "execution_count": null,
   "id": "2a7692c9-d2e9-4008-93ad-7ebd8008fb3d",
   "metadata": {},
   "outputs": [],
   "source": [
    "filt = np.linspace(0.0015, 0.010, 20)\n",
    "t0_arr = []\n",
    "for n in range(len(wf_arr)):\n",
    "    tp_0_opt = []\n",
    "    for m in filt:\n",
    "        trap_0 = asymTrapFilter(wf_arr[n], 2, 100, 400)\n",
    "        t0 = time_point_thresh(trap_0, m, max_trap_0)\n",
    "        tp_0_opt.append(t0)\n",
    "        # print(f'{m}: t0 = {t0}')\n",
    "    t0_arr.append(tp_0_opt)"
   ]
  },
  {
   "cell_type": "code",
   "execution_count": null,
   "id": "fc1265e1-b276-4760-b5e1-d067f47dbda4",
   "metadata": {},
   "outputs": [],
   "source": [
    "print(t0_arr)"
   ]
  },
  {
   "cell_type": "code",
   "execution_count": null,
   "id": "f024e08e-846b-4f85-9605-97057618d6ee",
   "metadata": {},
   "outputs": [],
   "source": [
    "for n in range(len(wf_arr)):\n",
    "    plt.plot(filt, t0_arr[n], 'o', label = f'{rad_arr[n]} mm',)\n",
    "    \n",
    "plt.ylim(3940, 3960)\n",
    "plt.legend()"
   ]
  },
  {
   "cell_type": "code",
   "execution_count": null,
   "id": "af7ce738-b557-4337-8f38-20d6f5948a5f",
   "metadata": {},
   "outputs": [],
   "source": [
    "print(traps_max)"
   ]
  },
  {
   "cell_type": "code",
   "execution_count": null,
   "id": "5f06a23d-0f27-4063-af5c-348d557dc4ec",
   "metadata": {},
   "outputs": [],
   "source": [
    "tp_0_new = []\n",
    "rt_0_100 = []\n",
    "traps_0 = []\n",
    "for n in range(len(wf_arr)):\n",
    "    trap_0 = asymTrapFilter(wf_arr[n],  2, 100, 400)\n",
    "    max_trap_0 = np.argmax(trap_0)\n",
    "    t0 = time_point_thresh(trap_0, 0.003, max_trap_0)\n",
    "    tp_0_new.append(t0)\n",
    "    traps_0.append(trap_0)\n",
    "    rt = (tp_max[n] - t0)*10\n",
    "    rt_0_100.append(rt)\n",
    "    print(rt)\n",
    "#     print(f't0: {t0}n')\n",
    "    "
   ]
  },
  {
   "cell_type": "code",
   "execution_count": null,
   "id": "f6bb24cd-6239-42b0-9a31-dd19ccb46b2c",
   "metadata": {},
   "outputs": [],
   "source": [
    "print(rad_arr)"
   ]
  },
  {
   "cell_type": "code",
   "execution_count": null,
   "id": "defeed91-5e1a-4345-8dc4-bc2f0b2528ec",
   "metadata": {},
   "outputs": [],
   "source": [
    "plt.plot(rad_arr, rt_0_100, 'o')\n",
    "# plt.yim"
   ]
  },
  {
   "cell_type": "code",
   "execution_count": null,
   "id": "88111fe2-a0c3-4526-9a1f-10313126853e",
   "metadata": {},
   "outputs": [],
   "source": [
    "plt.plot(wf_arr[2])\n",
    "# plt.plot(traps_max[2], '-r')\n",
    "# plt.axvline(tp_max[2], c = 'r')\n",
    "# plt.axvline(maxes[1], c = 'c')\n",
    "plt.plot(traps_0[2], '-c')\n",
    "plt.axvline(tp_0_new[2], c = 'c')\n",
    "\n",
    "plt.xlim(3900, 4200)\n",
    "# plt.ylim(-0.005, 0.025)"
   ]
  },
  {
   "cell_type": "code",
   "execution_count": null,
   "id": "167fa15f-c927-4e07-b063-cdb1553a5f04",
   "metadata": {},
   "outputs": [],
   "source": [
    "trap_super60 = asymTrapFilter(superpulse_60, 2, 100, 400)\n",
    "max_trap_60 = np.argmax(trap_super60)\n",
    "tp_0_60 = time_point_thresh(trap_super60, 0.002, max_trap_60)\n",
    "print(tp_0_60)\n",
    "# print(trap_super60[3955])"
   ]
  },
  {
   "cell_type": "code",
   "execution_count": null,
   "id": "cd7b2620-7312-4823-948f-f6d1b7832849",
   "metadata": {},
   "outputs": [],
   "source": [
    "plt.plot(superpulse_60[:-1] )\n",
    "plt.plot(trap_super60[:-1])\n",
    "plt.title('physics superpulse')\n",
    "plt.axvline(tp_0_60)\n",
    "# plt.xlim(3800, 4200)\n",
    "# plt.xlim(3950, 3960)\n",
    "# # plt.xlim(0, 3800)\n",
    "# plt.ylim(-0.01, 0.2)"
   ]
  },
  {
   "cell_type": "code",
   "execution_count": null,
   "id": "5bfb4fe0-d5d5-405a-897a-db24dca51889",
   "metadata": {},
   "outputs": [],
   "source": [
    "tp_max = np.argmax(superpulse_60)\n",
    "print(tp_max)"
   ]
  },
  {
   "cell_type": "code",
   "execution_count": null,
   "id": "eeb8aa97-5c1f-4c27-82c5-77a8a600164b",
   "metadata": {},
   "outputs": [],
   "source": [
    "risetime = tp_max-tp_0_60\n",
    "print(risetime)"
   ]
  },
  {
   "cell_type": "code",
   "execution_count": null,
   "id": "facde888-00de-41ef-8cc4-16a84c3cfb7d",
   "metadata": {},
   "outputs": [],
   "source": [
    "risetime_ns = risetime*10"
   ]
  },
  {
   "cell_type": "code",
   "execution_count": null,
   "id": "485244d4-5faa-4d8f-9079-c868da11af64",
   "metadata": {},
   "outputs": [],
   "source": [
    "risetimes = []\n",
    "filt = np.linspace(2, 400, 800)\n",
    "\n",
    "for f in filt:\n",
    "    trap_super60 = asymTrapFilter(superpulse_60, 2, 100, int(f))\n",
    "    max_trap_60 = np.argmax(trap_super60)\n",
    "    tp_0_60 = time_point_thresh(trap_super60, 0.002, max_trap_60)\n",
    "#     print(tp_0_60)\n",
    "    rise = (tp_max - tp_0_60)*10\n",
    "#     print(f'risetime: {rise} ns')\n",
    "    risetimes.append(rise)"
   ]
  },
  {
   "cell_type": "code",
   "execution_count": null,
   "id": "0bcda5de-2c42-4560-b5b5-fa147602e2cb",
   "metadata": {},
   "outputs": [],
   "source": [
    "plt.plot(filt, risetimes)"
   ]
  },
  {
   "cell_type": "code",
   "execution_count": null,
   "id": "6dfd804a-d2d3-4362-a896-7f4a08d0e1f3",
   "metadata": {},
   "outputs": [],
   "source": [
    "trap_super60 = asymTrapFilter(superpulse_60, 2, 100, 2)\n",
    "max_trap_60 = np.argmax(trap_super60)\n",
    "tp_0_60 = time_point_thresh(trap_super60, 0.002, max_trap_60)\n",
    "print(tp_0_60)"
   ]
  },
  {
   "cell_type": "code",
   "execution_count": null,
   "id": "da9f9b30-b00a-49de-94ca-dac0aa8b70dd",
   "metadata": {},
   "outputs": [],
   "source": [
    "plt.plot(superpulse_60[:-1] )\n",
    "plt.plot(trap_super60[:-1])\n",
    "plt.title('physics superpulse')\n",
    "plt.axvline(tp_0_60)\n",
    "plt.axvline(tp_max )\n",
    "# plt.xlim(3800, 4200)\n",
    "plt.xlim(3950, 4200)\n",
    "# # plt.xlim(0, 3800)\n",
    "# plt.ylim(-0.01, 0.2)"
   ]
  },
  {
   "cell_type": "code",
   "execution_count": null,
   "id": "19fa2c59-c68c-45d1-b8d1-4f0871471930",
   "metadata": {},
   "outputs": [],
   "source": [
    "# tp_max = \n",
    "rt = (max_trap_60 - tp_0_60)*10\n",
    "print(rt)"
   ]
  },
  {
   "cell_type": "code",
   "execution_count": null,
   "id": "e4b42b6d-6568-4a88-b9cb-a265a7e00264",
   "metadata": {},
   "outputs": [],
   "source": [
    "max_risetimes = []\n",
    "max_filt = np.linspace(2, 20, 100)\n",
    "\n",
    "for f in max_filt:\n",
    "    max_trap_super60 = asymTrapFilter(superpulse_60, int(f), 100, 400)\n",
    "    max_trap_60 = np.argmax(max_trap_super60)\n",
    "#     print(tp_0_60)\n",
    "    max_rise = (max_trap_60 - tp_0_60)*10\n",
    "#     print(f'risetime: {rise} ns')\n",
    "    max_risetimes.append(max_rise)"
   ]
  },
  {
   "cell_type": "code",
   "execution_count": null,
   "id": "eb37013f-14a8-435a-8563-bc748218b9fb",
   "metadata": {},
   "outputs": [],
   "source": [
    "plt.plot(max_filt, max_risetimes)"
   ]
  },
  {
   "cell_type": "code",
   "execution_count": null,
   "id": "91c97c78-1352-4044-a485-eea749f83401",
   "metadata": {},
   "outputs": [],
   "source": [
    "max_trap_super60 = asymTrapFilter(superpulse_60, 20, 10, 400)\n",
    "max_trap_60 = np.argmax(max_trap_super60)\n",
    "print(max_trap_60)\n",
    "print(tp_max)"
   ]
  },
  {
   "cell_type": "code",
   "execution_count": null,
   "id": "460f7709-cfcd-4fce-ac1d-010970e673f3",
   "metadata": {},
   "outputs": [],
   "source": [
    "plt.plot(superpulse_60[:-1] )\n",
    "plt.plot(trap_super60[:-1])\n",
    "plt.title('physics superpulse')\n",
    "plt.axvline(tp_0_60)\n",
    "plt.axvline(max_trap_60)\n",
    "# plt.xlim(3800, 4200)\n",
    "plt.xlim(3950, 4200)\n",
    "# # plt.xlim(0, 3800)\n",
    "# plt.ylim(-0.01, 0.2)"
   ]
  },
  {
   "cell_type": "code",
   "execution_count": null,
   "id": "e7c6ecc5-07c2-48e3-adad-fd2fbd36dc0c",
   "metadata": {},
   "outputs": [],
   "source": []
  }
 ],
 "metadata": {
  "kernelspec": {
   "display_name": "legend-base",
   "language": "python",
   "name": "legend-base"
  },
  "language_info": {
   "codemirror_mode": {
    "name": "ipython",
    "version": 3
   },
   "file_extension": ".py",
   "mimetype": "text/x-python",
   "name": "python",
   "nbconvert_exporter": "python",
   "pygments_lexer": "ipython3",
   "version": "3.8.5"
  }
 },
 "nbformat": 4,
 "nbformat_minor": 5
}

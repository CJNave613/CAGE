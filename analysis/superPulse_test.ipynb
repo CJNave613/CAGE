{
 "cells": [
  {
   "cell_type": "code",
   "execution_count": null,
   "id": "ba41015a-a1bf-41bc-b536-6b627cb041b7",
   "metadata": {},
   "outputs": [],
   "source": [
    "#!/usr/bin/env python3\n",
    "import os\n",
    "import json\n",
    "import h5py\n",
    "import argparse\n",
    "import pandas as pd\n",
    "import numpy as np\n",
    "import tinydb as db\n",
    "from tinydb.storages import MemoryStorage\n",
    "import matplotlib.pyplot as plt\n",
    "# plt.style.use('../clint.mpl')\n",
    "from matplotlib.colors import LogNorm\n",
    "\n",
    "import boost_histogram as bh\n",
    "import pickle as pl\n",
    "\n",
    "from pygama import DataGroup\n",
    "import pygama.lh5 as lh5\n",
    "import pygama.analysis.histograms as pgh\n",
    "import pygama.analysis.peak_fitting as pgf\n",
    "import cage_utils\n",
    "plt.rcParams['figure.figsize'] = [14, 10]"
   ]
  },
  {
   "cell_type": "code",
   "execution_count": null,
   "id": "51f50d9b-138e-4015-90e2-1f2e02b59454",
   "metadata": {},
   "outputs": [],
   "source": [
    "run = 60\n",
    "user = True\n",
    "hit = True\n",
    "cal = True\n",
    "lowE = True"
   ]
  },
  {
   "cell_type": "code",
   "execution_count": null,
   "id": "189a716b-405f-4d98-8690-175102308409",
   "metadata": {},
   "outputs": [],
   "source": [
    "df_raw, runtype, rt_min, radius, angle_det, rotary = cage_utils.getDataFrame(run, user=user, hit=hit, cal=cal, lowE=lowE)\n",
    "\n",
    "\n",
    "# use baseline cut\n",
    "if run <79:\n",
    "    bl_cut_lo, bl_cut_hi = 9150,9320\n",
    "if run>79 and run <117:\n",
    "    bl_cut_lo, bl_cut_hi = 8500, 10000\n",
    "if run>=117:\n",
    "    bl_cut_lo, bl_cut_hi = 9700, 9760\n",
    "\n",
    "# only do basic bl cut before correcting DCR, AoE and ToE.\n",
    "# If want to add extra cut while correcting AoE or ToE, use cut specifically in their mode_hist() calls\n",
    "\n",
    "df = df_raw.query(f'bl > {bl_cut_lo} and bl < {bl_cut_hi}').copy()"
   ]
  },
  {
   "cell_type": "code",
   "execution_count": null,
   "id": "65cba14d-961c-43fe-9326-24f42e09300a",
   "metadata": {},
   "outputs": [],
   "source": [
    "def get_WF(df, cut, nwfs = 50):\n",
    "        #get events within 1% of energy\n",
    "        elo = e-(0.01*e)\n",
    "        ehi = e+(0.01*e)\n",
    "        idx = df[etype].loc[(df[etype] >= elo) & (df[etype] <= ehi)].index[:nwfs]\n",
    "        raw_store = lh5.Store()\n",
    "        tb_name = 'ORSIS3302DecoderForEnergy/raw'\n",
    "        lh5_dir = dg.lh5_dir\n",
    "        raw_list = lh5_dir + dg.fileDB['raw_path'] + '/' + dg.fileDB['raw_file']\n",
    "        f_raw = raw_list.values[0] # fixme, only works for one file rn\n",
    "        data_raw, nrows = raw_store.read_object(tb_name, f_raw, start_row=0, n_rows=idx[-1]+1)\n",
    "\n",
    "        wfs_all = (data_raw['waveform']['values']).nda\n",
    "        wfs = wfs_all[idx.values, :]\n",
    "        # baseline subtraction\n",
    "        bl_means = wfs[:,:800].mean(axis=1)\n",
    "        wf_blsub = (wfs.transpose() - bl_means).transpose()\n",
    "        ts = np.arange(0, wf_blsub.shape[1]-1, 1)\n",
    "        super_wf = np.mean(wf_blsub, axis=0)\n",
    "        wf_max = np.amax(super_wf)\n",
    "        superpulse = np.divide(super_wf, wf_max)\n",
    "        waveforms.append(superpulse)"
   ]
  }
 ],
 "metadata": {
  "kernelspec": {
   "display_name": "legend-base",
   "language": "python",
   "name": "legend-base"
  },
  "language_info": {
   "codemirror_mode": {
    "name": "ipython",
    "version": 3
   },
   "file_extension": ".py",
   "mimetype": "text/x-python",
   "name": "python",
   "nbconvert_exporter": "python",
   "pygments_lexer": "ipython3",
   "version": "3.8.5"
  }
 },
 "nbformat": 4,
 "nbformat_minor": 5
}

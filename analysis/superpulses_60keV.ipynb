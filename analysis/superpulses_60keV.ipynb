{
 "cells": [
  {
   "cell_type": "code",
   "execution_count": 1,
   "id": "ceb76594-0e10-4962-aeed-6e4d107fb56f",
   "metadata": {},
   "outputs": [],
   "source": [
    "#!/usr/bin/env python3\n",
    "import os\n",
    "import json\n",
    "import h5py\n",
    "import argparse\n",
    "import pandas as pd\n",
    "import numpy as np\n",
    "import tinydb as db\n",
    "from tinydb.storages import MemoryStorage\n",
    "import matplotlib.pyplot as plt\n",
    "# plt.style.use('../clint.mpl')\n",
    "import matplotlib as mpl\n",
    "from matplotlib.colors import LogNorm\n",
    "\n",
    "import boost_histogram as bh\n",
    "import pickle as pl\n",
    "\n",
    "import lmfit\n",
    "# from lmfit.models import SkewedGaussianModel, SkewedVoigtModel\n",
    "from lmfit.lineshapes import gaussian2d, lorentzian\n",
    "\n",
    "from astropy.modeling import models, fitting\n",
    "\n",
    "import scipy.stats as stats\n",
    "import scipy.optimize as opt\n",
    "from pygama import DataGroup\n",
    "import pygama.lh5 as lh5\n",
    "import pygama.analysis.histograms as pgh\n",
    "import pygama.analysis.peak_fitting as pgf\n",
    "import cage_utils\n",
    "plt.rcParams['figure.figsize'] = [14, 10]"
   ]
  },
  {
   "cell_type": "code",
   "execution_count": 2,
   "id": "30295469-1593-41f4-9c95-185f6e28058b",
   "metadata": {},
   "outputs": [
    {
     "name": "stdout",
     "output_type": "stream",
     "text": [
      "Radius: 2.5; Angle: 90; Rotary: 0.0\n",
      "user: True; cal: True; hit: True\n",
      "Using hit files\n",
      "loading data for /global/project/projectdirs/legend/users/gothman/CAGE//hit/cage_run60_cyc840_hit.lh5 /global/project/projectdirs/legend/users/gothman/CAGE//hit/cage_run60_cyc841_hit.lh5 /global/project/projectdirs/legend/users/gothman/CAGE//hit/cage_run60_cyc842_hit.lh5 /global/project/projectdirs/legend/users/gothman/CAGE//hit/cage_run60_cyc843_hit.lh5 /global/project/projectdirs/legend/users/gothman/CAGE//hit/cage_run60_cyc844_hit.lh5 /global/project/projectdirs/legend/users/gothman/CAGE//hit/cage_run60_cyc845_hit.lh5 /global/project/projectdirs/legend/users/gothman/CAGE//hit/cage_run60_cyc846_hit.lh5 /global/project/projectdirs/legend/users/gothman/CAGE//hit/cage_run60_cyc847_hit.lh5 /global/project/projectdirs/legend/users/gothman/CAGE//hit/cage_run60_cyc848_hit.lh5 /global/project/projectdirs/legend/users/gothman/CAGE//hit/cage_run60_cyc849_hit.lh5\n",
      "No options specified for cut selection! Using default: {'bl_slope_cut_raw', 'bl_sig_cut_raw', 'wf_max_cut', 'bl_mean_cut_raw', 'ftp_max_cut_raw'}\n",
      "total counts before cuts: 1112626\n",
      "applying cut: bl_slope_cut_raw\n",
      "Percentage surviving bl_slope_cut_raw cut: 95.00\n",
      "applying cut: bl_sig_cut_raw\n",
      "Percentage surviving bl_sig_cut_raw cut: 95.00\n",
      "applying cut: wf_max_cut\n",
      "Percentage surviving wf_max_cut cut: 98.52\n",
      "applying cut: bl_mean_cut_raw\n",
      "Percentage surviving bl_mean_cut_raw cut: 95.00\n",
      "applying cut: ftp_max_cut_raw\n",
      "Percentage surviving ftp_max_cut_raw cut: 95.00\n",
      "Percentage surviving cuts: 85.73\n"
     ]
    }
   ],
   "source": [
    "run = 60 #44 #70 #64\n",
    "dsp_id = '02'\n",
    "user = True\n",
    "hit =True\n",
    "cal = True\n",
    "lowE=False\n",
    "etype = 'trapEftp_cal'\n",
    "\n",
    "corr_DCR=True\n",
    "corr_AoE=True\n",
    "corr_ToE=True\n",
    "\n",
    "norm = True\n",
    "cut = True\n",
    "\n",
    "\n",
    "dsp_list = ['energy', 'trapEftp', 'trapEmax', 'trapEftp_cal', 'bl','bl_sig', 'bl_slope', 'AoE', 'dcr', \"tp_0\", \"tp_02\", \"tp_05\", \"tp_10\", \"tp_20\", \"tp_30\", \"tp_40\", \"tp_50\", \"tp_60\", \"tp_70\", \"tp_80\", \"tp_90\", \"tp_96\", 'tp_max', 'ToE', 'log_tail_fit_slope', 'wf_max', 'wf_argmax', 'trapE_argmax', 'lf_max']\n",
    "\n",
    "df_raw, dg, runtype, rt_min, radius, angle_det, rotary = cage_utils.getDataFrame(run, user=user, hit=hit, cal=cal, dsp_list=dsp_list, lowE=lowE)\n",
    "\n",
    "df = cage_utils.apply_DC_Cuts(run, df_raw)\n",
    "\n",
    "# df_60 = df.query('trapEftp_cal > 55 and trapEftp_cal < 65').copy()\n",
    "# df_60 = df.query('trapEftp_cal > 55 and trapEftp_cal < 80').copy()\n"
   ]
  },
  {
   "cell_type": "code",
   "execution_count": 3,
   "id": "b08e6fac-c307-4283-933a-cb6f92837790",
   "metadata": {},
   "outputs": [],
   "source": [
    "with open('./analysis_60keV.json') as f:\n",
    "        params = json.load(f)"
   ]
  },
  {
   "cell_type": "code",
   "execution_count": 4,
   "id": "798f5c52-373c-4012-99ac-234f419ca1f3",
   "metadata": {},
   "outputs": [],
   "source": [
    "mean_60 = params[str(run)]['mean_60']\n",
    "sig_60 = params[str(run)]['sig_60']\n",
    "chiSquare_fit_60 = params[str(run)]['chiSquare_fit_60']\n",
    "cut_60_3sig = params[str(run)]['cut_60_3sig']\n",
    "bkg_60_left = params[str(run)]['bkg_60_left']\n",
    "bkg_60_right = params[str(run)]['bkg_60_right']\n",
    "bkg_60 = params[str(run)]['bkg_60']"
   ]
  },
  {
   "cell_type": "code",
   "execution_count": 5,
   "id": "6574184f-bb52-4230-9f42-d5b79f80965b",
   "metadata": {},
   "outputs": [
    {
     "name": "stdout",
     "output_type": "stream",
     "text": [
      "bkg_subtracted counts: 3774\n",
      "error: 130.843417870369\n",
      "3.467%\n"
     ]
    }
   ],
   "source": [
    "\n",
    "# cut_60_3sig = f'({mean_60-3*sig_60} <= trapEftp_cal <= {mean_60+3*sig_60})'\n",
    "# cut_60_left = f'({mean_60-3*sig_60} <= trapEftp_cal < {mean_60})'\n",
    "# cut_60_right = f'({mean_60} <= trapEftp_cal < {mean_60+3*sig_60})'\n",
    "\n",
    "\n",
    "# bkg_60_left_min = mean_60-7.*sig_60\n",
    "# bkg_60_left_max = mean_60-4*sig_60\n",
    "\n",
    "# bkg_60_right_min = mean_60+4*sig_60\n",
    "# bkg_60_right_max = mean_60+7.*sig_60\n",
    "\n",
    "# bkg_60_left = f'({mean_60-7.*sig_60} <= trapEftp_cal < {mean_60-4*sig_60})'\n",
    "# bkg_60_right = f'({mean_60+4*sig_60} < trapEftp_cal <= {mean_60+7.*sig_60})'\n",
    "\n",
    "\n",
    "counts_peak = len(df.query(cut_60_3sig).copy())\n",
    "err_peak = np.sqrt(counts_peak)\n",
    "\n",
    "# left_counts = len(df.query(bkg_60_left))\n",
    "# right_counts = len(df.query(bkg_60_right))\n",
    "\n",
    "total_bkg = len(df.query(bkg_60).copy())\n",
    "err_bkg = np.sqrt(total_bkg)\n",
    "\n",
    "\n",
    "counts = counts_peak - total_bkg\n",
    "err = np.sqrt(counts_peak + total_bkg)\n",
    "print(f'bkg_subtracted counts: {counts}')\n",
    "print(f'error: {err}')\n",
    "print(f'{(err/counts)*100:.3f}%')\n"
   ]
  },
  {
   "cell_type": "code",
   "execution_count": 6,
   "id": "55acc390-b77e-4cd0-9a49-b4b7b0687fcc",
   "metadata": {},
   "outputs": [
    {
     "data": {
      "text/plain": [
       "1.0"
      ]
     },
     "execution_count": 6,
     "metadata": {},
     "output_type": "execute_result"
    }
   ],
   "source": [
    "(counts + total_bkg)/counts_peak"
   ]
  },
  {
   "cell_type": "code",
   "execution_count": 7,
   "id": "368ec9c4-a7c5-4f9c-902f-597ef43967a0",
   "metadata": {},
   "outputs": [],
   "source": [
    "df_60 = df.query(cut_60_3sig).copy()\n",
    "df_bkg = df.query(bkg_60).copy()"
   ]
  },
  {
   "cell_type": "code",
   "execution_count": 8,
   "id": "925ca721-8d83-4395-8ef0-a1f09d93cd4d",
   "metadata": {},
   "outputs": [
    {
     "data": {
      "image/png": "[encoded data removed]",
      "text/plain": [
       "<Figure size 1008x720 with 2 Axes>"
      ]
     },
     "metadata": {
      "needs_background": "light"
     },
     "output_type": "display_data"
    }
   ],
   "source": [
    "fig, ax = plt.subplots()\n",
    "elo, ehi, epb = 50, 70, 0.5\n",
    "ToElo, ToEhi, ToEpb= 0.3,  0.5, 0.0025\n",
    "\n",
    "nbx = int((ehi-elo)/epb)\n",
    "nby = int((ToEhi-ToElo)/ToEpb)\n",
    "\n",
    "\n",
    "\n",
    "fig.suptitle(f'T/E vs Energy', horizontalalignment='center', fontsize=16)\n",
    "\n",
    "ToE_hist_norm, xedges, yedges = np.histogram2d(df['trapEftp_cal'], df['ToE'], bins=[nbx, nby], range=([elo, ehi], [ToElo, ToEhi]))\n",
    "X, Y = np.mgrid[elo:ehi:nbx*1j, ToElo:ToEhi:nby*1j]\n",
    "\n",
    "\n",
    "pcm = plt.pcolormesh(X, Y, ToE_hist_norm,  shading='nearest') #0.002, 0.2\n",
    "\n",
    "cb = plt.colorbar()\n",
    "cb.set_label(\"counts\", ha = 'right', va='center', rotation=270, fontsize=14)\n",
    "cb.ax.tick_params(labelsize=12)\n",
    "ax.set_xlabel(f'Energy (keV)', fontsize=16)\n",
    "ax.set_ylabel('T/E (arb)', fontsize=16)\n",
    "plt.setp(ax.get_xticklabels(), fontsize=14)\n",
    "plt.setp(ax.get_yticklabels(), fontsize=14)\n",
    "\n",
    "\n",
    "ax.text(0.95, 0.83, f'r = {radius} mm \\ntheta = {angle_det} deg', verticalalignment='bottom',\n",
    "            horizontalalignment='right', transform=ax.transAxes, color='green', fontsize=14, bbox={'facecolor': 'white', 'alpha': 0.5, 'pad': 10})\n",
    "\n",
    "# plt.legend()\n",
    "plt.title(f'\\n{runtype} run {run}, {rt_min:.2f} mins', fontsize=12)\n",
    "plt.tight_layout()\n",
    "# plt.ylim(-0.05, 0.1)\n",
    "# plt.ylim(-0.05, 0.08)\n",
    "# plt.ylim(0.42, 0.51)\n",
    "# plt.xlim(52.5, 65)\n",
    "plt.show()"
   ]
  },
  {
   "cell_type": "code",
   "execution_count": 9,
   "id": "a1ae16cb-951b-4e46-b1bb-3fca6f2ee430",
   "metadata": {},
   "outputs": [
    {
     "name": "stdout",
     "output_type": "stream",
     "text": [
      "80\n"
     ]
    },
    {
     "data": {
      "image/png": "[encoded data removed]",
      "text/plain": [
       "<Figure size 1008x720 with 1 Axes>"
      ]
     },
     "metadata": {
      "needs_background": "light"
     },
     "output_type": "display_data"
    }
   ],
   "source": [
    "ToElo, ToEhi, ToEpb= 0.3,  0.5, 0.0025\n",
    "nbx = int((ToEhi-ToElo)/ToEpb)\n",
    "\n",
    "print(nbx)\n",
    "\n",
    "# bl_sig_lo, bl_sig_hi = 3.1, 5. # run 70\n",
    "# bl_sig_lo, bl_sig_hi = 3.1, 5.25\n",
    "# bl_sig_lo_raw, bl_sig_hi_raw = quant_raw_sig[0], quant_raw_sig[1]  \n",
    "\n",
    "ToE_full_hist, bins = np.histogram(df_60['ToE'], bins=nbx,\n",
    "                range=[ToElo, ToEhi])\n",
    "\n",
    "plt.plot(bins[1:], ToE_full_hist, ds='steps', c='b', lw=1)\n",
    "\n",
    "\n",
    "# plt.axvline(bl_sig_lo_raw, c='r', lw=1)\n",
    "# plt.axvline(bl_sig_hi_raw, c='r', lw=1)\n",
    "\n",
    "plt.xlabel('ToE', fontsize=16)\n",
    "plt.ylabel('counts', fontsize=16)\n",
    "\n",
    "# plt.xlim(0.35, 0.5)\n",
    "plt.show()"
   ]
  },
  {
   "cell_type": "code",
   "execution_count": 10,
   "id": "627fd599-7cec-4463-a32c-6e619c4ef1ca",
   "metadata": {},
   "outputs": [
    {
     "name": "stdout",
     "output_type": "stream",
     "text": [
      "80\n"
     ]
    },
    {
     "data": {
      "image/png": "[encoded data removed]",
      "text/plain": [
       "<Figure size 1008x720 with 1 Axes>"
      ]
     },
     "metadata": {
      "needs_background": "light"
     },
     "output_type": "display_data"
    }
   ],
   "source": [
    "ToElo, ToEhi, ToEpb= 0.3,  0.5, 0.0025\n",
    "nbx = int((ToEhi-ToElo)/ToEpb)\n",
    "\n",
    "print(nbx)\n",
    "\n",
    "# bl_sig_lo, bl_sig_hi = 3.1, 5. # run 70\n",
    "# bl_sig_lo, bl_sig_hi = 3.1, 5.25\n",
    "# bl_sig_lo_raw, bl_sig_hi_raw = quant_raw_sig[0], quant_raw_sig[1]  \n",
    "\n",
    "ToE_bkg_hist, bins = np.histogram(df_bkg['ToE'], bins=nbx,\n",
    "                range=[ToElo, ToEhi])\n",
    "\n",
    "plt.plot(bins[1:], ToE_bkg_hist, ds='steps', c='b', lw=1)\n",
    "\n",
    "\n",
    "# plt.axvline(bl_sig_lo_raw, c='r', lw=1)\n",
    "# plt.axvline(bl_sig_hi_raw, c='r', lw=1)\n",
    "\n",
    "plt.xlabel('ToE', fontsize=16)\n",
    "plt.ylabel('counts', fontsize=16)\n",
    "\n",
    "# plt.xlim(0.35, 0.5)\n",
    "plt.show()"
   ]
  },
  {
   "cell_type": "code",
   "execution_count": 11,
   "id": "ab9bcd8a-902c-4d47-ba81-679a36471cd4",
   "metadata": {},
   "outputs": [],
   "source": [
    "ToE_60_hist = ToE_full_hist - ToE_bkg_hist"
   ]
  },
  {
   "cell_type": "code",
   "execution_count": 12,
   "id": "3ec1d8eb-ce1d-437c-9d56-df9a574ce320",
   "metadata": {},
   "outputs": [
    {
     "name": "stdout",
     "output_type": "stream",
     "text": [
      "80\n"
     ]
    },
    {
     "data": {
      "image/png": "[encoded data removed]",
      "text/plain": [
       "<Figure size 1008x720 with 1 Axes>"
      ]
     },
     "metadata": {
      "needs_background": "light"
     },
     "output_type": "display_data"
    }
   ],
   "source": [
    "ToElo, ToEhi, ToEpb= 0.3,  0.5, 0.0025\n",
    "nbx = int((ToEhi-ToElo)/ToEpb)\n",
    "\n",
    "print(nbx)\n",
    "\n",
    "# bl_sig_lo, bl_sig_hi = 3.1, 5. # run 70\n",
    "# bl_sig_lo, bl_sig_hi = 3.1, 5.25\n",
    "# bl_sig_lo_raw, bl_sig_hi_raw = quant_raw_sig[0], quant_raw_sig[1]  \n",
    "\n",
    "plt.plot(bins[1:], ToE_60_hist, ds='steps', c='b', lw=1)\n",
    "\n",
    "\n",
    "# plt.axvline(bl_sig_lo_raw, c='r', lw=1)\n",
    "# plt.axvline(bl_sig_hi_raw, c='r', lw=1)\n",
    "\n",
    "plt.xlabel('ToE', fontsize=16)\n",
    "plt.ylabel('counts', fontsize=16)\n",
    "\n",
    "# plt.xlim(0.35, 0.5)\n",
    "plt.show()"
   ]
  },
  {
   "cell_type": "code",
   "execution_count": 14,
   "id": "f5e1b3cc-5bb0-462b-9b2f-45a6abc43f7d",
   "metadata": {},
   "outputs": [
    {
     "name": "stdout",
     "output_type": "stream",
     "text": [
      "using all 10447 Waveforms passing cut\n"
     ]
    }
   ],
   "source": [
    "times_2, all_60_taligned = cage_utils.get_superpulse_taligned_ian(df, dg, cut_60_3sig, all=True, norm=False, tp_align=0.5, n_pre = 3800, n_post = 4000)"
   ]
  },
  {
   "cell_type": "code",
   "execution_count": 13,
   "id": "643ae278-0020-41eb-95b6-a8a1753bd53f",
   "metadata": {},
   "outputs": [
    {
     "name": "stdout",
     "output_type": "stream",
     "text": [
      "using all 10447 Waveforms passing cut\n"
     ]
    }
   ],
   "source": [
    "times_2, all_60_taligned = cage_utils.get_superpulse_taligned(df, dg, cut_60_3sig, all=True, norm=False)"
   ]
  },
  {
   "cell_type": "code",
   "execution_count": 13,
   "id": "63b76302-acac-46f4-a2a3-ed915413920f",
   "metadata": {},
   "outputs": [
    {
     "name": "stdout",
     "output_type": "stream",
     "text": [
      "using first 10 waveforms passing cut\n",
      "[3978 3976 3977 3977 3977 3976 3976 3977 3974 3979]\n"
     ]
    },
    {
     "ename": "IndexError",
     "evalue": "index 7001 is out of bounds for axis 1 with size 7001",
     "output_type": "error",
     "traceback": [
      "\u001b[0;31m---------------------------------------------------------------------------\u001b[0m",
      "\u001b[0;31mIndexError\u001b[0m                                Traceback (most recent call last)",
      "\u001b[0;32m<ipython-input-13-a5283d1fe53e>\u001b[0m in \u001b[0;36m<module>\u001b[0;34m\u001b[0m\n\u001b[0;32m----> 1\u001b[0;31m \u001b[0mtimes_2\u001b[0m\u001b[0;34m,\u001b[0m \u001b[0mall_60_taligned\u001b[0m \u001b[0;34m=\u001b[0m \u001b[0mcage_utils\u001b[0m\u001b[0;34m.\u001b[0m\u001b[0mget_superpulse_taligned\u001b[0m\u001b[0;34m(\u001b[0m\u001b[0mdf\u001b[0m\u001b[0;34m,\u001b[0m \u001b[0mdg\u001b[0m\u001b[0;34m,\u001b[0m \u001b[0mcut_60_3sig\u001b[0m\u001b[0;34m,\u001b[0m \u001b[0mnwfs\u001b[0m \u001b[0;34m=\u001b[0m \u001b[0;36m10\u001b[0m\u001b[0;34m,\u001b[0m \u001b[0mnorm\u001b[0m\u001b[0;34m=\u001b[0m\u001b[0;32mFalse\u001b[0m\u001b[0;34m)\u001b[0m\u001b[0;34m\u001b[0m\u001b[0;34m\u001b[0m\u001b[0m\n\u001b[0m",
      "\u001b[0;32m/global/cfs/cdirs/majorana/projecta/majorana/users/gothman/joule_CAGE/analysis/cage_utils.py\u001b[0m in \u001b[0;36mget_superpulse_taligned\u001b[0;34m(df, dg, cut_str, nwfs, all, norm, tp_align, n_pre, n_post)\u001b[0m\n\u001b[1;32m    278\u001b[0m         \u001b[0mwf_idxs\u001b[0m\u001b[0;34m[\u001b[0m\u001b[0mi\u001b[0m\u001b[0;34m,\u001b[0m \u001b[0;34m:\u001b[0m\u001b[0;34m]\u001b[0m \u001b[0;34m=\u001b[0m \u001b[0mnp\u001b[0m\u001b[0;34m.\u001b[0m\u001b[0marange\u001b[0m\u001b[0;34m(\u001b[0m\u001b[0mtp\u001b[0m \u001b[0;34m-\u001b[0m \u001b[0mn_pre\u001b[0m\u001b[0;34m,\u001b[0m \u001b[0mtp\u001b[0m \u001b[0;34m+\u001b[0m \u001b[0mn_post\u001b[0m\u001b[0;34m,\u001b[0m \u001b[0;36m1\u001b[0m\u001b[0;34m)\u001b[0m\u001b[0;34m\u001b[0m\u001b[0;34m\u001b[0m\u001b[0m\n\u001b[1;32m    279\u001b[0m         \u001b[0mrow_idxs\u001b[0m\u001b[0;34m[\u001b[0m\u001b[0mi\u001b[0m\u001b[0;34m,\u001b[0m \u001b[0;34m:\u001b[0m\u001b[0;34m]\u001b[0m \u001b[0;34m=\u001b[0m \u001b[0mi\u001b[0m\u001b[0;34m\u001b[0m\u001b[0;34m\u001b[0m\u001b[0m\n\u001b[0;32m--> 280\u001b[0;31m         \u001b[0mwf_blsub\u001b[0m \u001b[0;34m=\u001b[0m \u001b[0mwf_blsub\u001b[0m\u001b[0;34m[\u001b[0m\u001b[0mrow_idxs\u001b[0m\u001b[0;34m,\u001b[0m \u001b[0mwf_idxs\u001b[0m\u001b[0;34m]\u001b[0m\u001b[0;34m\u001b[0m\u001b[0;34m\u001b[0m\u001b[0m\n\u001b[0m\u001b[1;32m    281\u001b[0m \u001b[0;34m\u001b[0m\u001b[0m\n\u001b[1;32m    282\u001b[0m     \u001b[0mts\u001b[0m \u001b[0;34m=\u001b[0m \u001b[0mnp\u001b[0m\u001b[0;34m.\u001b[0m\u001b[0marange\u001b[0m\u001b[0;34m(\u001b[0m\u001b[0;36m0\u001b[0m\u001b[0;34m,\u001b[0m \u001b[0mn_pre\u001b[0m \u001b[0;34m+\u001b[0m \u001b[0mn_post\u001b[0m\u001b[0;34m,\u001b[0m \u001b[0;36m1\u001b[0m\u001b[0;34m)\u001b[0m\u001b[0;34m\u001b[0m\u001b[0;34m\u001b[0m\u001b[0m\n",
      "\u001b[0;31mIndexError\u001b[0m: index 7001 is out of bounds for axis 1 with size 7001"
     ]
    }
   ],
   "source": [
    "times_2, all_60_taligned = cage_utils.get_superpulse_taligned(df, dg, cut_60_3sig, nwfs = 10, norm=False)"
   ]
  },
  {
   "cell_type": "code",
   "execution_count": 16,
   "id": "53488aa3-ca8c-4cc2-ab2b-dab90c167e14",
   "metadata": {},
   "outputs": [
    {
     "name": "stdout",
     "output_type": "stream",
     "text": [
      "using all 10447 Waveforms passing cut\n"
     ]
    }
   ],
   "source": [
    "# times, all_60 = cage_utils.get_superpulse(df, dg, cut_60_3sig, all=True, norm=False)\n",
    "times, all_60 = cage_utils.get_superpulse(df, dg, cut_60_3sig, all=True, norm=False)"
   ]
  },
  {
   "cell_type": "code",
   "execution_count": null,
   "id": "72850a4c-d7f5-48e3-9bf2-22153c9239b2",
   "metadata": {},
   "outputs": [],
   "source": [
    "times, bkg_60 = cage_utils.get_superpulse(df, dg, bkg_60, all=True, norm=False)"
   ]
  },
  {
   "cell_type": "code",
   "execution_count": null,
   "id": "827d5fbd-b0d6-46d9-9044-094523651481",
   "metadata": {},
   "outputs": [],
   "source": [
    "bkg_sub_60 = (counts_peak/counts)*(all_60 - (total_bkg/counts_peak)*bkg_60)\n",
    "# bkg_sub_60 = (all_60 - bkg_60)\n",
    "\n",
    "# bkg_sub_60 = 2*all_60 - bkg_60\n",
    "# bkg_sub_60_2a = all_60 - bkg_60\n",
    "# bkg_sub_60_2 = np.divide(bkg_sub_60_2a, np.amax(bkg_sub_60_2a))\n",
    "# bkg_sub_diff = bkg_sub_60_2 - bkg_sub_60"
   ]
  },
  {
   "cell_type": "code",
   "execution_count": 17,
   "id": "cd4b0714-9b15-4aa5-a610-a378b52af5b4",
   "metadata": {},
   "outputs": [
    {
     "name": "stdout",
     "output_type": "stream",
     "text": [
      "8192\n",
      "8100\n"
     ]
    }
   ],
   "source": [
    "print(len(times_2))\n",
    "print(len(all_60_taligned))"
   ]
  },
  {
   "cell_type": "code",
   "execution_count": 22,
   "id": "c65fe0b6-c50f-4a4d-8e79-4521ab3ee62f",
   "metadata": {},
   "outputs": [
    {
     "name": "stderr",
     "output_type": "stream",
     "text": [
      "/opt/anaconda3/lib/python3.8/site-packages/matplotlib/backends/backend_agg.py:238: RuntimeWarning: Glyph 9 missing from current font.\n",
      "  font.set_text(s, 0.0, flags=flags)\n",
      "/opt/anaconda3/lib/python3.8/site-packages/matplotlib/backends/backend_agg.py:201: RuntimeWarning: Glyph 9 missing from current font.\n",
      "  font.set_text(s, 0, flags=flags)\n"
     ]
    },
    {
     "data": {
      "image/png": "[encoded data removed]",
      "text/plain": [
       "<Figure size 1008x720 with 1 Axes>"
      ]
     },
     "metadata": {
      "needs_background": "light"
     },
     "output_type": "display_data"
    }
   ],
   "source": [
    "fig, ax = plt.subplots()\n",
    "# plt.plot(times[:-1], all_60[:-1], '-b', label=('All 60 keV'))\n",
    "plt.plot(times_2, all_60_taligned, '-g', label=('All 60 keV\\time-aligned'))\n",
    "\n",
    "\n",
    "\n",
    "\n",
    "# plt.xlim(0, 200)\n",
    "# plt.ylim(-2.5, 2.5)\n",
    "\n",
    "\n",
    "plt.xlim(3600, 4000)\n",
    "# plt.ylim(-0.025, 0.2)\n",
    "\n",
    "# plt.xlim(3700, 3710)\n",
    "# plt.ylim(-0.025, 0.1)\n",
    "\n",
    "\n",
    "# plt.xlim(3800, 8000)\n",
    "# plt.ylim(0.75, 1)\n",
    "\n",
    "# plt.xlim(3800, 4300)\n",
    "# plt.ylim(0.95, 1)\n",
    "\n",
    "# plt.xlim(3900, 4100)\n",
    "# plt.ylim(-0.025, 0.2)\n",
    "\n",
    "\n",
    "plt.setp(ax.get_xticklabels(), fontsize=14)\n",
    "plt.setp(ax.get_yticklabels(), fontsize=14)\n",
    "\n",
    "plt.xlabel('samples', fontsize = 16)\n",
    "plt.ylabel('normalized', fontsize=16)\n",
    "\n",
    "plt.legend(fontsize=16)\n",
    "\n",
    "plt.title(f'run {run}; {radius} mm', fontsize = 16)\n",
    "plt.show()"
   ]
  },
  {
   "cell_type": "code",
   "execution_count": null,
   "id": "5830f308-5295-40c3-95e7-42f697692982",
   "metadata": {},
   "outputs": [],
   "source": [
    "fig, ax = plt.subplots()\n",
    "plt.plot(times[:-1], all_60[:-1], '-b', label=('All 60 keV'))\n",
    "plt.plot(times[:-1], bkg_60[:-1], '-g', label=('background'))\n",
    "plt.plot(times[:-1], bkg_sub_60[:-1], '-r', label=('background-subtracted'))\n",
    "\n",
    "\n",
    "\n",
    "\n",
    "# plt.xlim(0, 4300)\n",
    "# plt.ylim(-0.025, 0.1)\n",
    "\n",
    "plt.xlim(3700, 4300)\n",
    "# plt.ylim(-0.025, 0.2)\n",
    "\n",
    "# plt.xlim(3700, 3710)\n",
    "# plt.ylim(-0.025, 0.1)\n",
    "\n",
    "\n",
    "# plt.xlim(3800, 8000)\n",
    "# plt.ylim(0.75, 1)\n",
    "\n",
    "# plt.xlim(3800, 4300)\n",
    "# plt.ylim(0.95, 1)\n",
    "\n",
    "# plt.xlim(3900, 4100)\n",
    "# plt.ylim(-0.025, 0.2)\n",
    "\n",
    "\n",
    "plt.setp(ax.get_xticklabels(), fontsize=14)\n",
    "plt.setp(ax.get_yticklabels(), fontsize=14)\n",
    "\n",
    "plt.xlabel('samples', fontsize = 16)\n",
    "plt.ylabel('normalized', fontsize=16)\n",
    "\n",
    "plt.legend(fontsize=16)\n",
    "\n",
    "plt.title(f'run {run}; {radius} mm', fontsize = 16)\n",
    "plt.show()"
   ]
  },
  {
   "cell_type": "code",
   "execution_count": null,
   "id": "c456c7df-ace4-4218-9c78-975592868fb0",
   "metadata": {},
   "outputs": [],
   "source": [
    "all_60_norm =  np.divide(all_60, np.amax(all_60))\n",
    "bkg_60_norm =  np.divide(bkg_60, np.amax(bkg_60))\n",
    "bkg_sub_60_norm =  np.divide(bkg_sub_60, np.amax(bkg_sub_60))\n",
    "\n",
    "all_60_norm_notched =  cage_utils.notchFilter_SIS3302(all_60_norm, Q=20)\n",
    "bkg_60_norm_notched =  cage_utils.notchFilter_SIS3302(bkg_60_norm, Q=20)\n",
    "bkg_sub_60_norm_notched =  cage_utils.notchFilter_SIS3302(bkg_sub_60_norm, Q=20)\n",
    "\n",
    "all_60_notched =  cage_utils.notchFilter_SIS3302(all_60, Q=20)\n",
    "bkg_60_notched =  cage_utils.notchFilter_SIS3302(bkg_60, Q=20)\n",
    "bkg_sub_60_notched =  cage_utils.notchFilter_SIS3302(bkg_sub_60, Q=20)\n",
    "\n",
    "all_60_notched_norm =  np.divide(all_60_notched, np.amax(all_60_notched))\n",
    "bkg_60_notched_norm =  np.divide(bkg_60_notched, np.amax(bkg_60_notched))\n",
    "bkg_sub_60_notched_norm =  np.divide(bkg_sub_60_notched, np.amax(bkg_sub_60_notched))"
   ]
  },
  {
   "cell_type": "code",
   "execution_count": null,
   "id": "caffebeb-d7f7-4a92-84c9-9abb9e972504",
   "metadata": {},
   "outputs": [],
   "source": [
    "fig, ax = plt.subplots()\n",
    "plt.plot(times[:-1], all_60_notched[:-1], '-b', label=('All 60 keV'))\n",
    "plt.plot(times[:-1], bkg_60_notched[:-1], '-g', label=('background'))\n",
    "plt.plot(times[:-1], bkg_sub_60_notched[:-1], '-r', label=('background-subtracted'))\n",
    "\n",
    "\n",
    "\n",
    "\n",
    "# plt.xlim(0, 4300)\n",
    "# plt.ylim(-0.025, 0.1)\n",
    "\n",
    "plt.xlim(3700, 4300)\n",
    "# plt.ylim(-0.025, 0.2)\n",
    "\n",
    "# plt.xlim(3700, 3710)\n",
    "# plt.ylim(-0.025, 0.1)\n",
    "\n",
    "\n",
    "# plt.xlim(3800, 8000)\n",
    "# plt.ylim(125, 175)\n",
    "# plt.ylim(0.75, 1)\n",
    "\n",
    "# plt.xlim(3800, 4300)\n",
    "# plt.ylim(0.95, 1)\n",
    "\n",
    "# plt.xlim(3900, 4100)\n",
    "# plt.ylim(-0.025, 0.2)\n",
    "\n",
    "\n",
    "plt.setp(ax.get_xticklabels(), fontsize=14)\n",
    "plt.setp(ax.get_yticklabels(), fontsize=14)\n",
    "\n",
    "plt.xlabel('samples', fontsize = 16)\n",
    "plt.ylabel('normalized', fontsize=16)\n",
    "\n",
    "plt.legend(fontsize=16)\n",
    "\n",
    "plt.title(f'run {run}; {radius} mm', fontsize = 16)\n",
    "plt.show()"
   ]
  },
  {
   "cell_type": "code",
   "execution_count": null,
   "id": "9fa4d516-2008-42c7-941e-a2c6778d862c",
   "metadata": {},
   "outputs": [],
   "source": [
    "fig, ax = plt.subplots()\n",
    "plt.plot(times[:8000], all_60_notched_norm[:8000], '-b', label=('All 60 keV'))\n",
    "plt.plot(times[:8000], bkg_60_notched_norm[:8000], '-g', label=('background'))\n",
    "plt.plot(times[:8000], bkg_sub_60_notched_norm[:8000], '-r', label=('background-subtracted'))\n",
    "\n",
    "\n",
    "\n",
    "\n",
    "# plt.xlim(0, 4300)\n",
    "# plt.ylim(-0.025, 0.1)\n",
    "\n",
    "# plt.xlim(3700, 4300)\n",
    "# plt.ylim(-0.025, 0.2)\n",
    "\n",
    "# plt.xlim(3700, 3710)\n",
    "# plt.ylim(-0.025, 0.1)\n",
    "\n",
    "\n",
    "plt.xlim(3800, 8000)\n",
    "plt.ylim(0.75, 1.005)\n",
    "\n",
    "# plt.xlim(3800, 4300)\n",
    "# plt.ylim(0.95, 1.001)\n",
    "\n",
    "# plt.xlim(3900, 4100)\n",
    "# plt.ylim(-0.025, 0.2)\n",
    "\n",
    "\n",
    "plt.setp(ax.get_xticklabels(), fontsize=14)\n",
    "plt.setp(ax.get_yticklabels(), fontsize=14)\n",
    "\n",
    "plt.xlabel('samples', fontsize = 16)\n",
    "plt.ylabel('normalized', fontsize=16)\n",
    "\n",
    "plt.legend(fontsize=16)\n",
    "\n",
    "plt.title(f'run {run}; {radius} mm \\nnormal incidence', fontsize = 16)\n",
    "# plt.savefig(f'./plots/new_normScan/60keV_analysis/waveforms/run{run}_wf_bkg_sub.png', dpi=200)\n",
    "plt.savefig(f'./plots/new_normScan/60keV_analysis/waveforms/run{run}_wf_bkg_sub_tail.png', dpi=200)\n",
    "plt.show()"
   ]
  },
  {
   "cell_type": "code",
   "execution_count": null,
   "id": "4ed91a8a-87ec-41d6-a668-27e050e6762d",
   "metadata": {},
   "outputs": [],
   "source": [
    "fig, ax = plt.subplots()\n",
    "plt.plot(times[:-1], bkg_sub_60_notched_norm[:-1], '-g', label=('normed after notch'))\n",
    "plt.plot(times[:-1], bkg_sub_60_norm_notched[:-1], '-r', label=('normed before notch'))\n",
    "\n",
    "\n",
    "\n",
    "\n",
    "# plt.xlim(0, 4300)\n",
    "# plt.ylim(-0.025, 0.1)\n",
    "\n",
    "plt.xlim(3700, 4300)\n",
    "# plt.ylim(-0.025, 0.2)\n",
    "\n",
    "# plt.xlim(3700, 3710)\n",
    "# plt.ylim(-0.025, 0.1)\n",
    "\n",
    "\n",
    "plt.xlim(3800, 8000)\n",
    "# plt.ylim(125, 175)\n",
    "plt.ylim(0.75, 1)\n",
    "\n",
    "# plt.xlim(3800, 4300)\n",
    "# plt.ylim(0.95, 1)\n",
    "\n",
    "# plt.xlim(3900, 4100)\n",
    "# plt.ylim(-0.025, 0.2)\n",
    "\n",
    "\n",
    "plt.setp(ax.get_xticklabels(), fontsize=14)\n",
    "plt.setp(ax.get_yticklabels(), fontsize=14)\n",
    "\n",
    "plt.xlabel('samples', fontsize = 16)\n",
    "plt.ylabel('normalized', fontsize=16)\n",
    "\n",
    "plt.legend(fontsize=16)\n",
    "\n",
    "plt.title(f'run {run}; {radius} mm', fontsize = 16)\n",
    "plt.show()"
   ]
  },
  {
   "cell_type": "code",
   "execution_count": null,
   "id": "d0f78692-4bab-4c2c-a7d7-c9f7b7419aa2",
   "metadata": {},
   "outputs": [],
   "source": [
    "new_60 = np.divide(bkg_sub_60_notched, np.amax(bkg_sub_60_notched))"
   ]
  },
  {
   "cell_type": "code",
   "execution_count": null,
   "id": "219c816f-9e0d-4065-b279-15c47dddb529",
   "metadata": {},
   "outputs": [],
   "source": [
    "f_superpulse = './data/normScan/run60_superpulses.hdf5'\n",
    "# f_superpulse = './data/normScan/run60_superpulses.hdf5'\n",
    "\n",
    "data_superpulse = pd.read_hdf(f_superpulse, key = '/superpulses')\n",
    "orig_60 = data_superpulse['pure_60'][0]\n",
    "raw_superpulse_60 = data_superpulse['pure_60_raw'][0]\n",
    "raw_superpulse_60_norm = np.divide(raw_superpulse_60, np.amax(raw_superpulse_60))\n",
    "raw_superpulse_60_notched = cage_utils.notchFilter_SIS3302(raw_superpulse_60, Q=20)\n",
    "# orig_60 = raw_superpulse_60_notched"
   ]
  },
  {
   "cell_type": "code",
   "execution_count": null,
   "id": "554d0757-c440-4497-a86c-f69b67474f3c",
   "metadata": {},
   "outputs": [],
   "source": [
    "fig, ax = plt.subplots()\n",
    "plt.plot(times[:-1], bkg_sub_60_notched[:-1], '-b', label=('sideband subtracted'))\n",
    "plt.plot(times[:-1], raw_superpulse_60_notched[:-1], '-g', label=('ToE cut'))\n",
    "# plt.plot(times[:-1], bkg_sub_60_norm_notched[:-1], '-r', label=(''))\n",
    "\n",
    "\n",
    "\n",
    "# plt.xlim(0, 4300)\n",
    "# plt.ylim(-0.025, 0.1)\n",
    "\n",
    "# plt.xlim(3700, 4300)\n",
    "# plt.ylim(-0.025, 0.2)\n",
    "\n",
    "# plt.xlim(3700, 3710)\n",
    "# plt.ylim(-0.025, 0.1)\n",
    "\n",
    "\n",
    "# plt.xlim(3800, 8000)\n",
    "# plt.ylim(0.75, 1)\n",
    "\n",
    "# plt.xlim(3800, 4300)\n",
    "# plt.ylim(125, 175)\n",
    "\n",
    "plt.xlim(3800, 8000)\n",
    "plt.ylim(125, 175)\n",
    "\n",
    "# plt.xlim(3900, 4100)\n",
    "# plt.ylim(-0.025, 0.2)\n",
    "\n",
    "# plt.xlim(4500, 6000)\n",
    "# plt.ylim(0.85, 0.95)\n",
    "\n",
    "\n",
    "plt.setp(ax.get_xticklabels(), fontsize=14)\n",
    "plt.setp(ax.get_yticklabels(), fontsize=14)\n",
    "\n",
    "plt.xlabel('samples', fontsize = 16)\n",
    "plt.ylabel('normalized', fontsize=16)\n",
    "\n",
    "plt.legend(fontsize=16)\n",
    "\n",
    "plt.title(f'Normed after notch filter', fontsize = 16)\n",
    "plt.show()"
   ]
  },
  {
   "cell_type": "code",
   "execution_count": null,
   "id": "11760650-e069-4381-8fef-5b3bf8ca8d57",
   "metadata": {},
   "outputs": [],
   "source": []
  },
  {
   "cell_type": "code",
   "execution_count": null,
   "id": "c1f35844-6eeb-4e73-a288-35c3758d31e4",
   "metadata": {},
   "outputs": [],
   "source": [
    "res = (bkg_sub_60_notched - raw_superpulse_60_notched)/np.amax(raw_superpulse_60_notched)\n",
    "\n",
    "fig, ax = plt.subplots()\n",
    "plt.plot(res)\n",
    "plt.setp(ax.get_xticklabels(), fontsize=14)\n",
    "plt.setp(ax.get_yticklabels(), fontsize=14)\n",
    "plt.axhline(y=0)\n",
    "\n",
    "plt.xlabel('samples', fontsize = 16)\n",
    "plt.ylabel('difference', fontsize = 16)\n",
    "plt.title(f'Not normalized', fontsize = 16)\n",
    "# plt.xlim(3700, 4300)"
   ]
  },
  {
   "cell_type": "code",
   "execution_count": null,
   "id": "95d35039-55f5-4f7e-93ca-1f3f095a6cde",
   "metadata": {},
   "outputs": [],
   "source": [
    "fig, ax = plt.subplots()\n",
    "plt.plot(times[:-1], new_60 [:-1], '-b', label=('sideband subtracted'))\n",
    "plt.plot(times[:-1], orig_60[:-1], '-g', label=('ToE cut'))\n",
    "plt.plot(times[:-1], bkg_60_notched_norm[:-1], '-r', label=('bkg'))\n",
    "\n",
    "\n",
    "\n",
    "# plt.xlim(0, 4300)\n",
    "# plt.ylim(-0.025, 0.1)\n",
    "\n",
    "# plt.xlim(3700, 4300)\n",
    "# plt.ylim(-0.025, 0.2)\n",
    "\n",
    "# plt.xlim(3700, 3710)\n",
    "# plt.ylim(-0.025, 0.1)\n",
    "\n",
    "\n",
    "# plt.xlim(3800, 8000)\n",
    "# plt.ylim(0.75, 1)\n",
    "\n",
    "plt.xlim(3800, 4300)\n",
    "plt.ylim(0.95, 1.001)\n",
    "\n",
    "# plt.xlim(3900, 4100)\n",
    "# plt.ylim(-0.025, 0.2)\n",
    "\n",
    "# plt.xlim(4500, 6000)\n",
    "# plt.ylim(0.85, 0.95)\n",
    "\n",
    "\n",
    "plt.setp(ax.get_xticklabels(), fontsize=14)\n",
    "plt.setp(ax.get_yticklabels(), fontsize=14)\n",
    "\n",
    "plt.xlabel('samples', fontsize = 16)\n",
    "plt.ylabel('normalized', fontsize=16)\n",
    "\n",
    "plt.legend(fontsize=16)\n",
    "\n",
    "plt.title(f'Normed after notch filter', fontsize = 16)\n",
    "plt.show()"
   ]
  },
  {
   "cell_type": "code",
   "execution_count": null,
   "id": "7fc3f16a-f932-49e8-a364-257bbd2f254e",
   "metadata": {},
   "outputs": [],
   "source": [
    "res = (new_60 - orig_60)\n",
    "\n",
    "fig, ax = plt.subplots()\n",
    "plt.plot(res)\n",
    "plt.setp(ax.get_xticklabels(), fontsize=14)\n",
    "plt.setp(ax.get_yticklabels(), fontsize=14)\n",
    "plt.axhline(y=0)\n",
    "\n",
    "plt.xlabel('samples', fontsize = 16)\n",
    "plt.ylabel('difference', fontsize = 16)\n",
    "plt.title(f'Normed after notch filter', fontsize = 16)\n",
    "# plt.xlim(3700, 4300)"
   ]
  },
  {
   "cell_type": "code",
   "execution_count": null,
   "id": "c42ed0a6-ffcd-4f85-a16b-e313bcaf04fa",
   "metadata": {},
   "outputs": [],
   "source": [
    "bkg_comp = (bkg_60_notched_norm - orig_60)\n",
    "\n",
    "fig, ax = plt.subplots()\n",
    "plt.plot(bkg_comp)\n",
    "plt.setp(ax.get_xticklabels(), fontsize=14)\n",
    "plt.setp(ax.get_yticklabels(), fontsize=14)\n",
    "plt.axhline(y=0)\n",
    "\n",
    "plt.xlabel('samples', fontsize = 16)\n",
    "plt.ylabel('difference', fontsize = 16)\n",
    "plt.title(f'Normed after notch filter', fontsize = 16)\n",
    "# plt.xlim(3700, 4300)"
   ]
  },
  {
   "cell_type": "code",
   "execution_count": null,
   "id": "62ceaac1-ea02-47c3-88ac-73d69693a3e7",
   "metadata": {},
   "outputs": [],
   "source": [
    "bkg_comp2 = (bkg_60_notched_norm - new_60)\n",
    "\n",
    "fig, ax = plt.subplots()\n",
    "plt.plot(bkg_comp2)\n",
    "plt.setp(ax.get_xticklabels(), fontsize=14)\n",
    "plt.setp(ax.get_yticklabels(), fontsize=14)\n",
    "plt.axhline(y=0)\n",
    "\n",
    "plt.xlabel('samples', fontsize = 16)\n",
    "plt.ylabel('difference', fontsize = 16)\n",
    "plt.title(f'Normed after notch filter', fontsize = 16)\n",
    "# plt.xlim(3700, 4300)"
   ]
  },
  {
   "cell_type": "code",
   "execution_count": null,
   "id": "1647eb35-a0ec-4314-b086-d43b2333ef21",
   "metadata": {},
   "outputs": [],
   "source": [
    "bkg_comp3 = (bkg_comp - bkg_comp2)\n",
    "\n",
    "fig, ax = plt.subplots()\n",
    "plt.plot(bkg_comp3)\n",
    "plt.setp(ax.get_xticklabels(), fontsize=14)\n",
    "plt.setp(ax.get_yticklabels(), fontsize=14)\n",
    "plt.axhline(y=0)\n",
    "\n",
    "plt.xlabel('samples', fontsize = 16)\n",
    "plt.ylabel('difference', fontsize = 16)\n",
    "plt.title(f'Normed after notch filter', fontsize = 16)\n",
    "# plt.xlim(3700, 4300)"
   ]
  },
  {
   "cell_type": "code",
   "execution_count": null,
   "id": "ac669563-fc7f-4b36-b7a7-18d453f350cd",
   "metadata": {},
   "outputs": [],
   "source": []
  }
 ],
 "metadata": {
  "kernelspec": {
   "display_name": "legend-base",
   "language": "python",
   "name": "legend-base"
  },
  "language_info": {
   "codemirror_mode": {
    "name": "ipython",
    "version": 3
   },
   "file_extension": ".py",
   "mimetype": "text/x-python",
   "name": "python",
   "nbconvert_exporter": "python",
   "pygments_lexer": "ipython3",
   "version": "3.8.5"
  }
 },
 "nbformat": 4,
 "nbformat_minor": 5
}

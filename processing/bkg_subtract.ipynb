{
 "cells": [
  {
   "cell_type": "code",
   "execution_count": null,
   "metadata": {},
   "outputs": [],
   "source": [
    "#!/usr/bin/env python3\n",
    "import os\n",
    "import json\n",
    "import h5py\n",
    "import argparse\n",
    "import pandas as pd\n",
    "import numpy as np\n",
    "import tinydb as db\n",
    "from tinydb.storages import MemoryStorage\n",
    "import matplotlib.pyplot as plt\n",
    "# plt.style.use('../clint.mpl')\n",
    "from matplotlib.colors import LogNorm\n",
    "\n",
    "import boost_histogram as bh\n",
    "import pickle as pl\n",
    "\n",
    "from pygama import DataGroup\n",
    "import pygama.io.lh5 as lh5\n",
    "import pygama.analysis.histograms as pgh\n",
    "import pygama.analysis.peak_fitting as pgf"
   ]
  },
  {
   "cell_type": "markdown",
   "metadata": {},
   "source": [
    "Load background data from the run of interest"
   ]
  },
  {
   "cell_type": "code",
   "execution_count": null,
   "metadata": {},
   "outputs": [],
   "source": [
    "bkg_dg = DataGroup('cage.json', load=True)\n",
    "bkg_run = 'run==68 and skip==False'\n",
    "# bkg_run = 'run==34 and skip==False'\n",
    "bkg_dg.fileDB.query(bkg_run, inplace=True)\n",
    "view_cols = ['runtype', 'run', 'cycle', 'startTime', 'runtime', 'threshold']\n",
    "print(bkg_dg.fileDB[view_cols])"
   ]
  },
  {
   "cell_type": "markdown",
   "metadata": {},
   "source": [
    "Load alpha data from the run of interest"
   ]
  },
  {
   "cell_type": "code",
   "execution_count": null,
   "metadata": {},
   "outputs": [],
   "source": [
    "alpha_dg = DataGroup('cage.json', load=True)\n",
    "alpha_run = 'run==70 and skip==False'\n",
    "# alpha_run = \"run>50 and runtype=='alp'\"\n",
    "# alpha_run = 'run==50 and skip==False'\n",
    "alpha_dg.fileDB.query(alpha_run, inplace=True)\n",
    "view_cols = ['runtype', 'run', 'cycle', 'startTime', 'runtime', 'threshold']\n",
    "print(alpha_dg.fileDB[view_cols])"
   ]
  },
  {
   "cell_type": "markdown",
   "metadata": {},
   "source": [
    "Plot raw energy histogram of the background data, then alpha data, from DSP files\n",
    "First get dsp data, runtimes so we can normalize by time"
   ]
  },
  {
   "cell_type": "markdown",
   "metadata": {},
   "source": [
    "First get file list and load background energy data (numpy array)"
   ]
  },
  {
   "cell_type": "code",
   "execution_count": null,
   "metadata": {},
   "outputs": [],
   "source": [
    "# get file list and load background energy data (numpy array)\n",
    "lh5_dir = os.path.expandvars(bkg_dg.config['lh5_dir'])\n",
    "bkg_dsp_list = lh5_dir + bkg_dg.fileDB['dsp_path'] + '/' + bkg_dg.fileDB['dsp_file']\n",
    "bkg_edata = lh5.load_nda(bkg_dsp_list, ['trapEmax'], 'ORSIS3302DecoderForEnergy/dsp')\n",
    "bkg_rt_min = bkg_dg.fileDB['runtime'].sum()\n",
    "bkg_u_start = bkg_dg.fileDB.iloc[0]['startTime']\n",
    "bkg_t_start = pd.to_datetime(bkg_u_start, unit='s') # str"
   ]
  },
  {
   "cell_type": "markdown",
   "metadata": {},
   "source": [
    "Get file list for alpha data"
   ]
  },
  {
   "cell_type": "code",
   "execution_count": null,
   "metadata": {},
   "outputs": [],
   "source": [
    "# get file list and load alpha energy data (numpy array)\n",
    "lh5_dir = os.path.expandvars(alpha_dg.config['lh5_dir'])\n",
    "alpha_dsp_list = lh5_dir + alpha_dg.fileDB['dsp_path'] + '/' + alpha_dg.fileDB['dsp_file']\n",
    "alpha_edata = lh5.load_nda(alpha_dsp_list, ['trapEmax'], 'ORSIS3302DecoderForEnergy/dsp')\n",
    "alpha_rt_min = alpha_dg.fileDB['runtime'].sum()\n",
    "alpha_u_start = alpha_dg.fileDB.iloc[0]['startTime']\n",
    "alpha_t_start = pd.to_datetime(alpha_u_start, unit='s') # str"
   ]
  },
  {
   "cell_type": "markdown",
   "metadata": {},
   "source": [
    "Create background histogram"
   ]
  },
  {
   "cell_type": "code",
   "execution_count": null,
   "metadata": {},
   "outputs": [],
   "source": [
    "# Create background histogram, normalized by runtime\n",
    "# elo, ehi, epb = 0, 25000, 10 \n",
    "elo, ehi, epb = 0, 40000, 10 \n",
    "etype = 'trapEmax'\n",
    "\n",
    "bkg_ene_uncal = bkg_edata[etype]\n",
    "bkg_hist, bins, _ = pgh.get_hist(bkg_ene_uncal, range=(elo, ehi), dx=epb)\n",
    "\n",
    "# normalize by runtime in seconds\n",
    "bkg_hist_rt = np.divide(bkg_hist, bkg_rt_min * 60)"
   ]
  },
  {
   "cell_type": "markdown",
   "metadata": {},
   "source": [
    "Create alpha histogram"
   ]
  },
  {
   "cell_type": "code",
   "execution_count": null,
   "metadata": {},
   "outputs": [],
   "source": [
    "# Create alpha histogram, normalized by runtime\n",
    "etype = 'trapEmax'\n",
    "# elo, ehi, epb = 0, 25000, 10\n",
    "elo, ehi, epb = 0, 40000, 10 \n",
    "\n",
    "alpha_ene_uncal = alpha_edata[etype]\n",
    "alpha_hist, bins, _ = pgh.get_hist(alpha_ene_uncal, range=(elo, ehi), dx=epb)\n",
    "\n",
    "# normalize by runtime in seconds\n",
    "alpha_hist_rt = np.divide(alpha_hist, alpha_rt_min * 60)"
   ]
  },
  {
   "cell_type": "markdown",
   "metadata": {},
   "source": [
    "Plot background spectrum"
   ]
  },
  {
   "cell_type": "code",
   "execution_count": null,
   "metadata": {},
   "outputs": [],
   "source": [
    "# Plot the histograms\n",
    "plt.semilogy(bins[1:], bkg_hist_rt, ds='steps', c='b', lw=1,\n",
    "            label=f'{etype}, {bkg_rt_min:.2f} mins')\n",
    "\n",
    "plt.xlabel(etype, ha='right', x=1)\n",
    "plt.ylabel('cts / sec', ha='right', y=1)\n",
    "plt.legend()\n",
    "plt.title(f'Background run: {bkg_run}')\n",
    "plt.show()"
   ]
  },
  {
   "cell_type": "markdown",
   "metadata": {},
   "source": [
    "Plot alpha spectrum"
   ]
  },
  {
   "cell_type": "code",
   "execution_count": null,
   "metadata": {},
   "outputs": [],
   "source": [
    "# Plot the alpha histogram\n",
    "plt.semilogy(bins[1:], alpha_hist_rt, ds='steps', c='b', lw=1,\n",
    "            label=f'{etype}, {alpha_rt_min:.2f} mins')\n",
    "\n",
    "plt.xlabel(etype, ha='right', x=1)\n",
    "plt.ylabel('cts / sec', ha='right', y=1)\n",
    "plt.legend()\n",
    "plt.title(f'Alpha run: {alpha_run}')\n",
    "plt.show()"
   ]
  },
  {
   "cell_type": "markdown",
   "metadata": {},
   "source": [
    "Subtract the Background histogram from the alpha histogram"
   ]
  },
  {
   "cell_type": "code",
   "execution_count": null,
   "metadata": {},
   "outputs": [],
   "source": [
    "hist_bkg_sub = alpha_hist_rt - bkg_hist_rt"
   ]
  },
  {
   "cell_type": "markdown",
   "metadata": {},
   "source": [
    "Plot background-subtracted histogram "
   ]
  },
  {
   "cell_type": "code",
   "execution_count": null,
   "metadata": {},
   "outputs": [],
   "source": [
    "# Plot the background-subtracted histogram\n",
    "plt.semilogy(bins[1:], hist_bkg_sub, ds='steps', c='b', lw=1,\n",
    "            label=f'{etype}, background subtracted')\n",
    "\n",
    "plt.xlabel(etype, ha='right', x=1)\n",
    "plt.ylabel('cts / sec', ha='right', y=1)\n",
    "plt.legend()\n",
    "plt.title(f'Background subtracted, Alpha run: {alpha_run}')\n",
    "plt.show()"
   ]
  },
  {
   "cell_type": "markdown",
   "metadata": {},
   "source": [
    "Load hit data from local directory"
   ]
  },
  {
   "cell_type": "code",
   "execution_count": null,
   "metadata": {},
   "outputs": [],
   "source": [
    "lh5_dir = bkg_dg.lh5_user_dir #if user else dg.lh5_dir\n",
    "print(lh5_dir)\n",
    "# exit()\n",
    "bkg_hit_list = lh5_dir + bkg_dg.fileDB['hit_path'] + '/' + bkg_dg.fileDB['hit_file']\n",
    "bkg_df_hit = lh5.load_dfs(bkg_hit_list, ['trapEmax', 'bl','bl_sig','A_10','ts_sec', 'dcr_raw', 'dcr_ftp', 'dcr_max'], 'ORSIS3302DecoderForEnergy/hit')\n",
    "# bkg_df_hit = lh5.load_dfs(bkg_hit_list, ['trapEmax', 'bl','bl_sig','A_10','ts_sec', 'dcr'], 'ORSIS3302DecoderForEnergy/hit')\n",
    "# print(df_hit)\n",
    "print(bkg_df_hit.columns)\n",
    "\n",
    "bkg_dsc = bkg_df_hit[['bl','bl_sig','A_10','ts_sec', 'dcr_raw']].describe()\n",
    "# bkg_dsc = bkg_df_hit[['bl','bl_sig','A_10','ts_sec', 'dcr']].describe()\n",
    "print(bkg_dsc)"
   ]
  },
  {
   "cell_type": "code",
   "execution_count": null,
   "metadata": {},
   "outputs": [],
   "source": [
    "lh5_dir = alpha_dg.lh5_user_dir #if user else dg.lh5_dir\n",
    "print(lh5_dir)\n",
    "alpha_hit_list = lh5_dir + alpha_dg.fileDB['hit_path'] + '/' + alpha_dg.fileDB['hit_file']\n",
    "print(alpha_hit_list)\n",
    "alpha_df_hit = lh5.load_dfs(alpha_hit_list, ['trapEmax', 'bl','bl_sig','A_10','ts_sec', 'dcr_raw', 'dcr_ftp', 'dcr_max'], 'ORSIS3302DecoderForEnergy/hit')\n",
    "# alpha_df_hit = lh5.load_dfs(alpha_hit_list, ['trapEmax', 'bl','bl_sig','A_10','ts_sec', 'dcr_raw'], 'ORSIS3302DecoderForEnergy/hit')\n",
    "# print(df_hit)\n",
    "print(alpha_df_hit.columns)\n",
    "\n",
    "alpha_dsc = alpha_df_hit[['bl','bl_sig','A_10','ts_sec', 'dcr_raw', 'dcr_ftp', 'dcr_max']].describe()\n",
    "# alpha_dsc = alpha_df_hit[['bl','bl_sig','A_10','ts_sec', 'dcr_raw']].describe()\n",
    "print(alpha_dsc)"
   ]
  },
  {
   "cell_type": "markdown",
   "metadata": {},
   "source": [
    "Now plot baseline vs E"
   ]
  },
  {
   "cell_type": "code",
   "execution_count": null,
   "metadata": {},
   "outputs": [],
   "source": [
    "# Background Baseline vs E\n",
    "elo, ehi, epb = 0, 50, 1\n",
    "blo, bhi, bpb = 0, 10000, 100\n",
    "nbx = int((ehi-elo)/epb)\n",
    "nby = int((bhi-blo)/bpb)\n",
    "\n",
    "h = plt.hist2d(bkg_df_hit['trapEmax'], bkg_df_hit['bl'], bins=[nbx,nby],\n",
    "                       range=[[elo, ehi], [blo, bhi]], cmap='jet')\n",
    "\n",
    "cb = plt.colorbar(h[3], ax=plt.gca())\n",
    "plt.xlabel('trapEmax', ha='right', x=1)\n",
    "plt.ylabel('bl', ha='right', y=1)\n",
    "plt.title('Baseline, background')\n",
    "# plt.tight_layout()\n",
    "plt.show()"
   ]
  },
  {
   "cell_type": "code",
   "execution_count": null,
   "metadata": {},
   "outputs": [],
   "source": [
    "# Alpha Baseline vs E\n",
    "elo, ehi, epb = 0, 50, 1\n",
    "blo, bhi, bpb = 0, 10000, 100\n",
    "nbx = int((ehi-elo)/epb)\n",
    "nby = int((bhi-blo)/bpb)\n",
    "\n",
    "h = plt.hist2d(alpha_df_hit['trapEmax'], alpha_df_hit['bl'], bins=[nbx,nby],\n",
    "                       range=[[elo, ehi], [blo, bhi]], cmap='jet')\n",
    "\n",
    "cb = plt.colorbar(h[3], ax=plt.gca())\n",
    "plt.xlabel('trapEmax', ha='right', x=1)\n",
    "plt.ylabel('bl', ha='right', y=1)\n",
    "plt.title('Baseline, alpha')\n",
    "# plt.tight_layout()\n",
    "plt.show()"
   ]
  },
  {
   "cell_type": "markdown",
   "metadata": {},
   "source": [
    "Make a cut based on BL value"
   ]
  },
  {
   "cell_type": "code",
   "execution_count": null,
   "metadata": {},
   "outputs": [],
   "source": [
    "# make a formal baseline cut from 1d histogram\n",
    "hE, bins, vE = pgh.get_hist(alpha_df_hit['bl'], range=(blo, bhi), dx=bpb)\n",
    "xE = bins[1:]\n",
    "plt.semilogy(xE, hE, c='b', ds='steps')\n",
    "\n",
    "bl_cut_lo, bl_cut_hi = 8000,10000\n",
    "plt.axvline(bl_cut_lo, c='r', lw=1)\n",
    "plt.axvline(bl_cut_hi, c='r', lw=1)\n",
    "\n",
    "plt.xlabel('bl', ha='right', x=1)\n",
    "plt.ylabel('counts', ha='right', y=1)\n",
    "plt.show()"
   ]
  },
  {
   "cell_type": "markdown",
   "metadata": {},
   "source": [
    "Use BL cut from above, create A/E"
   ]
  },
  {
   "cell_type": "code",
   "execution_count": null,
   "metadata": {},
   "outputs": [],
   "source": [
    "# Background A_10/trapEmax vs trapEmax (A/E vs E)\n",
    "\n",
    "# use baseline cut\n",
    "bkg_df_cut = bkg_df_hit.query('bl > 8000 and bl < 10000').copy()\n",
    "\n",
    "# add new A/E column\n",
    "bkg_df_cut['aoe'] = bkg_df_cut['A_10'] / bkg_df_cut['trapEmax']"
   ]
  },
  {
   "cell_type": "code",
   "execution_count": null,
   "metadata": {},
   "outputs": [],
   "source": [
    "elo, ehi, epb = 0, 35000, 10\n",
    "# elo, ehi, epb = 0, 3000, 10\n",
    "# elo, ehi, epb = 0, 6000, 10\n",
    "        \n",
    "\n",
    "nbx = int((ehi-elo)/epb)\n",
    "\n",
    "energy_hist, bins = np.histogram(bkg_df_cut['trapEmax'], bins=nbx,\n",
    "                range=[elo, ehi])\n",
    "\n",
    "plt.semilogy(bins[1:], energy_hist, ds='steps', c='b', lw=1)\n",
    "# = plt.hist(bkg_df_cut['trapEmax'], bins=nbx,\n",
    "#                 range=[elo, ehi], cmap='jet', norm=LogNorm())\n",
    "\n",
    "plt.show()"
   ]
  },
  {
   "cell_type": "code",
   "execution_count": null,
   "metadata": {},
   "outputs": [],
   "source": [
    "# Alpha A_10/trapEmax vs trapEmax (A/E vs E)\n",
    "\n",
    "# use baseline cut\n",
    "alpha_df_cut = alpha_df_hit.query('bl > 8000 and bl < 10000').copy()\n",
    "\n",
    "# add new A/E column\n",
    "alpha_df_cut['aoe'] = alpha_df_cut['A_10'] / alpha_df_cut['trapEmax']"
   ]
  },
  {
   "cell_type": "code",
   "execution_count": null,
   "metadata": {},
   "outputs": [],
   "source": [
    "elo, ehi, epb = 0, 35000, 10\n",
    "# elo, ehi, epb = 0, 3000, 10\n",
    "# elo, ehi, epb = 0, 6000, 10\n",
    "        \n",
    "\n",
    "nbx = int((ehi-elo)/epb)\n",
    "\n",
    "alpha_energy_hist, bins = np.histogram(alpha_df_cut['trapEmax'], bins=nbx,\n",
    "                range=[elo, ehi])\n",
    "\n",
    "plt.semilogy(bins[1:], energy_hist, ds='steps', c='b', lw=1)\n",
    "# = plt.hist(bkg_df_cut['trapEmax'], bins=nbx,\n",
    "#                 range=[elo, ehi], cmap='jet', norm=LogNorm())\n",
    "\n",
    "plt.show()"
   ]
  },
  {
   "cell_type": "markdown",
   "metadata": {},
   "source": [
    "Plot A/E vs E"
   ]
  },
  {
   "cell_type": "code",
   "execution_count": null,
   "metadata": {},
   "outputs": [],
   "source": [
    "# Background A/E\n",
    "alo, ahi, apb = 0.0, 0.09, 0.0001\n",
    "elo, ehi, epb = 0, 25000, 10\n",
    "# elo, ehi, epb = 0, 3000, 10\n",
    "# elo, ehi, epb = 0, 6000, 10\n",
    "        \n",
    "\n",
    "nbx = int((ehi-elo)/epb)\n",
    "nby = int((ahi-alo)/apb)\n",
    "\n",
    "h = plt.hist2d(bkg_df_cut['trapEmax'], bkg_df_cut['aoe'], bins=[nbx,nby],\n",
    "                range=[[elo, ehi], [alo, ahi]], cmap='jet', norm=LogNorm())\n",
    "\n",
    "plt.xlabel('trapEmax', ha='right', x=1)\n",
    "plt.ylabel('A/E', ha='right', y=1)\n",
    "plt.title('Background A/E')\n",
    "plt.tight_layout()\n",
    "plt.show()"
   ]
  },
  {
   "cell_type": "code",
   "execution_count": null,
   "metadata": {},
   "outputs": [],
   "source": [
    "# Alpha A/E\n",
    "alo, ahi, apb = 0.0, 0.09, 0.0001\n",
    "elo, ehi, epb = 0, 25000, 10\n",
    "# elo, ehi, epb = 0, 3000, 10\n",
    "# elo, ehi, epb = 0, 6000, 10\n",
    "        \n",
    "\n",
    "nbx = int((ehi-elo)/epb)\n",
    "nby = int((ahi-alo)/apb)\n",
    "\n",
    "h = plt.hist2d(alpha_df_cut['trapEmax'], alpha_df_cut['aoe'], bins=[nbx,nby],\n",
    "                range=[[elo, ehi], [alo, ahi]], cmap='jet', norm=LogNorm())\n",
    "\n",
    "plt.xlabel('trapEmax', ha='right', x=1)\n",
    "plt.ylabel('A/E', ha='right', y=1)\n",
    "plt.title('Alpha A/E')\n",
    "plt.tight_layout()\n",
    "plt.show()"
   ]
  },
  {
   "cell_type": "markdown",
   "metadata": {},
   "source": [
    "Plot DCR vs E"
   ]
  },
  {
   "cell_type": "code",
   "execution_count": null,
   "metadata": {},
   "outputs": [],
   "source": [
    "# Bkg show DCR vs E\n",
    "etype = 'trapEmax'\n",
    "#       elo, ehi, epb = 0, 6000, 10\n",
    "elo, ehi, epb = 0, 25000, 10\n",
    "# dlo, dhi, dpb = -1000, 1000, 10\n",
    "# dlo, dhi, dpb = -0.25, 0.25, 0.05\n",
    "# dlo, dhi, dpb = -100., 100., 1\n",
    "dlo, dhi, dpb = -1000., 0., 1\n",
    "\n",
    "nbx = int((ehi-elo)/epb)\n",
    "nby = int((dhi-dlo)/dpb)\n",
    "\n",
    "h = plt.hist2d(bkg_df_cut['trapEmax'], bkg_df_cut['dcr_raw'], bins=[nbx,nby],\n",
    "                range=[[elo, ehi], [dlo, dhi]], cmap='jet', norm=LogNorm())\n",
    "\n",
    "plt.xlabel('trapEmax', ha='right', x=1)\n",
    "plt.ylabel('DCR_raw', ha='right', y=1)\n",
    "plt.title('Background DCR')\n",
    "# plt.tight_layout()\n",
    "# plt.savefig('./plots/bkg_dcr_raw_run34.png', dpi=200)\n",
    "plt.show()"
   ]
  },
  {
   "cell_type": "code",
   "execution_count": null,
   "metadata": {},
   "outputs": [],
   "source": [
    "# Alpha show DCR vs E\n",
    "etype = 'trapEmax'\n",
    "#       elo, ehi, epb = 0, 6000, 10\n",
    "elo, ehi, epb = 0, 25000, 10\n",
    "# dlo, dhi, dpb = -1000, 1000, 10\n",
    "# dlo, dhi, dpb = -0.25, 0.25, 0.0005\n",
    "# dlo, dhi, dpb = -100., 100., 1\n",
    "# dlo, dhi, dpb = -1000., 0., 1\n",
    "dlo, dhi, dpb = -1000., 0., 1\n",
    "\n",
    "nbx = int((ehi-elo)/epb)\n",
    "nby = int((dhi-dlo)/dpb)\n",
    "\n",
    "h = plt.hist2d(alpha_df_cut['trapEmax'], alpha_df_cut['dcr_raw'], bins=[nbx,nby],\n",
    "                range=[[elo, ehi], [dlo, dhi]], cmap='jet', norm=LogNorm())\n",
    "\n",
    "plt.xlabel('trapEmax', ha='right', x=1)\n",
    "plt.ylabel('DCR_raw', ha='right', y=1)\n",
    "plt.title('Alpha DCR')\n",
    "# plt.tight_layout()\n",
    "# plt.savefig('./plots/alpha_dcr_raw_run35.png', dpi=200)\n",
    "plt.show()"
   ]
  },
  {
   "cell_type": "code",
   "execution_count": null,
   "metadata": {},
   "outputs": [],
   "source": [
    "#create dcr/E for background\n",
    "bkg_df_cut['dcr_norm'] = bkg_df_cut['dcr_raw'] / bkg_df_cut['trapEmax']\n",
    "\n",
    "#create dcr/E for alpha\n",
    "alpha_df_cut['dcr_norm'] = alpha_df_cut['dcr_raw'] / alpha_df_cut['trapEmax']"
   ]
  },
  {
   "cell_type": "code",
   "execution_count": null,
   "metadata": {},
   "outputs": [],
   "source": [
    "# Bkg show DCR/E vs E\n",
    "etype = 'trapEmax'\n",
    "#       elo, ehi, epb = 0, 6000, 10\n",
    "elo, ehi, epb = 0, 25000, 10\n",
    "# dlo, dhi, dpb = -1000, 1000, 10\n",
    "# dlo, dhi, dpb = -0.25, 0.25, 0.05\n",
    "# dlo, dhi, dpb = -100., 100., 1\n",
    "# dlo, dhi, dpb = -1000., 0., 1\n",
    "# dlo, dhi, dpb = -0.5, 0.025, 0.0005\n",
    "dlo, dhi, dpb = -0.075, 0.025, 0.0005\n",
    "\n",
    "nbx = int((ehi-elo)/epb)\n",
    "nby = int((dhi-dlo)/dpb)\n",
    "\n",
    "bkg_dcr_hist = plt.hist2d(bkg_df_cut['trapEmax'], bkg_df_cut['dcr_norm'], bins=[nbx,nby],\n",
    "                range=[[elo, ehi], [dlo, dhi]], cmap='jet', norm=LogNorm())\n",
    "\n",
    "plt.xlabel('trapEmax', ha='right', x=1)\n",
    "plt.ylabel('DCR_norm', ha='right', y=1)\n",
    "plt.title('Background DCR')\n",
    "plt.tight_layout()\n",
    "# plt.savefig('./plots/bkg_dcr_norm_run68.pdf', dpi=200)\n",
    "plt.show()"
   ]
  },
  {
   "cell_type": "code",
   "execution_count": null,
   "metadata": {},
   "outputs": [],
   "source": [
    "# Alpha show DCR vs E\n",
    "etype = 'trapEmax'\n",
    "#       elo, ehi, epb = 0, 6000, 10\n",
    "elo, ehi, epb = 0, 25000, 10\n",
    "# dlo, dhi, dpb = -1000, 1000, 10\n",
    "# dlo, dhi, dpb = -0.25, 0.25, 0.0005\n",
    "# dlo, dhi, dpb = -100., 100., 1\n",
    "# dlo, dhi, dpb = -1000., 0., 1\n",
    "# dlo, dhi, dpb = -1000., 0., 1\n",
    "# dlo, dhi, dpb = -0.08, 0.025, 0.0005\n",
    "dlo, dhi, dpb = -0.1, 0.025, 0.0005\n",
    "\n",
    "nbx = int((ehi-elo)/epb)\n",
    "nby = int((dhi-dlo)/dpb)\n",
    "\n",
    "alpha_dcr_hist = plt.hist2d(alpha_df_cut['trapEmax'], alpha_df_cut['dcr_norm'], bins=[nbx,nby],\n",
    "                range=[[elo, ehi], [dlo, dhi]], cmap='jet', norm=LogNorm())\n",
    "\n",
    "plt.xlabel('trapEmax', ha='right', x=1)\n",
    "plt.ylabel('DCR_norm', ha='right', y=1)\n",
    "plt.title('Alpha DCR')\n",
    "plt.tight_layout()\n",
    "# plt.savefig('./plots/alpha_dcr_norm_run70.pdf', dpi=200)\n",
    "plt.show()"
   ]
  },
  {
   "cell_type": "code",
   "execution_count": null,
   "metadata": {},
   "outputs": [],
   "source": [
    "Alpha_dcr_cut = alpha_df_cut.query('trapEmax > 5000 and trapEmax < 15000 and dcr_norm > -0.0515 and dcr_norm < -0.02').copy()"
   ]
  },
  {
   "cell_type": "code",
   "execution_count": null,
   "metadata": {},
   "outputs": [],
   "source": [
    "energy = Alpha_dcr_cut['trapEmax']\n",
    "print(len(energy))"
   ]
  },
  {
   "cell_type": "code",
   "execution_count": null,
   "metadata": {},
   "outputs": [],
   "source": [
    "# Alpha show DCR vs E\n",
    "etype = 'trapEmax'\n",
    "#       elo, ehi, epb = 0, 6000, 10\n",
    "elo, ehi, epb = 0, 25000, 10\n",
    "# dlo, dhi, dpb = -1000, 1000, 10\n",
    "# dlo, dhi, dpb = -0.25, 0.25, 0.0005\n",
    "# dlo, dhi, dpb = -100., 100., 1\n",
    "# dlo, dhi, dpb = -1000., 0., 1\n",
    "# dlo, dhi, dpb = -1000., 0., 1\n",
    "dlo, dhi, dpb = -0.06, 0.025, 0.0005\n",
    "\n",
    "nbx = int((ehi-elo)/epb)\n",
    "nby = int((dhi-dlo)/dpb)\n",
    "\n",
    "hist = bh.numpy.histogram2d(Alpha_dcr_cut['trapEmax'], Alpha_dcr_cut['dcr_norm'], bins=[nbx,nby],\n",
    "                range=[[elo, ehi], [dlo, dhi]], histogram=bh.Histogram)\n",
    "\n",
    "with open('test_save_hist.pkl', 'wb') as f:\n",
    "    pl.dump(hist, f)\n",
    "\n",
    "\n",
    "\n",
    "# alphas = plt.hist2d(Alpha_dcr_cut['trapEmax'], Alpha_dcr_cut['dcr_norm'], bins=[nbx,nby],\n",
    "#                 range=[[elo, ehi], [dlo, dhi]], cmap='jet', norm=LogNorm())\n",
    "\n",
    "# plt.xlabel('trapEmax', ha='right', x=1)\n",
    "# plt.ylabel('DCR_norm', ha='right', y=1)\n",
    "# plt.title(f\"{len(Alpha_dcr_cut['trapEmax'])} Alphas after cut\")\n",
    "# plt.tight_layout()\n",
    "# plt.savefig('./plots/cut_alpha_dcr_norm_run35.png', dpi=200)\n",
    "# plt.show()"
   ]
  },
  {
   "cell_type": "code",
   "execution_count": null,
   "metadata": {},
   "outputs": [],
   "source": [
    "elo, ehi, epb = 0, 25000, 10\n",
    "dlo, dhi, dpb = -0.08, 0.025, 0.0005\n",
    "\n",
    "nbx = int((ehi-elo)/epb)\n",
    "nby = int((dhi-dlo)/dpb)\n",
    "\n",
    "alpha_dcr_hist = bh.numpy.histogram2d(alpha_df_cut['trapEmax'], alpha_df_cut['dcr_norm'], bins=[nbx,nby],\n",
    "                range=[[elo, ehi], [dlo, dhi]], histogram=bh.Histogram)"
   ]
  },
  {
   "cell_type": "code",
   "execution_count": null,
   "metadata": {},
   "outputs": [],
   "source": [
    "with open('test2_save_hist.pkl', 'wb') as f:\n",
    "    pl.dump(alpha_dcr_hist, f)"
   ]
  },
  {
   "cell_type": "code",
   "execution_count": null,
   "metadata": {},
   "outputs": [],
   "source": [
    "with open('test_save_hist.pkl', 'rb') as f:\n",
    "    h2 = pl.load(f)\n",
    "    \n",
    "print(h2)"
   ]
  },
  {
   "cell_type": "code",
   "execution_count": null,
   "metadata": {},
   "outputs": [],
   "source": [
    "def plothist2d(h):\n",
    "    return plt.pcolormesh(*h.axes.edges.T, h.view().T, cmap='plasma', norm=LogNorm())"
   ]
  },
  {
   "cell_type": "code",
   "execution_count": null,
   "metadata": {},
   "outputs": [],
   "source": [
    "plothist2d(h2)"
   ]
  },
  {
   "cell_type": "code",
   "execution_count": null,
   "metadata": {},
   "outputs": [],
   "source": [
    "with open('test2_save_hist.pkl', 'rb') as f:\n",
    "    h3 = pl.load(f)\n",
    "    \n",
    "print(h3)"
   ]
  },
  {
   "cell_type": "code",
   "execution_count": null,
   "metadata": {},
   "outputs": [],
   "source": [
    "plothist2d(h3)"
   ]
  },
  {
   "cell_type": "code",
   "execution_count": null,
   "metadata": {},
   "outputs": [],
   "source": [
    "#3d hist with E, A/E, and DCR\n",
    "#note: this is not useful to save because the file size is huge! ~4Gb!\n",
    "\n",
    "# A/E\n",
    "\n",
    "elo, ehi, epb = 0, 25000, 10\n",
    "alo, ahi, apb = 0.0, 0.09, 0.0001\n",
    "dlo, dhi, dpb = -0.1, 0.025, 0.0005\n",
    "\n",
    "        \n",
    "\n",
    "nbx = int((ehi-elo)/epb)\n",
    "nby = int((ahi-alo)/apb)\n",
    "nbz = int((dhi-dlo)/dpb)\n",
    "\n",
    "energy_aoe_dcr_hist = bh.numpy.histogramdd((alpha_df_cut['trapEmax'], alpha_df_cut['aoe'], alpha_df_cut['dcr_norm']), bins=[nbx,nby, nbz],\n",
    "                range=[[elo, ehi], [alo,ahi], [dlo, dhi]], histogram=bh.Histogram)"
   ]
  },
  {
   "cell_type": "code",
   "execution_count": null,
   "metadata": {},
   "outputs": [],
   "source": [
    "with open('test3d_save_hist.pkl', 'wb') as f:\n",
    "    pl.dump(energy_aoe_dcr_hist, f)"
   ]
  },
  {
   "cell_type": "code",
   "execution_count": null,
   "metadata": {},
   "outputs": [],
   "source": [
    "# show Background DCR vs A/E\n",
    "alo, ahi, apb = 0.0, 1, 0.0009\n",
    "#         dlo, dhi, dpb = -1000, 1000, 10\n",
    "#         dlo, dhi, dpb = -0.25, 0.25, 0.0005\n",
    "# dlo, dhi, dpb = -1., 1, 0.0005\n",
    "# dlo, dhi, dpb = -1000., 0.8, 1\n",
    "dlo, dhi, dpb = -1000., 100., 1\n",
    "\n",
    "nbx = int((ahi-alo)/apb)\n",
    "print(nbx)\n",
    "nby = int((dhi-dlo)/dpb)\n",
    "\n",
    "h = plt.hist2d(bkg_df_cut['aoe'], bkg_df_cut['dcr_raw'], bins=[nbx,nby],\n",
    "                range=[[alo, ahi], [dlo, dhi]], cmap='jet', norm=LogNorm())\n",
    "\n",
    "plt.xlabel('A/E', ha='right', x=1)\n",
    "plt.ylabel('DCR', ha='right', y=1)\n",
    "# plt.savefig('./plots/zoom_alpha_dcr_norm_run31.png', dpi=200)\n",
    "# plt.tight_layout()\n",
    "plt.show()"
   ]
  },
  {
   "cell_type": "code",
   "execution_count": null,
   "metadata": {},
   "outputs": [],
   "source": [
    "# show Background DCR vs A/E\n",
    "# alo, ahi, apb = 0.0, 0.09, 0.0009\n",
    "# #         dlo, dhi, dpb = -1000, 1000, 10\n",
    "# #         dlo, dhi, dpb = -0.25, 0.25, 0.0005\n",
    "# dlo, dhi, dpb = -0.085, 0.025, 0.0005\n",
    "# # dlo, dhi, dpb = -1000., 0.8, 1\n",
    "\n",
    "alo, ahi, apb = 0.0, 1, 0.0009\n",
    "#         dlo, dhi, dpb = -1000, 1000, 10\n",
    "#         dlo, dhi, dpb = -0.25, 0.25, 0.0005\n",
    "# dlo, dhi, dpb = -1., 1, 0.0005\n",
    "dlo, dhi, dpb = -1000., 100., 1\n",
    "\n",
    "nbx = int((ahi-alo)/apb)\n",
    "print(nbx)\n",
    "nby = int((dhi-dlo)/dpb)\n",
    "\n",
    "h = plt.hist2d(alpha_df_cut['aoe'], alpha_df_cut['dcr_raw'], bins=[nbx,nby],\n",
    "                range=[[alo, ahi], [dlo, dhi]], cmap='jet', norm=LogNorm())\n",
    "\n",
    "plt.xlabel('A/E', ha='right', x=1)\n",
    "plt.ylabel('DCR', ha='right', y=1)\n",
    "# plt.savefig('./plots/zoom_alpha_dcr_norm_run31.png', dpi=200)\n",
    "# plt.tight_layout()\n",
    "plt.show()"
   ]
  },
  {
   "cell_type": "code",
   "execution_count": null,
   "metadata": {},
   "outputs": [],
   "source": [
    "import boost_histogram as bh"
   ]
  },
  {
   "cell_type": "code",
   "execution_count": null,
   "metadata": {},
   "outputs": [],
   "source": [
    "# Alpha show DCR vs E\n",
    "etype = 'trapEmax'\n",
    "#       elo, ehi, epb = 0, 6000, 10\n",
    "elo, ehi, epb = 0, 25000, 10\n",
    "# dlo, dhi, dpb = -1000, 1000, 10\n",
    "# dlo, dhi, dpb = -0.25, 0.25, 0.0005\n",
    "# dlo, dhi, dpb = -100., 100., 1\n",
    "# dlo, dhi, dpb = -1000., 0., 1\n",
    "# dlo, dhi, dpb = -1000., 0., 1\n",
    "dlo, dhi, dpb = -0.08, 0.025, 0.0005\n",
    "\n",
    "nbx = int((ehi-elo)/epb)\n",
    "nby = int((dhi-dlo)/dpb)\n",
    "\n",
    "alpha_dcr_hist = plt.hist2d(alpha_df_cut['trapEmax'], alpha_df_cut['dcr_norm'], bins=[nbx,nby],\n",
    "                range=[[elo, ehi], [dlo, dhi]], cmap='jet', norm=LogNorm())\n",
    "\n",
    "plt.xlabel('trapEmax', ha='right', x=1)\n",
    "plt.ylabel('DCR_norm', ha='right', y=1)\n",
    "plt.title('Alpha DCR')\n",
    "plt.tight_layout()\n",
    "plt.savefig('./plots/alpha_dcr_norm_run70.pdf', dpi=200)\n",
    "plt.show()"
   ]
  }
 ],
 "metadata": {
  "kernelspec": {
   "display_name": "legend-base",
   "language": "python",
   "name": "legend-base"
  },
  "language_info": {
   "codemirror_mode": {
    "name": "ipython",
    "version": 3
   },
   "file_extension": ".py",
   "mimetype": "text/x-python",
   "name": "python",
   "nbconvert_exporter": "python",
   "pygments_lexer": "ipython3",
   "version": "3.8.3"
  }
 },
 "nbformat": 4,
 "nbformat_minor": 4
}

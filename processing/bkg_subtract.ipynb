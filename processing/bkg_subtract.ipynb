{
 "cells": [
  {
   "cell_type": "code",
   "execution_count": 1,
   "metadata": {},
   "outputs": [],
   "source": [
    "#!/usr/bin/env python3\n",
    "import os\n",
    "import json\n",
    "import h5py\n",
    "import argparse\n",
    "import pandas as pd\n",
    "import numpy as np\n",
    "import tinydb as db\n",
    "from tinydb.storages import MemoryStorage\n",
    "import matplotlib.pyplot as plt\n",
    "# plt.style.use('../clint.mpl')\n",
    "from matplotlib.colors import LogNorm\n",
    "\n",
    "from pygama import DataGroup\n",
    "import pygama.io.lh5 as lh5\n",
    "import pygama.analysis.histograms as pgh\n",
    "import pygama.analysis.peak_fitting as pgf"
   ]
  },
  {
   "cell_type": "markdown",
   "metadata": {},
   "source": [
    "Load background data from the run of interest"
   ]
  },
  {
   "cell_type": "code",
   "execution_count": 2,
   "metadata": {},
   "outputs": [
    {
     "name": "stdout",
     "output_type": "stream",
     "text": [
      "Loading file key list from: ./fileDB.h5\n",
      "     runtype  run  cycle     startTime    runtime  threshold\n",
      "493  oppi_v2   30    496  1.599176e+09   0.096370      256.0\n",
      "494  oppi_v2   30    497  1.599176e+09  29.981470        8.0\n",
      "495  oppi_v2   30    498  1.599178e+09  29.980170        8.0\n",
      "496  oppi_v2   30    499  1.599180e+09  29.970513        8.0\n",
      "497  oppi_v2   30    500  1.599182e+09  29.977917        8.0\n",
      "498  oppi_v2   30    501  1.599183e+09  29.986194        8.0\n",
      "499  oppi_v2   30    502  1.599185e+09  29.993787        8.0\n",
      "500  oppi_v2   30    503  1.599187e+09  29.985092        8.0\n",
      "501  oppi_v2   30    504  1.599189e+09  29.978162        8.0\n",
      "502  oppi_v2   30    505  1.599191e+09  29.969954        8.0\n",
      "503  oppi_v2   30    506  1.599192e+09  29.990436        8.0\n",
      "504  oppi_v2   30    507  1.599194e+09  29.988058        8.0\n",
      "505  oppi_v2   30    508  1.599196e+09  29.995731        8.0\n",
      "506  oppi_v2   30    509  1.599198e+09  29.989780        8.0\n",
      "507  oppi_v2   30    510  1.599200e+09  29.981720        8.0\n",
      "508  oppi_v2   30    511  1.599201e+09  29.973471        8.0\n",
      "509  oppi_v2   30    512  1.599203e+09  29.998881        8.0\n",
      "510  oppi_v2   30    513  1.599205e+09  29.989213        8.0\n",
      "511  oppi_v2   30    514  1.599207e+09  30.000244        8.0\n",
      "512  oppi_v2   30    515  1.599209e+09  29.993194        8.0\n",
      "513  oppi_v2   30    516  1.599210e+09  29.981658        8.0\n",
      "514  oppi_v2   30    517  1.599212e+09  29.978364        8.0\n",
      "515  oppi_v2   30    518  1.599214e+09  29.997894        8.0\n",
      "516  oppi_v2   30    519  1.599216e+09  29.993627        8.0\n",
      "517  oppi_v2   30    520  1.599218e+09  29.988567        8.0\n",
      "518  oppi_v2   30    521  1.599219e+09  29.980421        8.0\n",
      "519  oppi_v2   30    522  1.599221e+09  29.987699        8.0\n",
      "520  oppi_v2   30    523  1.599223e+09  29.999726        8.0\n",
      "521  oppi_v2   30    524  1.599225e+09  29.991717        8.0\n",
      "522  oppi_v2   30    525  1.599227e+09  29.984581        8.0\n",
      "523  oppi_v2   30    526  1.599228e+09  29.993594        8.0\n",
      "524  oppi_v2   30    527  1.599230e+09  29.968738        8.0\n",
      "525  oppi_v2   30    528  1.599232e+09  29.978523        8.0\n",
      "526  oppi_v2   30    529  1.599234e+09  29.987384        8.0\n",
      "527  oppi_v2   30    530  1.599236e+09  15.313223        8.0\n"
     ]
    }
   ],
   "source": [
    "bkg_dg = DataGroup('cage.json', load=True)\n",
    "bkg_run = 'run==30 and skip==False'\n",
    "# bkg_run = 'run==34 and skip==False'\n",
    "bkg_dg.file_keys.query(bkg_run, inplace=True)\n",
    "view_cols = ['runtype', 'run', 'cycle', 'startTime', 'runtime', 'threshold']\n",
    "print(bkg_dg.file_keys[view_cols])"
   ]
  },
  {
   "cell_type": "markdown",
   "metadata": {},
   "source": [
    "Load alpha data from the run of interest"
   ]
  },
  {
   "cell_type": "code",
   "execution_count": 3,
   "metadata": {},
   "outputs": [
    {
     "name": "stdout",
     "output_type": "stream",
     "text": [
      "Loading file key list from: ./fileDB.h5\n",
      "     runtype  run  cycle     startTime    runtime  threshold\n",
      "528  oppi_v2   31    531  1.599257e+09  29.987254        8.0\n",
      "529  oppi_v2   31    532  1.599259e+09  29.992105        8.0\n",
      "530  oppi_v2   31    533  1.599261e+09  29.985067        8.0\n",
      "531  oppi_v2   31    534  1.599263e+09   7.420690        8.0\n"
     ]
    }
   ],
   "source": [
    "alpha_dg = DataGroup('cage.json', load=True)\n",
    "alpha_run = 'run==31 and skip==False'\n",
    "# alpha_run = 'run==35 and skip==False'\n",
    "alpha_dg.file_keys.query(alpha_run, inplace=True)\n",
    "view_cols = ['runtype', 'run', 'cycle', 'startTime', 'runtime', 'threshold']\n",
    "print(alpha_dg.file_keys[view_cols])"
   ]
  },
  {
   "cell_type": "markdown",
   "metadata": {},
   "source": [
    "Plot raw energy histogram of the background data, then alpha data, from DSP files\n",
    "First get dsp data, runtimes so we can normalize by time"
   ]
  },
  {
   "cell_type": "markdown",
   "metadata": {},
   "source": [
    "First get file list and load background energy data (numpy array)"
   ]
  },
  {
   "cell_type": "code",
   "execution_count": null,
   "metadata": {},
   "outputs": [],
   "source": [
    "# get file list and load background energy data (numpy array)\n",
    "lh5_dir = os.path.expandvars(bkg_dg.config['lh5_dir'])\n",
    "bkg_dsp_list = lh5_dir + bkg_dg.file_keys['dsp_path'] + '/' + bkg_dg.file_keys['dsp_file']\n",
    "bkg_edata = lh5.load_nda(bkg_dsp_list, ['trapEmax'], 'ORSIS3302DecoderForEnergy/dsp')\n",
    "bkg_rt_min = bkg_dg.file_keys['runtime'].sum()\n",
    "bkg_u_start = bkg_dg.file_keys.iloc[0]['startTime']\n",
    "bkg_t_start = pd.to_datetime(bkg_u_start, unit='s') # str"
   ]
  },
  {
   "cell_type": "markdown",
   "metadata": {},
   "source": [
    "Get file list for alpha data"
   ]
  },
  {
   "cell_type": "code",
   "execution_count": null,
   "metadata": {},
   "outputs": [],
   "source": [
    "# get file list and load alpha energy data (numpy array)\n",
    "lh5_dir = os.path.expandvars(alpha_dg.config['lh5_dir'])\n",
    "alpha_dsp_list = lh5_dir + alpha_dg.file_keys['dsp_path'] + '/' + alpha_dg.file_keys['dsp_file']\n",
    "alpha_edata = lh5.load_nda(alpha_dsp_list, ['trapEmax'], 'ORSIS3302DecoderForEnergy/dsp')\n",
    "alpha_rt_min = alpha_dg.file_keys['runtime'].sum()\n",
    "alpha_u_start = alpha_dg.file_keys.iloc[0]['startTime']\n",
    "alpha_t_start = pd.to_datetime(alpha_u_start, unit='s') # str"
   ]
  },
  {
   "cell_type": "markdown",
   "metadata": {},
   "source": [
    "Create background histogram"
   ]
  },
  {
   "cell_type": "code",
   "execution_count": null,
   "metadata": {},
   "outputs": [],
   "source": [
    "# Create background histogram, normalized by runtime\n",
    "elo, ehi, epb = 0, 25000, 10 \n",
    "etype = 'trapEmax'\n",
    "\n",
    "bkg_ene_uncal = bkg_edata[etype]\n",
    "bkg_hist, bins, _ = pgh.get_hist(bkg_ene_uncal, range=(elo, ehi), dx=epb)\n",
    "\n",
    "# normalize by runtime in seconds\n",
    "bkg_hist_rt = np.divide(bkg_hist, bkg_rt_min * 60)"
   ]
  },
  {
   "cell_type": "markdown",
   "metadata": {},
   "source": [
    "Create alpha histogram"
   ]
  },
  {
   "cell_type": "code",
   "execution_count": null,
   "metadata": {},
   "outputs": [],
   "source": [
    "# Create alpha histogram, normalized by runtime\n",
    "\n",
    "alpha_ene_uncal = alpha_edata[etype]\n",
    "alpha_hist, bins, _ = pgh.get_hist(alpha_ene_uncal, range=(elo, ehi), dx=epb)\n",
    "\n",
    "# normalize by runtime in seconds\n",
    "alpha_hist_rt = np.divide(alpha_hist, alpha_rt_min * 60)"
   ]
  },
  {
   "cell_type": "markdown",
   "metadata": {},
   "source": [
    "Plot background spectrum"
   ]
  },
  {
   "cell_type": "code",
   "execution_count": null,
   "metadata": {},
   "outputs": [],
   "source": [
    "# Plot the histograms\n",
    "plt.semilogy(bins[1:], bkg_hist_rt, ds='steps', c='b', lw=1,\n",
    "            label=f'{etype}, {bkg_rt_min:.2f} mins')\n",
    "\n",
    "plt.xlabel(etype, ha='right', x=1)\n",
    "plt.ylabel('cts / sec', ha='right', y=1)\n",
    "plt.legend()\n",
    "plt.title(f'Background run: {bkg_run}')\n",
    "plt.show()"
   ]
  },
  {
   "cell_type": "markdown",
   "metadata": {},
   "source": [
    "Plot alpha spectrum"
   ]
  },
  {
   "cell_type": "code",
   "execution_count": null,
   "metadata": {},
   "outputs": [],
   "source": [
    "# Plot the alpha histogram\n",
    "plt.semilogy(bins[1:], alpha_hist_rt, ds='steps', c='b', lw=1,\n",
    "            label=f'{etype}, {alpha_rt_min:.2f} mins')\n",
    "\n",
    "plt.xlabel(etype, ha='right', x=1)\n",
    "plt.ylabel('cts / sec', ha='right', y=1)\n",
    "plt.legend()\n",
    "plt.title(f'Alpha run: {alpha_run}')\n",
    "plt.show()"
   ]
  },
  {
   "cell_type": "markdown",
   "metadata": {},
   "source": [
    "Subtract the Background histogram from the alpha histogram"
   ]
  },
  {
   "cell_type": "code",
   "execution_count": null,
   "metadata": {},
   "outputs": [],
   "source": [
    "hist_bkg_sub = alpha_hist_rt - bkg_hist_rt"
   ]
  },
  {
   "cell_type": "markdown",
   "metadata": {},
   "source": [
    "Plot background-subtracted histogram "
   ]
  },
  {
   "cell_type": "code",
   "execution_count": null,
   "metadata": {},
   "outputs": [],
   "source": [
    "# Plot the background-subtracted histogram\n",
    "plt.semilogy(bins[1:], hist_bkg_sub, ds='steps', c='b', lw=1,\n",
    "            label=f'{etype}, background subtracted')\n",
    "\n",
    "plt.xlabel(etype, ha='right', x=1)\n",
    "plt.ylabel('cts / sec', ha='right', y=1)\n",
    "plt.legend()\n",
    "plt.title(f'Background subtracted, Alpha run: {alpha_run}')\n",
    "plt.show()"
   ]
  },
  {
   "cell_type": "markdown",
   "metadata": {},
   "source": [
    "Load hit data from local directory"
   ]
  },
  {
   "cell_type": "code",
   "execution_count": 4,
   "metadata": {},
   "outputs": [
    {
     "name": "stdout",
     "output_type": "stream",
     "text": [
      "/global/homes/g/gothman/projecta/CAGE_lh5_joule/\n",
      "Index(['trapEmax', 'bl', 'bl_sig', 'A_10', 'ts_sec', 'dcr'], dtype='object')\n",
      "                 bl        bl_sig          A_10        ts_sec           dcr\n",
      "count  3.832642e+06  3.832642e+06  3.832642e+06  3.832642e+06  3.811138e+06\n",
      "mean   9.376628e+03  4.548370e+00  8.493299e+01  8.926595e+02           inf\n",
      "std    1.624361e+03  2.515147e+01  2.097900e+02  5.191997e+02           NaN\n",
      "min    0.000000e+00  0.000000e+00  1.714317e+00  2.931742e-02 -4.003872e+06\n",
      "25%    9.287154e+03  4.002597e+00  2.292959e+01  4.429820e+02 -9.391513e-01\n",
      "50%    9.298229e+03  4.174541e+00  3.714658e+01  8.859437e+02  3.767933e-02\n",
      "75%    9.304571e+03  4.440948e+00  7.259209e+01  1.341848e+03  1.016084e+00\n",
      "max    4.393224e+04  9.631724e+03  3.679710e+03  1.800015e+03           inf\n"
     ]
    }
   ],
   "source": [
    "lh5_dir = bkg_dg.lh5_user_dir #if user else dg.lh5_dir\n",
    "print(lh5_dir)\n",
    "# exit()\n",
    "bkg_hit_list = lh5_dir + bkg_dg.file_keys['hit_path'] + '/' + bkg_dg.file_keys['hit_file']\n",
    "# bkg_df_hit = lh5.load_dfs(bkg_hit_list, ['trapEmax', 'bl','bl_sig','A_10','ts_sec', 'dcr_raw', 'dcr_ftp', 'dcr_max'], 'ORSIS3302DecoderForEnergy/hit')\n",
    "bkg_df_hit = lh5.load_dfs(bkg_hit_list, ['trapEmax', 'bl','bl_sig','A_10','ts_sec', 'dcr'], 'ORSIS3302DecoderForEnergy/hit')\n",
    "# print(df_hit)\n",
    "print(bkg_df_hit.columns)\n",
    "\n",
    "# bkg_dsc = bkg_df_hit[['bl','bl_sig','A_10','ts_sec', 'dcr_raw']].describe()\n",
    "bkg_dsc = bkg_df_hit[['bl','bl_sig','A_10','ts_sec', 'dcr']].describe()\n",
    "print(bkg_dsc)"
   ]
  },
  {
   "cell_type": "code",
   "execution_count": 10,
   "metadata": {},
   "outputs": [
    {
     "name": "stdout",
     "output_type": "stream",
     "text": [
      "/global/homes/g/gothman/projecta/CAGE_lh5_joule/\n",
      "528    /global/homes/g/gothman/projecta/CAGE_lh5_joul...\n",
      "529    /global/homes/g/gothman/projecta/CAGE_lh5_joul...\n",
      "530    /global/homes/g/gothman/projecta/CAGE_lh5_joul...\n",
      "531    /global/homes/g/gothman/projecta/CAGE_lh5_joul...\n",
      "dtype: object\n",
      "Index(['trapEmax', 'bl', 'bl_sig', 'A_10', 'ts_sec', 'dcr_raw'], dtype='object')\n",
      "                  bl         bl_sig           A_10         ts_sec  \\\n",
      "count  385461.000000  385461.000000  385461.000000  385461.000000   \n",
      "mean     9079.127930       4.329427      72.080994     847.054185   \n",
      "std      1507.844116      46.062943     189.287857     530.939624   \n",
      "min         0.000000       0.000000       1.499873       0.036842   \n",
      "25%      9282.013672       3.495314      18.107244     365.704441   \n",
      "50%      9293.638672       3.641525      29.810297     824.257389   \n",
      "75%      9299.955078       3.878845      59.423962    1310.589926   \n",
      "max     43856.105469   16691.498047    2933.832031    1799.526282   \n",
      "\n",
      "            dcr_raw  \n",
      "count  3.853220e+05  \n",
      "mean  -5.662786e+31  \n",
      "std             inf  \n",
      "min   -1.847577e+36  \n",
      "25%   -6.598945e+01  \n",
      "50%   -3.159261e+01  \n",
      "75%   -1.812286e+01  \n",
      "max    1.646826e+36  \n"
     ]
    }
   ],
   "source": [
    "lh5_dir = alpha_dg.lh5_user_dir #if user else dg.lh5_dir\n",
    "print(lh5_dir)\n",
    "alpha_hit_list = lh5_dir + alpha_dg.file_keys['hit_path'] + '/' + alpha_dg.file_keys['hit_file']\n",
    "print(alpha_hit_list)\n",
    "# alpha_df_hit = lh5.load_dfs(alpha_hit_list, ['trapEmax', 'bl','bl_sig','A_10','ts_sec', 'dcr_raw', 'dcr_ftp', 'dcr_max'], 'ORSIS3302DecoderForEnergy/hit')\n",
    "alpha_df_hit = lh5.load_dfs(alpha_hit_list, ['trapEmax', 'bl','bl_sig','A_10','ts_sec', 'dcr_raw'], 'ORSIS3302DecoderForEnergy/hit')\n",
    "# print(df_hit)\n",
    "print(alpha_df_hit.columns)\n",
    "\n",
    "# alpha_dsc = alpha_df_hit[['bl','bl_sig','A_10','ts_sec', 'dcr_raw', 'dcr_ftp', 'dcr_max']].describe()\n",
    "alpha_dsc = alpha_df_hit[['bl','bl_sig','A_10','ts_sec', 'dcr_raw']].describe()\n",
    "print(alpha_dsc)"
   ]
  },
  {
   "cell_type": "markdown",
   "metadata": {},
   "source": [
    "Now plot baseline vs E"
   ]
  },
  {
   "cell_type": "code",
   "execution_count": null,
   "metadata": {},
   "outputs": [],
   "source": [
    "# Background Baseline vs E\n",
    "elo, ehi, epb = 0, 50, 1\n",
    "blo, bhi, bpb = 0, 10000, 100\n",
    "nbx = int((ehi-elo)/epb)\n",
    "nby = int((bhi-blo)/bpb)\n",
    "\n",
    "h = plt.hist2d(bkg_df_hit['trapEmax'], bkg_df_hit['bl'], bins=[nbx,nby],\n",
    "                       range=[[elo, ehi], [blo, bhi]], cmap='jet')\n",
    "\n",
    "cb = plt.colorbar(h[3], ax=plt.gca())\n",
    "plt.xlabel('trapEmax', ha='right', x=1)\n",
    "plt.ylabel('bl', ha='right', y=1)\n",
    "plt.title('Baseline, background')\n",
    "# plt.tight_layout()\n",
    "plt.show()"
   ]
  },
  {
   "cell_type": "code",
   "execution_count": null,
   "metadata": {},
   "outputs": [],
   "source": [
    "# Alpha Baseline vs E\n",
    "elo, ehi, epb = 0, 50, 1\n",
    "blo, bhi, bpb = 0, 10000, 100\n",
    "nbx = int((ehi-elo)/epb)\n",
    "nby = int((bhi-blo)/bpb)\n",
    "\n",
    "h = plt.hist2d(alpha_df_hit['trapEmax'], alpha_df_hit['bl'], bins=[nbx,nby],\n",
    "                       range=[[elo, ehi], [blo, bhi]], cmap='jet')\n",
    "\n",
    "cb = plt.colorbar(h[3], ax=plt.gca())\n",
    "plt.xlabel('trapEmax', ha='right', x=1)\n",
    "plt.ylabel('bl', ha='right', y=1)\n",
    "plt.title('Baseline, alpha')\n",
    "# plt.tight_layout()\n",
    "plt.show()"
   ]
  },
  {
   "cell_type": "markdown",
   "metadata": {},
   "source": [
    "Make a cut based on BL value"
   ]
  },
  {
   "cell_type": "code",
   "execution_count": null,
   "metadata": {},
   "outputs": [],
   "source": [
    "# make a formal baseline cut from 1d histogram\n",
    "hE, bins, vE = pgh.get_hist(alpha_df_hit['bl'], range=(blo, bhi), dx=bpb)\n",
    "xE = bins[1:]\n",
    "plt.semilogy(xE, hE, c='b', ds='steps')\n",
    "\n",
    "bl_cut_lo, bl_cut_hi = 8000,10000\n",
    "plt.axvline(bl_cut_lo, c='r', lw=1)\n",
    "plt.axvline(bl_cut_hi, c='r', lw=1)\n",
    "\n",
    "plt.xlabel('bl', ha='right', x=1)\n",
    "plt.ylabel('counts', ha='right', y=1)\n",
    "plt.show()"
   ]
  },
  {
   "cell_type": "markdown",
   "metadata": {},
   "source": [
    "Use BL cut from above, create A/E"
   ]
  },
  {
   "cell_type": "code",
   "execution_count": null,
   "metadata": {},
   "outputs": [],
   "source": [
    "# Background A_10/trapEmax vs trapEmax (A/E vs E)\n",
    "\n",
    "# use baseline cut\n",
    "bkg_df_cut = bkg_df_hit.query('bl > 8000 and bl < 10000').copy()\n",
    "\n",
    "# add new A/E column\n",
    "bkg_df_cut['aoe'] = bkg_df_cut['A_10'] / bkg_df_cut['trapEmax']"
   ]
  },
  {
   "cell_type": "code",
   "execution_count": 11,
   "metadata": {},
   "outputs": [],
   "source": [
    "# Alpha A_10/trapEmax vs trapEmax (A/E vs E)\n",
    "\n",
    "# use baseline cut\n",
    "alpha_df_cut = alpha_df_hit.query('bl > 8000 and bl < 10000').copy()\n",
    "\n",
    "# add new A/E column\n",
    "alpha_df_cut['aoe'] = alpha_df_cut['A_10'] / alpha_df_cut['trapEmax']"
   ]
  },
  {
   "cell_type": "markdown",
   "metadata": {},
   "source": [
    "Plot A/E vs E"
   ]
  },
  {
   "cell_type": "code",
   "execution_count": 12,
   "metadata": {},
   "outputs": [
    {
     "ename": "NameError",
     "evalue": "name 'bkg_df_cut' is not defined",
     "output_type": "error",
     "traceback": [
      "\u001b[0;31m---------------------------------------------------------------------------\u001b[0m",
      "\u001b[0;31mNameError\u001b[0m                                 Traceback (most recent call last)",
      "\u001b[0;32m<ipython-input-12-0d3f81440414>\u001b[0m in \u001b[0;36m<module>\u001b[0;34m\u001b[0m\n\u001b[1;32m      8\u001b[0m \u001b[0mnby\u001b[0m \u001b[0;34m=\u001b[0m \u001b[0mint\u001b[0m\u001b[0;34m(\u001b[0m\u001b[0;34m(\u001b[0m\u001b[0mahi\u001b[0m\u001b[0;34m-\u001b[0m\u001b[0malo\u001b[0m\u001b[0;34m)\u001b[0m\u001b[0;34m/\u001b[0m\u001b[0mapb\u001b[0m\u001b[0;34m)\u001b[0m\u001b[0;34m\u001b[0m\u001b[0;34m\u001b[0m\u001b[0m\n\u001b[1;32m      9\u001b[0m \u001b[0;34m\u001b[0m\u001b[0m\n\u001b[0;32m---> 10\u001b[0;31m h = plt.hist2d(bkg_df_cut['trapEmax'], bkg_df_cut['aoe'], bins=[nbx,nby],\n\u001b[0m\u001b[1;32m     11\u001b[0m                 range=[[elo, ehi], [alo, ahi]], cmap='jet', norm=LogNorm())\n\u001b[1;32m     12\u001b[0m \u001b[0;34m\u001b[0m\u001b[0m\n",
      "\u001b[0;31mNameError\u001b[0m: name 'bkg_df_cut' is not defined"
     ]
    }
   ],
   "source": [
    "alo, ahi, apb = 0.0, 0.09, 0.0001\n",
    "elo, ehi, epb = 0, 25000, 10\n",
    "# elo, ehi, epb = 0, 3000, 10\n",
    "# elo, ehi, epb = 0, 6000, 10\n",
    "        \n",
    "\n",
    "nbx = int((ehi-elo)/epb)\n",
    "nby = int((ahi-alo)/apb)\n",
    "\n",
    "h = plt.hist2d(bkg_df_cut['trapEmax'], bkg_df_cut['aoe'], bins=[nbx,nby],\n",
    "                range=[[elo, ehi], [alo, ahi]], cmap='jet', norm=LogNorm())\n",
    "\n",
    "plt.xlabel('trapEmax', ha='right', x=1)\n",
    "plt.ylabel('A/E', ha='right', y=1)\n",
    "plt.title('Background A/E')\n",
    "plt.tight_layout()\n",
    "plt.show()"
   ]
  },
  {
   "cell_type": "code",
   "execution_count": 13,
   "metadata": {},
   "outputs": [
    {
     "data": {
      "image/png": "[encoded data removed]",
      "text/plain": [
       "<Figure size 432x288 with 1 Axes>"
      ]
     },
     "metadata": {
      "needs_background": "light"
     },
     "output_type": "display_data"
    }
   ],
   "source": [
    "alo, ahi, apb = 0.0, 0.09, 0.0001\n",
    "elo, ehi, epb = 0, 25000, 10\n",
    "# elo, ehi, epb = 0, 3000, 10\n",
    "# elo, ehi, epb = 0, 6000, 10\n",
    "        \n",
    "\n",
    "nbx = int((ehi-elo)/epb)\n",
    "nby = int((ahi-alo)/apb)\n",
    "\n",
    "h = plt.hist2d(alpha_df_cut['trapEmax'], alpha_df_cut['aoe'], bins=[nbx,nby],\n",
    "                range=[[elo, ehi], [alo, ahi]], cmap='jet', norm=LogNorm())\n",
    "\n",
    "plt.xlabel('trapEmax', ha='right', x=1)\n",
    "plt.ylabel('A/E', ha='right', y=1)\n",
    "plt.title('Alpha A/E')\n",
    "plt.tight_layout()\n",
    "plt.show()"
   ]
  },
  {
   "cell_type": "markdown",
   "metadata": {},
   "source": [
    "Plot DCR vs E"
   ]
  },
  {
   "cell_type": "code",
   "execution_count": null,
   "metadata": {},
   "outputs": [],
   "source": [
    "# Bkg show DCR vs E\n",
    "etype = 'trapEmax'\n",
    "#       elo, ehi, epb = 0, 6000, 10\n",
    "elo, ehi, epb = 0, 25000, 10\n",
    "# dlo, dhi, dpb = -1000, 1000, 10\n",
    "# dlo, dhi, dpb = -0.25, 0.25, 0.05\n",
    "dlo, dhi, dpb = -100., 100., 1\n",
    "# dlo, dhi, dpb = -1000., 0., 1\n",
    "\n",
    "\n",
    "nbx = int((ehi-elo)/epb)\n",
    "nby = int((dhi-dlo)/dpb)\n",
    "\n",
    "h = plt.hist2d(bkg_df_cut['trapEmax'], bkg_df_cut['dcr'], bins=[nbx,nby],\n",
    "                range=[[elo, ehi], [dlo, dhi]], cmap='jet', norm=LogNorm())\n",
    "\n",
    "plt.xlabel('trapEmax', ha='right', x=1)\n",
    "plt.ylabel('DCR_ftp', ha='right', y=1)\n",
    "plt.title('Background DCR')\n",
    "# plt.tight_layout()\n",
    "# plt.savefig('./plots/bkg_dcr_raw_run34.png', dpi=200)\n",
    "plt.show()"
   ]
  },
  {
   "cell_type": "code",
   "execution_count": 16,
   "metadata": {},
   "outputs": [
    {
     "data": {
      "image/png": "[encoded data removed]",
      "text/plain": [
       "<Figure size 432x288 with 1 Axes>"
      ]
     },
     "metadata": {
      "needs_background": "light"
     },
     "output_type": "display_data"
    }
   ],
   "source": [
    "# Alpha show DCR vs E\n",
    "etype = 'trapEmax'\n",
    "#       elo, ehi, epb = 0, 6000, 10\n",
    "elo, ehi, epb = 0, 25000, 10\n",
    "# dlo, dhi, dpb = -1000, 1000, 10\n",
    "# dlo, dhi, dpb = -0.25, 0.25, 0.0005\n",
    "# dlo, dhi, dpb = -100., 100., 1\n",
    "# dlo, dhi, dpb = -1000., 0., 1\n",
    "dlo, dhi, dpb = -1000., 0., 1\n",
    "\n",
    "nbx = int((ehi-elo)/epb)\n",
    "nby = int((dhi-dlo)/dpb)\n",
    "\n",
    "h = plt.hist2d(alpha_df_cut['trapEmax'], alpha_df_cut['dcr_raw'], bins=[nbx,nby],\n",
    "                range=[[elo, ehi], [dlo, dhi]], cmap='jet', norm=LogNorm())\n",
    "\n",
    "plt.xlabel('trapEmax', ha='right', x=1)\n",
    "plt.ylabel('DCR_raw', ha='right', y=1)\n",
    "plt.title('Alpha DCR')\n",
    "# plt.tight_layout()\n",
    "# plt.savefig('./plots/alpha_dcr_raw_run35.png', dpi=200)\n",
    "plt.show()"
   ]
  },
  {
   "cell_type": "code",
   "execution_count": null,
   "metadata": {},
   "outputs": [],
   "source": []
  }
 ],
 "metadata": {
  "kernelspec": {
   "display_name": "legend-base",
   "language": "python",
   "name": "legend-base"
  },
  "language_info": {
   "codemirror_mode": {
    "name": "ipython",
    "version": 3
   },
   "file_extension": ".py",
   "mimetype": "text/x-python",
   "name": "python",
   "nbconvert_exporter": "python",
   "pygments_lexer": "ipython3",
   "version": "3.8.3"
  }
 },
 "nbformat": 4,
 "nbformat_minor": 4
}

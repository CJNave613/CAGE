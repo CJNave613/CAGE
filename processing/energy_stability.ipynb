{
 "cells": [
  {
   "cell_type": "markdown",
   "metadata": {},
   "source": [
    "Quick analysis"
   ]
  },
  {
   "cell_type": "code",
   "execution_count": null,
   "metadata": {},
   "outputs": [],
   "source": [
    "#!/usr/bin/env python3\n",
    "import os\n",
    "import json\n",
    "import h5py\n",
    "import argparse\n",
    "import pandas as pd\n",
    "import numpy as np\n",
    "import tinydb as db\n",
    "from tinydb.storages import MemoryStorage\n",
    "import matplotlib.pyplot as plt\n",
    "# plt.style.use('../clint.mpl')\n",
    "from matplotlib.colors import LogNorm\n",
    "\n",
    "import boost_histogram as bh\n",
    "import pickle as pl\n",
    "\n",
    "from pygama import DataGroup\n",
    "import pygama.io.lh5 as lh5\n",
    "import pygama.analysis.histograms as pgh\n",
    "import pygama.analysis.peak_fitting as pgf"
   ]
  },
  {
   "cell_type": "code",
   "execution_count": null,
   "metadata": {},
   "outputs": [],
   "source": [
    "dg = DataGroup('cage.json', load=True)\n",
    "run = 82\n",
    "str_query = f'run=={run} and skip==False'\n",
    "dg.file_keys.query(str_query, inplace=True)\n",
    "# view_cols = ['runtype', 'run', 'cycle', 'startTime', 'runtime', 'threshold']\n",
    "# print(dg.file_keys[view_cols])\n",
    "print(dg.file_keys)"
   ]
  },
  {
   "cell_type": "code",
   "execution_count": null,
   "metadata": {},
   "outputs": [],
   "source": [
    "#get runtime, startime, runtype\n",
    "\n",
    "runtype_list = np.array(dg.file_keys['runtype'])\n",
    "runtype = runtype_list[0]\n",
    "\n",
    "rt_min = dg.file_keys['runtime'].sum()\n",
    "u_start = dg.file_keys.iloc[0]['startTime']\n",
    "t_start = pd.to_datetime(u_start, unit='s') # str\n",
    "print(rt_min)"
   ]
  },
  {
   "cell_type": "code",
   "execution_count": null,
   "metadata": {},
   "outputs": [],
   "source": [
    "# get scan position\n",
    "\n",
    "if runtype == 'alp':\n",
    "    alphaDB = pd.read_hdf('alphaDB.h5')\n",
    "    scan_pos = alphaDB.loc[alphaDB['run']==run]\n",
    "    radius = np.array(scan_pos['radius'])[0]\n",
    "    angle = np.array(scan_pos['angle'])[0]\n",
    "    angle_det = 270 + angle\n",
    "    print(f'Radius: {radius}; Angle: {angle}')\n",
    "    \n",
    "else:\n",
    "    radius = 'n/a'\n",
    "    angle = 'n/a'\n",
    "    angle_det = 'n/a'"
   ]
  },
  {
   "cell_type": "code",
   "execution_count": null,
   "metadata": {},
   "outputs": [],
   "source": [
    "lh5_dir = dg.lh5_user_dir #if user else dg.lh5_dir\n",
    "print(lh5_dir)\n",
    "hit_list = lh5_dir + dg.file_keys['hit_path'] + '/' + dg.file_keys['hit_file']\n",
    "print(hit_list)\n",
    "df_hit = lh5.load_dfs(hit_list, ['energy', 'trapEmax', 'trapEmax_cal', 'trapEftp', 'timestamp', 'bl','bl_sig','A_10','AoE', 'ts_sec', 'dcr_raw', 'dcr_ftp', 'dcr_max', 'tp_0', 'tp_10', 'tp_90', 'tp_50', 'tp_80', 'tp_max'], 'ORSIS3302DecoderForEnergy/hit')\n",
    "# df_hit = lh5.load_dfs(alpha_hit_list, ['trapEmax', 'bl','bl_sig','A_10','ts_sec', 'dcr_raw'], 'ORSIS3302DecoderForEnergy/hit')\n",
    "# print(df_hit)\n",
    "# print(df_hit.columns)\n",
    "\n",
    "# dsc = df_hit[['bl','bl_sig','A_10','AoE', 'ts_sec', 'dcr_raw', 'dcr_ftp', 'dcr_max']].describe()\n",
    "# dsc = df_hit[['bl','bl_sig','A_10','ts_sec', 'dcr_raw']].describe()\n",
    "# print(dsc)"
   ]
  },
  {
   "cell_type": "code",
   "execution_count": null,
   "metadata": {},
   "outputs": [],
   "source": [
    "print(len(df_hit['timestamp']))\n",
    "print(len(df_hit['trapEmax']))\n",
    "ts_array  = np.array(df_hit['ts_sec'])\n",
    "ts_max = np.amax(ts_array)\n",
    "df_hit['timestamp'].min"
   ]
  },
  {
   "cell_type": "code",
   "execution_count": null,
   "metadata": {},
   "outputs": [],
   "source": [
    "etype = 'trapEmax'\n",
    "# etype = 'trapEmax_cal'\n",
    "# etype = 'trapEftp'"
   ]
  },
  {
   "cell_type": "code",
   "execution_count": null,
   "metadata": {},
   "outputs": [],
   "source": [
    "# Baseline vs E\n",
    "\n",
    "\n",
    "\n",
    "elo, ehi, epb = 0, 25000, 100\n",
    "tlo, thi, tpb = 0, 2000, 1\n",
    "# tlo, thi, tpb = 0, 1800, 1\n",
    "nbx = int((thi-tlo)/tpb)\n",
    "nby = int((ehi-elo)/epb)\n",
    "\n",
    "h = plt.hist2d(df_hit['ts_sec'], df_hit['trapEmax'], bins=[nbx,nby],\n",
    "                       range=[[tlo, thi], [elo, ehi]], cmap='viridis', norm=LogNorm(1,100))\n",
    "\n",
    "cb = plt.colorbar(h[3], ax=plt.gca())\n",
    "plt.xlabel('timestamp (10s sec)', ha='right', x=1)\n",
    "plt.ylabel('trapEmax', ha='right', y=1)\n",
    "plt.title(f'Energy vs time, {runtype} run {run}')\n",
    "# plt.tight_layout()\n",
    "plt.show()"
   ]
  },
  {
   "cell_type": "code",
   "execution_count": null,
   "metadata": {},
   "outputs": [],
   "source": [
    "# Baseline vs E\n",
    "\n",
    "\n",
    "\n",
    "elo, ehi, epb = 0, 500, 5\n",
    "tlo, thi, tpb = 0, 2000, 1\n",
    "# tlo, thi, tpb = 0, 1800, 1\n",
    "nbx = int((thi-tlo)/tpb)\n",
    "nby = int((ehi-elo)/epb)\n",
    "\n",
    "h = plt.hist2d(df_hit['ts_sec'], df_hit['trapEmax_cal'], bins=[nbx,nby],\n",
    "                       range=[[tlo, thi], [elo, ehi]], cmap='viridis', norm=LogNorm(1,10))\n",
    "\n",
    "cb = plt.colorbar(h[3], ax=plt.gca())\n",
    "plt.xlabel('timestamp (10s sec)', ha='right', x=1)\n",
    "plt.ylabel('trapEmax', ha='right', y=1)\n",
    "plt.title(f'Energy vs time, {runtype} run {run}')\n",
    "# plt.tight_layout()\n",
    "plt.show()"
   ]
  },
  {
   "cell_type": "code",
   "execution_count": null,
   "metadata": {},
   "outputs": [],
   "source": [
    "# rate stability\n",
    "tlo, thi, tpb = 0, 1800, 1\n",
    "nbx = int((thi-tlo)/tpb)\n",
    "\n",
    "bl_hist, bins = np.histogram(df_hit['ts_sec'], bins=nbx,\n",
    "                range=[tlo, thi])\n",
    "\n",
    "plt.semilogy(bins[1:], bl_hist, ds='steps', c='b', lw=1)\n",
    "\n",
    "# bl_cut_lo, bl_cut_hi = 8500,10000\n",
    "\n",
    "# plt.axvline(bl_cut_lo, c='r', lw=1)\n",
    "# plt.axvline(bl_cut_hi, c='r', lw=1)\n",
    "\n",
    "plt.xlabel('timestamp (10s seconds)', ha='right', x=1)\n",
    "plt.ylabel('counts', ha='right', y=1)\n",
    "plt.title('Rate vs Time')\n",
    "plt.show()"
   ]
  },
  {
   "cell_type": "code",
   "execution_count": null,
   "metadata": {},
   "outputs": [],
   "source": [
    "# use baseline cut and get 1460 events\n",
    "elo, ehi = 3800, 4500\n",
    "df_cut = df_hit.query('bl > 8500 and bl < 10000').copy()\n",
    "e_cut = df_cut.query(f' trapEmax > {elo} and trapEmax < {ehi}').copy()\n",
    "\n",
    "#create dcr/E \n",
    "df_cut['dcr_norm'] = df_cut['dcr_raw'] / df_cut['trapEmax']\n",
    "\n",
    "#creat new DCR\n",
    "const = 0.0555\n",
    "df_cut['dcr_linoff'] = df_cut['dcr_raw'] + const*df_cut['trapEmax']\n",
    "\n",
    "# #create 10-90\n",
    "# df_cut['10-90'] = df_cut['tp_90']- df_cut['tp_10']\n",
    "\n",
    "# #create 50-90\n",
    "# df_cut['50-90'] = df_cut['tp_90']- df_cut['tp_50']\n",
    "\n",
    "#create 0-50\n",
    "df_cut['tp0_50'] = df_cut['tp_50']- df_cut['tp_0']"
   ]
  },
  {
   "cell_type": "code",
   "execution_count": null,
   "metadata": {},
   "outputs": [],
   "source": [
    "# Baseline vs E\n",
    "\n",
    "elo, ehi, epb = 3950, 4025, 1\n",
    "tlo, thi, tpb = 0, 1800, 30\n",
    "nbx = int((thi-tlo)/tpb)\n",
    "nby = int((ehi-elo)/epb)\n",
    "\n",
    "h = plt.hist2d(e_cut['ts_sec'], e_cut['trapEmax'], bins=[nbx,nby],\n",
    "                       range=[[tlo, thi], [elo, ehi]], cmap='jet', norm=LogNorm())\n",
    "\n",
    "cb = plt.colorbar(h[3], ax=plt.gca())\n",
    "plt.xlabel('timestamp (s)', ha='right', x=1)\n",
    "plt.ylabel('trapEmax', ha='right', y=1)\n",
    "plt.title(f'Energy vs time, 1460 peak, {runtype} run {run}')\n",
    "# plt.tight_layout()\n",
    "plt.show()"
   ]
  },
  {
   "cell_type": "code",
   "execution_count": null,
   "metadata": {},
   "outputs": [],
   "source": [
    "# E vs t\n",
    "\n",
    "elo, ehi, epb = 300, 400, 1\n",
    "tlo, thi, tpb = 0, 1800, 30\n",
    "nbx = int((thi-tlo)/tpb)\n",
    "nby = int((ehi-elo)/epb)\n",
    "\n",
    "h = plt.hist2d(df_hit['ts_sec'], df_hit['trapEmax_cal'], bins=[nbx,nby],\n",
    "                       range=[[tlo, thi], [elo, ehi]], cmap='viridis', norm=LogNorm())\n",
    "\n",
    "cb = plt.colorbar(h[3], ax=plt.gca())\n",
    "plt.xlabel('timestamp (s)', ha='right', x=1)\n",
    "plt.ylabel('trapEmax_cal', ha='right', y=1)\n",
    "plt.title(f'Energy vs time, 352 keV peak, {runtype} run {run}')\n",
    "# plt.tight_layout()\n",
    "plt.show()"
   ]
  },
  {
   "cell_type": "code",
   "execution_count": null,
   "metadata": {},
   "outputs": [],
   "source": [
    "# Baseline vs E\n",
    "\n",
    "elo, ehi, epb = 1440, 1480, 0.5\n",
    "tlo, thi, tpb = 0, 1800, 30\n",
    "nbx = int((thi-tlo)/tpb)\n",
    "nby = int((ehi-elo)/epb)\n",
    "\n",
    "h = plt.hist2d(e_cut['ts_sec'], e_cut['trapEmax_cal'], bins=[nbx,nby],\n",
    "                       range=[[tlo, thi], [elo, ehi]], cmap='viridis', norm=LogNorm())\n",
    "\n",
    "cb = plt.colorbar(h[3], ax=plt.gca())\n",
    "plt.xlabel('timestamp (s)', ha='right', x=1)\n",
    "plt.ylabel('trapEmax', ha='right', y=1)\n",
    "plt.title(f'Energy vs time, 1460 peak, {runtype} run {run}')\n",
    "# plt.tight_layout()\n",
    "plt.show()"
   ]
  },
  {
   "cell_type": "code",
   "execution_count": null,
   "metadata": {},
   "outputs": [],
   "source": [
    "# Baseline vs E\n",
    "\n",
    "# elo, ehi, epb = 1440, 1480, 0.5\n",
    "elo, ehi, epb = 340, 360, 1\n",
    "tlo, thi, tpb = 0, 1800, 30\n",
    "nbx = int((thi-tlo)/tpb)\n",
    "nby = int((ehi-elo)/epb)\n",
    "\n",
    "h = plt.hist2d(df_cut['ts_sec'], df_cut['trapEmax_cal'], bins=[nbx,nby],\n",
    "                       range=[[tlo, thi], [elo, ehi]], cmap='viridis', norm=LogNorm(10, 40))\n",
    "\n",
    "cb = plt.colorbar(h[3], ax=plt.gca())\n",
    "plt.xlabel('timestamp (s)', ha='right', x=1)\n",
    "plt.ylabel('trapEmax_cal', ha='right', y=1)\n",
    "plt.title(f'Energy vs time, 352 peak, {runtype} run {run}')\n",
    "# plt.tight_layout()\n",
    "plt.show()"
   ]
  },
  {
   "cell_type": "code",
   "execution_count": null,
   "metadata": {},
   "outputs": [],
   "source": [
    "# Baseline vs E\n",
    "\n",
    "elo, ehi, epb = 3950, 4025, 1\n",
    "tlo, thi, tpb = 0, 1800, 1\n",
    "nbx = int((thi-tlo)/tpb)\n",
    "nby = int((ehi-elo)/epb)\n",
    "\n",
    "h = plt.hist2d(df_cut['ts_sec'], df_cut['trapEftp'], bins=[nbx,nby],\n",
    "                       range=[[tlo, thi], [elo, ehi]], cmap='jet', norm=LogNorm())\n",
    "\n",
    "cb = plt.colorbar(h[3], ax=plt.gca())\n",
    "plt.xlabel('timestamp (s)', ha='right', x=1)\n",
    "plt.ylabel('trapEmax', ha='right', y=1)\n",
    "plt.title(f'Energy vs time, 1460 peak, {runtype} run {run}')\n",
    "# plt.tight_layout()\n",
    "plt.show()"
   ]
  },
  {
   "cell_type": "code",
   "execution_count": null,
   "metadata": {},
   "outputs": [],
   "source": []
  },
  {
   "cell_type": "code",
   "execution_count": null,
   "metadata": {},
   "outputs": [],
   "source": [
    "# Baseline vs E\n",
    "\n",
    "elo, ehi, epb = 3950, 4025, 1\n",
    "tlo, thi, tpb = 0, 1800, 1\n",
    "nbx = int((thi-tlo)/tpb)\n",
    "nby = int((ehi-elo)/epb)\n",
    "\n",
    "h = plt.hist2d(df_cut['trapEmax'], df_cut['trapEftp'], bins=[nbx,nbx],\n",
    "                       range=[[elo, ehi], [elo, ehi]], cmap='jet', norm=LogNorm())\n",
    "\n",
    "cb = plt.colorbar(h[3], ax=plt.gca())\n",
    "plt.xlabel('trapEmax', ha='right', x=1)\n",
    "plt.ylabel('trapEftp', ha='right', y=1)\n",
    "plt.title(f'Energy vs time, 1460 peak, {runtype} run {run}')\n",
    "# plt.tight_layout()\n",
    "plt.show()"
   ]
  },
  {
   "cell_type": "code",
   "execution_count": null,
   "metadata": {},
   "outputs": [],
   "source": [
    "# Make energy spectrum\n",
    "# elo, ehi, epb = 0, 35000, 10\n",
    "# elo, ehi, epb = 0, 8000, 10\n",
    "elo, ehi, epb = 3800, 4100, 10\n",
    "# elo, ehi, epb = 0, 6000, 10\n",
    "        \n",
    "\n",
    "nbx = int((ehi-elo)/epb)\n",
    "\n",
    "energy_hist, bins = np.histogram(df_cut['trapEmax'], bins=nbx,\n",
    "                range=[elo, ehi])\n",
    "energy_rt = np.divide(energy_hist, rt_min * 60)\n",
    "\n",
    "plt.semilogy(bins[1:], energy_rt, ds='steps', c='b', lw=1) #, label=f'{etype}'\n",
    "\n",
    "plt.xlabel(etype, ha='right', x=1)\n",
    "plt.ylabel('cts / sec', ha='right', y=1)\n",
    "# plt.legend()\n",
    "plt.title(f'{etype}: r = {radius} mm; theta = {angle_det} deg\\n{runtype} run {run}, {rt_min:.2f} mins')\n",
    "# plt.savefig(f'./plots/normScan/{runtype}_energy_run{run}.pdf', dpi=200)\n",
    "plt.show()"
   ]
  },
  {
   "cell_type": "code",
   "execution_count": null,
   "metadata": {},
   "outputs": [],
   "source": [
    "# Make energy spectrum\n",
    "# elo, ehi, epb = 0, 35000, 10\n",
    "# elo, ehi, epb = 0, 8000, 10\n",
    "elo, ehi, epb = 3800, 4100, 10\n",
    "# elo, ehi, epb = 0, 6000, 10\n",
    "        \n",
    "\n",
    "nbx = int((ehi-elo)/epb)\n",
    "\n",
    "energy_hist, bins = np.histogram(df_cut['trapEftp'], bins=nbx,\n",
    "                range=[elo, ehi])\n",
    "energy_rt = np.divide(energy_hist, rt_min * 60)\n",
    "\n",
    "plt.semilogy(bins[1:], energy_rt, ds='steps', c='b', lw=1) #, label=f'{etype}'\n",
    "\n",
    "plt.xlabel(etype, ha='right', x=1)\n",
    "plt.ylabel('cts / sec', ha='right', y=1)\n",
    "# plt.legend()\n",
    "plt.title(f'{etype}: r = {radius} mm; theta = {angle_det} deg\\n{runtype} run {run}, {rt_min:.2f} mins')\n",
    "# plt.savefig(f'./plots/normScan/{runtype}_energy_run{run}.pdf', dpi=200)\n",
    "plt.show()"
   ]
  },
  {
   "cell_type": "code",
   "execution_count": null,
   "metadata": {},
   "outputs": [],
   "source": []
  }
 ],
 "metadata": {
  "kernelspec": {
   "display_name": "legend-base",
   "language": "python",
   "name": "legend-base"
  },
  "language_info": {
   "codemirror_mode": {
    "name": "ipython",
    "version": 3
   },
   "file_extension": ".py",
   "mimetype": "text/x-python",
   "name": "python",
   "nbconvert_exporter": "python",
   "pygments_lexer": "ipython3",
   "version": "3.8.3"
  }
 },
 "nbformat": 4,
 "nbformat_minor": 4
}

{
 "cells": [
  {
   "cell_type": "markdown",
   "metadata": {},
   "source": [
    "Quick analysis"
   ]
  },
  {
   "cell_type": "code",
   "execution_count": null,
   "metadata": {},
   "outputs": [],
   "source": [
    "#!/usr/bin/env python3\n",
    "import os\n",
    "import json\n",
    "import h5py\n",
    "import argparse\n",
    "import pandas as pd\n",
    "import numpy as np\n",
    "import tinydb as db\n",
    "from tinydb.storages import MemoryStorage\n",
    "import matplotlib.pyplot as plt\n",
    "# plt.style.use('../clint.mpl')\n",
    "from matplotlib.colors import LogNorm\n",
    "\n",
    "import boost_histogram as bh\n",
    "import pickle as pl\n",
    "\n",
    "from pygama import DataGroup\n",
    "import pygama.io.lh5 as lh5\n",
    "import pygama.analysis.histograms as pgh\n",
    "import pygama.analysis.peak_fitting as pgf\n",
    "from pygama.dsp.WaveformBrowser import WaveformBrowser"
   ]
  },
  {
   "cell_type": "code",
   "execution_count": null,
   "metadata": {},
   "outputs": [],
   "source": [
    "dg = DataGroup('cage.json', load=True)\n",
    "run = 66\n",
    "str_query = f'run=={run} and skip==False'\n",
    "dg.file_keys.query(str_query, inplace=True)\n",
    "view_cols = ['runtype', 'run', 'cycle', 'startTime', 'runtime', 'threshold']\n",
    "print(dg.file_keys[view_cols])"
   ]
  },
  {
   "cell_type": "code",
   "execution_count": null,
   "metadata": {},
   "outputs": [],
   "source": [
    "#get runtime, startime, runtype\n",
    "\n",
    "runtype_list = np.array(dg.file_keys['runtype'])\n",
    "runtype = runtype_list[0]\n",
    "\n",
    "rt_min = dg.file_keys['runtime'].sum()\n",
    "u_start = dg.file_keys.iloc[0]['startTime']\n",
    "t_start = pd.to_datetime(u_start, unit='s') # str"
   ]
  },
  {
   "cell_type": "code",
   "execution_count": null,
   "metadata": {},
   "outputs": [],
   "source": [
    "# get scan position\n",
    "\n",
    "if runtype == 'alp':\n",
    "    alphaDB = pd.read_hdf('alphaDB.h5')\n",
    "    scan_pos = alphaDB.loc[alphaDB['run']==run]\n",
    "    radius = np.array(scan_pos['radius'])[0]\n",
    "    angle = np.array(scan_pos['angle'])[0]\n",
    "    print(f'Radius: {radius}; Angle: {angle}')\n",
    "# else:"
   ]
  },
  {
   "cell_type": "code",
   "execution_count": null,
   "metadata": {},
   "outputs": [],
   "source": [
    "lh5_dir = dg.lh5_user_dir #if user else dg.lh5_dir\n",
    "print(lh5_dir)\n",
    "hit_list = lh5_dir + dg.file_keys['hit_path'] + '/' + dg.file_keys['hit_file']\n",
    "print(hit_list)\n",
    "df_hit = lh5.load_dfs(hit_list, ['trapEmax', 'trapEmax_cal', 'trapEftp', 'bl','bl_sig','A_10','AoE', 'ts_sec', 'dcr_raw', 'dcr_ftp', 'dcr_max', 'tp_10', 'tp_90', 'tp_50', 'tp_80', 'tp_max'], 'ORSIS3302DecoderForEnergy/hit')\n",
    "# df_hit = lh5.load_dfs(alpha_hit_list, ['trapEmax', 'bl','bl_sig','A_10','ts_sec', 'dcr_raw'], 'ORSIS3302DecoderForEnergy/hit')\n",
    "# print(df_hit)\n",
    "print(df_hit.columns)\n",
    "\n",
    "dsc = df_hit[['bl','bl_sig','A_10','AoE', 'ts_sec', 'dcr_raw', 'dcr_ftp', 'dcr_max']].describe()\n",
    "# dsc = df_hit[['bl','bl_sig','A_10','ts_sec', 'dcr_raw']].describe()\n",
    "print(dsc)"
   ]
  },
  {
   "cell_type": "code",
   "execution_count": null,
   "metadata": {},
   "outputs": [],
   "source": [
    "# get raw files for wfs\n",
    "\n",
    "raw_lh5_dir = dg.lh5_dir\n",
    "raw_list = raw_lh5_dir + dg.file_keys['raw_path'] + '/' + dg.file_keys['raw_file']\n",
    "\n",
    "print(raw_list)\n",
    "\n",
    "# don't actually need this, just file list\n",
    "# raw_df = lh5.load_dfs(raw_list, ['energy'], 'ORSIS3302DecoderForEnergy/raw')\n",
    "\n"
   ]
  },
  {
   "cell_type": "code",
   "execution_count": null,
   "metadata": {},
   "outputs": [],
   "source": [
    "# use baseline cut\n",
    "df_cut = df_hit.query('bl > 8500 and bl < 10000').copy()\n",
    "\n",
    "# add new A/E column\n",
    "df_cut['aoe'] = df_cut['A_10'] / df_cut['trapEmax']\n",
    "\n",
    "#create dcr/E \n",
    "df_cut['dcr_norm'] = df_cut['dcr_raw'] / df_cut['trapEmax']\n",
    "\n",
    "#create 10-90\n",
    "df_cut['10-90'] = df_cut['tp_90']- df_cut['tp_10']\n",
    "\n",
    "#create 50-90\n",
    "df_cut['50-90'] = df_cut['tp_90']- df_cut['tp_50']"
   ]
  },
  {
   "cell_type": "code",
   "execution_count": null,
   "metadata": {},
   "outputs": [],
   "source": [
    "#creat new DCR\n",
    "const = 0.0555\n",
    "df_cut['dcr_linoff'] = df_cut['dcr_raw'] + const*df_cut['trapEmax']"
   ]
  },
  {
   "cell_type": "code",
   "execution_count": null,
   "metadata": {},
   "outputs": [],
   "source": [
    "trapEmax_cal = df_cut['trapEmax_cal']\n",
    "# energy_cut = (trapEmax_cal>348) & (trapEmax_cal<352)\n",
    "\n",
    "trapEmax = df_cut['trapEmax']\n",
    "bl = df_hit['bl']\n",
    "energy_cut = (trapEmax_cal>348) & (trapEmax_cal<352)\n",
    "bl_cut = (bl > 8500) & (bl < 10000)\n",
    "cut = energy_cut & bl_cut"
   ]
  },
  {
   "cell_type": "code",
   "execution_count": null,
   "metadata": {},
   "outputs": [],
   "source": [
    "print(energy_cut)"
   ]
  },
  {
   "cell_type": "code",
   "execution_count": null,
   "metadata": {},
   "outputs": [],
   "source": [
    "dsp_config_file = ('./config_dsp.json')\n",
    "browser = WaveformBrowser(raw_list, 'ORSIS3302DecoderForEnergy/raw', dsp_config_file, # Need to include a dsp config file!\n",
    "                          database={\"pz_const\":'396.9*us'}, # TODO: use metadata instead of manually defining...\n",
    "                          waveforms=['wf_blsub', 'wf_pz', 'wf_trap'], # names of waveforms from dsp config file\n",
    "                          selection   = cut,           # Apply cut\n",
    "                          wf_styles=[{'linestyle':['-']},{'linestyle':[':']},{'ls':['--']}],\n",
    "                          legend=['Waveform', 'PZ Corrected', \"Trap (max={trapEmax:.0f})\"],\n",
    "#                           legend_opts={'loc':\"upper left\"},\n",
    "                          lines=['trapEmax', 'tp_0'], # add hlines and vlines\n",
    "                          x_lim=(15000, 60000) # x axis range\n",
    "                         )"
   ]
  },
  {
   "cell_type": "code",
   "execution_count": null,
   "metadata": {},
   "outputs": [],
   "source": [
    "plt.rcParams['figure.figsize'] = [14, 10]\n"
   ]
  },
  {
   "cell_type": "code",
   "execution_count": null,
   "metadata": {},
   "outputs": [],
   "source": [
    "browser.draw_next()"
   ]
  },
  {
   "cell_type": "code",
   "execution_count": null,
   "metadata": {},
   "outputs": [],
   "source": [
    "energy_cut = (trapEmax_cal>352) & (trapEmax_cal<356)\n",
    "bl_cut = (bl > 8500) & (bl < 10000)\n",
    "cut2 = energy_cut & bl_cut\n",
    "dsp_config_file = ('./config_dsp.json')\n",
    "browser2 = WaveformBrowser(raw_list, 'ORSIS3302DecoderForEnergy/raw', dsp_config_file, # Need to include a dsp config file!\n",
    "                          database={\"pz_const\":'396.9*us'}, # TODO: use metadata instead of manually defining...\n",
    "                          waveforms=['wf_blsub', 'wf_pz', 'wf_trap'], # names of waveforms from dsp config file\n",
    "                          selection   = cut2,           # Apply cut\n",
    "                          wf_styles=[{'linestyle':['-']},{'linestyle':[':']},{'ls':['--']}],\n",
    "                          legend=['Waveform', 'PZ Corrected', \"Trap (max={trapEmax:.0f})\"],\n",
    "#                           legend_opts={'loc':\"upper left\"},\n",
    "                          lines=['trapEmax', 'tp_0'], # add hlines and vlines\n",
    "                          x_lim=(15000, 60000) # x axis range\n",
    "                         )"
   ]
  },
  {
   "cell_type": "code",
   "execution_count": null,
   "metadata": {},
   "outputs": [],
   "source": [
    "browser2.draw_next()"
   ]
  },
  {
   "cell_type": "code",
   "execution_count": null,
   "metadata": {},
   "outputs": [],
   "source": [
    "print(trapEmax_cal[615])\n",
    "print(energy_cut[615])\n",
    "# np.nonzero(browser.selection.values)\n",
    "np.nonzero(energy_cut.values)"
   ]
  },
  {
   "cell_type": "code",
   "execution_count": null,
   "metadata": {},
   "outputs": [],
   "source": []
  },
  {
   "cell_type": "code",
   "execution_count": null,
   "metadata": {},
   "outputs": [],
   "source": [
    "# Make energy spectrum\n",
    "elo, ehi, epb = 0, 1000, 10\n",
    "# elo, ehi, epb = 0, 3000, 10\n",
    "# elo, ehi, epb = 0, 6000, 10\n",
    "        \n",
    "\n",
    "nbx = int((ehi-elo)/epb)\n",
    "\n",
    "energy_hist, bins = np.histogram(df_cut['trapEmax_cal'], bins=nbx,\n",
    "                range=[elo, ehi])\n",
    "\n",
    "plt.semilogy(bins[1:], energy_hist, ds='steps', c='b', lw=1) #, label=f'{etype}'\n",
    "\n",
    "plt.xlabel('trapEmax', ha='right', x=1)\n",
    "plt.ylabel('cts / sec', ha='right', y=1)\n",
    "# plt.legend()\n",
    "# plt.title(f'trapEmax: {runtype} run {run}; {rt_min:.2f} mins')\n",
    "# plt.savefig(f'./plots/normScan/{runtype}_energy_run{run}.pdf', dpi=200)\n",
    "plt.show()"
   ]
  },
  {
   "cell_type": "code",
   "execution_count": null,
   "metadata": {},
   "outputs": [],
   "source": [
    "# Alpha A/E\n",
    "alo, ahi, apb = 0.0, 0.09, 0.0001\n",
    "elo, ehi, epb = 0, 25000, 10\n",
    "# elo, ehi, epb = 0, 3000, 10\n",
    "# elo, ehi, epb = 0, 6000, 10\n",
    "        \n",
    "\n",
    "nbx = int((ehi-elo)/epb)\n",
    "nby = int((ahi-alo)/apb)\n",
    "\n",
    "h = plt.hist2d(df_cut['trapEmax'], df_cut['AoE'], bins=[nbx,nby],\n",
    "                range=[[elo, ehi], [alo, ahi]], cmap='jet', norm=LogNorm())\n",
    "\n",
    "plt.xlabel('trapEmax', ha='right', x=1)\n",
    "plt.ylabel('A/E', ha='right', y=1)\n",
    "# plt.legend()\n",
    "plt.title(f'A/E: {runtype} run {run}, {rt_min:.2f} mins')\n",
    "plt.tight_layout()\n",
    "# plt.savefig(f'./plots/normScan/{runtype}_a10oE_run{run}.png', dpi=200)\n",
    "plt.show()"
   ]
  },
  {
   "cell_type": "code",
   "execution_count": null,
   "metadata": {},
   "outputs": [],
   "source": [
    "# DCR vs E\n",
    "etype = 'trapEmax'\n",
    "#       elo, ehi, epb = 0, 6000, 10\n",
    "elo, ehi, epb = 0, 25000, 10\n",
    "# dlo, dhi, dpb = -0.08, 0.025, 0.0005\n",
    "dlo, dhi, dpb = -0.1, 0.025, 0.0005\n",
    "\n",
    "nbx = int((ehi-elo)/epb)\n",
    "nby = int((dhi-dlo)/dpb)\n",
    "\n",
    "alpha_dcr_hist = plt.hist2d(df_cut['trapEmax'], df_cut['dcr_norm'], bins=[nbx,nby],\n",
    "                range=[[elo, ehi], [dlo, dhi]], cmap='jet', norm=LogNorm())\n",
    "\n",
    "plt.xlabel('trapEmax', ha='right', x=1)\n",
    "plt.ylabel('DCR_norm', ha='right', y=1)\n",
    "plt.title(f'DCR: {runtype} run {run}, {rt_min:.2f} mins')\n",
    "plt.tight_layout()\n",
    "# plt.savefig(f'./plots/normScan/{runtype}_dcr_norm_run{run}.png', dpi=200)\n",
    "plt.show()"
   ]
  },
  {
   "cell_type": "code",
   "execution_count": null,
   "metadata": {},
   "outputs": [],
   "source": [
    "old_dcr_cut = df_cut.query('trapEmax > 5000 and trapEmax < 15000 and dcr_norm > -0.0515 and dcr_norm < -0.02').copy()\n",
    "len(old_dcr_cut)"
   ]
  },
  {
   "cell_type": "code",
   "execution_count": null,
   "metadata": {},
   "outputs": [],
   "source": [
    "# DCR vs E\n",
    "etype = 'trapEmax'\n",
    "#       elo, ehi, epb = 0, 6000, 10\n",
    "elo, ehi, epb = 0, 25000, 10\n",
    "# dlo, dhi, dpb = -0.08, 0.025, 0.0005\n",
    "# dlo, dhi, dpb = -0.1, 0.025, 0.0005\n",
    "\n",
    "dlo, dhi, dpb = -100, 300, 0.6\n",
    "\n",
    "nbx = int((ehi-elo)/epb)\n",
    "nby = int((dhi-dlo)/dpb)\n",
    "\n",
    "alpha_dcr_hist = plt.hist2d(df_cut['trapEmax'], df_cut['dcr_linoff'], bins=[nbx,nby],\n",
    "                range=[[elo, ehi], [dlo, dhi]], cmap='jet', norm=LogNorm()) #\n",
    "\n",
    "plt.xlabel('trapEmax', ha='right', x=1)\n",
    "plt.ylabel('DCR_linoffset', ha='right', y=1)\n",
    "plt.title(f'DCR: {runtype} run {run}, {rt_min:.2f} mins')\n",
    "plt.tight_layout()\n",
    "# plt.savefig(f'./plots/normScan/{runtype}_dcr_linoffset_run{run}.png', dpi=200)\n",
    "plt.show()"
   ]
  },
  {
   "cell_type": "code",
   "execution_count": null,
   "metadata": {},
   "outputs": [],
   "source": [
    "e_cut = df_hit.query(f' trapEmax_cal > 348 and trapEmax_cal < 356').copy()\n",
    "#creat new DCR\n",
    "const = 0.0555\n",
    "e_cut['dcr_linoff'] = df_hit['dcr_raw'] + const*df_hit['trapEmax']"
   ]
  },
  {
   "cell_type": "code",
   "execution_count": null,
   "metadata": {},
   "outputs": [],
   "source": [
    "# Alpha A/E\n",
    "alo, ahi, apb = 0.0, 0.09, 0.0001\n",
    "elo, ehi, epb = 325, 375, 0.5\n",
    "# elo, ehi, epb = 0, 3000, 10\n",
    "# elo, ehi, epb = 0, 6000, 10\n",
    "        \n",
    "\n",
    "nbx = int((ehi-elo)/epb)\n",
    "nby = int((ahi-alo)/apb)\n",
    "\n",
    "h = plt.hist2d(e_cut['trapEmax_cal'], e_cut['AoE'], bins=[nbx,nby],\n",
    "                range=[[elo, ehi], [alo, ahi]], cmap='jet', norm=LogNorm())\n",
    "\n",
    "plt.xlabel('trapEmax_cal', ha='right', x=1)\n",
    "plt.ylabel('A/E', ha='right', y=1)\n",
    "# plt.legend()\n",
    "plt.title(f'A/E 351keV peak: {runtype} run {run}, {rt_min:.2f} mins')\n",
    "plt.tight_layout()\n",
    "# plt.savefig(f'./plots/normScan/{runtype}_a10oE_run{run}.png', dpi=200)\n",
    "plt.show()"
   ]
  },
  {
   "cell_type": "code",
   "execution_count": null,
   "metadata": {},
   "outputs": [],
   "source": [
    "# DCR vs E\n",
    "# etype = 'trapEmax'\n",
    "\n",
    "elo, ehi, epb = 325, 375, 0.5\n",
    "# elo, ehi, epb = 0, 25000, 10\n",
    "# dlo, dhi, dpb = -0.08, 0.025, 0.0005\n",
    "# dlo, dhi, dpb = -0.1, 0.025, 0.0005\n",
    "\n",
    "dlo, dhi, dpb = -100, 300, 0.6\n",
    "\n",
    "nbx = int((ehi-elo)/epb)\n",
    "nby = int((dhi-dlo)/dpb)\n",
    "\n",
    "alpha_dcr_hist = plt.hist2d(e_cut['trapEmax_cal'], e_cut['dcr_linoff'], bins=[nbx,nby],\n",
    "                range=[[elo, ehi], [dlo, dhi]], cmap='jet', norm=LogNorm()) #\n",
    "\n",
    "plt.xlabel('trapEmax', ha='right', x=1)\n",
    "plt.ylabel('DCR_linoffset', ha='right', y=1)\n",
    "plt.title(f'DCR 351 keV peak: {runtype} run {run}, {rt_min:.2f} mins')\n",
    "plt.tight_layout()\n",
    "# plt.savefig(f'./plots/normScan/{runtype}_dcr_linoffset_run{run}.png', dpi=200)\n",
    "plt.show()"
   ]
  },
  {
   "cell_type": "code",
   "execution_count": null,
   "metadata": {},
   "outputs": [],
   "source": [
    "cut2 = (df_cut['dcr_linoff']>50) & (df_cut['dcr_linoff']<200) & (df_cut['trapEmax']>5000) & (df_cut['trapEmax']<12000)\n",
    "# cut2 = (df_cut['trapEmax']>5000) & (df_cut['trapEmax']<10000)\n",
    "cut = (df_cut['trapEmax_cal']>1450) & (df_cut['trapEmax_cal']<1470)"
   ]
  },
  {
   "cell_type": "code",
   "execution_count": null,
   "metadata": {},
   "outputs": [],
   "source": [
    "# Now set up browsing waveforms\n",
    "browser = WaveformBrowser(raw_list, 'ORSIS3302DecoderForEnergy/raw', dsp_config_file,\n",
    "                          waveforms='wf_pz', # baseline subtracted waveform\n",
    "                          #legend=['trapEmax', 'AoE'], # build a legend\n",
    "                          align='tp_0', # align waveforms along t0\n",
    "                          x_lim=(-500, 80000), # x axis range\n",
    "                          #norm='trapEmax', # normalize by energy\n",
    "                          selection = cut, # use our mask from before to draw MS wfs\n",
    "                          n_drawn = 8, # Draw 8 at a time\n",
    "                         )"
   ]
  },
  {
   "cell_type": "code",
   "execution_count": null,
   "metadata": {},
   "outputs": [],
   "source": [
    "# Now set up browsing waveforms\n",
    "browser2 = WaveformBrowser(raw_list, 'ORSIS3302DecoderForEnergy/raw', dsp_config_file,\n",
    "                          waveforms='wf_pz', # baseline subtracted waveform\n",
    "                          #legend=['trapEmax', 'AoE'], # build a legend\n",
    "                          align='tp_0', # align waveforms along t0\n",
    "                          x_lim=(-500, 80000), # x axis range\n",
    "                          #norm='trapEmax', # normalize by energy\n",
    "                          selection = cut2, # use our mask from before to draw MS wfs\n",
    "                          n_drawn = 8, # Draw 8 at a time\n",
    "                         )"
   ]
  },
  {
   "cell_type": "code",
   "execution_count": null,
   "metadata": {},
   "outputs": [],
   "source": [
    "# Draw first waveform in file\n",
    "browser.draw_entry(1)\n",
    "\n",
    "# Draw next 8 waveforms (from n_drawn)\n",
    "# browser.new_figure()\n",
    "# browser.draw_next()\n",
    "# browser2.ax = browser.ax\n",
    "# browser2.fig = browser.fig\n",
    "# browser2.draw_next()"
   ]
  },
  {
   "cell_type": "code",
   "execution_count": null,
   "metadata": {},
   "outputs": [],
   "source": [
    "# Draw first waveform in file\n",
    "browser2.draw_entry(5)\n",
    "\n",
    "# Draw next 8 waveforms (from n_drawn)\n",
    "# browser.new_figure()\n",
    "# browser.draw_next()\n",
    "# browser2.ax = browser.ax\n",
    "# browser2.fig = browser.fig\n",
    "# browser2.draw_next()"
   ]
  },
  {
   "cell_type": "code",
   "execution_count": null,
   "metadata": {},
   "outputs": [],
   "source": []
  }
 ],
 "metadata": {
  "kernelspec": {
   "display_name": "legend-base",
   "language": "python",
   "name": "legend-base"
  },
  "language_info": {
   "codemirror_mode": {
    "name": "ipython",
    "version": 3
   },
   "file_extension": ".py",
   "mimetype": "text/x-python",
   "name": "python",
   "nbconvert_exporter": "python",
   "pygments_lexer": "ipython3",
   "version": "3.8.3"
  }
 },
 "nbformat": 4,
 "nbformat_minor": 4
}

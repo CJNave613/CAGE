{
 "cells": [
  {
   "cell_type": "markdown",
   "metadata": {},
   "source": [
    "## Waveform Processing -- DSP Optimization Helper\n",
    "\n",
    "To find an ideal set of DSP parameters, it's helpful to load raw/dsp/hit files and look at a few waveforms.  The `WaveformBrowser` object uses `ProcessingChain` under the hood to process a few waveforms at a time and show you the result."
   ]
  },
  {
   "cell_type": "code",
   "execution_count": 1,
   "metadata": {},
   "outputs": [],
   "source": [
    "import os\n",
    "import json\n",
    "import h5py\n",
    "import argparse\n",
    "import pandas as pd\n",
    "import numpy as np\n",
    "import tinydb as db\n",
    "from tinydb.storages import MemoryStorage\n",
    "import matplotlib.pyplot as plt\n",
    "# plt.style.use('../clint.mpl')\n",
    "from matplotlib.colors import LogNorm\n",
    "import boost_histogram as bh\n",
    "import pickle as pl\n",
    "from pygama import DataGroup\n",
    "import pygama.lh5 as lh5\n",
    "import pygama.analysis.histograms as pgh\n",
    "import pygama.analysis.peak_fitting as pgf\n",
    "from pygama.dsp.WaveformBrowser import WaveformBrowser\n",
    "\n",
    "# do this to use cage_utils functions\n",
    "import sys\n",
    "sys.path.insert(1, '../analysis/')\n",
    "import cage_utils"
   ]
  },
  {
   "cell_type": "code",
   "execution_count": 2,
   "metadata": {},
   "outputs": [
    {
     "name": "stdout",
     "output_type": "stream",
     "text": [
      "Radius: 10.0; Angle: 90; Rotary: 0.0\n",
      "user: False; cal: True; hit: True\n",
      "Using hit files\n",
      "loading data for /global/cfs/cdirs/m2676/data/cage/LH5/hit/cage_run244_cyc1966_hit.lh5 /global/cfs/cdirs/m2676/data/cage/LH5/hit/cage_run244_cyc1967_hit.lh5 /global/cfs/cdirs/m2676/data/cage/LH5/hit/cage_run244_cyc1968_hit.lh5 /global/cfs/cdirs/m2676/data/cage/LH5/hit/cage_run244_cyc1969_hit.lh5 /global/cfs/cdirs/m2676/data/cage/LH5/hit/cage_run244_cyc1970_hit.lh5 /global/cfs/cdirs/m2676/data/cage/LH5/hit/cage_run244_cyc1971_hit.lh5 /global/cfs/cdirs/m2676/data/cage/LH5/hit/cage_run244_cyc1972_hit.lh5 /global/cfs/cdirs/m2676/data/cage/LH5/hit/cage_run244_cyc1973_hit.lh5 /global/cfs/cdirs/m2676/data/cage/LH5/hit/cage_run244_cyc1974_hit.lh5 /global/cfs/cdirs/m2676/data/cage/LH5/hit/cage_run244_cyc1975_hit.lh5 /global/cfs/cdirs/m2676/data/cage/LH5/hit/cage_run244_cyc1976_hit.lh5 /global/cfs/cdirs/m2676/data/cage/LH5/hit/cage_run244_cyc1977_hit.lh5 /global/cfs/cdirs/m2676/data/cage/LH5/hit/cage_run244_cyc1978_hit.lh5 /global/cfs/cdirs/m2676/data/cage/LH5/hit/cage_run244_cyc1979_hit.lh5 /global/cfs/cdirs/m2676/data/cage/LH5/hit/cage_run244_cyc1980_hit.lh5 /global/cfs/cdirs/m2676/data/cage/LH5/hit/cage_run244_cyc1981_hit.lh5 /global/cfs/cdirs/m2676/data/cage/LH5/hit/cage_run244_cyc1982_hit.lh5 /global/cfs/cdirs/m2676/data/cage/LH5/hit/cage_run244_cyc1983_hit.lh5 /global/cfs/cdirs/m2676/data/cage/LH5/hit/cage_run244_cyc1984_hit.lh5 /global/cfs/cdirs/m2676/data/cage/LH5/hit/cage_run244_cyc1985_hit.lh5 /global/cfs/cdirs/m2676/data/cage/LH5/hit/cage_run244_cyc1986_hit.lh5 /global/cfs/cdirs/m2676/data/cage/LH5/hit/cage_run244_cyc1987_hit.lh5 /global/cfs/cdirs/m2676/data/cage/LH5/hit/cage_run244_cyc1988_hit.lh5 /global/cfs/cdirs/m2676/data/cage/LH5/hit/cage_run244_cyc1989_hit.lh5 /global/cfs/cdirs/m2676/data/cage/LH5/hit/cage_run244_cyc1990_hit.lh5 /global/cfs/cdirs/m2676/data/cage/LH5/hit/cage_run244_cyc1991_hit.lh5 /global/cfs/cdirs/m2676/data/cage/LH5/hit/cage_run244_cyc1992_hit.lh5 /global/cfs/cdirs/m2676/data/cage/LH5/hit/cage_run244_cyc1993_hit.lh5 /global/cfs/cdirs/m2676/data/cage/LH5/hit/cage_run244_cyc1994_hit.lh5 /global/cfs/cdirs/m2676/data/cage/LH5/hit/cage_run244_cyc1995_hit.lh5 /global/cfs/cdirs/m2676/data/cage/LH5/hit/cage_run244_cyc1996_hit.lh5 /global/cfs/cdirs/m2676/data/cage/LH5/hit/cage_run244_cyc1997_hit.lh5 /global/cfs/cdirs/m2676/data/cage/LH5/hit/cage_run244_cyc1998_hit.lh5\n",
      "            trapEftp  trapEftp_cal           bl    bl_sig  bl_slope\n",
      "0         897.843506    407.450745  9300.701172  3.972950  0.982828\n",
      "1        1332.885498    604.832275  9284.148438  3.963908 -0.752437\n",
      "2         251.882614    114.296570  9297.083008  3.900383 -0.141008\n",
      "3          72.196930     32.734013  9288.860352  3.970704  0.089649\n",
      "4         666.181885    302.327179  9291.550781  4.012023 -0.540781\n",
      "...              ...           ...          ...       ...       ...\n",
      "3467048  1310.447388    594.652954  9294.141602  3.786648  0.552398\n",
      "3467049   334.529419    151.809052  9291.635742  4.006526 -0.627742\n",
      "3467050   677.759766    307.581299  9290.968750  3.881753 -0.136750\n",
      "3467051   288.650909    130.985489  9294.819336  3.872201  0.254664\n",
      "3467052   306.598328    139.131607  9301.790039  3.992154 -0.624039\n",
      "\n",
      "[3467053 rows x 5 columns]\n"
     ]
    }
   ],
   "source": [
    "run = 244\n",
    "\n",
    "dsp_id = '06'\n",
    "\n",
    "user = False\n",
    "hit = True\n",
    "cal = True\n",
    "lowE = False\n",
    "cut = False\n",
    "\n",
    "etype = 'trapEftp_cal'\n",
    "\n",
    "# dsp list for uncalibrated data\n",
    "# dsp_list = ['energy', 'trapEftp', 'trapEmax', 'bl','bl_sig', 'bl_slope', 'AoE', 'dcr', \"tp_0\", \"tp_02\", \"tp_05\", \"tp_10\", \"tp_20\", \"tp_30\", \"tp_40\", \"tp_50\", \"tp_60\", \"tp_70\", \"tp_80\", \"tp_90\", \"tp_96\", 'tp_max', 'ToE', 'log_tail_fit_slope', 'wf_max', 'wf_argmax', 'trapE_argmax', 'lf_max']\n",
    "\n",
    "# dsp list for calibrated data\n",
    "# dsp_list = ['energy', 'trapEftp', 'trapEmax', 'trapEftp_cal', 'bl','bl_sig', 'bl_slope', 'AoE', 'dcr', \"tp_0\", \"tp_02\", \"tp_05\", \"tp_10\", \"tp_20\", \"tp_30\", \"tp_40\", \"tp_50\", \"tp_60\", \"tp_70\", \"tp_80\", \"tp_90\", \"tp_96\", 'tp_max', 'ToE', 'log_tail_fit_slope', 'wf_max', 'wf_argmax', 'trapE_argmax', 'lf_max']\n",
    "dsp_list = ['trapEftp', 'trapEftp_cal', 'bl', 'bl_sig', 'bl_slope']\n",
    "\n",
    "df_raw, dg, runtype, rt_min, radius, angle_det, rotary = cage_utils.getDataFrame(run, user=user, hit=hit, cal=cal, dsp_list=dsp_list, lowE=lowE)\n",
    "\n",
    "print(df_raw)"
   ]
  },
  {
   "cell_type": "code",
   "execution_count": 3,
   "metadata": {},
   "outputs": [
    {
     "name": "stdout",
     "output_type": "stream",
     "text": [
      "1964    /global/cfs/cdirs/m2676/data/cage/LH5/raw/cage...\n",
      "1965    /global/cfs/cdirs/m2676/data/cage/LH5/raw/cage...\n",
      "1966    /global/cfs/cdirs/m2676/data/cage/LH5/raw/cage...\n",
      "1967    /global/cfs/cdirs/m2676/data/cage/LH5/raw/cage...\n",
      "1968    /global/cfs/cdirs/m2676/data/cage/LH5/raw/cage...\n",
      "1969    /global/cfs/cdirs/m2676/data/cage/LH5/raw/cage...\n",
      "1970    /global/cfs/cdirs/m2676/data/cage/LH5/raw/cage...\n",
      "1971    /global/cfs/cdirs/m2676/data/cage/LH5/raw/cage...\n",
      "1972    /global/cfs/cdirs/m2676/data/cage/LH5/raw/cage...\n",
      "1973    /global/cfs/cdirs/m2676/data/cage/LH5/raw/cage...\n",
      "1974    /global/cfs/cdirs/m2676/data/cage/LH5/raw/cage...\n",
      "1975    /global/cfs/cdirs/m2676/data/cage/LH5/raw/cage...\n",
      "1976    /global/cfs/cdirs/m2676/data/cage/LH5/raw/cage...\n",
      "1977    /global/cfs/cdirs/m2676/data/cage/LH5/raw/cage...\n",
      "1978    /global/cfs/cdirs/m2676/data/cage/LH5/raw/cage...\n",
      "1979    /global/cfs/cdirs/m2676/data/cage/LH5/raw/cage...\n",
      "1980    /global/cfs/cdirs/m2676/data/cage/LH5/raw/cage...\n",
      "1981    /global/cfs/cdirs/m2676/data/cage/LH5/raw/cage...\n",
      "1982    /global/cfs/cdirs/m2676/data/cage/LH5/raw/cage...\n",
      "1983    /global/cfs/cdirs/m2676/data/cage/LH5/raw/cage...\n",
      "1984    /global/cfs/cdirs/m2676/data/cage/LH5/raw/cage...\n",
      "1985    /global/cfs/cdirs/m2676/data/cage/LH5/raw/cage...\n",
      "1986    /global/cfs/cdirs/m2676/data/cage/LH5/raw/cage...\n",
      "1987    /global/cfs/cdirs/m2676/data/cage/LH5/raw/cage...\n",
      "1988    /global/cfs/cdirs/m2676/data/cage/LH5/raw/cage...\n",
      "1989    /global/cfs/cdirs/m2676/data/cage/LH5/raw/cage...\n",
      "1990    /global/cfs/cdirs/m2676/data/cage/LH5/raw/cage...\n",
      "1991    /global/cfs/cdirs/m2676/data/cage/LH5/raw/cage...\n",
      "1992    /global/cfs/cdirs/m2676/data/cage/LH5/raw/cage...\n",
      "1993    /global/cfs/cdirs/m2676/data/cage/LH5/raw/cage...\n",
      "1994    /global/cfs/cdirs/m2676/data/cage/LH5/raw/cage...\n",
      "1995    /global/cfs/cdirs/m2676/data/cage/LH5/raw/cage...\n",
      "1996    /global/cfs/cdirs/m2676/data/cage/LH5/raw/cage...\n",
      "dtype: object\n"
     ]
    }
   ],
   "source": [
    "# get raw files for wfs\n",
    "raw_lh5_dir = dg.lh5_dir\n",
    "raw_list = raw_lh5_dir + dg.fileDB['raw_path'] + '/' + dg.fileDB['raw_file']\n",
    "print(raw_list)"
   ]
  },
  {
   "cell_type": "markdown",
   "metadata": {},
   "source": [
    "Apply data-cleaning cuts if relevant"
   ]
  },
  {
   "cell_type": "code",
   "execution_count": 4,
   "metadata": {},
   "outputs": [
    {
     "name": "stdout",
     "output_type": "stream",
     "text": [
      "            trapEftp  trapEftp_cal           bl    bl_sig  bl_slope\n",
      "0         897.843506    407.450745  9300.701172  3.972950  0.982828\n",
      "1        1332.885498    604.832275  9284.148438  3.963908 -0.752437\n",
      "2         251.882614    114.296570  9297.083008  3.900383 -0.141008\n",
      "3          72.196930     32.734013  9288.860352  3.970704  0.089649\n",
      "4         666.181885    302.327179  9291.550781  4.012023 -0.540781\n",
      "...              ...           ...          ...       ...       ...\n",
      "3467048  1310.447388    594.652954  9294.141602  3.786648  0.552398\n",
      "3467049   334.529419    151.809052  9291.635742  4.006526 -0.627742\n",
      "3467050   677.759766    307.581299  9290.968750  3.881753 -0.136750\n",
      "3467051   288.650909    130.985489  9294.819336  3.872201  0.254664\n",
      "3467052   306.598328    139.131607  9301.790039  3.992154 -0.624039\n",
      "\n",
      "[3467053 rows x 5 columns]\n"
     ]
    }
   ],
   "source": [
    "if cut == True:\n",
    "    print(f'Making cut')\n",
    "    df_cut = cage_utils.apply_DC_Cuts(run, df_raw)\n",
    "else:\n",
    "    df_cut = df_raw\n",
    "    \n",
    "print(df_cut)"
   ]
  },
  {
   "cell_type": "markdown",
   "metadata": {},
   "source": [
    "Make baseline cut if didn't apply other cuts"
   ]
  },
  {
   "cell_type": "code",
   "execution_count": 5,
   "metadata": {},
   "outputs": [],
   "source": [
    "# baseline cut\n",
    "if cut:\n",
    "    if run <79:\n",
    "        bl_cut_lo, bl_cut_hi = 9150,9320\n",
    "    if run>79 and run <117:\n",
    "        bl_cut_lo, bl_cut_hi = 8500, 10000\n",
    "    if run>=117:\n",
    "        bl_cut_lo, bl_cut_hi = 9700, 9760\n",
    "\n",
    "    df_cut = df.query(f'bl > {bl_cut_lo} and bl < {bl_cut_hi}').copy()\n",
    "    \n",
    "    # baseline cut\n",
    "    bl = df['bl']\n",
    "    bl_cut = (bl > bl_cut_lo) & (bl < bl_cut_hi)\n",
    "\n",
    "    # print(cut)\n",
    "    print(bl_cut.value_counts())"
   ]
  },
  {
   "cell_type": "code",
   "execution_count": 6,
   "metadata": {},
   "outputs": [
    {
     "name": "stdout",
     "output_type": "stream",
     "text": [
      "False    3419780\n",
      "True       47273\n",
      "Name: trapEftp_cal, dtype: int64\n",
      "False    3419780\n",
      "True       47273\n",
      "Name: trapEftp_cal, dtype: int64\n"
     ]
    }
   ],
   "source": [
    "# energy cut \n",
    "energy = df_cut[etype]\n",
    "# print(df_cut)\n",
    "\n",
    "if cal == True:\n",
    "    energy = df_cut['trapEftp_cal']\n",
    "    energy_cut = (energy > 1450) & (energy < 1470) # 1460 peak\n",
    "    # energy_cut = (energy > 60) & (energy < 65) # 60 keV peak\n",
    "    \n",
    "else:\n",
    "    # energy = df_hit['trapEmax']\n",
    "    energy_cut = (energy > 2805) & (energy < 2835) # 1460 peak, uncalibratedm trapEmax\n",
    "    # energy_cut = (energy > 2000000) & (energy < 2500000) #where alphas seem to be in run 117, raw energy parameter\n",
    "    # energy_cut = (energy > 200) & (energy < 1000) #where low e weirdness is in DCR, in trapEftp\n",
    "    \n",
    "# print(type(energy))\n",
    "# print(energy_cut)\n",
    "print(energy_cut.value_counts())\n",
    "\n",
    "# energy_raw = df['energy']\n",
    "# energy_cut_raw = (energy_raw > 10200) & (energy_raw < 10600)\n",
    "\n",
    "# -- set the cut to be used when viewing waveforms -- \n",
    "# cut = bl_cut & energy_cut\n",
    "cut = energy_cut\n",
    "# print(cut)\n",
    "print(cut.value_counts())"
   ]
  },
  {
   "cell_type": "markdown",
   "metadata": {},
   "source": [
    "\n",
    "\n",
    "## DCR / Pole-Zero Correction Plots\n",
    "\n",
    "Show the raw waveform and the pole-zero corrected waveform used to calculate the DCR (tail slope) parameters.\n"
   ]
  },
  {
   "cell_type": "code",
   "execution_count": 7,
   "metadata": {},
   "outputs": [
    {
     "name": "stdout",
     "output_type": "stream",
     "text": [
      "06\n"
     ]
    },
    {
     "ename": "JSONDecodeError",
     "evalue": "Expecting ',' delimiter: line 10 column 5 (char 390)",
     "output_type": "error",
     "traceback": [
      "\u001b[0;31m---------------------------------------------------------------------------\u001b[0m",
      "\u001b[0;31mJSONDecodeError\u001b[0m                           Traceback (most recent call last)",
      "\u001b[0;32m<ipython-input-7-cebe89e00ffb>\u001b[0m in \u001b[0;36m<module>\u001b[0;34m\u001b[0m\n\u001b[1;32m      1\u001b[0m \u001b[0mdsp_config_file\u001b[0m \u001b[0;34m=\u001b[0m \u001b[0mos\u001b[0m\u001b[0;34m.\u001b[0m\u001b[0mpath\u001b[0m\u001b[0;34m.\u001b[0m\u001b[0mexpandvars\u001b[0m\u001b[0;34m(\u001b[0m\u001b[0;34mf'$CAGE_SW/processing/metadata/dsp/dsp_{dsp_id}.json'\u001b[0m\u001b[0;34m)\u001b[0m\u001b[0;34m\u001b[0m\u001b[0;34m\u001b[0m\u001b[0m\n\u001b[1;32m      2\u001b[0m \u001b[0mprint\u001b[0m\u001b[0;34m(\u001b[0m\u001b[0mdsp_id\u001b[0m\u001b[0;34m)\u001b[0m\u001b[0;34m\u001b[0m\u001b[0;34m\u001b[0m\u001b[0m\n\u001b[0;32m----> 3\u001b[0;31m browser = WaveformBrowser(raw_list, 'ORSIS3302DecoderForEnergy/raw', dsp_config_file, # Need to include a dsp config file!\n\u001b[0m\u001b[1;32m      4\u001b[0m                           \u001b[0;31m# database={\"pz_const\":'396.9*us'}, # TODO: use metadata instead of manually defining...\u001b[0m\u001b[0;34m\u001b[0m\u001b[0;34m\u001b[0m\u001b[0;34m\u001b[0m\u001b[0m\n\u001b[1;32m      5\u001b[0m                           \u001b[0mwaveforms\u001b[0m\u001b[0;34m=\u001b[0m\u001b[0;34m[\u001b[0m\u001b[0;34m'wf_blsub'\u001b[0m\u001b[0;34m,\u001b[0m \u001b[0;34m'wf_pzDCR'\u001b[0m\u001b[0;34m,\u001b[0m \u001b[0;34m'dcr_trap'\u001b[0m\u001b[0;34m,\u001b[0m \u001b[0;34m'dcr_trap'\u001b[0m\u001b[0;34m]\u001b[0m\u001b[0;34m,\u001b[0m \u001b[0;31m# names of waveforms from dsp config file\u001b[0m\u001b[0;34m\u001b[0m\u001b[0;34m\u001b[0m\u001b[0m\n",
      "\u001b[0;32m/global/u1/w/wisecg/pygama_wisecg/pygama/dsp/WaveformBrowser.py\u001b[0m in \u001b[0;36m__init__\u001b[0;34m(self, files_in, lh5_group, dsp_config, database, n_drawn, x_unit, x_lim, waveforms, wf_styles, lines, legend, legend_opts, norm, align, selection, buffer_len, block_width, verbosity)\u001b[0m\n\u001b[1;32m    165\u001b[0m         \u001b[0;32mif\u001b[0m \u001b[0misinstance\u001b[0m\u001b[0;34m(\u001b[0m\u001b[0mself\u001b[0m\u001b[0;34m.\u001b[0m\u001b[0malign_par\u001b[0m\u001b[0;34m,\u001b[0m \u001b[0mstr\u001b[0m\u001b[0;34m)\u001b[0m\u001b[0;34m:\u001b[0m \u001b[0moutputs\u001b[0m \u001b[0;34m+=\u001b[0m \u001b[0;34m[\u001b[0m\u001b[0mself\u001b[0m\u001b[0;34m.\u001b[0m\u001b[0malign_par\u001b[0m\u001b[0;34m]\u001b[0m\u001b[0;34m\u001b[0m\u001b[0;34m\u001b[0m\u001b[0m\n\u001b[1;32m    166\u001b[0m \u001b[0;34m\u001b[0m\u001b[0m\n\u001b[0;32m--> 167\u001b[0;31m         \u001b[0mself\u001b[0m\u001b[0;34m.\u001b[0m\u001b[0mproc_chain\u001b[0m\u001b[0;34m,\u001b[0m \u001b[0mself\u001b[0m\u001b[0;34m.\u001b[0m\u001b[0mlh5_out\u001b[0m \u001b[0;34m=\u001b[0m \u001b[0mbuild_processing_chain\u001b[0m\u001b[0;34m(\u001b[0m\u001b[0mself\u001b[0m\u001b[0;34m.\u001b[0m\u001b[0mlh5_in\u001b[0m\u001b[0;34m,\u001b[0m \u001b[0mdsp_config\u001b[0m\u001b[0;34m,\u001b[0m \u001b[0mdb_dict\u001b[0m\u001b[0;34m=\u001b[0m\u001b[0mdatabase\u001b[0m\u001b[0;34m,\u001b[0m \u001b[0moutputs\u001b[0m\u001b[0;34m=\u001b[0m\u001b[0moutputs\u001b[0m\u001b[0;34m,\u001b[0m \u001b[0mverbosity\u001b[0m\u001b[0;34m=\u001b[0m\u001b[0mself\u001b[0m\u001b[0;34m.\u001b[0m\u001b[0mverbosity\u001b[0m\u001b[0;34m,\u001b[0m \u001b[0mblock_width\u001b[0m\u001b[0;34m=\u001b[0m\u001b[0mblock_width\u001b[0m\u001b[0;34m)\u001b[0m\u001b[0;34m\u001b[0m\u001b[0;34m\u001b[0m\u001b[0m\n\u001b[0m\u001b[1;32m    168\u001b[0m \u001b[0;34m\u001b[0m\u001b[0m\n\u001b[1;32m    169\u001b[0m         \u001b[0mself\u001b[0m\u001b[0;34m.\u001b[0m\u001b[0mfig\u001b[0m \u001b[0;34m=\u001b[0m \u001b[0;32mNone\u001b[0m\u001b[0;34m\u001b[0m\u001b[0;34m\u001b[0m\u001b[0m\n",
      "\u001b[0;32m/global/u1/w/wisecg/pygama_wisecg/pygama/dsp/build_processing_chain.py\u001b[0m in \u001b[0;36mbuild_processing_chain\u001b[0;34m(lh5_in, dsp_config, db_dict, outputs, verbosity, block_width)\u001b[0m\n\u001b[1;32m     64\u001b[0m     \u001b[0;32mif\u001b[0m \u001b[0misinstance\u001b[0m\u001b[0;34m(\u001b[0m\u001b[0mdsp_config\u001b[0m\u001b[0;34m,\u001b[0m \u001b[0mstr\u001b[0m\u001b[0;34m)\u001b[0m\u001b[0;34m:\u001b[0m\u001b[0;34m\u001b[0m\u001b[0;34m\u001b[0m\u001b[0m\n\u001b[1;32m     65\u001b[0m         \u001b[0;32mwith\u001b[0m \u001b[0mopen\u001b[0m\u001b[0;34m(\u001b[0m\u001b[0mdsp_config\u001b[0m\u001b[0;34m)\u001b[0m \u001b[0;32mas\u001b[0m \u001b[0mf\u001b[0m\u001b[0;34m:\u001b[0m\u001b[0;34m\u001b[0m\u001b[0;34m\u001b[0m\u001b[0m\n\u001b[0;32m---> 66\u001b[0;31m             \u001b[0mdsp_config\u001b[0m \u001b[0;34m=\u001b[0m \u001b[0mjson\u001b[0m\u001b[0;34m.\u001b[0m\u001b[0mload\u001b[0m\u001b[0;34m(\u001b[0m\u001b[0mf\u001b[0m\u001b[0;34m)\u001b[0m\u001b[0;34m\u001b[0m\u001b[0;34m\u001b[0m\u001b[0m\n\u001b[0m\u001b[1;32m     67\u001b[0m     \u001b[0;32melif\u001b[0m \u001b[0mdsp_config\u001b[0m \u001b[0;32mis\u001b[0m \u001b[0;32mNone\u001b[0m\u001b[0;34m:\u001b[0m\u001b[0;34m\u001b[0m\u001b[0;34m\u001b[0m\u001b[0m\n\u001b[1;32m     68\u001b[0m         \u001b[0mdsp_config\u001b[0m \u001b[0;34m=\u001b[0m \u001b[0;34m{\u001b[0m\u001b[0;34m'outputs'\u001b[0m\u001b[0;34m:\u001b[0m\u001b[0;34m[\u001b[0m\u001b[0;34m]\u001b[0m\u001b[0;34m,\u001b[0m \u001b[0;34m'processors'\u001b[0m\u001b[0;34m:\u001b[0m\u001b[0;34m{\u001b[0m\u001b[0;34m}\u001b[0m\u001b[0;34m}\u001b[0m\u001b[0;34m\u001b[0m\u001b[0;34m\u001b[0m\u001b[0m\n",
      "\u001b[0;32m/opt/anaconda3/lib/python3.8/json/__init__.py\u001b[0m in \u001b[0;36mload\u001b[0;34m(fp, cls, object_hook, parse_float, parse_int, parse_constant, object_pairs_hook, **kw)\u001b[0m\n\u001b[1;32m    291\u001b[0m     \u001b[0mkwarg\u001b[0m\u001b[0;34m;\u001b[0m \u001b[0motherwise\u001b[0m\u001b[0;31m \u001b[0m\u001b[0;31m`\u001b[0m\u001b[0;31m`\u001b[0m\u001b[0mJSONDecoder\u001b[0m\u001b[0;31m`\u001b[0m\u001b[0;31m`\u001b[0m \u001b[0;32mis\u001b[0m \u001b[0mused\u001b[0m\u001b[0;34m.\u001b[0m\u001b[0;34m\u001b[0m\u001b[0;34m\u001b[0m\u001b[0m\n\u001b[1;32m    292\u001b[0m     \"\"\"\n\u001b[0;32m--> 293\u001b[0;31m     return loads(fp.read(),\n\u001b[0m\u001b[1;32m    294\u001b[0m         \u001b[0mcls\u001b[0m\u001b[0;34m=\u001b[0m\u001b[0mcls\u001b[0m\u001b[0;34m,\u001b[0m \u001b[0mobject_hook\u001b[0m\u001b[0;34m=\u001b[0m\u001b[0mobject_hook\u001b[0m\u001b[0;34m,\u001b[0m\u001b[0;34m\u001b[0m\u001b[0;34m\u001b[0m\u001b[0m\n\u001b[1;32m    295\u001b[0m         \u001b[0mparse_float\u001b[0m\u001b[0;34m=\u001b[0m\u001b[0mparse_float\u001b[0m\u001b[0;34m,\u001b[0m \u001b[0mparse_int\u001b[0m\u001b[0;34m=\u001b[0m\u001b[0mparse_int\u001b[0m\u001b[0;34m,\u001b[0m\u001b[0;34m\u001b[0m\u001b[0;34m\u001b[0m\u001b[0m\n",
      "\u001b[0;32m/opt/anaconda3/lib/python3.8/json/__init__.py\u001b[0m in \u001b[0;36mloads\u001b[0;34m(s, cls, object_hook, parse_float, parse_int, parse_constant, object_pairs_hook, **kw)\u001b[0m\n\u001b[1;32m    355\u001b[0m             \u001b[0mparse_int\u001b[0m \u001b[0;32mis\u001b[0m \u001b[0;32mNone\u001b[0m \u001b[0;32mand\u001b[0m \u001b[0mparse_float\u001b[0m \u001b[0;32mis\u001b[0m \u001b[0;32mNone\u001b[0m \u001b[0;32mand\u001b[0m\u001b[0;34m\u001b[0m\u001b[0;34m\u001b[0m\u001b[0m\n\u001b[1;32m    356\u001b[0m             parse_constant is None and object_pairs_hook is None and not kw):\n\u001b[0;32m--> 357\u001b[0;31m         \u001b[0;32mreturn\u001b[0m \u001b[0m_default_decoder\u001b[0m\u001b[0;34m.\u001b[0m\u001b[0mdecode\u001b[0m\u001b[0;34m(\u001b[0m\u001b[0ms\u001b[0m\u001b[0;34m)\u001b[0m\u001b[0;34m\u001b[0m\u001b[0;34m\u001b[0m\u001b[0m\n\u001b[0m\u001b[1;32m    358\u001b[0m     \u001b[0;32mif\u001b[0m \u001b[0mcls\u001b[0m \u001b[0;32mis\u001b[0m \u001b[0;32mNone\u001b[0m\u001b[0;34m:\u001b[0m\u001b[0;34m\u001b[0m\u001b[0;34m\u001b[0m\u001b[0m\n\u001b[1;32m    359\u001b[0m         \u001b[0mcls\u001b[0m \u001b[0;34m=\u001b[0m \u001b[0mJSONDecoder\u001b[0m\u001b[0;34m\u001b[0m\u001b[0;34m\u001b[0m\u001b[0m\n",
      "\u001b[0;32m/opt/anaconda3/lib/python3.8/json/decoder.py\u001b[0m in \u001b[0;36mdecode\u001b[0;34m(self, s, _w)\u001b[0m\n\u001b[1;32m    335\u001b[0m \u001b[0;34m\u001b[0m\u001b[0m\n\u001b[1;32m    336\u001b[0m         \"\"\"\n\u001b[0;32m--> 337\u001b[0;31m         \u001b[0mobj\u001b[0m\u001b[0;34m,\u001b[0m \u001b[0mend\u001b[0m \u001b[0;34m=\u001b[0m \u001b[0mself\u001b[0m\u001b[0;34m.\u001b[0m\u001b[0mraw_decode\u001b[0m\u001b[0;34m(\u001b[0m\u001b[0ms\u001b[0m\u001b[0;34m,\u001b[0m \u001b[0midx\u001b[0m\u001b[0;34m=\u001b[0m\u001b[0m_w\u001b[0m\u001b[0;34m(\u001b[0m\u001b[0ms\u001b[0m\u001b[0;34m,\u001b[0m \u001b[0;36m0\u001b[0m\u001b[0;34m)\u001b[0m\u001b[0;34m.\u001b[0m\u001b[0mend\u001b[0m\u001b[0;34m(\u001b[0m\u001b[0;34m)\u001b[0m\u001b[0;34m)\u001b[0m\u001b[0;34m\u001b[0m\u001b[0;34m\u001b[0m\u001b[0m\n\u001b[0m\u001b[1;32m    338\u001b[0m         \u001b[0mend\u001b[0m \u001b[0;34m=\u001b[0m \u001b[0m_w\u001b[0m\u001b[0;34m(\u001b[0m\u001b[0ms\u001b[0m\u001b[0;34m,\u001b[0m \u001b[0mend\u001b[0m\u001b[0;34m)\u001b[0m\u001b[0;34m.\u001b[0m\u001b[0mend\u001b[0m\u001b[0;34m(\u001b[0m\u001b[0;34m)\u001b[0m\u001b[0;34m\u001b[0m\u001b[0;34m\u001b[0m\u001b[0m\n\u001b[1;32m    339\u001b[0m         \u001b[0;32mif\u001b[0m \u001b[0mend\u001b[0m \u001b[0;34m!=\u001b[0m \u001b[0mlen\u001b[0m\u001b[0;34m(\u001b[0m\u001b[0ms\u001b[0m\u001b[0;34m)\u001b[0m\u001b[0;34m:\u001b[0m\u001b[0;34m\u001b[0m\u001b[0;34m\u001b[0m\u001b[0m\n",
      "\u001b[0;32m/opt/anaconda3/lib/python3.8/json/decoder.py\u001b[0m in \u001b[0;36mraw_decode\u001b[0;34m(self, s, idx)\u001b[0m\n\u001b[1;32m    351\u001b[0m         \"\"\"\n\u001b[1;32m    352\u001b[0m         \u001b[0;32mtry\u001b[0m\u001b[0;34m:\u001b[0m\u001b[0;34m\u001b[0m\u001b[0;34m\u001b[0m\u001b[0m\n\u001b[0;32m--> 353\u001b[0;31m             \u001b[0mobj\u001b[0m\u001b[0;34m,\u001b[0m \u001b[0mend\u001b[0m \u001b[0;34m=\u001b[0m \u001b[0mself\u001b[0m\u001b[0;34m.\u001b[0m\u001b[0mscan_once\u001b[0m\u001b[0;34m(\u001b[0m\u001b[0ms\u001b[0m\u001b[0;34m,\u001b[0m \u001b[0midx\u001b[0m\u001b[0;34m)\u001b[0m\u001b[0;34m\u001b[0m\u001b[0;34m\u001b[0m\u001b[0m\n\u001b[0m\u001b[1;32m    354\u001b[0m         \u001b[0;32mexcept\u001b[0m \u001b[0mStopIteration\u001b[0m \u001b[0;32mas\u001b[0m \u001b[0merr\u001b[0m\u001b[0;34m:\u001b[0m\u001b[0;34m\u001b[0m\u001b[0;34m\u001b[0m\u001b[0m\n\u001b[1;32m    355\u001b[0m             \u001b[0;32mraise\u001b[0m \u001b[0mJSONDecodeError\u001b[0m\u001b[0;34m(\u001b[0m\u001b[0;34m\"Expecting value\"\u001b[0m\u001b[0;34m,\u001b[0m \u001b[0ms\u001b[0m\u001b[0;34m,\u001b[0m \u001b[0merr\u001b[0m\u001b[0;34m.\u001b[0m\u001b[0mvalue\u001b[0m\u001b[0;34m)\u001b[0m \u001b[0;32mfrom\u001b[0m \u001b[0;32mNone\u001b[0m\u001b[0;34m\u001b[0m\u001b[0;34m\u001b[0m\u001b[0m\n",
      "\u001b[0;31mJSONDecodeError\u001b[0m: Expecting ',' delimiter: line 10 column 5 (char 390)"
     ]
    }
   ],
   "source": [
    "dsp_config_file = os.path.expandvars(f'$CAGE_SW/processing/metadata/dsp/dsp_{dsp_id}.json')\n",
    "print(dsp_id)\n",
    "browser = WaveformBrowser(raw_list, 'ORSIS3302DecoderForEnergy/raw', dsp_config_file, # Need to include a dsp config file!\n",
    "                          # database={\"pz_const\":'396.9*us'}, # TODO: use metadata instead of manually defining...\n",
    "                          waveforms=['wf_blsub', 'wf_pzDCR', 'dcr_trap', 'dcr_trap'], # names of waveforms from dsp config file\n",
    "                          selection = cut, # Apply cut\n",
    "                          wf_styles=[{'linestyle':['-']},{'linestyle':[':']},{'ls':['--']}],\n",
    "                          legend=['Waveform', 'PZ Corrected', \"DCR: {dcr:0.2f}\"],\n",
    "                          legend_opts={'loc':\"lower right\"},\n",
    "                          lines=['dcr'], # add hlines and vlines\n",
    "                          x_lim=(38000, 80000) # x axis range\n",
    "                          )\n",
    "# plt.rcParams['figure.figsize'] = [14, 10]"
   ]
  },
  {
   "cell_type": "code",
   "execution_count": null,
   "metadata": {},
   "outputs": [],
   "source": [
    "%matplotlib widget\n",
    "browser.draw_next()\n",
    "plt.ylim(3100, 3300)\n",
    "plt.axvline(42500, c='r')\n",
    "plt.axvline(55000, c='r')"
   ]
  },
  {
   "cell_type": "markdown",
   "metadata": {},
   "source": [
    "## Energy Plots"
   ]
  },
  {
   "cell_type": "code",
   "execution_count": 32,
   "metadata": {},
   "outputs": [
    {
     "name": "stdout",
     "output_type": "stream",
     "text": [
      "Processing parameters: ['bl, bl_sig', 'wf_blsub', 'wf_pz', 'wf_trap', 'wf_atrap', 'tp_max', 'tp_0', 'trapEftp']\n",
      "Required input parameters: ['waveform']\n",
      "Copied output parameters: []\n",
      "Processed output parameters: ['wf_blsub', 'wf_pz', 'wf_trap', 'trapEftp']\n",
      "Database lookup: using default value of 51.00*us for db.pz2.tau1\n",
      "Database lookup: using default value of 4*us for db.pz2.tau2\n",
      "Database lookup: using default value of 0.05 for db.pz2.frac\n"
     ]
    }
   ],
   "source": [
    "dsp_config_file = os.path.expandvars(f'$CAGE_SW/processing/metadata/dsp/dsp_{dsp_id}.json')\n",
    "browser2 = WaveformBrowser(raw_list, 'ORSIS3302DecoderForEnergy/raw', dsp_config_file, \n",
    "                           waveforms =['wf_blsub', 'wf_pz', 'wf_trap'],\n",
    "                           selection = cut, \n",
    "                           wf_styles = [{'linestyle':['-']},{'linestyle':[':']},{'ls':['--']}],\n",
    "                           legend = ['Waveform', 'PZ Corrected',  'trapEftp = {trapEftp:0.2f}'],\n",
    "                           legend_opts = {'loc':\"lower left\"},\n",
    "                           lines = ['trapEftp'],\n",
    "                           x_lim = (0, 80000)\n",
    "                           )"
   ]
  },
  {
   "cell_type": "code",
   "execution_count": 47,
   "metadata": {},
   "outputs": [
    {
     "data": {
      "application/vnd.jupyter.widget-view+json": {
       "model_id": "5fa0917009fa4294b719361784bba98f",
       "version_major": 2,
       "version_minor": 0
      },
      "text/plain": [
       "Canvas(toolbar=Toolbar(toolitems=[('Home', 'Reset original view', 'home', 'home'), ('Back', 'Back to previous …"
      ]
     },
     "metadata": {},
     "output_type": "display_data"
    },
    {
     "data": {
      "text/plain": [
       "[705]"
      ]
     },
     "execution_count": 47,
     "metadata": {},
     "output_type": "execute_result"
    }
   ],
   "source": [
    "%matplotlib widget\n",
    "browser2.draw_next()\n",
    "# plt.ylim(4000, 4500)"
   ]
  },
  {
   "cell_type": "markdown",
   "metadata": {},
   "source": [
    "## Timepoint calculators -- `tp_0`, etc."
   ]
  },
  {
   "cell_type": "code",
   "execution_count": 34,
   "metadata": {},
   "outputs": [
    {
     "name": "stdout",
     "output_type": "stream",
     "text": [
      "Processing parameters: ['bl, bl_sig', 'wf_blsub', 'wf_pz', 'wf_atrap', 'tp_max', 'tp_0']\n",
      "Required input parameters: ['waveform']\n",
      "Copied output parameters: []\n",
      "Processed output parameters: ['wf_blsub', 'wf_pz', 'wf_atrap', 'tp_0']\n",
      "Database lookup: using default value of 51.00*us for db.pz2.tau1\n",
      "Database lookup: using default value of 4*us for db.pz2.tau2\n",
      "Database lookup: using default value of 0.05 for db.pz2.frac\n"
     ]
    }
   ],
   "source": [
    "dsp_config_file = os.path.expandvars(f'$CAGE_SW/processing/metadata/dsp/dsp_{dsp_id}.json')\n",
    "browser3 = WaveformBrowser(raw_list, 'ORSIS3302DecoderForEnergy/raw', dsp_config_file, \n",
    "                           waveforms = ['wf_blsub', 'wf_pz', 'wf_atrap'],\n",
    "                           selection = cut,\n",
    "                           wf_styles = [{'linestyle':['-']},{'linestyle':[':']},{'ls':['--']}],\n",
    "                           legend = ['Waveform', 'PZ Corrected',  't0 = {tp_0:0.2f}'],\n",
    "                           lines=['tp_0'],\n",
    "                           x_lim=(39000, 41000)\n",
    "                           )"
   ]
  },
  {
   "cell_type": "code",
   "execution_count": 48,
   "metadata": {},
   "outputs": [
    {
     "data": {
      "application/vnd.jupyter.widget-view+json": {
       "model_id": "20829621c5c34e02b8ca66f38cb58ffd",
       "version_major": 2,
       "version_minor": 0
      },
      "text/plain": [
       "Canvas(toolbar=Toolbar(toolitems=[('Home', 'Reset original view', 'home', 'home'), ('Back', 'Back to previous …"
      ]
     },
     "metadata": {},
     "output_type": "display_data"
    },
    {
     "data": {
      "text/plain": [
       "[705]"
      ]
     },
     "execution_count": 48,
     "metadata": {},
     "output_type": "execute_result"
    }
   ],
   "source": [
    "%matplotlib widget\n",
    "browser3.draw_next()\n",
    "# plt.ylim(-10, 200) \n",
    "# plt.xlim(38000, 45000)"
   ]
  },
  {
   "cell_type": "markdown",
   "metadata": {},
   "source": [
    "## T/E calculator"
   ]
  },
  {
   "cell_type": "code",
   "execution_count": 49,
   "metadata": {},
   "outputs": [
    {
     "name": "stdout",
     "output_type": "stream",
     "text": [
      "Processing parameters: ['bl, bl_sig', 'wf_blsub', 'wf_pz', 'wf_triangle', 'triE']\n",
      "Required input parameters: ['waveform']\n",
      "Copied output parameters: []\n",
      "Processed output parameters: ['wf_blsub', 'wf_pz', 'wf_triangle', 'triE']\n",
      "Database lookup: using default value of 51.00*us for db.pz2.tau1\n",
      "Database lookup: using default value of 4*us for db.pz2.tau2\n",
      "Database lookup: using default value of 0.05 for db.pz2.frac\n"
     ]
    }
   ],
   "source": [
    "dsp_config_file = os.path.expandvars(f'$CAGE_SW/processing/metadata/dsp/dsp_{dsp_id}.json')\n",
    "browser_tri = WaveformBrowser(raw_list, 'ORSIS3302DecoderForEnergy/raw', dsp_config_file,\n",
    "                              waveforms = ['wf_blsub', 'wf_pz', 'wf_triangle'],\n",
    "                              selection = cut,\n",
    "                              wf_styles=[{'linestyle':['-']},{'linestyle':[':']},{'ls':['--']}],\n",
    "                              legend=['Waveform', 'PZ Corrected',  'triE= {triE:0.2f}'],\n",
    "                              lines=['triE'],\n",
    "                              x_lim=(0, 50000)\n",
    "                              )"
   ]
  },
  {
   "cell_type": "code",
   "execution_count": 50,
   "metadata": {},
   "outputs": [
    {
     "data": {
      "application/vnd.jupyter.widget-view+json": {
       "model_id": "82c3de2aa60845d3ae2d371e44ce34f6",
       "version_major": 2,
       "version_minor": 0
      },
      "text/plain": [
       "Canvas(toolbar=Toolbar(toolitems=[('Home', 'Reset original view', 'home', 'home'), ('Back', 'Back to previous …"
      ]
     },
     "metadata": {},
     "output_type": "display_data"
    },
    {
     "data": {
      "text/plain": [
       "(38000.0, 45000.0)"
      ]
     },
     "execution_count": 50,
     "metadata": {},
     "output_type": "execute_result"
    }
   ],
   "source": [
    "%matplotlib widget\n",
    "browser_tri.draw_next()\n",
    "# plt.ylim(-10, 100) \n",
    "plt.xlim(38000, 45000)"
   ]
  },
  {
   "cell_type": "markdown",
   "metadata": {},
   "source": [
    "## WF_psd\n",
    "(todo)"
   ]
  },
  {
   "cell_type": "markdown",
   "metadata": {},
   "source": [
    "## LF noise\n",
    "Low-frequency maximum value `lf_max`"
   ]
  },
  {
   "cell_type": "code",
   "execution_count": 51,
   "metadata": {},
   "outputs": [
    {
     "name": "stdout",
     "output_type": "stream",
     "text": [
      "Processing parameters: ['bl, bl_sig', 'wf_blsub', 'wf_psd', 'lf_max']\n",
      "Required input parameters: ['waveform']\n",
      "Copied output parameters: []\n",
      "Processed output parameters: ['wf_psd', 'wf_psd', 'lf_max']\n",
      "Added variable waveform with shape (8, 8192) and type float32\n",
      "Binding input buffer of shape (128, 8192) and type uint16 to variable waveform with shape (8, 8192) and type float32\n",
      "Added variable bl with shape (8,) and type float32\n",
      "Added variable bl_sig with shape (8,) and type float32\n",
      "Added processor: mean_stdev(waveform[0:2500], bl, bl_sig)\n",
      "Added variable wf_blsub with shape (8, 8192) and type float32\n",
      "Added processor: subtract(waveform, bl, wf_blsub)\n",
      "Added variable wf_psd with shape (8, 1501) and type float32\n",
      "Building function psd from init_args [array([[0., 0., 0., ..., 0., 0., 0.],\n",
      "       [0., 0., 0., ..., 0., 0., 0.],\n",
      "       [0., 0., 0., ..., 0., 0., 0.],\n",
      "       ...,\n",
      "       [0., 0., 0., ..., 0., 0., 0.],\n",
      "       [0., 0., 0., ..., 0., 0., 0.],\n",
      "       [0., 0., 0., ..., 0., 0., 0.]], dtype=float32), array([[0., 0., 0., ..., 0., 0., 0.],\n",
      "       [0., 0., 0., ..., 0., 0., 0.],\n",
      "       [0., 0., 0., ..., 0., 0., 0.],\n",
      "       ...,\n",
      "       [0., 0., 0., ..., 0., 0., 0.],\n",
      "       [0., 0., 0., ..., 0., 0., 0.],\n",
      "       [0., 0., 0., ..., 0., 0., 0.]], dtype=float32)]\n",
      "Added processor: psd(wf_blsub[:3000], wf_psd)\n",
      "Added variable lf_max with shape (8,) and type float32\n",
      "Added processor: amax(wf_psd[:round(150*khz*3000)], 1, lf_max)\n",
      "Binding output buffer of shape (128, 1501) and type float32 to variable wf_psd with shape (8, 1501) and type float32\n",
      "Binding output buffer of shape (128,) and type float32 to variable lf_max with shape (8,) and type float32\n"
     ]
    }
   ],
   "source": [
    "dsp_config_file = os.path.expandvars(f'$CAGE_SW/processing/metadata/dsp/dsp_{dsp_id}.json')\n",
    "browser4 = WaveformBrowser(raw_list, 'ORSIS3302DecoderForEnergy/raw', dsp_config_file,\n",
    "                           waveforms = ['wf_psd', 'wf_psd'],\n",
    "                           selection = cut,\n",
    "                           wf_styles = [{'linestyle':['-']}],\n",
    "                           legend = ['lf_max = {lf_max:0.2f}', 'wf_psd'],\n",
    "                           lines=['lf_max'],\n",
    "                           x_unit = 'khz',\n",
    "                           x_lim=(0, 200),\n",
    "                           verbosity=2\n",
    "                           )"
   ]
  },
  {
   "cell_type": "code",
   "execution_count": 52,
   "metadata": {},
   "outputs": [
    {
     "data": {
      "application/vnd.jupyter.widget-view+json": {
       "model_id": "411d91a8bceb47368782f9aa1ff82515",
       "version_major": 2,
       "version_minor": 0
      },
      "text/plain": [
       "Canvas(toolbar=Toolbar(toolitems=[('Home', 'Reset original view', 'home', 'home'), ('Back', 'Back to previous …"
      ]
     },
     "metadata": {},
     "output_type": "display_data"
    },
    {
     "data": {
      "text/plain": [
       "[625]"
      ]
     },
     "execution_count": 52,
     "metadata": {},
     "output_type": "execute_result"
    }
   ],
   "source": [
    "%matplotlib widget\n",
    "browser4.draw_next()\n",
    "# plt.ylim(0, 2000)"
   ]
  },
  {
   "cell_type": "markdown",
   "metadata": {},
   "source": [
    "## HF PSD\n",
    "\n",
    "High-frequency maximum value `hf_max`"
   ]
  },
  {
   "cell_type": "code",
   "execution_count": 53,
   "metadata": {},
   "outputs": [
    {
     "name": "stdout",
     "output_type": "stream",
     "text": [
      "Processing parameters: ['bl, bl_sig', 'wf_blsub', 'wf_psd', 'hf_max']\n",
      "Required input parameters: ['waveform']\n",
      "Copied output parameters: []\n",
      "Processed output parameters: ['wf_psd', 'wf_psd', 'hf_max']\n",
      "Added variable waveform with shape (8, 8192) and type float32\n",
      "Binding input buffer of shape (128, 8192) and type uint16 to variable waveform with shape (8, 8192) and type float32\n",
      "Added variable bl with shape (8,) and type float32\n",
      "Added variable bl_sig with shape (8,) and type float32\n",
      "Added processor: mean_stdev(waveform[0:2500], bl, bl_sig)\n",
      "Added variable wf_blsub with shape (8, 8192) and type float32\n",
      "Added processor: subtract(waveform, bl, wf_blsub)\n",
      "Added variable wf_psd with shape (8, 1501) and type float32\n",
      "Building function psd from init_args [array([[0., 0., 0., ..., 0., 0., 0.],\n",
      "       [0., 0., 0., ..., 0., 0., 0.],\n",
      "       [0., 0., 0., ..., 0., 0., 0.],\n",
      "       ...,\n",
      "       [0., 0., 0., ..., 0., 0., 0.],\n",
      "       [0., 0., 0., ..., 0., 0., 0.],\n",
      "       [0., 0., 0., ..., 0., 0., 0.]], dtype=float32), array([[0., 0., 0., ..., 0., 0., 0.],\n",
      "       [0., 0., 0., ..., 0., 0., 0.],\n",
      "       [0., 0., 0., ..., 0., 0., 0.],\n",
      "       ...,\n",
      "       [0., 0., 0., ..., 0., 0., 0.],\n",
      "       [0., 0., 0., ..., 0., 0., 0.],\n",
      "       [0., 0., 0., ..., 0., 0., 0.]], dtype=float32)]\n",
      "Added processor: psd(wf_blsub[:3000], wf_psd)\n",
      "Added variable hf_max with shape (8,) and type float32\n",
      "Added processor: amax(wf_psd[round(10*mhz*3000):round(20*mhz*3000)], 1, hf_max)\n",
      "Binding output buffer of shape (128, 1501) and type float32 to variable wf_psd with shape (8, 1501) and type float32\n",
      "Binding output buffer of shape (128,) and type float32 to variable hf_max with shape (8,) and type float32\n"
     ]
    }
   ],
   "source": [
    "dsp_config_file = os.path.expandvars(f'$CAGE_SW/processing/metadata/dsp/dsp_{dsp_id}.json')\n",
    "browser5 = WaveformBrowser(raw_list, 'ORSIS3302DecoderForEnergy/raw', dsp_config_file,\n",
    "                           waveforms = ['wf_psd', 'wf_psd'],\n",
    "                           selection = cut, \n",
    "                           wf_styles = [{'linestyle':['-']}],\n",
    "                           legend=['hf_max = {hf_max:0.2f}', 'wf_psd'],\n",
    "                           lines=['hf_max'],\n",
    "                           x_unit = 'mhz',\n",
    "                           x_lim=(0, 50),\n",
    "                           verbosity=2\n",
    "                           )"
   ]
  },
  {
   "cell_type": "code",
   "execution_count": 54,
   "metadata": {},
   "outputs": [
    {
     "data": {
      "application/vnd.jupyter.widget-view+json": {
       "model_id": "93a6cf214aaa4fa990b40314ea20d855",
       "version_major": 2,
       "version_minor": 0
      },
      "text/plain": [
       "Canvas(toolbar=Toolbar(toolitems=[('Home', 'Reset original view', 'home', 'home'), ('Back', 'Back to previous …"
      ]
     },
     "metadata": {},
     "output_type": "display_data"
    },
    {
     "data": {
      "text/plain": [
       "[625]"
      ]
     },
     "execution_count": 54,
     "metadata": {},
     "output_type": "execute_result"
    }
   ],
   "source": [
    "%matplotlib widget\n",
    "browser5.draw_next()\n",
    "# plt.ylim(0, 2000)"
   ]
  },
  {
   "cell_type": "markdown",
   "metadata": {},
   "source": [
    "## Baseline Slope"
   ]
  },
  {
   "cell_type": "code",
   "execution_count": 55,
   "metadata": {},
   "outputs": [
    {
     "name": "stdout",
     "output_type": "stream",
     "text": [
      "Processing parameters: ['bl, bl_sig', 'wf_blsub', 'wf_pzDCR', 'bl_trap', 'bl_slope']\n",
      "Required input parameters: ['waveform']\n",
      "Copied output parameters: []\n",
      "Processed output parameters: ['wf_blsub', 'wf_pzDCR', 'bl_trap', 'bl_slope']\n",
      "Database lookup: using default value of 52.00*us for db.pz2.tau1\n",
      "Database lookup: using default value of 4*us for db.pz2.tau2\n",
      "Database lookup: using default value of 0.05 for db.pz2.frac\n"
     ]
    }
   ],
   "source": [
    "dsp_config_file = os.path.expandvars(f'$CAGE_SW/processing/metadata/dsp/dsp_{dsp_id}.json')\n",
    "browser6 = WaveformBrowser(raw_list, 'ORSIS3302DecoderForEnergy/raw', dsp_config_file,\n",
    "                           waveforms=['wf_blsub', 'wf_pzDCR', 'bl_trap'],\n",
    "                           selection = cut,\n",
    "                           wf_styles=[{'linestyle':['-']},{'linestyle':[':']},{'ls':['--']}],\n",
    "                           legend=['Waveform', 'PZ Corrected', \"bl_slope: {bl_slope:0.2f}\"],\n",
    "                           lines=['bl_slope'],\n",
    "                           x_lim=(0, 20000),\n",
    "                           )"
   ]
  },
  {
   "cell_type": "code",
   "execution_count": 56,
   "metadata": {},
   "outputs": [
    {
     "data": {
      "application/vnd.jupyter.widget-view+json": {
       "model_id": "bc14fa8ee85340a99ffbace3ff5319c6",
       "version_major": 2,
       "version_minor": 0
      },
      "text/plain": [
       "Canvas(toolbar=Toolbar(toolitems=[('Home', 'Reset original view', 'home', 'home'), ('Back', 'Back to previous …"
      ]
     },
     "metadata": {},
     "output_type": "display_data"
    },
    {
     "data": {
      "text/plain": [
       "(-30.0, 30.0)"
      ]
     },
     "execution_count": 56,
     "metadata": {},
     "output_type": "execute_result"
    }
   ],
   "source": [
    "%matplotlib widget\n",
    "browser6.draw_next()\n",
    "plt.ylim(-30, 30)"
   ]
  },
  {
   "cell_type": "code",
   "execution_count": 57,
   "metadata": {},
   "outputs": [
    {
     "name": "stdout",
     "output_type": "stream",
     "text": [
      "Processing parameters: ['bl, bl_sig', 'wf_blsub', 'log_tail']\n",
      "Required input parameters: ['waveform']\n",
      "Copied output parameters: []\n",
      "Processed output parameters: ['log_tail']\n",
      "Found multiple compatible type signatures for this function: ['ff', 'ff'] Using signature ff.\n"
     ]
    }
   ],
   "source": [
    "dsp_config_file = os.path.expandvars(f'$CAGE_SW/processing/metadata/dsp/dsp_{dsp_id}.json')\n",
    "browser7 = WaveformBrowser(raw_list, 'ORSIS3302DecoderForEnergy/raw', dsp_config_file,\n",
    "                           waveforms = ['log_tail'],\n",
    "                           selection = cut,\n",
    "                           wf_styles=[{'linestyle':['-']}],\n",
    "                           legend=['log tail'],\n",
    "                           # x_lim=(0, 80000)\n",
    "                           )"
   ]
  },
  {
   "cell_type": "code",
   "execution_count": 58,
   "metadata": {},
   "outputs": [
    {
     "data": {
      "application/vnd.jupyter.widget-view+json": {
       "model_id": "db8a4bbd7fdd42879c0146814234fc03",
       "version_major": 2,
       "version_minor": 0
      },
      "text/plain": [
       "Canvas(toolbar=Toolbar(toolitems=[('Home', 'Reset original view', 'home', 'home'), ('Back', 'Back to previous …"
      ]
     },
     "metadata": {},
     "output_type": "display_data"
    },
    {
     "data": {
      "text/plain": [
       "[625]"
      ]
     },
     "execution_count": 58,
     "metadata": {},
     "output_type": "execute_result"
    }
   ],
   "source": [
    "%matplotlib widget\n",
    "browser7.draw_next()\n",
    "# plt.xlim(0, 40000)"
   ]
  },
  {
   "cell_type": "code",
   "execution_count": null,
   "metadata": {},
   "outputs": [],
   "source": []
  },
  {
   "cell_type": "code",
   "execution_count": null,
   "metadata": {},
   "outputs": [],
   "source": []
  },
  {
   "cell_type": "code",
   "execution_count": null,
   "metadata": {},
   "outputs": [],
   "source": []
  },
  {
   "cell_type": "code",
   "execution_count": null,
   "metadata": {},
   "outputs": [],
   "source": []
  }
 ],
 "metadata": {
  "kernelspec": {
   "display_name": "legend-base",
   "language": "python",
   "name": "legend-base"
  },
  "language_info": {
   "codemirror_mode": {
    "name": "ipython",
    "version": 3
   },
   "file_extension": ".py",
   "mimetype": "text/x-python",
   "name": "python",
   "nbconvert_exporter": "python",
   "pygments_lexer": "ipython3",
   "version": "3.8.5"
  }
 },
 "nbformat": 4,
 "nbformat_minor": 4
}

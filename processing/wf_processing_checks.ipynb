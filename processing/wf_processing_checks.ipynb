{
 "cells": [
  {
   "cell_type": "markdown",
   "metadata": {},
   "source": [
    "Quick analysis"
   ]
  },
  {
   "cell_type": "code",
   "execution_count": 1,
   "metadata": {},
   "outputs": [],
   "source": [
    "#!/usr/bin/env python3\n",
    "import os\n",
    "import json\n",
    "import h5py\n",
    "import argparse\n",
    "import pandas as pd\n",
    "import numpy as np\n",
    "import tinydb as db\n",
    "from tinydb.storages import MemoryStorage\n",
    "import matplotlib.pyplot as plt\n",
    "# plt.style.use('../clint.mpl')\n",
    "from matplotlib.colors import LogNorm\n",
    "\n",
    "import boost_histogram as bh\n",
    "import pickle as pl\n",
    "\n",
    "from pygama import DataGroup\n",
    "import pygama.lh5 as lh5\n",
    "import pygama.analysis.histograms as pgh\n",
    "import pygama.analysis.peak_fitting as pgf\n",
    "from pygama.dsp.WaveformBrowser import WaveformBrowser"
   ]
  },
  {
   "cell_type": "code",
   "execution_count": 2,
   "metadata": {},
   "outputs": [
    {
     "name": "stdout",
     "output_type": "stream",
     "text": [
      "              unique_key  YYYY  mm  dd  cycle        daq_dir  \\\n",
      "789  cage-cyc791-2020105  2020  10   5    791  /2020/10/Data   \n",
      "790  cage-cyc792-2020105  2020  10   5    792  /2020/10/Data   \n",
      "791  cage-cyc793-2020105  2020  10   5    793  /2020/10/Data   \n",
      "792  cage-cyc794-2020105  2020  10   5    794  /2020/10/Data   \n",
      "793  cage-cyc795-2020105  2020  10   5    795  /2020/10/Data   \n",
      "794  cage-cyc796-2020105  2020  10   5    796  /2020/10/Data   \n",
      "795  cage-cyc797-2020105  2020  10   5    797  /2020/10/Data   \n",
      "796  cage-cyc798-2020105  2020  10   5    798  /2020/10/Data   \n",
      "797  cage-cyc799-2020105  2020  10   5    799  /2020/10/Data   \n",
      "798  cage-cyc800-2020105  2020  10   5    800  /2020/10/Data   \n",
      "799  cage-cyc801-2020105  2020  10   5    801  /2020/10/Data   \n",
      "800  cage-cyc802-2020105  2020  10   5    802  /2020/10/Data   \n",
      "801  cage-cyc803-2020105  2020  10   5    803  /2020/10/Data   \n",
      "802  cage-cyc804-2020105  2020  10   5    804  /2020/10/Data   \n",
      "803  cage-cyc805-2020105  2020  10   5    805  /2020/10/Data   \n",
      "804  cage-cyc806-2020105  2020  10   5    806  /2020/10/Data   \n",
      "805  cage-cyc807-2020105  2020  10   5    807  /2020/10/Data   \n",
      "806  cage-cyc808-2020105  2020  10   5    808  /2020/10/Data   \n",
      "807  cage-cyc809-2020106  2020  10   6    809  /2020/10/Data   \n",
      "808  cage-cyc810-2020106  2020  10   6    810  /2020/10/Data   \n",
      "809  cage-cyc811-2020106  2020  10   6    811  /2020/10/Data   \n",
      "810  cage-cyc812-2020106  2020  10   6    812  /2020/10/Data   \n",
      "811  cage-cyc813-2020106  2020  10   6    813  /2020/10/Data   \n",
      "812  cage-cyc814-2020106  2020  10   6    814  /2020/10/Data   \n",
      "813  cage-cyc815-2020106  2020  10   6    815  /2020/10/Data   \n",
      "814  cage-cyc816-2020106  2020  10   6    816  /2020/10/Data   \n",
      "815  cage-cyc817-2020106  2020  10   6    817  /2020/10/Data   \n",
      "816  cage-cyc818-2020106  2020  10   6    818  /2020/10/Data   \n",
      "817  cage-cyc819-2020106  2020  10   6    819  /2020/10/Data   \n",
      "818  cage-cyc820-2020106  2020  10   6    820  /2020/10/Data   \n",
      "819  cage-cyc821-2020106  2020  10   6    821  /2020/10/Data   \n",
      "820  cage-cyc822-2020106  2020  10   6    822  /2020/10/Data   \n",
      "821  cage-cyc823-2020106  2020  10   6    823  /2020/10/Data   \n",
      "\n",
      "                 daq_file  run runtype detector  ...  raw_path  \\\n",
      "789  2020-10-5-CAGERun791   57     bkg  oppi_v2  ...      /raw   \n",
      "790  2020-10-5-CAGERun792   57     bkg  oppi_v2  ...      /raw   \n",
      "791  2020-10-5-CAGERun793   57     bkg  oppi_v2  ...      /raw   \n",
      "792  2020-10-5-CAGERun794   57     bkg  oppi_v2  ...      /raw   \n",
      "793  2020-10-5-CAGERun795   57     bkg  oppi_v2  ...      /raw   \n",
      "794  2020-10-5-CAGERun796   57     bkg  oppi_v2  ...      /raw   \n",
      "795  2020-10-5-CAGERun797   57     bkg  oppi_v2  ...      /raw   \n",
      "796  2020-10-5-CAGERun798   57     bkg  oppi_v2  ...      /raw   \n",
      "797  2020-10-5-CAGERun799   57     bkg  oppi_v2  ...      /raw   \n",
      "798  2020-10-5-CAGERun800   57     bkg  oppi_v2  ...      /raw   \n",
      "799  2020-10-5-CAGERun801   57     bkg  oppi_v2  ...      /raw   \n",
      "800  2020-10-5-CAGERun802   57     bkg  oppi_v2  ...      /raw   \n",
      "801  2020-10-5-CAGERun803   57     bkg  oppi_v2  ...      /raw   \n",
      "802  2020-10-5-CAGERun804   57     bkg  oppi_v2  ...      /raw   \n",
      "803  2020-10-5-CAGERun805   57     bkg  oppi_v2  ...      /raw   \n",
      "804  2020-10-5-CAGERun806   57     bkg  oppi_v2  ...      /raw   \n",
      "805  2020-10-5-CAGERun807   57     bkg  oppi_v2  ...      /raw   \n",
      "806  2020-10-5-CAGERun808   57     bkg  oppi_v2  ...      /raw   \n",
      "807  2020-10-6-CAGERun809   57     bkg  oppi_v2  ...      /raw   \n",
      "808  2020-10-6-CAGERun810   57     bkg  oppi_v2  ...      /raw   \n",
      "809  2020-10-6-CAGERun811   57     bkg  oppi_v2  ...      /raw   \n",
      "810  2020-10-6-CAGERun812   57     bkg  oppi_v2  ...      /raw   \n",
      "811  2020-10-6-CAGERun813   57     bkg  oppi_v2  ...      /raw   \n",
      "812  2020-10-6-CAGERun814   57     bkg  oppi_v2  ...      /raw   \n",
      "813  2020-10-6-CAGERun815   57     bkg  oppi_v2  ...      /raw   \n",
      "814  2020-10-6-CAGERun816   57     bkg  oppi_v2  ...      /raw   \n",
      "815  2020-10-6-CAGERun817   57     bkg  oppi_v2  ...      /raw   \n",
      "816  2020-10-6-CAGERun818   57     bkg  oppi_v2  ...      /raw   \n",
      "817  2020-10-6-CAGERun819   57     bkg  oppi_v2  ...      /raw   \n",
      "818  2020-10-6-CAGERun820   57     bkg  oppi_v2  ...      /raw   \n",
      "819  2020-10-6-CAGERun821   57     bkg  oppi_v2  ...      /raw   \n",
      "820  2020-10-6-CAGERun822   57     bkg  oppi_v2  ...      /raw   \n",
      "821  2020-10-6-CAGERun823   57     bkg  oppi_v2  ...      /raw   \n",
      "\n",
      "                      dsp_file dsp_path                   hit_file hit_path  \\\n",
      "789  cage_run57_cyc791_dsp.lh5     /dsp  cage_run57_cyc791_hit.lh5     /hit   \n",
      "790  cage_run57_cyc792_dsp.lh5     /dsp  cage_run57_cyc792_hit.lh5     /hit   \n",
      "791  cage_run57_cyc793_dsp.lh5     /dsp  cage_run57_cyc793_hit.lh5     /hit   \n",
      "792  cage_run57_cyc794_dsp.lh5     /dsp  cage_run57_cyc794_hit.lh5     /hit   \n",
      "793  cage_run57_cyc795_dsp.lh5     /dsp  cage_run57_cyc795_hit.lh5     /hit   \n",
      "794  cage_run57_cyc796_dsp.lh5     /dsp  cage_run57_cyc796_hit.lh5     /hit   \n",
      "795  cage_run57_cyc797_dsp.lh5     /dsp  cage_run57_cyc797_hit.lh5     /hit   \n",
      "796  cage_run57_cyc798_dsp.lh5     /dsp  cage_run57_cyc798_hit.lh5     /hit   \n",
      "797  cage_run57_cyc799_dsp.lh5     /dsp  cage_run57_cyc799_hit.lh5     /hit   \n",
      "798  cage_run57_cyc800_dsp.lh5     /dsp  cage_run57_cyc800_hit.lh5     /hit   \n",
      "799  cage_run57_cyc801_dsp.lh5     /dsp  cage_run57_cyc801_hit.lh5     /hit   \n",
      "800  cage_run57_cyc802_dsp.lh5     /dsp  cage_run57_cyc802_hit.lh5     /hit   \n",
      "801  cage_run57_cyc803_dsp.lh5     /dsp  cage_run57_cyc803_hit.lh5     /hit   \n",
      "802  cage_run57_cyc804_dsp.lh5     /dsp  cage_run57_cyc804_hit.lh5     /hit   \n",
      "803  cage_run57_cyc805_dsp.lh5     /dsp  cage_run57_cyc805_hit.lh5     /hit   \n",
      "804  cage_run57_cyc806_dsp.lh5     /dsp  cage_run57_cyc806_hit.lh5     /hit   \n",
      "805  cage_run57_cyc807_dsp.lh5     /dsp  cage_run57_cyc807_hit.lh5     /hit   \n",
      "806  cage_run57_cyc808_dsp.lh5     /dsp  cage_run57_cyc808_hit.lh5     /hit   \n",
      "807  cage_run57_cyc809_dsp.lh5     /dsp  cage_run57_cyc809_hit.lh5     /hit   \n",
      "808  cage_run57_cyc810_dsp.lh5     /dsp  cage_run57_cyc810_hit.lh5     /hit   \n",
      "809  cage_run57_cyc811_dsp.lh5     /dsp  cage_run57_cyc811_hit.lh5     /hit   \n",
      "810  cage_run57_cyc812_dsp.lh5     /dsp  cage_run57_cyc812_hit.lh5     /hit   \n",
      "811  cage_run57_cyc813_dsp.lh5     /dsp  cage_run57_cyc813_hit.lh5     /hit   \n",
      "812  cage_run57_cyc814_dsp.lh5     /dsp  cage_run57_cyc814_hit.lh5     /hit   \n",
      "813  cage_run57_cyc815_dsp.lh5     /dsp  cage_run57_cyc815_hit.lh5     /hit   \n",
      "814  cage_run57_cyc816_dsp.lh5     /dsp  cage_run57_cyc816_hit.lh5     /hit   \n",
      "815  cage_run57_cyc817_dsp.lh5     /dsp  cage_run57_cyc817_hit.lh5     /hit   \n",
      "816  cage_run57_cyc818_dsp.lh5     /dsp  cage_run57_cyc818_hit.lh5     /hit   \n",
      "817  cage_run57_cyc819_dsp.lh5     /dsp  cage_run57_cyc819_hit.lh5     /hit   \n",
      "818  cage_run57_cyc820_dsp.lh5     /dsp  cage_run57_cyc820_hit.lh5     /hit   \n",
      "819  cage_run57_cyc821_dsp.lh5     /dsp  cage_run57_cyc821_hit.lh5     /hit   \n",
      "820  cage_run57_cyc822_dsp.lh5     /dsp  cage_run57_cyc822_hit.lh5     /hit   \n",
      "821  cage_run57_cyc823_dsp.lh5     /dsp  cage_run57_cyc823_hit.lh5     /hit   \n",
      "\n",
      "        startTime threshold    daq_gb      stopTime    runtime  \n",
      "789  1.601937e+09      16.0  1.805134  1.601939e+09  29.994622  \n",
      "790  1.601939e+09      16.0  1.809554  1.601940e+09  29.985009  \n",
      "791  1.601940e+09      16.0  1.815979  1.601942e+09  29.975523  \n",
      "792  1.601942e+09      16.0  1.816406  1.601944e+09  29.997125  \n",
      "793  1.601944e+09      16.0  1.811970  1.601946e+09  29.972125  \n",
      "794  1.601946e+09      16.0  1.798101  1.601948e+09  29.978900  \n",
      "795  1.601948e+09      16.0  1.798528  1.601949e+09  29.985367  \n",
      "796  1.601949e+09      16.0  1.807697  1.601951e+09  29.991918  \n",
      "797  1.601951e+09      16.0  1.806054  1.601953e+09  29.982529  \n",
      "798  1.601953e+09      16.0  1.802916  1.601955e+09  29.990210  \n",
      "799  1.601955e+09      16.0  1.807812  1.601957e+09  29.991722  \n",
      "800  1.601957e+09      16.0  1.807895  1.601958e+09  29.969845  \n",
      "801  1.601958e+09      16.0  1.807484  1.601960e+09  29.994022  \n",
      "802  1.601960e+09      16.0  1.820942  1.601962e+09  30.001032  \n",
      "803  1.601962e+09      16.0  1.800402  1.601964e+09  29.989753  \n",
      "804  1.601964e+09      16.0  1.809291  1.601966e+09  29.980331  \n",
      "805  1.601966e+09      16.0  1.815338  1.601967e+09  29.970586  \n",
      "806  1.601967e+09      16.0  1.815388  1.601969e+09  29.994740  \n",
      "807  1.601969e+09      16.0  1.801010  1.601971e+09  29.982986  \n",
      "808  1.601971e+09      16.0  1.808963  1.601973e+09  29.986845  \n",
      "809  1.601973e+09      16.0  1.795718  1.601975e+09  29.980246  \n",
      "810  1.601975e+09      16.0  1.819709  1.601976e+09  30.000289  \n",
      "811  1.601976e+09      16.0  1.807303  1.601978e+09  29.990565  \n",
      "812  1.601978e+09      16.0  1.803179  1.601980e+09  29.983010  \n",
      "813  1.601980e+09      16.0  1.817557  1.601982e+09  29.988777  \n",
      "814  1.601982e+09      16.0  1.809127  1.601984e+09  29.979143  \n",
      "815  1.601984e+09      16.0  1.819676  1.601985e+09  29.983308  \n",
      "816  1.601985e+09      16.0  1.800665  1.601987e+09  29.974269  \n",
      "817  1.601987e+09      16.0  1.808749  1.601989e+09  29.998276  \n",
      "818  1.601989e+09      16.0  1.811937  1.601991e+09  29.986392  \n",
      "819  1.601991e+09      16.0  1.809127  1.601993e+09  29.995148  \n",
      "820  1.601993e+09      16.0  1.811641  1.601994e+09  30.000628  \n",
      "821  1.601994e+09      16.0  1.809949  1.601996e+09  29.974973  \n",
      "\n",
      "[33 rows x 23 columns]\n"
     ]
    }
   ],
   "source": [
    "dg = DataGroup('$CAGE_SW/processing/cage.json', load=True)\n",
    "run = 57\n",
    "# cycle = 1197\n",
    "str_query = f'run=={run} and skip==False'\n",
    "# str_query = f'cycle=={cycle} and skip==False'\n",
    "dg.fileDB.query(str_query, inplace=True)\n",
    "view_cols = ['runtype', 'run', 'cycle', 'startTime', 'runtime', 'threshold']\n",
    "print(dg.fileDB)\n",
    "\n",
    "dsp_id = '02'"
   ]
  },
  {
   "cell_type": "code",
   "execution_count": 3,
   "metadata": {},
   "outputs": [],
   "source": [
    "#get runtime, startime, runtype\n",
    "\n",
    "runtype_list = np.array(dg.fileDB['runtype'])\n",
    "runtype = runtype_list[0]\n",
    "\n",
    "rt_min = dg.fileDB['runtime'].sum()\n",
    "u_start = dg.fileDB.iloc[0]['startTime']\n",
    "t_start = pd.to_datetime(u_start, unit='s') # str"
   ]
  },
  {
   "cell_type": "code",
   "execution_count": 4,
   "metadata": {},
   "outputs": [],
   "source": [
    "# get scan position\n",
    "\n",
    "if runtype == 'alp':\n",
    "    alphaDB = pd.read_hdf('alphaDB.h5')\n",
    "    scan_pos = alphaDB.loc[alphaDB['run']==run]\n",
    "    radius = np.array(scan_pos['radius'])[0]\n",
    "    angle = np.array(scan_pos['source'])[0]\n",
    "    print(f'Radius: {radius}; Source Angle: {angle}')\n",
    "# else:"
   ]
  },
  {
   "cell_type": "code",
   "execution_count": 5,
   "metadata": {},
   "outputs": [],
   "source": [
    "# Working with dsp or hit files?\n",
    "\n",
    "hit = True \n",
    "# hit = False #ie working with dsp files"
   ]
  },
  {
   "cell_type": "code",
   "execution_count": 6,
   "metadata": {},
   "outputs": [],
   "source": [
    "# Working with calibrated or uncalibrated data?\n",
    "\n",
    "cal = True #calibrated data\n",
    "# cal = False #uncalibrated data"
   ]
  },
  {
   "cell_type": "code",
   "execution_count": 7,
   "metadata": {},
   "outputs": [],
   "source": [
    "# Working in your own directory or with the CAGE_lh5 directory?\n",
    "\n",
    "user = False # CAGE_lh5 directory\n",
    "# user = True # hit filesin my personal directory"
   ]
  },
  {
   "cell_type": "code",
   "execution_count": 8,
   "metadata": {},
   "outputs": [
    {
     "name": "stdout",
     "output_type": "stream",
     "text": [
      "/global/cfs/cdirs/m2676/data/cage/LH5\n",
      "lh5_dir: /global/cfs/cdirs/m2676/data/cage/LH5\n",
      "file list: 789    /global/cfs/cdirs/m2676/data/cage/LH5/hit/cage...\n",
      "790    /global/cfs/cdirs/m2676/data/cage/LH5/hit/cage...\n",
      "791    /global/cfs/cdirs/m2676/data/cage/LH5/hit/cage...\n",
      "792    /global/cfs/cdirs/m2676/data/cage/LH5/hit/cage...\n",
      "793    /global/cfs/cdirs/m2676/data/cage/LH5/hit/cage...\n",
      "794    /global/cfs/cdirs/m2676/data/cage/LH5/hit/cage...\n",
      "795    /global/cfs/cdirs/m2676/data/cage/LH5/hit/cage...\n",
      "796    /global/cfs/cdirs/m2676/data/cage/LH5/hit/cage...\n",
      "797    /global/cfs/cdirs/m2676/data/cage/LH5/hit/cage...\n",
      "798    /global/cfs/cdirs/m2676/data/cage/LH5/hit/cage...\n",
      "799    /global/cfs/cdirs/m2676/data/cage/LH5/hit/cage...\n",
      "800    /global/cfs/cdirs/m2676/data/cage/LH5/hit/cage...\n",
      "801    /global/cfs/cdirs/m2676/data/cage/LH5/hit/cage...\n",
      "802    /global/cfs/cdirs/m2676/data/cage/LH5/hit/cage...\n",
      "803    /global/cfs/cdirs/m2676/data/cage/LH5/hit/cage...\n",
      "804    /global/cfs/cdirs/m2676/data/cage/LH5/hit/cage...\n",
      "805    /global/cfs/cdirs/m2676/data/cage/LH5/hit/cage...\n",
      "806    /global/cfs/cdirs/m2676/data/cage/LH5/hit/cage...\n",
      "807    /global/cfs/cdirs/m2676/data/cage/LH5/hit/cage...\n",
      "808    /global/cfs/cdirs/m2676/data/cage/LH5/hit/cage...\n",
      "809    /global/cfs/cdirs/m2676/data/cage/LH5/hit/cage...\n",
      "810    /global/cfs/cdirs/m2676/data/cage/LH5/hit/cage...\n",
      "811    /global/cfs/cdirs/m2676/data/cage/LH5/hit/cage...\n",
      "812    /global/cfs/cdirs/m2676/data/cage/LH5/hit/cage...\n",
      "813    /global/cfs/cdirs/m2676/data/cage/LH5/hit/cage...\n",
      "814    /global/cfs/cdirs/m2676/data/cage/LH5/hit/cage...\n",
      "815    /global/cfs/cdirs/m2676/data/cage/LH5/hit/cage...\n",
      "816    /global/cfs/cdirs/m2676/data/cage/LH5/hit/cage...\n",
      "817    /global/cfs/cdirs/m2676/data/cage/LH5/hit/cage...\n",
      "818    /global/cfs/cdirs/m2676/data/cage/LH5/hit/cage...\n",
      "819    /global/cfs/cdirs/m2676/data/cage/LH5/hit/cage...\n",
      "820    /global/cfs/cdirs/m2676/data/cage/LH5/hit/cage...\n",
      "821    /global/cfs/cdirs/m2676/data/cage/LH5/hit/cage...\n",
      "dtype: object\n"
     ]
    }
   ],
   "source": [
    "# Get relevant files\n",
    "\n",
    "lh5_dir = dg.lh5_user_dir if user else dg.lh5_dir\n",
    "# lh5_dir = '/global/homes/g/gothman/projecta/CAGE_lh5_joule'\n",
    "print(lh5_dir)\n",
    "\n",
    "# if hit files\n",
    "if hit == True:\n",
    "    file_list = lh5_dir + dg.fileDB['hit_path'] + '/' + dg.fileDB['hit_file']\n",
    "    \n",
    "else:\n",
    "    file_list = lh5_dir + dg.fileDB['dsp_path'] + '/' + dg.fileDB['dsp_file']\n",
    "    \n",
    "print(f'lh5_dir: {lh5_dir}')\n",
    "print(f'file list: {file_list}')"
   ]
  },
  {
   "cell_type": "code",
   "execution_count": 9,
   "metadata": {},
   "outputs": [
    {
     "name": "stdout",
     "output_type": "stream",
     "text": [
      "loading data for\n"
     ]
    },
    {
     "ename": "ValueError",
     "evalue": "need at least one array to concatenate",
     "output_type": "error",
     "traceback": [
      "\u001b[0;31m---------------------------------------------------------------------------\u001b[0m",
      "\u001b[0;31mValueError\u001b[0m                                Traceback (most recent call last)",
      "\u001b[0;32m<ipython-input-9-e87bf8e39748>\u001b[0m in \u001b[0;36m<module>\u001b[0;34m\u001b[0m\n\u001b[1;32m      2\u001b[0m \u001b[0;34m\u001b[0m\u001b[0m\n\u001b[1;32m      3\u001b[0m \u001b[0;32mif\u001b[0m \u001b[0;34m(\u001b[0m\u001b[0mcal\u001b[0m \u001b[0;34m==\u001b[0m \u001b[0;32mTrue\u001b[0m\u001b[0;34m)\u001b[0m \u001b[0;32mand\u001b[0m \u001b[0;34m(\u001b[0m\u001b[0mhit\u001b[0m \u001b[0;34m==\u001b[0m \u001b[0;32mTrue\u001b[0m\u001b[0;34m)\u001b[0m\u001b[0;34m:\u001b[0m\u001b[0;34m\u001b[0m\u001b[0;34m\u001b[0m\u001b[0m\n\u001b[0;32m----> 4\u001b[0;31m     \u001b[0mdf\u001b[0m \u001b[0;34m=\u001b[0m \u001b[0mlh5\u001b[0m\u001b[0;34m.\u001b[0m\u001b[0mload_dfs\u001b[0m\u001b[0;34m(\u001b[0m\u001b[0mfile_list\u001b[0m\u001b[0;34m,\u001b[0m \u001b[0;34m[\u001b[0m\u001b[0;34m'energy'\u001b[0m\u001b[0;34m,\u001b[0m \u001b[0;34m'trapEmax'\u001b[0m\u001b[0;34m,\u001b[0m \u001b[0;34m'trapEftp'\u001b[0m\u001b[0;34m,\u001b[0m \u001b[0;34m'trapEftp_cal'\u001b[0m\u001b[0;34m,\u001b[0m \u001b[0;34m'bl'\u001b[0m\u001b[0;34m,\u001b[0m\u001b[0;34m'bl_sig'\u001b[0m\u001b[0;34m,\u001b[0m\u001b[0;34m'A_10'\u001b[0m\u001b[0;34m,\u001b[0m\u001b[0;34m'AoE'\u001b[0m\u001b[0;34m,\u001b[0m \u001b[0;34m'ts_sec'\u001b[0m\u001b[0;34m,\u001b[0m \u001b[0;34m'dcr'\u001b[0m\u001b[0;34m,\u001b[0m \u001b[0;34m'tp_0'\u001b[0m\u001b[0;34m,\u001b[0m \u001b[0;34m'tp_10'\u001b[0m\u001b[0;34m,\u001b[0m \u001b[0;34m'tp_90'\u001b[0m\u001b[0;34m,\u001b[0m \u001b[0;34m'tp_50'\u001b[0m\u001b[0;34m,\u001b[0m \u001b[0;34m'tp_80'\u001b[0m\u001b[0;34m,\u001b[0m \u001b[0;34m'tp_max'\u001b[0m\u001b[0;34m]\u001b[0m\u001b[0;34m,\u001b[0m \u001b[0;34m'ORSIS3302DecoderForEnergy/hit'\u001b[0m\u001b[0;34m)\u001b[0m\u001b[0;34m\u001b[0m\u001b[0;34m\u001b[0m\u001b[0m\n\u001b[0m\u001b[1;32m      5\u001b[0m \u001b[0;34m\u001b[0m\u001b[0m\n\u001b[1;32m      6\u001b[0m \u001b[0;32melif\u001b[0m \u001b[0;34m(\u001b[0m\u001b[0mcal\u001b[0m \u001b[0;34m==\u001b[0m \u001b[0;32mTrue\u001b[0m\u001b[0;34m)\u001b[0m \u001b[0;32mand\u001b[0m \u001b[0;34m(\u001b[0m\u001b[0mhit\u001b[0m \u001b[0;34m==\u001b[0m \u001b[0;32mFalse\u001b[0m\u001b[0;34m)\u001b[0m\u001b[0;34m:\u001b[0m\u001b[0;34m\u001b[0m\u001b[0;34m\u001b[0m\u001b[0m\n",
      "\u001b[0;32m/global/cfs/cdirs/majorana/projecta/majorana/users/gothman/joule_pygama/pygama/lh5/store.py\u001b[0m in \u001b[0;36mload_dfs\u001b[0;34m(f_list, par_list, lh5_group, idx_list, verbose)\u001b[0m\n\u001b[1;32m    699\u001b[0m         \u001b[0mdata\u001b[0m \u001b[0;32mfor\u001b[0m \u001b[0mthe\u001b[0m \u001b[0massociated\u001b[0m \u001b[0mparameters\u001b[0m \u001b[0mconcatenated\u001b[0m \u001b[0mover\u001b[0m \u001b[0mall\u001b[0m \u001b[0mfiles\u001b[0m \u001b[0;32min\u001b[0m \u001b[0mf_list\u001b[0m\u001b[0;34m\u001b[0m\u001b[0;34m\u001b[0m\u001b[0m\n\u001b[1;32m    700\u001b[0m     \"\"\"\n\u001b[0;32m--> 701\u001b[0;31m     \u001b[0;32mreturn\u001b[0m \u001b[0mpd\u001b[0m\u001b[0;34m.\u001b[0m\u001b[0mDataFrame\u001b[0m\u001b[0;34m(\u001b[0m \u001b[0mload_nda\u001b[0m\u001b[0;34m(\u001b[0m\u001b[0mf_list\u001b[0m\u001b[0;34m,\u001b[0m \u001b[0mpar_list\u001b[0m\u001b[0;34m,\u001b[0m \u001b[0mlh5_group\u001b[0m\u001b[0;34m,\u001b[0m \u001b[0mverbose\u001b[0m\u001b[0;34m)\u001b[0m \u001b[0;34m)\u001b[0m\u001b[0;34m\u001b[0m\u001b[0;34m\u001b[0m\u001b[0m\n\u001b[0m",
      "\u001b[0;32m/global/cfs/cdirs/majorana/projecta/majorana/users/gothman/joule_pygama/pygama/lh5/store.py\u001b[0m in \u001b[0;36mload_nda\u001b[0;34m(f_list, par_list, lh5_group, idx_list, verbose)\u001b[0m\n\u001b[1;32m    678\u001b[0m             \u001b[0;32mif\u001b[0m \u001b[0;32mnot\u001b[0m \u001b[0mdata\u001b[0m\u001b[0;34m:\u001b[0m \u001b[0;32mcontinue\u001b[0m\u001b[0;34m\u001b[0m\u001b[0;34m\u001b[0m\u001b[0m\n\u001b[1;32m    679\u001b[0m             \u001b[0mpar_data\u001b[0m\u001b[0;34m[\u001b[0m\u001b[0mpar\u001b[0m\u001b[0;34m]\u001b[0m\u001b[0;34m.\u001b[0m\u001b[0mappend\u001b[0m\u001b[0;34m(\u001b[0m\u001b[0mdata\u001b[0m\u001b[0;34m.\u001b[0m\u001b[0mnda\u001b[0m\u001b[0;34m)\u001b[0m\u001b[0;34m\u001b[0m\u001b[0;34m\u001b[0m\u001b[0m\n\u001b[0;32m--> 680\u001b[0;31m     \u001b[0mpar_data\u001b[0m \u001b[0;34m=\u001b[0m \u001b[0;34m{\u001b[0m\u001b[0mpar\u001b[0m \u001b[0;34m:\u001b[0m \u001b[0mnp\u001b[0m\u001b[0;34m.\u001b[0m\u001b[0mconcatenate\u001b[0m\u001b[0;34m(\u001b[0m\u001b[0mpar_data\u001b[0m\u001b[0;34m[\u001b[0m\u001b[0mpar\u001b[0m\u001b[0;34m]\u001b[0m\u001b[0;34m)\u001b[0m \u001b[0;32mfor\u001b[0m \u001b[0mpar\u001b[0m \u001b[0;32min\u001b[0m \u001b[0mpar_list\u001b[0m\u001b[0;34m}\u001b[0m\u001b[0;34m\u001b[0m\u001b[0;34m\u001b[0m\u001b[0m\n\u001b[0m\u001b[1;32m    681\u001b[0m     \u001b[0;32mreturn\u001b[0m \u001b[0mpar_data\u001b[0m\u001b[0;34m\u001b[0m\u001b[0;34m\u001b[0m\u001b[0m\n\u001b[1;32m    682\u001b[0m \u001b[0;34m\u001b[0m\u001b[0m\n",
      "\u001b[0;32m/global/cfs/cdirs/majorana/projecta/majorana/users/gothman/joule_pygama/pygama/lh5/store.py\u001b[0m in \u001b[0;36m<dictcomp>\u001b[0;34m(.0)\u001b[0m\n\u001b[1;32m    678\u001b[0m             \u001b[0;32mif\u001b[0m \u001b[0;32mnot\u001b[0m \u001b[0mdata\u001b[0m\u001b[0;34m:\u001b[0m \u001b[0;32mcontinue\u001b[0m\u001b[0;34m\u001b[0m\u001b[0;34m\u001b[0m\u001b[0m\n\u001b[1;32m    679\u001b[0m             \u001b[0mpar_data\u001b[0m\u001b[0;34m[\u001b[0m\u001b[0mpar\u001b[0m\u001b[0;34m]\u001b[0m\u001b[0;34m.\u001b[0m\u001b[0mappend\u001b[0m\u001b[0;34m(\u001b[0m\u001b[0mdata\u001b[0m\u001b[0;34m.\u001b[0m\u001b[0mnda\u001b[0m\u001b[0;34m)\u001b[0m\u001b[0;34m\u001b[0m\u001b[0;34m\u001b[0m\u001b[0m\n\u001b[0;32m--> 680\u001b[0;31m     \u001b[0mpar_data\u001b[0m \u001b[0;34m=\u001b[0m \u001b[0;34m{\u001b[0m\u001b[0mpar\u001b[0m \u001b[0;34m:\u001b[0m \u001b[0mnp\u001b[0m\u001b[0;34m.\u001b[0m\u001b[0mconcatenate\u001b[0m\u001b[0;34m(\u001b[0m\u001b[0mpar_data\u001b[0m\u001b[0;34m[\u001b[0m\u001b[0mpar\u001b[0m\u001b[0;34m]\u001b[0m\u001b[0;34m)\u001b[0m \u001b[0;32mfor\u001b[0m \u001b[0mpar\u001b[0m \u001b[0;32min\u001b[0m \u001b[0mpar_list\u001b[0m\u001b[0;34m}\u001b[0m\u001b[0;34m\u001b[0m\u001b[0;34m\u001b[0m\u001b[0m\n\u001b[0m\u001b[1;32m    681\u001b[0m     \u001b[0;32mreturn\u001b[0m \u001b[0mpar_data\u001b[0m\u001b[0;34m\u001b[0m\u001b[0;34m\u001b[0m\u001b[0m\n\u001b[1;32m    682\u001b[0m \u001b[0;34m\u001b[0m\u001b[0m\n",
      "\u001b[0;32m<__array_function__ internals>\u001b[0m in \u001b[0;36mconcatenate\u001b[0;34m(*args, **kwargs)\u001b[0m\n",
      "\u001b[0;31mValueError\u001b[0m: need at least one array to concatenate"
     ]
    }
   ],
   "source": [
    "# Create a dataframe\n",
    "\n",
    "if (cal == True) and (hit == True):\n",
    "    df = lh5.load_dfs(file_list, ['energy', 'trapEmax', 'trapEftp', 'trapEftp_cal', 'bl','bl_sig','A_10','AoE', 'ts_sec', 'dcr', 'tp_0', 'tp_10', 'tp_90', 'tp_50', 'tp_80', 'tp_max'], 'ORSIS3302DecoderForEnergy/hit')\n",
    "    \n",
    "elif (cal == True) and (hit == False):\n",
    "    df = lh5.load_dfs(file_list, ['energy', 'trapEmax', 'trapEftp', 'trapEftp_cal', 'bl','bl_sig','A_10','AoE', 'dcr', 'tp_0', 'tp_10', 'tp_90', 'tp_50', 'tp_80', 'tp_max'], 'ORSIS3302DecoderForEnergy/dsp')\n",
    "\n",
    "elif (cal == False) and (hit == True):\n",
    "    df = lh5.load_dfs(file_list, ['energy', 'trapEmax', 'trapEftp', 'bl','bl_sig','A_10','AoE', 'ts_sec', 'dcr_raw', 'dcr_ftp', 'dcr_max', 'tp_0', 'tp_10', 'tp_90', 'tp_50', 'tp_80', 'tp_max'], 'ORSIS3302DecoderForEnergy/hit')\n",
    "    \n",
    "elif (cal == False) and (hit == False):\n",
    "    #df = lh5.load_dfs(file_list, ['energy', 'trapEmax', 'trapEftp', 'bl','bl_sig','A_10','AoE', 'dcr_raw', 'dcr_ftp', 'dcr_max', 'tp_0', 'tp_10', 'tp_90', 'tp_50', 'tp_80', 'tp_max'], 'ORSIS3302DecoderForEnergy/dsp')\n",
    "    df = lh5.load_dfs(file_list, ['energy', 'trapEmax', 'trapEftp', 'bl','bl_sig', 'bl_slope', 'lf_max', 'A_10','AoE', 'dcr', 'tp_0', 'tp_10', 'tp_90', 'tp_50', 'tp_80', 'tp_max'], 'ORSIS3302DecoderForEnergy/dsp')\n",
    "\n",
    "\n",
    "else:\n",
    "    print('dont know what to do here! need to specify if working with calibrated/uncalibrated data, or dsp/hit files')\n",
    "\n",
    "# df_hit = lh5.load_dfs(file_list, ['trapEmax', 'trapEmax_cal', 'bl','bl_sig','A_10','AoE', 'ts_sec', 'dcr_raw', 'dcr_ftp', 'dcr_max', 'tp_0', 'tp_10', 'tp_90', 'tp_50', 'tp_80', 'tp_max'], 'ORSIS3302DecoderForEnergy/hit')\n",
    "# df_hit = lh5.load_dfs(alpha_hit_list, ['trapEmax', 'bl','bl_sig','A_10','ts_sec', 'dcr_raw'], 'ORSIS3302DecoderForEnergy/hit')\n",
    "# print(df_hit)\n",
    "# print(df_hit.columns)\n",
    "\n",
    "# dsc = df[['bl','bl_sig','A_10','AoE', 'dcr_raw', 'dcr_ftp', 'dcr_max']].describe()\n",
    "# # dsc = df_hit[['bl','bl_sig','A_10','ts_sec', 'dcr_raw']].describe()\n",
    "# print(dsc)\n",
    "print(df.columns)\n",
    "\n"
   ]
  },
  {
   "cell_type": "code",
   "execution_count": null,
   "metadata": {},
   "outputs": [],
   "source": [
    "# lh5_dir = dg.lh5_user_dir #if user else dg.lh5_dir\n",
    "# print(lh5_dir)\n",
    "# hit_list = lh5_dir + dg.fileDB['hit_path'] + '/' + dg.fileDB['hit_file']\n",
    "# print(hit_list)\n",
    "# df_hit = lh5.load_dfs(hit_list, ['trapEmax', 'trapEmax_cal', 'trapEftp', 'bl','bl_sig','A_10','AoE', 'ts_sec', 'dcr_raw', 'dcr_ftp', 'dcr_max', 'tp_10', 'tp_90', 'tp_50', 'tp_80', 'tp_max'], 'ORSIS3302DecoderForEnergy/hit')\n",
    "# # df_hit = lh5.load_dfs(alpha_hit_list, ['trapEmax', 'bl','bl_sig','A_10','ts_sec', 'dcr_raw'], 'ORSIS3302DecoderForEnergy/hit')\n",
    "# # print(df_hit)\n",
    "# print(df_hit.columns)\n",
    "\n",
    "# dsc = df_hit[['bl','bl_sig','A_10','AoE', 'ts_sec', 'dcr_raw', 'dcr_ftp', 'dcr_max']].describe()\n",
    "# # dsc = df_hit[['bl','bl_sig','A_10','ts_sec', 'dcr_raw']].describe()\n",
    "# print(dsc)"
   ]
  },
  {
   "cell_type": "code",
   "execution_count": null,
   "metadata": {},
   "outputs": [],
   "source": [
    "# get raw files for wfs\n",
    "\n",
    "raw_lh5_dir = dg.lh5_dir\n",
    "raw_list = raw_lh5_dir + dg.fileDB['raw_path'] + '/' + dg.fileDB['raw_file']\n",
    "\n",
    "print(raw_list)\n",
    "\n",
    "# don't actually need this, just file list\n",
    "# raw_df = lh5.load_dfs(raw_list, ['energy'], 'ORSIS3302DecoderForEnergy/raw')\n",
    "\n"
   ]
  },
  {
   "cell_type": "code",
   "execution_count": null,
   "metadata": {},
   "outputs": [],
   "source": [
    "# select energy typ\n",
    "# etype = 'trapEmax'\n",
    "# etype = 'energy'\n",
    "etype = 'trapEftp_cal'"
   ]
  },
  {
   "cell_type": "code",
   "execution_count": null,
   "metadata": {},
   "outputs": [],
   "source": [
    "# use baseline cut\n",
    "bl_cut_lo, bl_cut_hi = 9700,9760\n",
    "\n",
    "df_cut = df.query(f'bl > {bl_cut_lo} and bl < {bl_cut_hi}').copy()\n",
    "\n",
    "\n",
    "#create dcr/E \n",
    "# df_cut['dcr_norm'] = df_cut['dcr_raw'] / df_cut['trapEmax']\n",
    "\n",
    "#create 10-90\n",
    "df_cut['10-90'] = df_cut['tp_90']- df_cut['tp_10']\n",
    "\n",
    "#create 50-90\n",
    "df_cut['50-90'] = df_cut['tp_90']- df_cut['tp_50']"
   ]
  },
  {
   "cell_type": "code",
   "execution_count": null,
   "metadata": {},
   "outputs": [],
   "source": [
    "#creat new DCR\n",
    "# const = 0.0555\n",
    "# df_cut['dcr_linoff'] = df_cut['dcr_raw'] + const*df_cut['trapEmax']"
   ]
  },
  {
   "cell_type": "code",
   "execution_count": null,
   "metadata": {},
   "outputs": [],
   "source": [
    "# baseline cut\n",
    "bl = df['bl']\n",
    "bl_cut = (bl > 9700) & (bl < 9760)\n",
    "\n",
    "# print(cut)\n",
    "print(bl_cut.value_counts())"
   ]
  },
  {
   "cell_type": "code",
   "execution_count": null,
   "metadata": {},
   "outputs": [],
   "source": [
    "tp_0 = df['tp_0']\n",
    "print(tp_0)"
   ]
  },
  {
   "cell_type": "code",
   "execution_count": null,
   "metadata": {},
   "outputs": [],
   "source": [
    "##### energy cut \n",
    "energy = df[etype]\n",
    "\n",
    "if cal == True:\n",
    "    # energy = df['trapEmax_cal']\n",
    "    energy_cut = (energy > 1450) & (energy < 1470) # 1460 peak\n",
    "    \n",
    "else:\n",
    "    # energy = df_hit['trapEmax']\n",
    "    # energy_cut = (energy > 2805) & (energy < 2835) # 1460 peak, uncalibratedm trapEmax\n",
    "    # energy_cut = (energy > 2000000) & (energy < 2500000) #where alphas seem to be in run 117, raw energy parameter\n",
    "    energy_cut = (energy > 200) & (energy < 1000) #where low e weirdness is in DCR, in trapEftp\n",
    "    \n",
    "# print(type(energy))\n",
    "# print(energy_cut)\n",
    "print(energy_cut.value_counts())"
   ]
  },
  {
   "cell_type": "code",
   "execution_count": null,
   "metadata": {},
   "outputs": [],
   "source": [
    "cut = bl_cut & energy_cut"
   ]
  },
  {
   "cell_type": "code",
   "execution_count": null,
   "metadata": {},
   "outputs": [],
   "source": [
    "# for debugging\n",
    "\n",
    "# print(cut)\n",
    "print(cut.value_counts())"
   ]
  },
  {
   "cell_type": "markdown",
   "metadata": {},
   "source": [
    "\n",
    "\n",
    "DCR Plots\n",
    "\n"
   ]
  },
  {
   "cell_type": "code",
   "execution_count": null,
   "metadata": {},
   "outputs": [],
   "source": [
    "dsp_config_file = os.path.expandvars(f'$CAGE_SW/processing/metadata/dsp/dsp_{dsp_id}.json')\n",
    "browser = WaveformBrowser(raw_list, 'ORSIS3302DecoderForEnergy/raw', dsp_config_file, # Need to include a dsp config file!\n",
    "                          database={\"pz_const\":'396.9*us'}, # TODO: use metadata instead of manually defining...\n",
    "                          waveforms=['wf_blsub', 'wf_pzDCR', 'dcr_trap', 'dcr_trap'], # names of waveforms from dsp config file\n",
    "                          selection   = cut,           # Apply cut\n",
    "                          wf_styles=[{'linestyle':['-']},{'linestyle':[':']},{'ls':['--']}],\n",
    "                          legend=['Waveform', 'PZ Corrected', \"DCR: {dcr:0.2f}\"],\n",
    "#                           legend_opts={'loc':\"upper left\"},\n",
    "                          lines=['dcr'], # add hlines and vlines\n",
    "                          x_lim=(38000, 80000) # x axis range\n",
    "                         )"
   ]
  },
  {
   "cell_type": "code",
   "execution_count": null,
   "metadata": {},
   "outputs": [],
   "source": [
    "plt.rcParams['figure.figsize'] = [14, 10]\n"
   ]
  },
  {
   "cell_type": "code",
   "execution_count": null,
   "metadata": {},
   "outputs": [],
   "source": [
    "browser.draw_next()\n",
    "# plt.ylim(0, 100)\n",
    "# plt.plot(4090)"
   ]
  },
  {
   "cell_type": "markdown",
   "metadata": {},
   "source": [
    "Energy Plots"
   ]
  },
  {
   "cell_type": "code",
   "execution_count": null,
   "metadata": {},
   "outputs": [],
   "source": [
    "dsp_config_file = os.path.expandvars(f'$CAGE_SW/processing/metadata/dsp/dsp_{dsp_id}.json')\n",
    "browser2 = WaveformBrowser(raw_list, 'ORSIS3302DecoderForEnergy/raw', dsp_config_file, # Need to include a dsp config file!\n",
    "                          database={\"pz_const\":'396.9*us'}, # TODO: use metadata instead of manually defining...\n",
    "                          waveforms=['wf_blsub', 'wf_pz', 'wf_trap'], # names of waveforms from dsp config file\n",
    "                          selection   = cut,           # Apply cut\n",
    "                          wf_styles=[{'linestyle':['-']},{'linestyle':[':']},{'ls':['--']}],\n",
    "                          legend=['Waveform', 'PZ Corrected',  'trapEftp = {trapEftp:0.2f}'],\n",
    "#                           legend_opts={'loc':\"upper left\"},\n",
    "                          lines=['trapEftp_cal'], # add hlines and vlines\n",
    "                          x_lim=(0, 80000) # x axis range\n",
    "                         )"
   ]
  },
  {
   "cell_type": "code",
   "execution_count": null,
   "metadata": {},
   "outputs": [],
   "source": [
    "browser2.draw_next()\n",
    "# plt.ylim(4000, 4500)"
   ]
  },
  {
   "cell_type": "markdown",
   "metadata": {},
   "source": [
    "TP_0"
   ]
  },
  {
   "cell_type": "code",
   "execution_count": null,
   "metadata": {},
   "outputs": [],
   "source": [
    "dsp_config_file = os.path.expandvars('f$CAGE_SW/processing/metadata/dsp/dsp_{dsp_id}.json')\n",
    "browser3 = WaveformBrowser(raw_list, 'ORSIS3302DecoderForEnergy/raw', dsp_config_file, # Need to include a dsp config file!\n",
    "                          database={\"pz_const\":'396.9*us'}, # TODO: use metadata instead of manually defining...\n",
    "                          waveforms=['wf_blsub', 'wf_pz', 'wf_atrap'], # names of waveforms from dsp config file\n",
    "                          selection   = cut,           # Apply cut\n",
    "                          wf_styles=[{'linestyle':['-']},{'linestyle':[':']},{'ls':['--']}],\n",
    "                          legend=['Waveform', 'PZ Corrected',  't0 = {tp_0:0.2f}'],\n",
    "#                           legend_opts={'loc':\"upper left\"},\n",
    "                          lines=['tp_0'], # add hlines and vlines\n",
    "                          x_lim=(0, 50000) # x axis range\n",
    "                         )"
   ]
  },
  {
   "cell_type": "code",
   "execution_count": null,
   "metadata": {},
   "outputs": [],
   "source": [
    "browser3.draw_next()\n",
    "plt.ylim(-10, 100) "
   ]
  },
  {
   "cell_type": "markdown",
   "metadata": {},
   "source": [
    "WF_psd"
   ]
  },
  {
   "cell_type": "markdown",
   "metadata": {},
   "source": [
    "LF PD"
   ]
  },
  {
   "cell_type": "code",
   "execution_count": null,
   "metadata": {},
   "outputs": [],
   "source": [
    "dsp_config_file = os.path.expandvars('$CAGE_SW/processing/metadata/config_dsp.json')\n",
    "browser4 = WaveformBrowser(raw_list, 'ORSIS3302DecoderForEnergy/raw', dsp_config_file, # Need to include a dsp config file!\n",
    "                          database={\"pz_const\":'396.9*us'}, # TODO: use metadata instead of manually defining...\n",
    "                          waveforms=['wf_psd', 'wf_psd'], # names of waveforms from dsp config file\n",
    "                          selection   = cut,           # Apply cut\n",
    "                          wf_styles=[{'linestyle':['-']}],\n",
    "                          legend=['lf_max = {lf_max:0.2f}', 'wf_psd'], #{tp_0:0.2f}\n",
    "#                           legend_opts={'loc':\"upper left\"},\n",
    "                          lines=['lf_max'], # add hlines and vlines\n",
    "                          x_unit = 'khz',\n",
    "                          x_lim=(0, 200), # x axis range,\n",
    "                          verbosity=2\n",
    "                         )"
   ]
  },
  {
   "cell_type": "code",
   "execution_count": null,
   "metadata": {},
   "outputs": [],
   "source": [
    "browser4.draw_next()\n",
    "# plt.ylim(0, 2000)"
   ]
  },
  {
   "cell_type": "markdown",
   "metadata": {},
   "source": [
    "HF PSD"
   ]
  },
  {
   "cell_type": "code",
   "execution_count": null,
   "metadata": {},
   "outputs": [],
   "source": [
    "dsp_config_file = os.path.expandvars('$CAGE_SW/processing/metadata/config_dsp.json')\n",
    "browser5 = WaveformBrowser(raw_list, 'ORSIS3302DecoderForEnergy/raw', dsp_config_file, # Need to include a dsp config file!\n",
    "                          database={\"pz_const\":'396.9*us'}, # TODO: use metadata instead of manually defining...\n",
    "                          waveforms=['wf_psd', 'wf_psd'], # names of waveforms from dsp config file\n",
    "                          selection   = cut,           # Apply cut\n",
    "                          wf_styles=[{'linestyle':['-']}],\n",
    "                          legend=['hf_max = {hf_max:0.2f}', 'wf_psd'], #{tp_0:0.2f}\n",
    "#                           legend_opts={'loc':\"upper left\"},\n",
    "                          lines=['hf_max'], # add hlines and vlines\n",
    "                          x_unit = 'mhz',\n",
    "                          x_lim=(0, 50), # x axis range,\n",
    "                          verbosity=2\n",
    "                         )"
   ]
  },
  {
   "cell_type": "code",
   "execution_count": null,
   "metadata": {},
   "outputs": [],
   "source": [
    "browser5.draw_next()\n",
    "# plt.ylim(0, 2000)"
   ]
  },
  {
   "cell_type": "markdown",
   "metadata": {},
   "source": [
    "Baseline Slope"
   ]
  },
  {
   "cell_type": "code",
   "execution_count": null,
   "metadata": {},
   "outputs": [],
   "source": [
    "dsp_config_file = os.path.expandvars('$CAGE_SW/processing/metadata/config_dsp.json')\n",
    "browser6 = WaveformBrowser(raw_list, 'ORSIS3302DecoderForEnergy/raw', dsp_config_file, # Need to include a dsp config file!\n",
    "                          database={\"pz_const\":'396.9*us'}, # TODO: use metadata instead of manually defining...\n",
    "                          waveforms=['wf_blsub', 'wf_pzDCR', 'bl_trap'], # names of waveforms from dsp config file\n",
    "                          selection   = cut,           # Apply cut\n",
    "                          wf_styles=[{'linestyle':['-']},{'linestyle':[':']},{'ls':['--']}],\n",
    "                          legend=['Waveform', 'PZ Corrected', \"bl_slope: {bl_slope:0.2f}\"],\n",
    "#                           legend_opts={'loc':\"upper left\"},\n",
    "                          lines=['bl_slope'], # add hlines and vlines\n",
    "                          x_lim=(0, 80000) # x axis range\n",
    "                         )"
   ]
  },
  {
   "cell_type": "code",
   "execution_count": null,
   "metadata": {},
   "outputs": [],
   "source": [
    "browser6.draw_next()\n",
    "# plt.ylim(0, 20000)"
   ]
  }
 ],
 "metadata": {
  "kernelspec": {
   "display_name": "legend-base",
   "language": "python",
   "name": "legend-base"
  },
  "language_info": {
   "codemirror_mode": {
    "name": "ipython",
    "version": 3
   },
   "file_extension": ".py",
   "mimetype": "text/x-python",
   "name": "python",
   "nbconvert_exporter": "python",
   "pygments_lexer": "ipython3",
   "version": "3.8.5"
  }
 },
 "nbformat": 4,
 "nbformat_minor": 4
}

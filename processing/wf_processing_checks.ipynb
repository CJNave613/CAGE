{
 "cells": [
  {
   "cell_type": "markdown",
   "metadata": {},
   "source": [
    "Quick analysis"
   ]
  },
  {
   "cell_type": "code",
   "execution_count": 2,
   "metadata": {},
   "outputs": [],
   "source": [
    "#!/usr/bin/env python3\n",
    "import os\n",
    "import json\n",
    "import h5py\n",
    "import argparse\n",
    "import pandas as pd\n",
    "import numpy as np\n",
    "import tinydb as db\n",
    "from tinydb.storages import MemoryStorage\n",
    "import matplotlib.pyplot as plt\n",
    "# plt.style.use('../clint.mpl')\n",
    "from matplotlib.colors import LogNorm\n",
    "\n",
    "import boost_histogram as bh\n",
    "import pickle as pl\n",
    "\n",
    "\n",
    "\n",
    "from pygama import DataGroup\n",
    "import pygama.lh5 as lh5\n",
    "import pygama.analysis.histograms as pgh\n",
    "import pygama.analysis.peak_fitting as pgf\n",
    "from pygama.dsp.WaveformBrowser import WaveformBrowser\n",
    "\n",
    "#do this to use cage_utils functions\n",
    "import sys\n",
    "sys.path.insert(1, '../analysis/')\n",
    "import cage_utils\n",
    "plt.style.use('../analysis/joule_dissertation.mplstyle')"
   ]
  },
  {
   "cell_type": "code",
   "execution_count": 3,
   "metadata": {},
   "outputs": [
    {
     "name": "stdout",
     "output_type": "stream",
     "text": [
      "Radius: 7.5; Angle: 90; Rotary: 0.0\n",
      "user: True; cal: True; hit: True\n",
      "Using hit files\n",
      "loading data for /global/project/projectdirs/legend/users/gothman/CAGE//hit/cage_run64_cyc869_hit.lh5 /global/project/projectdirs/legend/users/gothman/CAGE//hit/cage_run64_cyc870_hit.lh5 /global/project/projectdirs/legend/users/gothman/CAGE//hit/cage_run64_cyc871_hit.lh5 /global/project/projectdirs/legend/users/gothman/CAGE//hit/cage_run64_cyc872_hit.lh5 /global/project/projectdirs/legend/users/gothman/CAGE//hit/cage_run64_cyc873_hit.lh5 /global/project/projectdirs/legend/users/gothman/CAGE//hit/cage_run64_cyc874_hit.lh5 /global/project/projectdirs/legend/users/gothman/CAGE//hit/cage_run64_cyc875_hit.lh5 /global/project/projectdirs/legend/users/gothman/CAGE//hit/cage_run64_cyc876_hit.lh5 /global/project/projectdirs/legend/users/gothman/CAGE//hit/cage_run64_cyc877_hit.lh5 /global/project/projectdirs/legend/users/gothman/CAGE//hit/cage_run64_cyc878_hit.lh5\n"
     ]
    }
   ],
   "source": [
    "run = 64 #44 #70 #64\n",
    "\n",
    "dsp_id = '02'\n",
    "\n",
    "user = True\n",
    "hit = True\n",
    "cal = True\n",
    "lowE= False\n",
    "cut = True\n",
    "\n",
    "if cal==True:\n",
    "    etype = 'trapEftp_cal'\n",
    "    # dsp list for calibrated data\n",
    "    dsp_list = ['energy', 'trapEftp', 'trapEmax', 'trapEftp_cal', 'bl','bl_sig', 'bl_slope', 'AoE', 'dcr', \"tp_0\", \"tp_02\", \"tp_05\", \"tp_10\", \"tp_20\", \"tp_30\", \"tp_40\", \"tp_50\", \"tp_60\", \"tp_70\", \"tp_80\", \"tp_90\", \"tp_96\", 'tp_max', 'ToE', 'log_tail_fit_slope', 'wf_max', 'wf_argmax', 'trapE_argmax', 'lf_max']\n",
    "    \n",
    "else:\n",
    "    etype = 'trapEftp'\n",
    "    # dsp list for uncalibrated data\n",
    "    dsp_list = ['energy', 'trapEftp', 'trapEmax', 'bl','bl_sig', 'bl_slope', 'AoE', 'dcr', \"tp_0\", \"tp_02\", \"tp_05\", \"tp_10\", \"tp_20\", \"tp_30\", \"tp_40\", \"tp_50\", \"tp_60\", \"tp_70\", \"tp_80\", \"tp_90\", \"tp_96\", 'tp_max', 'ToE', 'log_tail_fit_slope', 'wf_max', 'wf_argmax', 'trapE_argmax', 'lf_max']\n",
    "\n",
    "\n",
    "df_raw, dg, runtype, rt_min, radius, angle_det, rotary = cage_utils.getDataFrame(run, user=user, hit=hit, cal=cal, dsp_list=dsp_list, lowE=lowE)"
   ]
  },
  {
   "cell_type": "code",
   "execution_count": 4,
   "metadata": {},
   "outputs": [
    {
     "name": "stdout",
     "output_type": "stream",
     "text": [
      "867    /global/cfs/cdirs/m2676/data/cage/LH5/raw/cage...\n",
      "868    /global/cfs/cdirs/m2676/data/cage/LH5/raw/cage...\n",
      "869    /global/cfs/cdirs/m2676/data/cage/LH5/raw/cage...\n",
      "870    /global/cfs/cdirs/m2676/data/cage/LH5/raw/cage...\n",
      "871    /global/cfs/cdirs/m2676/data/cage/LH5/raw/cage...\n",
      "872    /global/cfs/cdirs/m2676/data/cage/LH5/raw/cage...\n",
      "873    /global/cfs/cdirs/m2676/data/cage/LH5/raw/cage...\n",
      "874    /global/cfs/cdirs/m2676/data/cage/LH5/raw/cage...\n",
      "875    /global/cfs/cdirs/m2676/data/cage/LH5/raw/cage...\n",
      "876    /global/cfs/cdirs/m2676/data/cage/LH5/raw/cage...\n",
      "dtype: object\n"
     ]
    }
   ],
   "source": [
    "# get raw files for wfs\n",
    "\n",
    "raw_lh5_dir = dg.lh5_dir\n",
    "raw_list = raw_lh5_dir + dg.fileDB['raw_path'] + '/' + dg.fileDB['raw_file']\n",
    "\n",
    "print(raw_list)\n",
    "\n"
   ]
  },
  {
   "cell_type": "markdown",
   "metadata": {},
   "source": [
    "Apply data-cleaning cuts if relevant"
   ]
  },
  {
   "cell_type": "code",
   "execution_count": 5,
   "metadata": {},
   "outputs": [
    {
     "name": "stdout",
     "output_type": "stream",
     "text": [
      "Making cut\n",
      "No options specified for cut selection! Using default: {'bl_sig_cut_raw', 'wf_max_cut', 'bl_mean_cut_raw', 'ftp_max_cut_raw', 'bl_slope_cut_raw'}\n",
      "total counts before cuts: 1123599\n",
      "applying cut: bl_sig_cut_raw\n",
      "Percentage surviving bl_sig_cut_raw cut: 95.00\n",
      "applying cut: wf_max_cut\n",
      "Percentage surviving wf_max_cut cut: 98.21\n",
      "applying cut: bl_mean_cut_raw\n",
      "Percentage surviving bl_mean_cut_raw cut: 95.00\n",
      "applying cut: ftp_max_cut_raw\n",
      "Percentage surviving ftp_max_cut_raw cut: 95.00\n",
      "applying cut: bl_slope_cut_raw\n",
      "Percentage surviving bl_slope_cut_raw cut: 95.00\n",
      "Percentage surviving cuts: 85.40\n"
     ]
    }
   ],
   "source": [
    "if cut == True:\n",
    "    print(f'Making cut')\n",
    "    df_cut = cage_utils.apply_DC_Cuts(run, df_raw)\n",
    "else:\n",
    "    df_cut = df_raw"
   ]
  },
  {
   "cell_type": "markdown",
   "metadata": {},
   "source": [
    "Make baseline cut if didn't apply other cuts"
   ]
  },
  {
   "cell_type": "code",
   "execution_count": null,
   "metadata": {},
   "outputs": [],
   "source": [
    "# use baseline cut\n",
    "\n",
    "if run <79:\n",
    "    bl_cut_lo, bl_cut_hi = 9150,9320\n",
    "if run>79 and run <117:\n",
    "    bl_cut_lo, bl_cut_hi = 8500, 10000\n",
    "if run>=117:\n",
    "    bl_cut_lo, bl_cut_hi = 9700, 9760\n",
    "\n",
    "df_cut = df_cut.query(f'bl > {bl_cut_lo} and bl < {bl_cut_hi}').copy()"
   ]
  },
  {
   "cell_type": "code",
   "execution_count": null,
   "metadata": {},
   "outputs": [],
   "source": [
    "# baseline cut\n",
    "bl = df_cut['bl']\n",
    "bl_cut = (bl > bl_cut_lo) & (bl < bl_cut_hi)\n",
    "\n",
    "# print(cut)\n",
    "print(bl_cut.value_counts())"
   ]
  },
  {
   "cell_type": "code",
   "execution_count": 6,
   "metadata": {},
   "outputs": [
    {
     "name": "stdout",
     "output_type": "stream",
     "text": [
      "False    946022\n",
      "True      13530\n",
      "Name: trapEftp_cal, dtype: int64\n"
     ]
    }
   ],
   "source": [
    "##### energy cut \n",
    "energy = df_cut[etype]\n",
    "\n",
    "if cal == True:\n",
    "    # energy = df['trapEmax_cal']\n",
    "    energy_cut = (energy > 1450) & (energy < 1470) # 1460 peak\n",
    "    # energy_cut = (energy > 60) & (energy < 65) # 60 keV peak\n",
    "    \n",
    "else:\n",
    "    # energy = df_hit['trapEmax']\n",
    "    energy_cut = (energy > 2805) & (energy < 2835) # 1460 peak, uncalibratedm trapEmax\n",
    "    # energy_cut = (energy > 2000000) & (energy < 2500000) #where alphas seem to be in run 117, raw energy parameter\n",
    "    # energy_cut = (energy > 200) & (energy < 1000) #where low e weirdness is in DCR, in trapEftp\n",
    "    \n",
    "# print(type(energy))\n",
    "# print(energy_cut)\n",
    "print(energy_cut.value_counts())"
   ]
  },
  {
   "cell_type": "code",
   "execution_count": null,
   "metadata": {},
   "outputs": [],
   "source": [
    "energy_raw = df_cut['energy']\n",
    "energy_cut_raw = (energy_raw > 10200) & (energy_raw < 10600)"
   ]
  },
  {
   "cell_type": "code",
   "execution_count": 7,
   "metadata": {},
   "outputs": [],
   "source": [
    "# cut = bl_cut & energy_cut\n",
    "cut = energy_cut"
   ]
  },
  {
   "cell_type": "code",
   "execution_count": 8,
   "metadata": {},
   "outputs": [
    {
     "name": "stdout",
     "output_type": "stream",
     "text": [
      "False    946022\n",
      "True      13530\n",
      "Name: trapEftp_cal, dtype: int64\n"
     ]
    }
   ],
   "source": [
    "# for debugging\n",
    "\n",
    "# print(cut)\n",
    "print(cut.value_counts())"
   ]
  },
  {
   "cell_type": "markdown",
   "metadata": {},
   "source": [
    "\n",
    "\n",
    "DCR Plots\n",
    "\n"
   ]
  },
  {
   "cell_type": "code",
   "execution_count": 26,
   "metadata": {},
   "outputs": [
    {
     "name": "stdout",
     "output_type": "stream",
     "text": [
      "/global/homes/g/gothman/projecta/joule_CAGE/processing/metadata/dsp/dsp_02.json\n",
      "Processing parameters: ['bl, bl_sig', 'wf_blsub', 'wf_pzDCR', 'dcr_trap', 'dcr_trap_max', 'dcr']\n",
      "Required input parameters: ['waveform']\n",
      "Copied output parameters: []\n",
      "Processed output parameters: ['wf_blsub', 'wf_pzDCR', 'dcr_trap', 'dcr']\n",
      "Database lookup: using default value of 212.5*us for db.pz2.tau1\n",
      "Database lookup: using default value of 4.33*us for db.pz2.tau2\n",
      "Database lookup: using default value of 0.045 for db.pz2.frac\n"
     ]
    }
   ],
   "source": [
    "dsp_config_file = os.path.expandvars(f'$CAGE_SW/processing/metadata/dsp/dsp_{dsp_id}.json')\n",
    "print(dsp_config_file)\n",
    "browser = WaveformBrowser(raw_list, 'ORSIS3302DecoderForEnergy/raw', dsp_config_file, # Need to include a dsp config file!\n",
    "                          database={\"pz_const\":'396.9*us'}, # TODO: use metadata instead of manually defining...\n",
    "                          waveforms=['wf_blsub', 'wf_pzDCR', 'dcr_trap'], # names of waveforms from dsp config file\n",
    "                          selection   = energy_cut,           # Apply cut\n",
    "                          wf_styles=[{'linestyle':['-']},{'linestyle':[':']},{'ls':['--']}],\n",
    "                          legend=['Waveform', 'PZ Corrected', 'DCR trap.' ],\n",
    "#                           legend_opts={'loc':\"upper left\"},\n",
    "                          lines=['dcr'], # add hlines and vlines\n",
    "                          x_lim=(38000, 80000) # x axis range\n",
    "                         )"
   ]
  },
  {
   "cell_type": "code",
   "execution_count": null,
   "metadata": {},
   "outputs": [],
   "source": [
    "plt.rcParams['figure.figsize'] = [14, 10]\n"
   ]
  },
  {
   "cell_type": "code",
   "execution_count": 28,
   "metadata": {},
   "outputs": [
    {
     "data": {
      "text/plain": [
       "<matplotlib.lines.Line2D at 0x2aaafb598d60>"
      ]
     },
     "execution_count": 28,
     "metadata": {},
     "output_type": "execute_result"
    },
    {
     "data": {
      "image/png": "[encoded data removed]",
      "text/plain": [
       "<Figure size 720x576 with 1 Axes>"
      ]
     },
     "metadata": {
      "needs_background": "light"
     },
     "output_type": "display_data"
    }
   ],
   "source": [
    "# fig, ax = plt.subplots()\n",
    "browser.draw_next()\n",
    "# browser.draw_next()\n",
    "# plt.ylim(0, 100)\n",
    "# plt.plot(4090)\n",
    "# plt.setp(ax.get_xticklabels(), fontsize=18)\n",
    "plt.ylabel('ADU')\n",
    "plt.axhline(0.)"
   ]
  },
  {
   "cell_type": "markdown",
   "metadata": {},
   "source": [
    "Energy Plots"
   ]
  },
  {
   "cell_type": "code",
   "execution_count": null,
   "metadata": {},
   "outputs": [],
   "source": [
    "dsp_config_file = os.path.expandvars(f'$CAGE_SW/processing/metadata/dsp/dsp_{dsp_id}.json')\n",
    "browser2 = WaveformBrowser(raw_list, 'ORSIS3302DecoderForEnergy/raw', dsp_config_file, # Need to include a dsp config file!\n",
    "                          database={\"pz_const\":'396.9*us'}, # TODO: use metadata instead of manually defining...\n",
    "                          waveforms=['wf_blsub', 'wf_pz', 'wf_trap'], # names of waveforms from dsp config file\n",
    "                          selection   = cut,           # Apply cut\n",
    "                          wf_styles=[{'linestyle':['-']},{'linestyle':[':']},{'ls':['--']}],\n",
    "                          legend=['Waveform', 'PZ Corrected',  'trapEftp = {trapEftp:0.2f}'],\n",
    "#                           legend_opts={'loc':\"upper left\"},\n",
    "                          lines=['trapEftp'], # add hlines and vlines\n",
    "                          x_lim=(0, 80000) # x axis range\n",
    "                         )"
   ]
  },
  {
   "cell_type": "code",
   "execution_count": null,
   "metadata": {},
   "outputs": [],
   "source": [
    "browser2.draw_next()\n",
    "# plt.ylim(4000, 4500)"
   ]
  },
  {
   "cell_type": "markdown",
   "metadata": {},
   "source": [
    "TP_0"
   ]
  },
  {
   "cell_type": "code",
   "execution_count": null,
   "metadata": {},
   "outputs": [],
   "source": [
    "dsp_config_file = os.path.expandvars(f'$CAGE_SW/processing/metadata/dsp/dsp_{dsp_id}.json')\n",
    "browser3 = WaveformBrowser(raw_list, 'ORSIS3302DecoderForEnergy/raw', dsp_config_file, # Need to include a dsp config file!\n",
    "                          database={\"pz_const\":'396.9*us'}, # TODO: use metadata instead of manually defining...\n",
    "                          waveforms=['wf_blsub', 'wf_pz', 'wf_atrap'], # names of waveforms from dsp config file\n",
    "                          selection   = cut,           # Apply cut\n",
    "                          wf_styles=[{'linestyle':['-']},{'linestyle':[':']},{'ls':['--']}],\n",
    "                          legend=['Waveform', 'PZ Corrected',  't0 = {tp_0:0.2f}'],\n",
    "#                           legend_opts={'loc':\"upper left\"},\n",
    "                          lines=['tp_0'], # add hlines and vlines\n",
    "                          x_lim=(0, 50000) # x axis range\n",
    "                         )"
   ]
  },
  {
   "cell_type": "code",
   "execution_count": null,
   "metadata": {},
   "outputs": [],
   "source": [
    "browser3.draw_next()\n",
    "plt.ylim(-10, 200) \n",
    "plt.xlim(38000, 45000)"
   ]
  },
  {
   "cell_type": "code",
   "execution_count": null,
   "metadata": {},
   "outputs": [],
   "source": [
    "dsp_config_file = os.path.expandvars(f'$CAGE_SW/processing/metadata/dsp/dsp_{dsp_id}.json')\n",
    "browser_tri = WaveformBrowser(raw_list, 'ORSIS3302DecoderForEnergy/raw', dsp_config_file, # Need to include a dsp config file!\n",
    "                          database={\"pz_const\":'396.9*us'}, # TODO: use metadata instead of manually defining...\n",
    "                          waveforms=['wf_blsub', 'wf_pz', 'wf_triangle'], # names of waveforms from dsp config file\n",
    "                          selection   = cut,           # Apply cut\n",
    "                          wf_styles=[{'linestyle':['-']},{'linestyle':[':']},{'ls':['--']}],\n",
    "                          legend=['Waveform', 'PZ Corrected',  'triE= {triE:0.2f}'],\n",
    "#                           legend_opts={'loc':\"upper left\"},\n",
    "                          lines=['triE'], # add hlines and vlines\n",
    "                          x_lim=(0, 50000) # x axis range\n",
    "                         )"
   ]
  },
  {
   "cell_type": "code",
   "execution_count": null,
   "metadata": {},
   "outputs": [],
   "source": [
    "browser_tri.draw_next()\n",
    "# plt.ylim(-10, 100) \n",
    "plt.xlim(38000, 45000)"
   ]
  },
  {
   "cell_type": "markdown",
   "metadata": {},
   "source": [
    "WF_psd"
   ]
  },
  {
   "cell_type": "markdown",
   "metadata": {},
   "source": [
    "LF PD"
   ]
  },
  {
   "cell_type": "code",
   "execution_count": null,
   "metadata": {},
   "outputs": [],
   "source": [
    "dsp_config_file = os.path.expandvars(f'$CAGE_SW/processing/metadata/dsp/dsp_{dsp_id}.json')\n",
    "browser4 = WaveformBrowser(raw_list, 'ORSIS3302DecoderForEnergy/raw', dsp_config_file, # Need to include a dsp config file!\n",
    "                          database={\"pz_const\":'396.9*us'}, # TODO: use metadata instead of manually defining...\n",
    "                          waveforms=['wf_psd', 'wf_psd'], # names of waveforms from dsp config file\n",
    "                          selection   = cut,           # Apply cut\n",
    "                          wf_styles=[{'linestyle':['-']}],\n",
    "                          legend=['lf_max = {lf_max:0.2f}', 'wf_psd'], #{tp_0:0.2f}\n",
    "#                           legend_opts={'loc':\"upper left\"},\n",
    "                          lines=['lf_max'], # add hlines and vlines\n",
    "                          x_unit = 'khz',\n",
    "                          x_lim=(0, 200), # x axis range,\n",
    "                          verbosity=2\n",
    "                         )"
   ]
  },
  {
   "cell_type": "code",
   "execution_count": null,
   "metadata": {},
   "outputs": [],
   "source": [
    "browser4.draw_next()\n",
    "# plt.ylim(0, 2000)"
   ]
  },
  {
   "cell_type": "markdown",
   "metadata": {},
   "source": [
    "HF PSD"
   ]
  },
  {
   "cell_type": "code",
   "execution_count": null,
   "metadata": {},
   "outputs": [],
   "source": [
    "dsp_config_file = os.path.expandvars(f'$CAGE_SW/processing/metadata/dsp/dsp_{dsp_id}.json')\n",
    "browser5 = WaveformBrowser(raw_list, 'ORSIS3302DecoderForEnergy/raw', dsp_config_file, # Need to include a dsp config file!\n",
    "                          database={\"pz_const\":'396.9*us'}, # TODO: use metadata instead of manually defining...\n",
    "                          waveforms=['wf_psd', 'wf_psd'], # names of waveforms from dsp config file\n",
    "                          selection   = cut,           # Apply cut\n",
    "                          wf_styles=[{'linestyle':['-']}],\n",
    "                          legend=['hf_max = {hf_max:0.2f}', 'wf_psd'], #{tp_0:0.2f}\n",
    "#                           legend_opts={'loc':\"upper left\"},\n",
    "                          lines=['hf_max'], # add hlines and vlines\n",
    "                          x_unit = 'mhz',\n",
    "                          x_lim=(0, 50), # x axis range,\n",
    "                          verbosity=2\n",
    "                         )"
   ]
  },
  {
   "cell_type": "code",
   "execution_count": null,
   "metadata": {},
   "outputs": [],
   "source": [
    "browser5.draw_next()\n",
    "# plt.ylim(0, 2000)"
   ]
  },
  {
   "cell_type": "markdown",
   "metadata": {},
   "source": [
    "Baseline Slope"
   ]
  },
  {
   "cell_type": "code",
   "execution_count": null,
   "metadata": {},
   "outputs": [],
   "source": [
    "dsp_config_file = os.path.expandvars(f'$CAGE_SW/processing/metadata/dsp/dsp_{dsp_id}.json')\n",
    "browser6 = WaveformBrowser(raw_list, 'ORSIS3302DecoderForEnergy/raw', dsp_config_file, # Need to include a dsp config file!\n",
    "                          database={\"pz_const\":'396.9*us'}, # TODO: use metadata instead of manually defining...\n",
    "                          waveforms=['wf_blsub', 'wf_pzDCR', 'bl_trap'], # names of waveforms from dsp config file\n",
    "                          selection   = cut,           # Apply cut\n",
    "                          wf_styles=[{'linestyle':['-']},{'linestyle':[':']},{'ls':['--']}],\n",
    "                          legend=['Waveform', 'PZ Corrected', \"bl_slope: {bl_slope:0.2f}\"],\n",
    "#                           legend_opts={'loc':\"upper left\"},\n",
    "                          lines=['bl_slope'], # add hlines and vlines\n",
    "                          x_lim=(0, 80000) # x axis range\n",
    "                         )"
   ]
  },
  {
   "cell_type": "code",
   "execution_count": null,
   "metadata": {},
   "outputs": [],
   "source": [
    "browser6.draw_next()\n",
    "# plt.ylim(0, 20000)"
   ]
  },
  {
   "cell_type": "code",
   "execution_count": null,
   "metadata": {},
   "outputs": [],
   "source": [
    "dsp_config_file = os.path.expandvars(f'$CAGE_SW/processing/metadata/dsp/dsp_{dsp_id}.json')\n",
    "browser7 = WaveformBrowser(raw_list, 'ORSIS3302DecoderForEnergy/raw', dsp_config_file, # Need to include a dsp config file!\n",
    "                          database={\"pz_const\":'396.9*us'}, # TODO: use metadata instead of manually defining...\n",
    "                          waveforms=['log_tail'], # names of waveforms from dsp config file\n",
    "                          selection   = cut,           # Apply cut\n",
    "                          wf_styles=[{'linestyle':['-']}],\n",
    "                          legend=['log tail'],\n",
    "#                           legend_opts={'loc':\"upper left\"},\n",
    "                          # lines=['log_tail'], # add hlines and vlines\n",
    "                          x_lim=(0, 80000) # x axis range\n",
    "                         )"
   ]
  },
  {
   "cell_type": "code",
   "execution_count": null,
   "metadata": {},
   "outputs": [],
   "source": [
    "browser7.draw_next()\n",
    "plt.xlim(0, 40000)"
   ]
  },
  {
   "cell_type": "code",
   "execution_count": null,
   "metadata": {},
   "outputs": [],
   "source": [
    "dsp_config_file = os.path.expandvars(f'$CAGE_SW/processing/metadata/dsp/dsp_{dsp_id}.json')\n",
    "browser8 = WaveformBrowser(raw_list, 'ORSIS3302DecoderForEnergy/raw', dsp_config_file, # Need to include a dsp config file!\n",
    "                          database={\"pz_const\":'396.9*us'}, # TODO: use metadata instead of manually defining...\n",
    "                          waveforms=['wf_blsub'], # names of waveforms from dsp config file\n",
    "                          selection   = cut,           # Apply cut\n",
    "                          wf_styles=[{'linestyle':['-']}],\n",
    "                          legend=['log tail'],\n",
    "#                           legend_opts={'loc':\"upper left\"},\n",
    "                          # lines=['log_tail_lin_fit'], # add hlines and vlines\n",
    "                          x_lim=(0, 80000) # x axis range\n",
    "                         )"
   ]
  },
  {
   "cell_type": "code",
   "execution_count": null,
   "metadata": {},
   "outputs": [],
   "source": [
    "browser8.draw_next()\n",
    "plt.xlim(0, 40000)"
   ]
  },
  {
   "cell_type": "code",
   "execution_count": null,
   "metadata": {},
   "outputs": [],
   "source": []
  }
 ],
 "metadata": {
  "kernelspec": {
   "display_name": "legend-base",
   "language": "python",
   "name": "legend-base"
  },
  "language_info": {
   "codemirror_mode": {
    "name": "ipython",
    "version": 3
   },
   "file_extension": ".py",
   "mimetype": "text/x-python",
   "name": "python",
   "nbconvert_exporter": "python",
   "pygments_lexer": "ipython3",
   "version": "3.8.8"
  }
 },
 "nbformat": 4,
 "nbformat_minor": 4
}
